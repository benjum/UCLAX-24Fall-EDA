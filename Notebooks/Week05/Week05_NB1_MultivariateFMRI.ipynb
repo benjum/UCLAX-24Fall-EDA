{
  "cells": [
    {
      "cell_type": "markdown",
      "id": "d7e20050-7c5c-4c75-80c6-2198e3f1f18b",
      "metadata": {},
      "source": "# Time series\n\nA classic of multivariate analysis (and one which we will investigate in more depth in a later class)."
    },
    {
      "cell_type": "code",
      "execution_count": null,
      "id": "d9e3e798",
      "metadata": {
        "trusted": true
      },
      "outputs": [],
      "source": "# NOTE\n# For the moment, we need to update seaborn on the JupyterHub\n# which I do explicitly here\n!pip install -U seaborn"
    },
    {
      "cell_type": "markdown",
      "id": "45c1a19a-c95e-48d5-9459-8402a7d14eaa",
      "metadata": {},
      "source": "# FMRI\n\nSeaborn's example FMRI dataset is taken from https://github.com/mwaskom/Waskom_CerebCortex_2017\n\nIf you are curious about further analysis, see the following article related to the data:\n* Michael L. Waskom, Michael C. Frank, Anthony D. Wagner. \"Adaptive Engagement of Cognitive Control in Context-Dependent Decision Making.\" Cerebral Cortex, Volume 27, Issue 2, February 2017, Pages 1270–1284, https://doi.org/10.1093/cercor/bhv333"
    },
    {
      "cell_type": "code",
      "execution_count": null,
      "id": "a84eca3e-aa9f-49e0-abdd-51c6c639d1cc",
      "metadata": {
        "trusted": true
      },
      "outputs": [],
      "source": "import matplotlib.pyplot as plt\nimport pandas as pd\nimport seaborn as sns\n\nimport warnings\nwarnings.filterwarnings('ignore')"
    },
    {
      "cell_type": "code",
      "execution_count": null,
      "id": "822ef202-496e-43e4-b834-4d3dc7c0840a",
      "metadata": {
        "trusted": true
      },
      "outputs": [],
      "source": "fmri = sns.load_dataset(\"fmri\")"
    },
    {
      "cell_type": "code",
      "execution_count": null,
      "id": "7729fa09-1915-41e5-8b1c-a99b2ca9c2c6",
      "metadata": {
        "trusted": true
      },
      "outputs": [],
      "source": "fmri"
    },
    {
      "cell_type": "markdown",
      "id": "e8e378a7-00d9-40f9-ad5b-34615addddfd",
      "metadata": {},
      "source": "We can use matplotlib to make any of the plots that are in this notebook.  (Remember that pandas and seaborn plotting routines are based on matplotlib)."
    },
    {
      "cell_type": "code",
      "execution_count": null,
      "id": "e7e43525-c792-4240-9062-8adbe2889cfa",
      "metadata": {
        "trusted": true
      },
      "outputs": [],
      "source": "# plot signal vs time\n"
    },
    {
      "cell_type": "markdown",
      "id": "7d2dbddb-b307-4f31-b121-54bcb87ab7cc",
      "metadata": {},
      "source": "Of course, there's more structure to the data than what's visible here.  We have different temporal evolution depending on the values in the 'subject', 'event', and 'region' columns."
    },
    {
      "cell_type": "code",
      "execution_count": null,
      "id": "1789ebc5-d97b-46f2-9ca7-ee3d4706f478",
      "metadata": {
        "trusted": true
      },
      "outputs": [],
      "source": "# unique values of subject, event, and region\n"
    },
    {
      "cell_type": "code",
      "execution_count": null,
      "id": "75a03a70-36e4-4b16-81b3-e28cbab13921",
      "metadata": {
        "trusted": true
      },
      "outputs": [],
      "source": "# looking at records for a particular subject, event, and region\n# boolean indexing and sorting\n"
    },
    {
      "cell_type": "code",
      "execution_count": null,
      "id": "c06f6b26-cc6a-4b4b-80f7-d0107368aaf4",
      "metadata": {
        "trusted": true
      },
      "outputs": [],
      "source": "# comparing temporal signals for two subjects (for common event and region)\n"
    },
    {
      "cell_type": "markdown",
      "id": "2d142d74-2d03-4ec1-9264-98a9364f76de",
      "metadata": {},
      "source": "Pandas dataframes have built-in plotting methods for making visualizations which can be a bit easier to work with out-of-the-box than matplotlib."
    },
    {
      "cell_type": "code",
      "execution_count": null,
      "id": "2fb282b9-947c-45df-a78e-93e5c9ae537e",
      "metadata": {
        "trusted": true
      },
      "outputs": [],
      "source": "# the easy ways again won't quite work as you might expect!\n"
    },
    {
      "cell_type": "code",
      "execution_count": null,
      "id": "36b7485a-dbb2-4cf4-9bc5-77738454fda8",
      "metadata": {
        "trusted": true
      },
      "outputs": [],
      "source": ""
    },
    {
      "cell_type": "markdown",
      "id": "a58b1cf9-6082-4b98-900a-6be8613c7227",
      "metadata": {},
      "source": "Seaborn can also work with Pandas dataframes, and it has fantastic capabilities for making a lot of exploratory visualizations, particularly for the multivariate data we are now interested in exploring.\n\n\"lineplot\" will draw a line plot with the possibility of semantic groupings. (https://seaborn.pydata.org/generated/seaborn.lineplot.html)"
    },
    {
      "cell_type": "code",
      "execution_count": null,
      "id": "1c80696a-a21e-4ed8-ba8d-8dae5d9ad420",
      "metadata": {
        "trusted": true
      },
      "outputs": [],
      "source": "sns.lineplot(data=fmri,x='timepoint',y='signal')"
    },
    {
      "cell_type": "markdown",
      "id": "07abd355-ccad-4d34-9548-edf244bfa30f",
      "metadata": {},
      "source": "What is the above showing???\n\nIt's actually showing the mean and a 95% confidence interval."
    },
    {
      "cell_type": "code",
      "execution_count": null,
      "id": "99d9b8f5-5e36-4120-bc96-7180b4a46603",
      "metadata": {
        "trusted": true
      },
      "outputs": [],
      "source": "sns.lineplot(data=fmri.loc[fmri['subject']=='s0'],x='timepoint',y='signal')"
    },
    {
      "cell_type": "markdown",
      "id": "573d89d0-52ac-44f8-8db8-c56102e6e973",
      "metadata": {},
      "source": "Wait... the above has mean too?\n\nYes -> it has all the events and region info."
    },
    {
      "cell_type": "code",
      "execution_count": null,
      "id": "92f7162c-dc94-4b30-ab78-35819b90fc55",
      "metadata": {
        "trusted": true
      },
      "outputs": [],
      "source": "# this requires that \"fmri_s0\" be defined, e.g. with:\n# fmri_s0 = fmri.loc[fmri['subject']=='s0']\n# or\n# fmri_s0 = fmri.loc[(fmri['subject'] == 's0') & \n#                    (fmri['event'] == 'stim') & \n#                    (fmri['region'] == 'parietal')]\n\nsns.lineplot(data=fmri_s0,x='timepoint',y='signal')"
    },
    {
      "cell_type": "markdown",
      "id": "02f9cede-1ea3-4963-820b-31869fbe916a",
      "metadata": {},
      "source": "Seaborn does make it easy to \"split\" the visualizations up using colors (hues), columns, and rows."
    },
    {
      "cell_type": "code",
      "execution_count": null,
      "id": "4c2e4ef2-098f-49eb-aa1a-e99eb0e13e39",
      "metadata": {
        "trusted": true
      },
      "outputs": [],
      "source": "sns.lineplot(data=fmri, x='timepoint', y='signal', hue='subject')"
    },
    {
      "cell_type": "code",
      "execution_count": null,
      "id": "a68821ba-3477-497e-91ca-2036a09975dc",
      "metadata": {
        "trusted": true
      },
      "outputs": [],
      "source": "sns.lineplot(data=fmri, x='timepoint', y='signal', hue='event')"
    },
    {
      "cell_type": "code",
      "execution_count": null,
      "id": "46e296f3-0847-4658-9aa9-256ed8cd7aff",
      "metadata": {
        "trusted": true
      },
      "outputs": [],
      "source": "sns.lineplot(data=fmri, x='timepoint', y='signal', hue='event', style='region')"
    },
    {
      "cell_type": "markdown",
      "id": "603f512c-f22e-4158-9eb7-c28cb4a36c0d",
      "metadata": {},
      "source": "Here again we note that the styling of a visualization, despite being useful to break data up into different pieces for comparison, does merit some thought, focus, and sometimes experimental improvisation to get into more useful forms."
    },
    {
      "cell_type": "code",
      "execution_count": null,
      "id": "bca0cd6f-b098-4437-8c8f-1020b8a70e26",
      "metadata": {
        "trusted": true
      },
      "outputs": [],
      "source": "sns.lineplot(data=fmri, x='timepoint', y='signal', style='event', hue='region')"
    },
    {
      "cell_type": "markdown",
      "id": "4a6127b1-2e91-4dd3-9449-d64d5c135425",
      "metadata": {},
      "source": "The above is easier for comparison since the colors are not right next to each other."
    },
    {
      "cell_type": "markdown",
      "id": "3098de68-53b3-4db7-aedd-d6a36ebf0f3f",
      "metadata": {},
      "source": "Statistical note:  by default the lineplot will show mean and 95% confidence interval.  You can also use standard error, standard deviation, and percentile interval.  See https://seaborn.pydata.org/tutorial/error_bars.html"
    },
    {
      "cell_type": "code",
      "execution_count": null,
      "id": "d1680946-8a04-43fd-86fb-ef8a48e3718c",
      "metadata": {
        "trusted": true
      },
      "outputs": [],
      "source": "sns.lineplot(data=fmri, x='timepoint', y='signal', style='event', hue='region', errorbar=None)"
    },
    {
      "cell_type": "markdown",
      "id": "42010b66-6cae-4554-b381-34e696c570be",
      "metadata": {},
      "source": "The above can be useful if you want to clear the plot of error markings and simply focus on the trend in mean."
    },
    {
      "cell_type": "code",
      "execution_count": null,
      "id": "2578f637-3f86-44f0-bbf2-84fa5a8a1d80",
      "metadata": {
        "trusted": true
      },
      "outputs": [],
      "source": "sns.lineplot(data=fmri, x='timepoint', y='signal', style='event', hue='region', \n             errorbar=('se',1))"
    },
    {
      "cell_type": "markdown",
      "id": "797b1a65-1567-48ff-8ea3-47182ab05b91",
      "metadata": {},
      "source": "\"relplot\" is useful for drawing relational plots (like line and scatter plots), onto a FacetGrid (separating values of a given variable along columns or rows).\n\nhttps://seaborn.pydata.org/generated/seaborn.relplot.html"
    },
    {
      "cell_type": "code",
      "execution_count": null,
      "id": "2a0a620a-99dc-4114-b800-c5dccf12e9d9",
      "metadata": {
        "trusted": true
      },
      "outputs": [],
      "source": "sns.relplot(data=fmri, x='timepoint', y='signal', hue='event', col='region')"
    },
    {
      "cell_type": "code",
      "execution_count": null,
      "id": "dcede239-7a39-4e42-b0e3-44edcfe40c73",
      "metadata": {
        "trusted": true
      },
      "outputs": [],
      "source": "# Remember that I only retained parietal as a region in fmri_s0.\n\nsns.relplot(data=fmri_s0, x='timepoint', y='signal', hue='event', col='region')"
    },
    {
      "cell_type": "code",
      "execution_count": null,
      "id": "c8382497-b904-4739-82c1-49ca5a1502eb",
      "metadata": {
        "trusted": true
      },
      "outputs": [],
      "source": "sns.relplot(data=fmri, x='timepoint', y='signal', hue='event', col='region', kind='line')"
    }
  ],
  "metadata": {
    "kernelspec": {
      "display_name": "Python 3 (ipykernel)",
      "language": "python",
      "name": "python3"
    },
    "language_info": {
      "codemirror_mode": {
        "name": "ipython",
        "version": 3
      },
      "file_extension": ".py",
      "mimetype": "text/x-python",
      "name": "python",
      "nbconvert_exporter": "python",
      "pygments_lexer": "ipython3",
      "version": "3.11.9"
    }
  },
  "nbformat": 4,
  "nbformat_minor": 5
}