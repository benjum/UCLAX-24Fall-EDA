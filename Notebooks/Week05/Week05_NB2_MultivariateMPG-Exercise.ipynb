{
  "cells": [
    {
      "cell_type": "markdown",
      "id": "d7e20050-7c5c-4c75-80c6-2198e3f1f18b",
      "metadata": {},
      "source": "# Multivariate visualization with the MPG dataset"
    },
    {
      "cell_type": "code",
      "execution_count": null,
      "id": "07344894",
      "metadata": {
        "trusted": true
      },
      "outputs": [],
      "source": "# NOTE\n# For the moment, we need to update seaborn on the JupyterHub\n# which I do explicitly here\n!pip install -U seaborn"
    },
    {
      "cell_type": "markdown",
      "id": "45c1a19a-c95e-48d5-9459-8402a7d14eaa",
      "metadata": {},
      "source": "Execute the following three cells:"
    },
    {
      "cell_type": "code",
      "execution_count": null,
      "id": "a84eca3e-aa9f-49e0-abdd-51c6c639d1cc",
      "metadata": {
        "trusted": true
      },
      "outputs": [],
      "source": "import matplotlib.pyplot as plt\nimport pandas as pd\nimport seaborn as sns\n\nimport warnings\nwarnings.filterwarnings('ignore')"
    },
    {
      "cell_type": "code",
      "execution_count": null,
      "id": "1150eaa6",
      "metadata": {
        "trusted": true
      },
      "outputs": [],
      "source": "mpg = sns.load_dataset('mpg')"
    },
    {
      "cell_type": "code",
      "execution_count": null,
      "id": "b3da8bf6",
      "metadata": {
        "trusted": true
      },
      "outputs": [],
      "source": "mpg"
    },
    {
      "cell_type": "markdown",
      "id": "ebf12334",
      "metadata": {},
      "source": "`mpg` is now a Pandas dataframe that contains information about cars such as mpg, number of cylinders in the engine, model name, etc."
    },
    {
      "cell_type": "markdown",
      "id": "ed9654df",
      "metadata": {},
      "source": "Use matplotlib to make a line plot of horsepower vs cylinders (`horsepower` vertically and `cylinders` horizontally).  It's ok if the plot looks messy, but make one version where the records are not sorted by `cylinders` value and one where they are."
    },
    {
      "cell_type": "code",
      "execution_count": null,
      "id": "2482ad6f",
      "metadata": {
        "trusted": true
      },
      "outputs": [],
      "source": "# Version 1\n\n"
    },
    {
      "cell_type": "code",
      "execution_count": null,
      "id": "dab743d6",
      "metadata": {
        "trusted": true
      },
      "outputs": [],
      "source": "# Version 2\n\n"
    },
    {
      "cell_type": "markdown",
      "id": "5e300f22",
      "metadata": {},
      "source": "Use matplotlib to make another figure of horsepower vs cylinders where there are three lines (each of a different color) that show horsepower vs cylinders for each of the three countries of `origin`."
    },
    {
      "cell_type": "code",
      "execution_count": null,
      "id": "cc07ea34",
      "metadata": {
        "trusted": true
      },
      "outputs": [],
      "source": ""
    },
    {
      "cell_type": "markdown",
      "id": "44b3ac5a",
      "metadata": {},
      "source": "Make a line plot of the same variables, but now use Seaborn's `sns.lineplot()` method."
    },
    {
      "cell_type": "code",
      "execution_count": null,
      "id": "64dc20c6",
      "metadata": {
        "trusted": true
      },
      "outputs": [],
      "source": ""
    },
    {
      "cell_type": "markdown",
      "id": "f3edb198",
      "metadata": {},
      "source": "Use Seaborn's `sns.scatterplot()` method to make a scatter plot of horsepower vs mpg, with the colors of points representing the `origin` value. (The input parameters for `sns.scatterplot()` are similar to what's used for `sns.lineplot()`)"
    },
    {
      "cell_type": "code",
      "execution_count": null,
      "id": "f59084eb",
      "metadata": {
        "trusted": true
      },
      "outputs": [],
      "source": ""
    },
    {
      "cell_type": "markdown",
      "id": "b4cc6f8e",
      "metadata": {},
      "source": "Use Seaborn's `sns.relplot()` method to facet the above scatter plot into different columns for each `origin` value."
    },
    {
      "cell_type": "code",
      "execution_count": null,
      "id": "5dbdae98",
      "metadata": {
        "trusted": true
      },
      "outputs": [],
      "source": ""
    }
  ],
  "metadata": {
    "kernelspec": {
      "display_name": "Python 3 (ipykernel)",
      "language": "python",
      "name": "python3"
    },
    "language_info": {
      "codemirror_mode": {
        "name": "ipython",
        "version": 3
      },
      "file_extension": ".py",
      "mimetype": "text/x-python",
      "name": "python",
      "nbconvert_exporter": "python",
      "pygments_lexer": "ipython3",
      "version": "3.11.9"
    }
  },
  "nbformat": 4,
  "nbformat_minor": 5
}