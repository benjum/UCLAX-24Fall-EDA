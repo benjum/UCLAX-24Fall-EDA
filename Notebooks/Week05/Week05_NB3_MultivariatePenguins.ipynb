{
  "cells": [
    {
      "cell_type": "markdown",
      "id": "49a5704f-38cb-4f2d-9b6b-f47923c896f0",
      "metadata": {},
      "source": "# Penguins\n\n\"Data were collected and made available by Dr. Kristen Gorman and the Palmer Station, Antarctica LTER, a member of the Long Term Ecological Research Network.\"\n-- https://github.com/allisonhorst/palmerpenguins"
    },
    {
      "cell_type": "code",
      "execution_count": null,
      "id": "63aececd",
      "metadata": {
        "trusted": true
      },
      "outputs": [],
      "source": "# NOTE\n# For the moment, we need to update seaborn on the JupyterHub\n# which I do explicitly here\n!pip install -U seaborn"
    },
    {
      "cell_type": "code",
      "execution_count": null,
      "id": "9c385171-af8f-4119-84e0-11dfee884e7f",
      "metadata": {
        "trusted": true
      },
      "outputs": [],
      "source": "import matplotlib.pyplot as plt\nimport seaborn as sns\n\nimport warnings\nwarnings.filterwarnings('ignore')"
    },
    {
      "cell_type": "code",
      "execution_count": null,
      "id": "6863e9f7-6acd-4b18-ae27-86b098be71b9",
      "metadata": {
        "trusted": true
      },
      "outputs": [],
      "source": "penguins = sns.load_dataset(\"penguins\")"
    },
    {
      "cell_type": "code",
      "execution_count": null,
      "id": "ca9fb19c-785e-46e5-99a5-36f1b6f15b73",
      "metadata": {
        "trusted": true
      },
      "outputs": [],
      "source": "penguins.to_csv('/home/jovyan/penguins.csv',index=False)"
    },
    {
      "cell_type": "code",
      "execution_count": null,
      "id": "6badea28-39d3-4456-8261-3c9f9d1d61d1",
      "metadata": {
        "trusted": true
      },
      "outputs": [],
      "source": "penguins.info()"
    },
    {
      "cell_type": "code",
      "execution_count": null,
      "id": "7ff5151e-0879-4b30-8d7d-5ca15793e8e2",
      "metadata": {
        "trusted": true
      },
      "outputs": [],
      "source": "penguins"
    },
    {
      "cell_type": "markdown",
      "id": "d886537e-1516-496d-a3f8-63d02913dc0d",
      "metadata": {},
      "source": "### Histograms for numerical data, conditioned on categorical values"
    },
    {
      "cell_type": "code",
      "execution_count": null,
      "id": "8b576544-2db2-4eee-9efb-e87b1a969080",
      "metadata": {
        "trusted": true
      },
      "outputs": [],
      "source": "sns.histplot(data=penguins, \n             x=\"flipper_length_mm\")"
    },
    {
      "cell_type": "code",
      "execution_count": null,
      "id": "78d225c5-e892-418e-8e01-3e31a550c424",
      "metadata": {
        "trusted": true
      },
      "outputs": [],
      "source": "sns.histplot(data=penguins, \n             x=\"flipper_length_mm\", \n             hue=\"species\")"
    },
    {
      "cell_type": "code",
      "execution_count": null,
      "id": "dc006321-7654-4ed5-9ea9-0ce80811990d",
      "metadata": {
        "trusted": true
      },
      "outputs": [],
      "source": "sns.histplot(data=penguins, \n             x=\"flipper_length_mm\", \n             hue=\"species\", \n             multiple=\"stack\")"
    },
    {
      "cell_type": "code",
      "execution_count": null,
      "id": "98b128ca-f0a5-404a-ad68-d2e96b0168f3",
      "metadata": {
        "trusted": true
      },
      "outputs": [],
      "source": "sns.histplot(data=penguins, \n             x=\"flipper_length_mm\", \n             hue=\"species\", \n             multiple=\"fill\")"
    },
    {
      "cell_type": "code",
      "execution_count": null,
      "id": "01a062c4-0f17-4f6a-8908-db6a18da36b9",
      "metadata": {
        "trusted": true
      },
      "outputs": [],
      "source": "sns.histplot(data=penguins, \n             x=\"flipper_length_mm\", \n             hue=\"species\", \n             multiple=\"dodge\")"
    },
    {
      "cell_type": "markdown",
      "id": "2f52df21-e7f8-4de8-b76d-9ee04784a321",
      "metadata": {},
      "source": "## FacetGrid\n\nThe Seaborn FacetGrid \"class maps a dataset onto multiple axes arrayed in a grid of rows and columns that correspond to levels of variables in the dataset. The plots it produces are often called 'lattice', 'trellis', or 'small-multiple' graphics.\" -- https://seaborn.pydata.org/generated/seaborn.FacetGrid.html"
    },
    {
      "cell_type": "markdown",
      "id": "cdd9e46b-1169-442c-909c-baedb77f60b4",
      "metadata": {},
      "source": "If you want to use facet plots, I highly recommend reading the above page for more information."
    },
    {
      "cell_type": "code",
      "execution_count": null,
      "id": "71e78d3f-4a50-483e-9fa6-cb562da2135c",
      "metadata": {
        "trusted": true
      },
      "outputs": [],
      "source": "g = sns.FacetGrid(penguins, col=\"species\")\ng.map_dataframe(sns.histplot, x=\"flipper_length_mm\")"
    },
    {
      "cell_type": "markdown",
      "id": "d9c2571e-b8ef-438c-8353-34e416655e16",
      "metadata": {},
      "source": "\"catplot\" is useful for drawing categorical plots onto a FacetGrid.  https://seaborn.pydata.org/generated/seaborn.catplot.html"
    },
    {
      "cell_type": "code",
      "execution_count": null,
      "id": "a07a9425-6520-43f7-bce7-540faed97661",
      "metadata": {
        "trusted": true
      },
      "outputs": [],
      "source": "sns.catplot(data=penguins,\n            x=\"flipper_length_mm\",\n            hue=\"species\",\n            col=\"species\")"
    },
    {
      "cell_type": "code",
      "execution_count": null,
      "id": "d3fa14e4-eafb-43fb-a56c-251960610f3e",
      "metadata": {
        "trusted": true
      },
      "outputs": [],
      "source": "sns.catplot(data=penguins,\n            x=\"flipper_length_mm\",\n            hue=\"species\",\n            col=\"species\",\n            kind='box')"
    },
    {
      "cell_type": "code",
      "execution_count": null,
      "id": "aebc0ff6-77bf-494e-acea-b6cda0ab3f19",
      "metadata": {
        "trusted": true
      },
      "outputs": [],
      "source": "sns.catplot(data=penguins,\n            x=\"flipper_length_mm\",\n            hue=\"species\",\n            row=\"species\",\n            kind='box', height=1, aspect=4)"
    },
    {
      "cell_type": "markdown",
      "id": "b1fd6d4a-e7e6-4ffe-85eb-b50648a3777f",
      "metadata": {},
      "source": "\"displot\" is useful for drawing distribution plots onto a FacetGrid.  https://seaborn.pydata.org/generated/seaborn.displot.html"
    },
    {
      "cell_type": "code",
      "execution_count": null,
      "id": "bc74e9a6-aab1-440e-8790-b7480620ed07",
      "metadata": {
        "trusted": true
      },
      "outputs": [],
      "source": "sns.displot(data=penguins,\n            x=\"flipper_length_mm\",\n            hue=\"species\",\n            col=\"species\")"
    },
    {
      "cell_type": "code",
      "execution_count": null,
      "id": "cd7f2fba-bb1a-4ba0-bb2c-839a24812f6f",
      "metadata": {
        "trusted": true
      },
      "outputs": [],
      "source": "sns.displot(data=penguins,\n            x=\"flipper_length_mm\",\n            hue=\"species\",\n            col=\"species\", kind='kde')"
    },
    {
      "cell_type": "markdown",
      "id": "41aa6076-ee1f-460a-908d-ab17545f0f77",
      "metadata": {},
      "source": "You can just use the kdeplot too."
    },
    {
      "cell_type": "code",
      "execution_count": null,
      "id": "2631e9d3-dc60-4f98-9103-4f294f98cbe7",
      "metadata": {
        "trusted": true
      },
      "outputs": [],
      "source": "sns.kdeplot(data=penguins, \n             x=\"flipper_length_mm\", \n             hue=\"species\")"
    },
    {
      "cell_type": "code",
      "execution_count": null,
      "id": "ed426888-1b24-4e3c-9bf8-6d3ccfaf0ead",
      "metadata": {
        "trusted": true
      },
      "outputs": [],
      "source": "sns.kdeplot(data=penguins, \n             x=\"flipper_length_mm\", \n             hue=\"species\", \n             multiple=\"stack\")"
    },
    {
      "cell_type": "code",
      "execution_count": null,
      "id": "597c868a-ab99-4655-bd57-3d320013abad",
      "metadata": {
        "trusted": true
      },
      "outputs": [],
      "source": "sns.kdeplot(data=penguins, \n             x=\"flipper_length_mm\", \n             hue=\"species\", \n             multiple=\"fill\")"
    },
    {
      "cell_type": "code",
      "execution_count": null,
      "id": "3572aa7c-0f82-46cf-8c09-e5f48a6cfdf4",
      "metadata": {
        "trusted": true
      },
      "outputs": [],
      "source": "sns.kdeplot(data=penguins, \n             x=\"flipper_length_mm\", \n             hue=\"species\", \n             multiple=\"layer\")"
    },
    {
      "cell_type": "code",
      "execution_count": null,
      "id": "c213001d-6486-4005-977e-af45043375bb",
      "metadata": {
        "trusted": true
      },
      "outputs": [],
      "source": "g = sns.FacetGrid(penguins, col=\"species\")\ng.map_dataframe(sns.kdeplot, x=\"flipper_length_mm\")"
    },
    {
      "cell_type": "markdown",
      "id": "3d26bef8-0a9a-441a-a648-a0e693fff74e",
      "metadata": {},
      "source": "## Pairplot\n\nExtremely useful for getting a snapshot all at once of the relations between pairs of variables.\nhttps://seaborn.pydata.org/generated/seaborn.pairplot.html"
    },
    {
      "cell_type": "code",
      "execution_count": null,
      "id": "b7e6fddb-67b4-4b44-b761-e6cad709896d",
      "metadata": {
        "trusted": true
      },
      "outputs": [],
      "source": "sns.pairplot(data=penguins)"
    },
    {
      "cell_type": "code",
      "execution_count": null,
      "id": "c3265b9b-44a9-40db-8835-7e3ff4ff385d",
      "metadata": {
        "trusted": true
      },
      "outputs": [],
      "source": "sns.scatterplot(data=penguins, x='bill_length_mm', y='bill_depth_mm')"
    },
    {
      "cell_type": "code",
      "execution_count": null,
      "id": "0080fa62-5e52-4e96-989d-418d0b226585",
      "metadata": {
        "trusted": true
      },
      "outputs": [],
      "source": "sns.scatterplot(data=penguins, x='body_mass_g', y='flipper_length_mm')"
    },
    {
      "cell_type": "markdown",
      "id": "f272f5fa-90c0-4a56-bcf7-7cb739801e09",
      "metadata": {},
      "source": "## Regression\n\n\"lmplot\" and \"regplot\" are useful for looking at regression analysis.\n* \"regplot\" will plot data and a linear regression model fit.\n* \"lmplot\": regplot + FacetGrid.  Plot data and regression model fits across a FacetGrid."
    },
    {
      "cell_type": "code",
      "execution_count": null,
      "id": "c3f505c2-9211-43d6-9490-897ef8a8e764",
      "metadata": {
        "trusted": true
      },
      "outputs": [],
      "source": "sns.regplot(data=penguins, x='body_mass_g', y='flipper_length_mm')"
    },
    {
      "cell_type": "code",
      "execution_count": null,
      "id": "12ccf5e6-3db3-4d58-8f0c-60e8ad3e3720",
      "metadata": {
        "trusted": true
      },
      "outputs": [],
      "source": "sns.lmplot(data=penguins, x='body_mass_g', y='flipper_length_mm')"
    },
    {
      "cell_type": "code",
      "execution_count": null,
      "id": "29ff95a0-86b9-4344-b3ad-2059261fdff1",
      "metadata": {
        "trusted": true
      },
      "outputs": [],
      "source": "# this will give an error!\n\nsns.regplot(data=penguins, x='body_mass_g', y='flipper_length_mm', hue='species')"
    },
    {
      "cell_type": "code",
      "execution_count": null,
      "id": "16eb1206-750d-442a-ab15-ca3894d8abcb",
      "metadata": {
        "trusted": true
      },
      "outputs": [],
      "source": "sns.lmplot(data=penguins, x='body_mass_g', y='flipper_length_mm', hue='species')"
    },
    {
      "cell_type": "code",
      "execution_count": null,
      "id": "990b9da4-f500-4ede-9cf7-c6bc7c15b3e2",
      "metadata": {
        "trusted": true
      },
      "outputs": [],
      "source": "sns.lmplot(data=penguins, x='body_mass_g', y='flipper_length_mm', col='species')"
    },
    {
      "cell_type": "code",
      "execution_count": null,
      "id": "519f83d6-0229-421a-92af-de5dcca8a8bc",
      "metadata": {
        "trusted": true
      },
      "outputs": [],
      "source": "sns.lmplot(data=penguins, x='body_mass_g', y='flipper_length_mm', hue='species', col='sex')"
    },
    {
      "cell_type": "code",
      "execution_count": null,
      "id": "2ac0b27d-4683-44be-9bdf-584309844055",
      "metadata": {
        "trusted": true
      },
      "outputs": [],
      "source": "sns.lmplot(data=penguins, x='body_mass_g', y='flipper_length_mm', col='species', hue='sex')"
    },
    {
      "cell_type": "markdown",
      "id": "d0a297c8-f65f-4c8b-aa13-68bdb9c1b494",
      "metadata": {},
      "source": "### Residuals\n\nPlotting residuals (difference of data relative to the regression fit) allows us to see if there are missed patterns in the regression fit."
    },
    {
      "cell_type": "code",
      "execution_count": null,
      "id": "c94bcc35-9924-4161-bba0-9c717a8ed47e",
      "metadata": {
        "trusted": true
      },
      "outputs": [],
      "source": "import numpy as np"
    },
    {
      "cell_type": "code",
      "execution_count": null,
      "id": "eead92b1-258b-45ab-baff-7105f7ddb52b",
      "metadata": {
        "trusted": true
      },
      "outputs": [],
      "source": "# generate 100 points from a normal \n# distribution that has mean = 0 and std dev = 3.5\nnp.random.seed(42)\nnoise = np.random.normal(0,3.5,100)\n\nx = np.linspace(0,10,100)\ny = x**2 + noise"
    },
    {
      "cell_type": "code",
      "execution_count": null,
      "id": "05024447-0909-4755-9697-b70ec324be0a",
      "metadata": {
        "trusted": true
      },
      "outputs": [],
      "source": "sns.regplot(x=x,y=y)"
    },
    {
      "cell_type": "code",
      "execution_count": null,
      "id": "52416d56-0636-4faa-917b-a721273e389a",
      "metadata": {
        "trusted": true
      },
      "outputs": [],
      "source": "sns.residplot(x=x,y=y)"
    },
    {
      "cell_type": "code",
      "execution_count": null,
      "id": "fd28789f-9ff7-4219-8389-83cb5155f688",
      "metadata": {
        "trusted": true
      },
      "outputs": [],
      "source": "sns.regplot(x=x,y=y,order=2)"
    },
    {
      "cell_type": "code",
      "execution_count": null,
      "id": "91b18ee9-1733-4bc7-88db-83abe13c2cd2",
      "metadata": {
        "trusted": true
      },
      "outputs": [],
      "source": "sns.residplot(x=x,y=y,order=2)"
    },
    {
      "cell_type": "code",
      "execution_count": null,
      "id": "752b46cc-edc7-41db-a7d5-3b05298285a3",
      "metadata": {
        "trusted": true
      },
      "outputs": [],
      "source": "sns.regplot(data=penguins, x='body_mass_g', y='flipper_length_mm')"
    },
    {
      "cell_type": "code",
      "execution_count": null,
      "id": "0cdbc80a-de3e-47a8-8e67-4cc8677044f1",
      "metadata": {
        "trusted": true
      },
      "outputs": [],
      "source": "sns.residplot(data=penguins, x='body_mass_g', y='flipper_length_mm')"
    },
    {
      "cell_type": "code",
      "execution_count": null,
      "id": "5176f7ee-1a49-4367-9fe9-d586eef7a95a",
      "metadata": {
        "trusted": true
      },
      "outputs": [],
      "source": "sns.jointplot(data=penguins, x='body_mass_g', y='flipper_length_mm')"
    },
    {
      "cell_type": "code",
      "execution_count": null,
      "id": "815c979d-860d-4550-b7cd-2f42179cad21",
      "metadata": {
        "trusted": true
      },
      "outputs": [],
      "source": "sns.jointplot(data=penguins, x='body_mass_g', y='flipper_length_mm', kind='resid')"
    },
    {
      "cell_type": "code",
      "execution_count": null,
      "id": "19729869-35a4-40cb-9bb7-4dd442e7f0ca",
      "metadata": {
        "trusted": true
      },
      "outputs": [],
      "source": "g = sns.FacetGrid(penguins, col=\"species\")\ng.map_dataframe(sns.residplot, x=\"flipper_length_mm\", y=\"bill_depth_mm\")"
    },
    {
      "cell_type": "code",
      "execution_count": null,
      "id": "357c3cd9-abed-4ff4-8726-cb761094d553",
      "metadata": {
        "trusted": true
      },
      "outputs": [],
      "source": "g = sns.FacetGrid(penguins, col=\"species\", hue='species')\ng.map_dataframe(sns.regplot, x=\"flipper_length_mm\", y=\"bill_depth_mm\")"
    },
    {
      "cell_type": "markdown",
      "id": "496be007-1c16-442f-bfcb-2843faf6f09f",
      "metadata": {},
      "source": "## Back to scatter plots..."
    },
    {
      "cell_type": "code",
      "execution_count": null,
      "id": "7ed80290-375d-45da-a3ab-1d82be640688",
      "metadata": {
        "trusted": true
      },
      "outputs": [],
      "source": "sns.scatterplot(data=penguins, x='body_mass_g', y='species')"
    },
    {
      "cell_type": "code",
      "execution_count": null,
      "id": "932a3d93-8757-4388-b31e-a8754da8b24c",
      "metadata": {
        "trusted": true
      },
      "outputs": [],
      "source": "sns.boxplot(data=penguins, x='body_mass_g', y='species')"
    },
    {
      "cell_type": "code",
      "execution_count": null,
      "id": "ce24dac4-b1d3-4799-a3a4-f190752dfe66",
      "metadata": {
        "trusted": true
      },
      "outputs": [],
      "source": "sns.boxplot(data=penguins, y='body_mass_g', x='species')"
    },
    {
      "cell_type": "markdown",
      "id": "c401aa8a-0223-478b-af10-6bb9f87bfb0d",
      "metadata": {},
      "source": "Let's return to the pairplot and see how faceting can help us zero in on understanding correlations."
    },
    {
      "cell_type": "code",
      "execution_count": null,
      "id": "99210222-8fbe-4ed8-bf79-5338db15b31e",
      "metadata": {
        "trusted": true
      },
      "outputs": [],
      "source": "sns.pairplot(data=penguins)"
    },
    {
      "cell_type": "code",
      "execution_count": null,
      "id": "1bbd5424-afe6-44da-a0fd-9ee202f0146e",
      "metadata": {
        "trusted": true
      },
      "outputs": [],
      "source": "penguins.corr(numeric_only=True)"
    },
    {
      "cell_type": "markdown",
      "id": "cb1796e6-41a5-41b4-9e66-3520359e0693",
      "metadata": {},
      "source": "Something seems fishy with the negative correlation.  We can make faceted plots or even faceted correlation matrices to understand variation across another variable, say species."
    },
    {
      "cell_type": "code",
      "execution_count": null,
      "id": "91350bec-7a4e-4cf0-9367-3f702d5a1f9a",
      "metadata": {
        "trusted": true
      },
      "outputs": [],
      "source": "sns.pairplot(data=penguins, hue='species')"
    },
    {
      "cell_type": "markdown",
      "id": "f589274f-af37-45d9-9b49-7704fe292cc3",
      "metadata": {},
      "source": "Can be ideal to follow pairplot with heatmap, because that will show you color representing the correlation coefficients."
    },
    {
      "cell_type": "code",
      "execution_count": null,
      "id": "655d681d-5cf9-48c6-b78b-4fcec9ade589",
      "metadata": {
        "trusted": true
      },
      "outputs": [],
      "source": "penguins.corr(numeric_only=True)"
    },
    {
      "cell_type": "code",
      "execution_count": null,
      "id": "b0c49237-9bc7-45fe-b1c6-26326164e279",
      "metadata": {
        "trusted": true
      },
      "outputs": [],
      "source": "sns.heatmap(data=penguins.corr(numeric_only=True))"
    },
    {
      "cell_type": "code",
      "execution_count": null,
      "id": "cfe23605-fed9-4950-98e7-6438b39eb31f",
      "metadata": {
        "trusted": true
      },
      "outputs": [],
      "source": "# straightening out some useful parameters\nsns.heatmap(data=penguins.corr(numeric_only=True),\n            cmap='RdBu_r',annot=True,vmin=-1,vmax=1)"
    },
    {
      "cell_type": "code",
      "execution_count": null,
      "id": "2be0fbe3-9b13-4987-ab38-494caff4e6a8",
      "metadata": {
        "trusted": true
      },
      "outputs": [],
      "source": "# straightening out some useful parameters\n\n# note that the following does a bad job of overlapping graphical features\n\nfor s in penguins.species.unique():\n    sns.heatmap(data=penguins[penguins['species']==s].corr(numeric_only=True),\n                cmap='RdBu_r',annot=True,vmin=-1,vmax=1)"
    },
    {
      "cell_type": "code",
      "execution_count": null,
      "id": "dec79c42-1b5b-4241-8c32-771427bd57db",
      "metadata": {
        "trusted": true
      },
      "outputs": [],
      "source": "# straightening out some useful parameters\n\n# the following bypasses the overlap by initializing a new figure\n# each time through the loop\n\nfor s in penguins.species.unique():\n    plt.figure()\n    sns.heatmap(data=penguins[penguins['species']==s].corr(numeric_only=True),\n                cmap='RdBu_r',annot=True,vmin=-1,vmax=1)"
    },
    {
      "cell_type": "code",
      "execution_count": null,
      "id": "5dcc9ffe-e0a0-484d-9c51-311103e42008",
      "metadata": {
        "trusted": true
      },
      "outputs": [],
      "source": "# ERROR\n# ideally we would like to put the above into columns or rows\n# similar to what we do with a facetgrid\n# but the below will NOT work\n\ng = sns.FacetGrid(penguins.corr(numeric_only=True), col=\"species\")\ng.map_dataframe(sns.heatmap)"
    },
    {
      "cell_type": "code",
      "execution_count": null,
      "id": "4eeccba4-d20c-47af-a520-111573b1260e",
      "metadata": {
        "trusted": true
      },
      "outputs": [],
      "source": "for ix,val in enumerate([20,453,1.34]):\n    print(ix,val)"
    },
    {
      "cell_type": "code",
      "execution_count": null,
      "id": "8194ff63-2dac-49cd-89ae-8f19aa053024",
      "metadata": {
        "trusted": true
      },
      "outputs": [],
      "source": "# straightening out some useful parameters\n\n# here we start to use matplotlib itself to make one column per species\n# this WILL NOT work because it does not correctly use the axes object\n# when using sns.heatmap\n\nfig,ax = plt.subplots(1,3)\nfor ix,s in enumerate(penguins.species.unique()):\n    ax[ix] = sns.heatmap(data=penguins[penguins['species']==s].corr(numeric_only=True),\n                         cmap='RdBu_r',annot=True,vmin=-1,vmax=1)"
    },
    {
      "cell_type": "code",
      "execution_count": null,
      "id": "d3def9c1-bb3d-4803-8cc2-3a38cd548cdf",
      "metadata": {
        "trusted": true
      },
      "outputs": [],
      "source": "# straightening out some useful parameters\n\n# this does a better job by using ax as an input parameter in sns.heatmap\n\nfig,ax = plt.subplots(1,3)\nfor ix,s in enumerate(penguins.species.unique()):\n    sns.heatmap(data=penguins[penguins['species']==s].corr(numeric_only=True),\n                cmap='RdBu_r',annot=True,vmin=-1,vmax=1,ax=ax[ix])"
    },
    {
      "cell_type": "code",
      "execution_count": null,
      "id": "7a3a7625-970d-4ec1-96a4-46f73137da2f",
      "metadata": {
        "trusted": true
      },
      "outputs": [],
      "source": "# straightening out some useful parameters\n\n# this further uses \"constrained_layout=True\" to separate the graphics\n\nfig,ax = plt.subplots(1,3,constrained_layout=True)\nfor ix,s in enumerate(penguins.species.unique()):\n    sns.heatmap(data=penguins[penguins['species']==s].corr(numeric_only=True),\n                cmap='RdBu_r',annot=True,vmin=-1,vmax=1,ax=ax[ix])"
    },
    {
      "cell_type": "code",
      "execution_count": null,
      "id": "6fb26070-dab0-48ae-b710-e08774318e06",
      "metadata": {
        "trusted": true
      },
      "outputs": [],
      "source": "# straightening out some useful parameters\n\n# and this changes the figsize so that the interior graphics are more properly\n# sized relative to the overall figsize\n\nfig,ax = plt.subplots(1,3,constrained_layout=True,figsize=(12,4))\nfor ix,s in enumerate(penguins.species.unique()):\n    sns.heatmap(data=penguins[penguins['species']==s].corr(numeric_only=True),\n                cmap='RdBu_r',annot=True,vmin=-1,vmax=1,ax=ax[ix],cbar=False)"
    },
    {
      "cell_type": "code",
      "execution_count": null,
      "id": "a4b909a8",
      "metadata": {
        "trusted": true
      },
      "outputs": [],
      "source": "# straightening out some useful parameters\n\n# and this changes the figsize so that the interior graphics are more properly\n# sized relative to the overall figsize\n\n# we now further accommodate adding yticklabels and colorbar only for the right- and left-most plots\n\nfig,ax = plt.subplots(1,3,constrained_layout=True,figsize=(12,4))\nnumspecies = penguins.species.nunique()\nfor ix,s in enumerate(penguins.species.unique()):\n    if ix==0:\n        sns.heatmap(data=penguins[penguins['species']==s].corr(numeric_only=True),\n                    cmap='RdBu_r',annot=True,vmin=-1,vmax=1,ax=ax[ix],cbar=False,yticklabels=True)\n    elif ix==numspecies-1:\n        sns.heatmap(data=penguins[penguins['species']==s].corr(numeric_only=True),\n                    cmap='RdBu_r',annot=True,vmin=-1,vmax=1,ax=ax[ix],cbar=True,yticklabels=False)\n    else:\n        sns.heatmap(data=penguins[penguins['species']==s].corr(numeric_only=True),\n                    cmap='RdBu_r',annot=True,vmin=-1,vmax=1,ax=ax[ix],cbar=False,yticklabels=False)"
    },
    {
      "cell_type": "markdown",
      "id": "17043d28-7c07-463b-b86c-9ca6ac9e8314",
      "metadata": {},
      "source": "# More on categories"
    },
    {
      "cell_type": "code",
      "execution_count": null,
      "id": "e7e44797-4d09-407d-be55-50dc08a4e701",
      "metadata": {
        "trusted": true
      },
      "outputs": [],
      "source": "# Bar plot -> but this will fail!\nsns.barplot(data=penguins, x='species')"
    },
    {
      "cell_type": "markdown",
      "id": "d62ef754-895d-48c4-82bf-02d5f680644b",
      "metadata": {},
      "source": "Why does the above fail?  \n-> because we need to tell it what numerical values to plot\n* a count of values of something\n* an aggregate calculation (like average, median, ...)\n* an aggregate of another column"
    },
    {
      "cell_type": "code",
      "execution_count": null,
      "id": "35b8a7a3-8018-45dd-a7da-51c7263042ef",
      "metadata": {
        "trusted": true
      },
      "outputs": [],
      "source": "sns.countplot(data=penguins, x='species')"
    },
    {
      "cell_type": "code",
      "execution_count": null,
      "id": "73bfb784-7470-4aea-a8e4-9853b9ee08b1",
      "metadata": {
        "trusted": true
      },
      "outputs": [],
      "source": "penguins.groupby('species').count()"
    },
    {
      "cell_type": "code",
      "execution_count": null,
      "id": "4337466b-ba42-47d8-8c02-707767e3fa77",
      "metadata": {
        "trusted": true
      },
      "outputs": [],
      "source": "penguins['species'].value_counts()"
    },
    {
      "cell_type": "code",
      "execution_count": null,
      "id": "bc1d52b0-337a-4ce3-b779-bbfe09713e30",
      "metadata": {
        "trusted": true
      },
      "outputs": [],
      "source": "penguins['species'].value_counts().reset_index()"
    },
    {
      "cell_type": "code",
      "execution_count": null,
      "id": "a19d0b7d-bb47-4126-b884-98f0ee737e06",
      "metadata": {
        "trusted": true
      },
      "outputs": [],
      "source": "a=penguins['species'].value_counts().reset_index()\nsns.barplot(data=a, x='species', y='count')\nplt.xlabel('species')\nplt.ylabel('count')"
    },
    {
      "cell_type": "markdown",
      "id": "8255de15-b1b5-4216-908a-c52d12c3daff",
      "metadata": {},
      "source": "Bar plot will work in the cell below because when you pass in a numerical column for `y`, it will calculate the mean of rows and the confidence interval."
    },
    {
      "cell_type": "code",
      "execution_count": null,
      "id": "34a21ff2-89b3-419a-ad46-f3c71f7b2a39",
      "metadata": {
        "trusted": true
      },
      "outputs": [],
      "source": "sns.barplot(data=penguins, x='species', y='body_mass_g')"
    },
    {
      "cell_type": "markdown",
      "id": "1c40200a-7e34-48e0-b29b-9257312afec4",
      "metadata": {},
      "source": "\"countplot\" is not appropriate in that same case.  If you pass in \"y='body_mass_g'\" it will give an error because y should normally just be a count related to the x-feature.  If you pass in \"hue='body_mass_g'\", it will produce output without error, but it outputs a count for every single unique value of the x-y pairs."
    },
    {
      "cell_type": "code",
      "execution_count": null,
      "id": "1a4fe86b-d4f7-46e5-b85f-b014483df319",
      "metadata": {
        "trusted": true
      },
      "outputs": [],
      "source": "sns.countplot(data=penguins, x='species', hue='body_mass_g')"
    },
    {
      "cell_type": "markdown",
      "id": "07df5c8a-520f-40f9-9817-3191ea02a18d",
      "metadata": {},
      "source": "With \"countplot\", hue should be used for more clearly discrete data with a small number of values."
    },
    {
      "cell_type": "code",
      "execution_count": null,
      "id": "e1e1f743-594a-4991-94a4-f60a0e825500",
      "metadata": {
        "trusted": true
      },
      "outputs": [],
      "source": "sns.countplot(data=penguins, x='species', hue='sex')"
    },
    {
      "cell_type": "code",
      "execution_count": null,
      "id": "2cfcf30b-5602-4247-8211-a010fc3aeb1b",
      "metadata": {
        "trusted": true
      },
      "outputs": [],
      "source": "sns.countplot(data=penguins, y='species', hue='sex')"
    },
    {
      "cell_type": "code",
      "execution_count": null,
      "id": "7f6c6aa5-ff74-4fc3-952d-506e7b249ab5",
      "metadata": {
        "trusted": true
      },
      "outputs": [],
      "source": "sns.countplot(data=penguins, y='species', hue='sex', dodge=True)"
    },
    {
      "cell_type": "code",
      "execution_count": null,
      "id": "c447627c-8818-420b-a9c0-bcc0e1d65974",
      "metadata": {
        "trusted": true
      },
      "outputs": [],
      "source": "sns.countplot(data=penguins, y='species', hue='sex', dodge=False)"
    },
    {
      "cell_type": "code",
      "execution_count": null,
      "id": "477b62a5-a455-42dc-8efb-4dcbea64f4b7",
      "metadata": {
        "trusted": true
      },
      "outputs": [],
      "source": "g = sns.FacetGrid(penguins, col=\"island\")\ng.map_dataframe(sns.countplot, x=\"species\")"
    },
    {
      "cell_type": "code",
      "execution_count": null,
      "id": "60464aaa-1fbc-4c66-9ac8-5c07f77f1469",
      "metadata": {
        "trusted": true
      },
      "outputs": [],
      "source": "g = sns.FacetGrid(penguins, col=\"species\")\ng.map_dataframe(sns.countplot, x=\"island\", hue=\"sex\")"
    },
    {
      "cell_type": "markdown",
      "id": "89699654-420e-48b5-9e5f-4e65fb3a72aa",
      "metadata": {},
      "source": "Beware that the same funniness can happen in barplot when trying to use hue for numerical values."
    },
    {
      "cell_type": "code",
      "execution_count": null,
      "id": "83cceeed-248a-4f51-8a2e-b1c5be590bcf",
      "metadata": {
        "trusted": true
      },
      "outputs": [],
      "source": "sns.barplot(data=penguins, x='species',y='flipper_length_mm')"
    },
    {
      "cell_type": "code",
      "execution_count": null,
      "id": "71668555-5046-44d1-a07c-9d7341ffc4c4",
      "metadata": {
        "trusted": true
      },
      "outputs": [],
      "source": "sns.barplot(data=penguins, x='species',y='flipper_length_mm', hue='bill_depth_mm')"
    },
    {
      "cell_type": "code",
      "execution_count": null,
      "id": "49246fc3-55e2-40ae-ace1-1f00bfb12088",
      "metadata": {
        "trusted": true
      },
      "outputs": [],
      "source": "sns.barplot(data=penguins, x='species',y='flipper_length_mm', hue='island')"
    },
    {
      "cell_type": "code",
      "execution_count": null,
      "id": "f6b6de19",
      "metadata": {
        "trusted": true
      },
      "outputs": [],
      "source": "sns.barplot(data=penguins, x='species',y='flipper_length_mm', hue='sex')"
    },
    {
      "cell_type": "code",
      "execution_count": null,
      "id": "7a3971e1-dbbc-4b8f-9f83-a0c223c4483b",
      "metadata": {
        "trusted": true
      },
      "outputs": [],
      "source": "sns.catplot(data=penguins, x='species',y='flipper_length_mm', hue='sex', kind='bar')"
    },
    {
      "cell_type": "markdown",
      "id": "1f36f0a8-2403-4950-873b-6c2fac7dbc90",
      "metadata": {},
      "source": "### Illustrative examples\nHere's a fuller set of categorical+numerical plot examples:"
    },
    {
      "cell_type": "code",
      "execution_count": null,
      "id": "d84c8e5d-2de7-459a-bae1-3815f50d2289",
      "metadata": {
        "scrolled": false,
        "trusted": true
      },
      "outputs": [],
      "source": "for ix,val in enumerate(['strip','box','violin','boxen','point','bar']):\n    sns.catplot(data=penguins, x='species',y='flipper_length_mm', hue='sex', kind=val)"
    },
    {
      "cell_type": "code",
      "execution_count": null,
      "id": "98d3d0d9-2220-4387-b709-ae2419bf2459",
      "metadata": {
        "trusted": true
      },
      "outputs": [],
      "source": "sns.catplot(data=penguins, \n            x='species',\n            y='flipper_length_mm', \n            hue='sex', \n            kind='violin', \n            col='island')"
    },
    {
      "cell_type": "markdown",
      "id": "5b8c59db-9e9b-4f0f-bad8-f2aec150d7e2",
      "metadata": {},
      "source": "The categorizations can be tailored visually to emphasize the relationships that you want to focus on."
    },
    {
      "cell_type": "code",
      "execution_count": null,
      "id": "96e4800d-4787-4f8d-b7cf-6989b61603e3",
      "metadata": {
        "trusted": true
      },
      "outputs": [],
      "source": "sns.catplot(data=penguins, hue='species',y='flipper_length_mm', x='sex', kind='violin')"
    },
    {
      "cell_type": "code",
      "execution_count": null,
      "id": "79ae58ad-66aa-4cad-a6f9-84e2a717c76a",
      "metadata": {
        "trusted": true
      },
      "outputs": [],
      "source": "sns.catplot(data=penguins, col='species',y='flipper_length_mm', x='sex', kind='violin')"
    },
    {
      "cell_type": "code",
      "execution_count": null,
      "id": "9329109e-93ec-4f4d-9e26-061658ac973e",
      "metadata": {
        "trusted": true
      },
      "outputs": [],
      "source": "sns.catplot(data=penguins, x='species',y='flipper_length_mm', hue='sex', kind='violin', \n            split=False)"
    },
    {
      "cell_type": "code",
      "execution_count": null,
      "id": "e5955e0e-6b33-4985-b841-0300bc067606",
      "metadata": {
        "trusted": true
      },
      "outputs": [],
      "source": "sns.catplot(data=penguins, x='species',y='flipper_length_mm', hue='sex', kind='violin', \n            split=True)"
    },
    {
      "cell_type": "code",
      "execution_count": null,
      "id": "3abbde2c-986e-47ad-810e-8941927d7c91",
      "metadata": {
        "trusted": true
      },
      "outputs": [],
      "source": "# Note that the following will not give an error but will\n# not quite be as straightforward to interpret\n\nsns.catplot(data=penguins, hue='species',y='flipper_length_mm', x='sex', kind='violin', split=True)"
    },
    {
      "cell_type": "code",
      "execution_count": null,
      "id": "9bf95a17-bb6c-4970-8370-e4f6d5304bb6",
      "metadata": {
        "trusted": true
      },
      "outputs": [],
      "source": "sns.catplot(data=penguins, col='species',y='flipper_length_mm', x='sex', kind='point')"
    },
    {
      "cell_type": "code",
      "execution_count": null,
      "id": "fc100906-1f63-4214-a08e-6241872c49c3",
      "metadata": {
        "trusted": true
      },
      "outputs": [],
      "source": "sns.catplot(data=penguins, hue='species',y='flipper_length_mm', x='sex', kind='point')"
    },
    {
      "cell_type": "code",
      "execution_count": null,
      "id": "6f0cb286-9dc5-4eb1-bae0-bd6f0170fe86",
      "metadata": {
        "trusted": true
      },
      "outputs": [],
      "source": "sns.catplot(data=penguins, hue='species',y='body_mass_g', x='sex', kind='point')"
    },
    {
      "cell_type": "code",
      "execution_count": null,
      "id": "09a0f9ca-ea2b-4413-a30a-e0dd41c8601f",
      "metadata": {
        "trusted": true
      },
      "outputs": [],
      "source": "sns.catplot(data=penguins, hue='species',y='body_mass_g', x='sex', kind='bar')"
    },
    {
      "cell_type": "code",
      "execution_count": null,
      "id": "77054398-b3dd-4cfd-9a1a-c3f8f7639639",
      "metadata": {
        "trusted": true
      },
      "outputs": [],
      "source": "sns.catplot(data=penguins, x='species',y='body_mass_g', col='sex', kind='box')"
    },
    {
      "cell_type": "code",
      "execution_count": null,
      "id": "35e3937a-55b6-4a42-8e20-881f82ed88c9",
      "metadata": {
        "trusted": true
      },
      "outputs": [],
      "source": "sns.catplot(data=penguins, x='species',y='body_mass_g', hue='sex', kind='box')"
    },
    {
      "cell_type": "code",
      "execution_count": null,
      "id": "c5d81e81-f9bb-4751-8dfb-754b8d59f417",
      "metadata": {
        "trusted": true
      },
      "outputs": [],
      "source": "sns.catplot(data=penguins, y='species',x='body_mass_g', hue='sex', kind='box')"
    },
    {
      "cell_type": "code",
      "execution_count": null,
      "id": "7ecd12aa-c0c3-4c02-828d-747ec644b666",
      "metadata": {
        "trusted": true
      },
      "outputs": [],
      "source": "sns.catplot(data=penguins, hue='species',y='body_mass_g', x='sex', kind='box')"
    },
    {
      "cell_type": "code",
      "execution_count": null,
      "id": "3349f1df-4b75-4145-8a3e-023df4f0a682",
      "metadata": {
        "trusted": true
      },
      "outputs": [],
      "source": "sns.catplot(data=penguins, x='species',y='body_mass_g', hue='sex', kind='point')"
    },
    {
      "cell_type": "code",
      "execution_count": null,
      "id": "5ffd1def-079d-4413-b8b6-291fbcb275ad",
      "metadata": {
        "trusted": true
      },
      "outputs": [],
      "source": "sns.catplot(data=penguins, x='species',y='body_mass_g', hue='sex', kind='violin',split=True)"
    },
    {
      "cell_type": "code",
      "execution_count": null,
      "id": "9c1aed71-9e4f-45a7-b79e-2b5d321be2f3",
      "metadata": {
        "trusted": true
      },
      "outputs": [],
      "source": "sns.catplot(data=penguins, x='species',y='body_mass_g', hue='sex', kind='point', col='island')"
    },
    {
      "cell_type": "code",
      "execution_count": null,
      "id": "929a1c70-a1c5-4f78-9369-ddc527a997c6",
      "metadata": {
        "trusted": true
      },
      "outputs": [],
      "source": "sns.catplot(data=penguins, col='species',y='body_mass_g', hue='sex', kind='point', x='island')"
    },
    {
      "cell_type": "code",
      "execution_count": null,
      "id": "935ac0dc-e9dc-4906-aac5-7c24c20cd6f7",
      "metadata": {
        "trusted": true
      },
      "outputs": [],
      "source": "sns.catplot(data=penguins, hue='species',y='body_mass_g', col='sex', kind='point', x='island')"
    }
  ],
  "metadata": {
    "kernelspec": {
      "display_name": "Python 3 (ipykernel)",
      "language": "python",
      "name": "python3"
    },
    "language_info": {
      "codemirror_mode": {
        "name": "ipython",
        "version": 3
      },
      "file_extension": ".py",
      "mimetype": "text/x-python",
      "name": "python",
      "nbconvert_exporter": "python",
      "pygments_lexer": "ipython3",
      "version": "3.11.9"
    }
  },
  "nbformat": 4,
  "nbformat_minor": 5
}