{
  "cells": [
    {
      "cell_type": "markdown",
      "id": "1f17df2e",
      "metadata": {},
      "source": "# Special Note on Data:\n\n* Click on this [Link for Data](https://jupyterhub.uclatall.com/hub/user-redirect/git-pull?repo=https%3A%2F%2Fgithub.com%2Fbenjum%2FUCLAX-24Fall-EDA&urlpath=tree%2FUCLAX-24Fall-EDA%2F&branch=main)\n* This will clone data and images required for this notebook from https://github.com/benjum/UCLAX-24Fall-EDA into your home directory.\n* You can close the browser tab that opens once it is finished downloading the data."
    },
    {
      "cell_type": "markdown",
      "id": "8aea8e9f",
      "metadata": {
        "slideshow": {
          "slide_type": "slide"
        }
      },
      "source": "# Python and Metro\n\nThis notebook was originally authored by Yoh Kawano, spatial data scientist extraordinaire who previously worked in UCLA's Office for Advanced Research Computing."
    },
    {
      "cell_type": "markdown",
      "id": "4d6f0852-e40b-4926-952b-9d6821949e9b",
      "metadata": {},
      "source": "## Using the pandas-related geopandas \n\nWe can extend our Pandas programming knowledge to reflect a real urban situation.\n\nWe start by importing a new module `geopandas`. This is a pretty high level geospatial library, widely used by spatial data scientists all over the world. Don't worry about it too much for now, but know that it allows us to import a variety of spatial data formats and plot them on a map.\n\n* [geopandas documentation](https://geopandas.readthedocs.io/en/latest/gallery/index.html)"
    },
    {
      "cell_type": "code",
      "execution_count": null,
      "id": "35b98690-68dd-47ea-8f7b-b4655c8ae995",
      "metadata": {
        "trusted": true
      },
      "outputs": [],
      "source": "import geopandas as gpd"
    },
    {
      "cell_type": "markdown",
      "id": "11afef2a-5867-48ae-ba8e-704c7d425517",
      "metadata": {
        "slideshow": {
          "slide_type": "slide"
        }
      },
      "source": "Next, we import some data. In this case, it is a [shapefile](https://desktop.arcgis.com/en/arcmap/latest/manage-data/shapefiles/what-is-a-shapefile.htm) I downloaded from the [LA Metro's Developer web portal](https://developer.metro.net/gis-data/). Notice that I am using relative paths to point to where the data is located in. \n\n* [read_file](https://geopandas.readthedocs.io/en/latest/docs/user_guide/io.html)"
    },
    {
      "cell_type": "code",
      "execution_count": null,
      "id": "318baf5d-0eb1-4cc4-9d3e-b1b24d65893c",
      "metadata": {
        "trusted": true
      },
      "outputs": [],
      "source": "metro = gpd.read_file('/home/jovyan/UCLAX-24Fall-EDA/Data/Stations_All_0715.shp')"
    },
    {
      "cell_type": "markdown",
      "id": "516c220a-8f04-41cb-bbb1-855d3fec280e",
      "metadata": {
        "slideshow": {
          "slide_type": "slide"
        }
      },
      "source": "Note that the reason we use `geopandas` instead of `pandas` (other than the fact that we want to make maps) is that `pandas` cannot read shapefiles, whereas `geopandas` can.\n    \n</div>"
    },
    {
      "cell_type": "code",
      "execution_count": null,
      "id": "6d1c7e24-6f31-469f-a557-a97a9bccfc38",
      "metadata": {
        "trusted": true
      },
      "outputs": [],
      "source": "# what's the data type?\ntype(metro)"
    },
    {
      "cell_type": "code",
      "execution_count": null,
      "id": "1231eae3-2ee0-4801-8e25-e8921b50d549",
      "metadata": {
        "trusted": true
      },
      "outputs": [],
      "source": "# what does the data look like? \nmetro.head()"
    },
    {
      "cell_type": "markdown",
      "id": "dd1e600b-fad6-4b67-aaf2-7ca016d2d87d",
      "metadata": {
        "slideshow": {
          "slide_type": "slide"
        }
      },
      "source": "Ah! Surprise, surprise. This is just like a pandas dataframe.\n\n![image.png](https://geopandas.org/en/latest/_images/dataframe.svg)\n[(source: geopandas intro)](https://geopandas.org/en/latest/getting_started/introduction.html)"
    },
    {
      "cell_type": "markdown",
      "id": "efb78179-93c5-42a1-8142-3272808a6fd0",
      "metadata": {
        "slideshow": {
          "slide_type": "slide"
        }
      },
      "source": "Just like with `pandas`, we can use `head()`, `tail()`, and `sample()` to investigate some of the rows."
    },
    {
      "cell_type": "code",
      "execution_count": null,
      "id": "73628338-5c06-4f02-8278-6010c2e48427",
      "metadata": {
        "trusted": true
      },
      "outputs": [],
      "source": "metro.tail()"
    },
    {
      "cell_type": "code",
      "execution_count": null,
      "id": "47519ab5-83d2-4458-8b89-917acdd56f17",
      "metadata": {
        "trusted": true
      },
      "outputs": [],
      "source": "metro.sample()"
    },
    {
      "cell_type": "markdown",
      "id": "9a732b65-b07a-4205-8157-4e7b74218d7f",
      "metadata": {},
      "source": "If we wanted to double-check some of our data, we could pause at this point and check, for example, that these latitude and longitude values actually fall within the bounds of LA county.  Or that the Station names are correctly identified with the Line label."
    },
    {
      "cell_type": "markdown",
      "id": "416c4141-f32a-4ab8-943d-990d3fff5713",
      "metadata": {
        "slideshow": {
          "slide_type": "slide"
        }
      },
      "source": "## Pandas Data Types\n\nLet's look at the data types for each column. You can collectively get all the datatypes for each column in a dataframe using the `dtypes` command."
    },
    {
      "cell_type": "code",
      "execution_count": null,
      "id": "00755d75-9a57-4216-93ee-c1a7a1a145d4",
      "metadata": {
        "trusted": true
      },
      "outputs": [],
      "source": "metro.dtypes"
    },
    {
      "cell_type": "markdown",
      "id": "4f3cb30d-dfdf-4170-8402-4948a6e0def8",
      "metadata": {
        "slideshow": {
          "slide_type": "slide"
        }
      },
      "source": "But there is better command that will get you more info. Yes, the `info` command."
    },
    {
      "cell_type": "code",
      "execution_count": null,
      "id": "ca66aef2-08f9-4954-a263-1b07866bfea3",
      "metadata": {
        "slideshow": {
          "slide_type": "fragment"
        },
        "trusted": true
      },
      "outputs": [],
      "source": "metro.info()"
    },
    {
      "cell_type": "markdown",
      "id": "33ed9764-2a5f-4415-8d7b-58bf9b9a7ecd",
      "metadata": {
        "slideshow": {
          "slide_type": "slide"
        }
      },
      "source": "## Data exploration\n\nPart of data exploration is learning what is in your data. How many rows are there? What are the columns? How many rows represent a particular slice of the data?"
    },
    {
      "cell_type": "code",
      "execution_count": null,
      "id": "c61d98f0-9d44-4f48-ba3b-cbf20da9e152",
      "metadata": {
        "slideshow": {
          "slide_type": "fragment"
        },
        "trusted": true
      },
      "outputs": [],
      "source": "# how many rows and columns?\nmetro.shape"
    },
    {
      "cell_type": "code",
      "execution_count": null,
      "id": "6bc96aad-a81f-4734-bd7f-d85cde74a971",
      "metadata": {
        "slideshow": {
          "slide_type": "fragment"
        },
        "trusted": true
      },
      "outputs": [],
      "source": "# what are the columns?\nmetro.columns"
    },
    {
      "cell_type": "code",
      "execution_count": null,
      "id": "b9e6a33e-edd7-4769-bb49-015ee376ab04",
      "metadata": {
        "trusted": true
      },
      "outputs": [],
      "source": "# ... or more clearly...\nlist(metro.columns)"
    },
    {
      "cell_type": "markdown",
      "id": "4f083ca5-3817-4833-a9bc-89fd460273c0",
      "metadata": {
        "slideshow": {
          "slide_type": "slide"
        }
      },
      "source": "### Counting unique values in a column\n\nFirst, we can look at values for a single column."
    },
    {
      "cell_type": "code",
      "execution_count": null,
      "id": "4423b144-8b99-4aab-a38b-fb465e74584e",
      "metadata": {
        "slideshow": {
          "slide_type": "fragment"
        },
        "trusted": true
      },
      "outputs": [],
      "source": "metro['LINE']"
    },
    {
      "cell_type": "code",
      "execution_count": null,
      "id": "e47ff202-36fd-4a54-9130-1ff53d8906f3",
      "metadata": {
        "slideshow": {
          "slide_type": "slide"
        },
        "trusted": true
      },
      "outputs": [],
      "source": "# another way\nmetro.LINE"
    },
    {
      "cell_type": "markdown",
      "id": "1705abcf-b718-4cc1-8a31-759803d78a2e",
      "metadata": {},
      "source": "[Note: Is there any advantage to using `metro.LINE` vs `metro['LINE']`?]"
    },
    {
      "cell_type": "markdown",
      "id": "b12af221-eae6-40c7-b34b-dbee6a3b9f8b",
      "metadata": {
        "slideshow": {
          "slide_type": "slide"
        }
      },
      "source": "What if you want to know how many stations there are for each line?"
    },
    {
      "cell_type": "code",
      "execution_count": null,
      "id": "dadd45c6-e058-497d-9a28-dd154a744514",
      "metadata": {
        "slideshow": {
          "slide_type": "fragment"
        },
        "trusted": true
      },
      "outputs": [],
      "source": "metro['LINE'].value_counts()"
    },
    {
      "cell_type": "code",
      "execution_count": null,
      "id": "22363d4a-e521-4178-8112-c05ea495b5f0",
      "metadata": {
        "slideshow": {
          "slide_type": "fragment"
        },
        "trusted": true
      },
      "outputs": [],
      "source": "# save it as a variable\nline_count = metro['LINE'].value_counts()\nline_count"
    },
    {
      "cell_type": "code",
      "execution_count": null,
      "id": "762e93f6-38a2-41f5-b702-bd69a0bff535",
      "metadata": {
        "trusted": true
      },
      "outputs": [],
      "source": "line_count.to_frame()"
    },
    {
      "cell_type": "code",
      "execution_count": null,
      "id": "c7c22e1c-6e55-4100-956f-52edcd490ef6",
      "metadata": {
        "trusted": true
      },
      "outputs": [],
      "source": "# but we want the stations as values too\n# let's convert the series into a dataframe while resetting the index\nline_count = line_count.reset_index()\nline_count"
    },
    {
      "cell_type": "code",
      "execution_count": null,
      "id": "5fe34221-d2e0-488a-b6a6-4c7a4ba80ec1",
      "metadata": {
        "slideshow": {
          "slide_type": "fragment"
        },
        "trusted": true
      },
      "outputs": [],
      "source": "type(line_count)"
    },
    {
      "cell_type": "markdown",
      "id": "6dc70273-e416-4528-a546-4a5f9de0b6f2",
      "metadata": {
        "slideshow": {
          "slide_type": "slide"
        }
      },
      "source": "### Rename columns"
    },
    {
      "cell_type": "code",
      "execution_count": null,
      "id": "37ab2fce-2a4a-456a-af0e-90f19324a3ca",
      "metadata": {
        "slideshow": {
          "slide_type": "fragment"
        },
        "trusted": true
      },
      "outputs": [],
      "source": "# current columns as a list\nline_count.columns.to_list()"
    },
    {
      "cell_type": "markdown",
      "id": "caba08ff-6d79-4847-99e2-b30ab4173a3f",
      "metadata": {
        "slideshow": {
          "slide_type": "fragment"
        }
      },
      "source": "To rename columns, simply give it a list of column names"
    },
    {
      "cell_type": "code",
      "execution_count": null,
      "id": "c7a76fe3-2ce6-463b-a54d-128f82bedf0f",
      "metadata": {
        "slideshow": {
          "slide_type": "fragment"
        },
        "trusted": true
      },
      "outputs": [],
      "source": "line_count.columns = ['line', 'count']"
    },
    {
      "cell_type": "code",
      "execution_count": null,
      "id": "4f91a0a0-9ca1-462d-86f7-d929941c3742",
      "metadata": {
        "slideshow": {
          "slide_type": "fragment"
        },
        "trusted": true
      },
      "outputs": [],
      "source": "line_count"
    },
    {
      "cell_type": "markdown",
      "id": "b3cc70d6-b7a5-4862-b757-bc0b2239f169",
      "metadata": {
        "slideshow": {
          "slide_type": "slide"
        }
      },
      "source": "### A quick bar plot"
    },
    {
      "cell_type": "code",
      "execution_count": null,
      "id": "5322752b-35ad-4323-ac25-a0657531d437",
      "metadata": {
        "trusted": true
      },
      "outputs": [],
      "source": "line_count.plot()"
    },
    {
      "cell_type": "code",
      "execution_count": null,
      "id": "1df8fa14-f91c-485e-b9cf-eb044f2f4aaa",
      "metadata": {
        "slideshow": {
          "slide_type": "slide"
        },
        "trusted": true
      },
      "outputs": [],
      "source": "# give it additional arguments\nline_count.plot.bar(x = 'line',\n                    y = 'count',\n                    title = 'Number of stops per metro line')"
    },
    {
      "cell_type": "code",
      "execution_count": null,
      "id": "5f3b6d56-ca78-4f2d-8681-f2bb39ae4093",
      "metadata": {
        "slideshow": {
          "slide_type": "slide"
        },
        "trusted": true
      },
      "outputs": [],
      "source": "# Try it yourself. Create different plots using the metro dataframe\n"
    },
    {
      "cell_type": "markdown",
      "id": "183de3b5-c8c2-42f5-a09e-f8c3d2f26276",
      "metadata": {
        "slideshow": {
          "slide_type": "slide"
        }
      },
      "source": "### Trimming the data\nOftentimes, we import data and it has too many columns. It is always good practice to elimnate those columns that you are sure you will not use, and keep your data \"clean\" and \"mean.\""
    },
    {
      "cell_type": "code",
      "execution_count": null,
      "id": "605dbf35-d871-4290-a86b-314040523da8",
      "metadata": {
        "trusted": true
      },
      "outputs": [],
      "source": "# output the original data's info\nmetro.info()"
    },
    {
      "cell_type": "code",
      "execution_count": null,
      "id": "4bcb3a87-9067-4ca9-8ba9-0692bf51f892",
      "metadata": {
        "slideshow": {
          "slide_type": "slide"
        },
        "trusted": true
      },
      "outputs": [],
      "source": "# show a dataframe with a subset of columns\nmetro[['LINE','LINENUM','STATION','LAT','LONG','geometry']]"
    },
    {
      "cell_type": "markdown",
      "id": "d956dd77-993a-429d-b578-d9fee12c1094",
      "metadata": {
        "slideshow": {
          "slide_type": "slide"
        }
      },
      "source": "Remember, we are using the double square brackets `[[...]]` because we are feeding the dataframe a list of column names. Another way to do the same thing would be:"
    },
    {
      "cell_type": "code",
      "execution_count": null,
      "id": "8df405ce-8771-4be8-bc5d-7a6ba4fd2ca3",
      "metadata": {
        "slideshow": {
          "slide_type": "fragment"
        },
        "trusted": true
      },
      "outputs": [],
      "source": "# list of desired column names\ndesired_columns = ['LINE','LINENUM','STATION','LAT','LONG','geometry']\n\n# subset based on desired columns\nmetro[desired_columns]"
    },
    {
      "cell_type": "markdown",
      "id": "7a78a024-1dba-41fa-b389-2132ec22d614",
      "metadata": {
        "slideshow": {
          "slide_type": "slide"
        }
      },
      "source": "If you now print the dataframe, what happens?"
    },
    {
      "cell_type": "code",
      "execution_count": null,
      "id": "82a1c5bf-1c49-4c67-93bc-fd35984ff0b3",
      "metadata": {
        "slideshow": {
          "slide_type": "fragment"
        },
        "trusted": true
      },
      "outputs": [],
      "source": "metro.head()"
    },
    {
      "cell_type": "markdown",
      "id": "f338661c-ec99-4c59-a695-07e23d4b7fbd",
      "metadata": {
        "slideshow": {
          "slide_type": "slide"
        }
      },
      "source": "Indeed, in order to preserve your new dataframe, you have to **declare** it as a new variable. And finally, whenever you make a copy of a dataframe, it is **highly recommended** to add the `.copy()` command at the end:"
    },
    {
      "cell_type": "code",
      "execution_count": null,
      "id": "26e3d2b7-ddaa-4be4-8ab9-ab5258afb140",
      "metadata": {
        "slideshow": {
          "slide_type": "fragment"
        },
        "trusted": true
      },
      "outputs": [],
      "source": "metro_trimmed = metro[desired_columns].copy()\nmetro_trimmed"
    },
    {
      "cell_type": "markdown",
      "id": "6953675c-2ca9-4235-8c6d-8661ffa4ab79",
      "metadata": {
        "slideshow": {
          "slide_type": "slide"
        }
      },
      "source": "### Subsetting/querying/filtering the data\n\nWhat if you only want to see a subset of the data? Or create a new table based on a query?"
    },
    {
      "cell_type": "code",
      "execution_count": null,
      "id": "c44e90d3-95a1-4103-954e-361c730f3b7a",
      "metadata": {
        "slideshow": {
          "slide_type": "fragment"
        },
        "trusted": true
      },
      "outputs": [],
      "source": "metro_trimmed[metro_trimmed.LINE == 'EXPO']"
    },
    {
      "cell_type": "markdown",
      "id": "e4b5600c-9399-424c-a599-e133887a8630",
      "metadata": {},
      "source": "Or, using `loc`:"
    },
    {
      "cell_type": "code",
      "execution_count": null,
      "id": "9703bbab-0abf-4105-ae14-8e23fa62faa5",
      "metadata": {
        "slideshow": {
          "slide_type": "slide"
        },
        "trusted": true
      },
      "outputs": [],
      "source": "metro_trimmed.loc[metro_trimmed['LINE'] == 'EXPO']"
    },
    {
      "cell_type": "markdown",
      "id": "91fe74b6-27aa-4a3f-b11b-9188ff11e258",
      "metadata": {},
      "source": "OR, using `query`:"
    },
    {
      "cell_type": "code",
      "execution_count": null,
      "id": "dc3c8b0f-e183-4c73-9ccc-ffc79f00b283",
      "metadata": {
        "slideshow": {
          "slide_type": "slide"
        },
        "trusted": true
      },
      "outputs": [],
      "source": "# another way .query\nmetro_trimmed.query(\"LINE == 'EXPO'\")"
    },
    {
      "cell_type": "markdown",
      "id": "db0c09e6-b4f9-43c4-8fe4-42a5eb1ae453",
      "metadata": {
        "slideshow": {
          "slide_type": "slide"
        }
      },
      "source": "## Plotting\n\nWe have now imported a shapefile, trimmed it, and created a series of queried subsets. Let's visualize our data. First, simply pass it the `plot()` command to see what it looks like."
    },
    {
      "cell_type": "code",
      "execution_count": null,
      "id": "0303ada6-9396-4a2d-8957-1a329c8a3e01",
      "metadata": {
        "slideshow": {
          "slide_type": "fragment"
        },
        "trusted": true
      },
      "outputs": [],
      "source": "metro_trimmed.plot()"
    },
    {
      "cell_type": "markdown",
      "id": "1bb0bdbe-fee2-461b-8cae-f0872666d249",
      "metadata": {
        "slideshow": {
          "slide_type": "slide"
        }
      },
      "source": "Great! Very rewarding, with a single command. The reason it is able to plot the station points is because of the `geometry` column that is created from the shapefile. This is a unique geopandas feature."
    },
    {
      "cell_type": "code",
      "execution_count": null,
      "id": "4e79dda4-ef74-4927-8722-d1a60ca92189",
      "metadata": {
        "slideshow": {
          "slide_type": "fragment"
        },
        "trusted": true
      },
      "outputs": [],
      "source": "metro_trimmed.geometry"
    },
    {
      "cell_type": "markdown",
      "id": "70c222a4-42ff-44a2-90c6-8c8a0cbd76f5",
      "metadata": {
        "slideshow": {
          "slide_type": "slide"
        }
      },
      "source": "### A prettier plot\n\nYou can add additional arguments to make the plot prettier: change the size, add legends, etc."
    },
    {
      "cell_type": "code",
      "execution_count": null,
      "id": "a16b0619-6ad6-4b31-b262-0f2ecb8e1f89",
      "metadata": {
        "trusted": true
      },
      "outputs": [],
      "source": "metro_trimmed.plot(\n    figsize=(20,12),   # size of the plot (a bit bigger than the default)\n    column = 'LINE',   # column that defines the color of the dots\n    legend = True,     # add a legend           \n    legend_kwds={\n       'loc': 'upper right',\n       'bbox_to_anchor':(1.3,1)\n    }                  # this puts the legend to the side\n) "
    },
    {
      "cell_type": "markdown",
      "id": "8b1089d0-18c8-460f-bc4f-fbb0456c3bae",
      "metadata": {
        "slideshow": {
          "slide_type": "slide"
        }
      },
      "source": "## Mapping with folium"
    },
    {
      "cell_type": "markdown",
      "id": "91fffc38-4986-4e44-8a32-ea2da5b7e6ba",
      "metadata": {
        "slideshow": {
          "slide_type": "-"
        }
      },
      "source": "Now it's time for another module: `folium`! Folium brings leaflet, an open source javascript mapping library into our Python environment, allowing you to create instant interactive maps."
    },
    {
      "cell_type": "code",
      "execution_count": null,
      "id": "9b703618-047c-4529-8725-0b96a0bccbd9",
      "metadata": {
        "trusted": true
      },
      "outputs": [],
      "source": "import folium"
    },
    {
      "cell_type": "code",
      "execution_count": null,
      "id": "2375b03a-1118-4c88-a2ca-7d8dd0901195",
      "metadata": {
        "slideshow": {
          "slide_type": "slide"
        },
        "trusted": true
      },
      "outputs": [],
      "source": "# default folium map\nm = folium.Map()\nm"
    },
    {
      "cell_type": "markdown",
      "id": "6014bd3d-476f-45f2-a2d6-66ccb07a6fe8",
      "metadata": {},
      "source": "A world map is cool... but let's add arguments to the `folium.map` command. Specifically, we can feed it a center latitude value, a center longitude value, and a default zoom level.\n* Refer the [folium documentation](https://python-visualization.github.io/folium/quickstart.html) as necessary."
    },
    {
      "cell_type": "code",
      "execution_count": null,
      "id": "68731143-3f0a-4228-ad19-4461e7879006",
      "metadata": {
        "slideshow": {
          "slide_type": "fragment"
        },
        "trusted": true
      },
      "outputs": [],
      "source": "# average latitude\nlatitude = metro_trimmed.LAT.mean()\nlatitude"
    },
    {
      "cell_type": "code",
      "execution_count": null,
      "id": "b3f2a4ca-a1f6-4bb6-8ad1-d9944f64d508",
      "metadata": {
        "slideshow": {
          "slide_type": "fragment"
        },
        "trusted": true
      },
      "outputs": [],
      "source": "# average longitude\nlongitude = metro_trimmed.LONG.mean()\nlongitude"
    },
    {
      "cell_type": "code",
      "execution_count": null,
      "id": "11d0ab41-6d03-4fe3-a8f0-9af09f01e2ec",
      "metadata": {
        "slideshow": {
          "slide_type": "fragment"
        },
        "trusted": true
      },
      "outputs": [],
      "source": "# A map centered on the average lat/lon calculated above\n# adjust the zoom level accordingly\nm = folium.Map(location=[latitude,longitude], zoom_start=10)\nm"
    },
    {
      "cell_type": "markdown",
      "id": "dbbd104a-5355-4c00-b534-d4b1190b78b6",
      "metadata": {
        "slideshow": {
          "slide_type": "slide"
        }
      },
      "source": "### Adding point markers\n\nHow do you add a marker to a folium map?\n\n```\nfolium.Marker([45.3288, -121.6625], popup='<i>Mt. Hood Meadows</i>', tooltip=tooltip).add_to(m)\n```"
    },
    {
      "cell_type": "markdown",
      "id": "2e0ae6fc-deee-40ce-a6e4-5e8d33f64da5",
      "metadata": {
        "slideshow": {
          "slide_type": "slide"
        }
      },
      "source": "Since we want to add a marker *for each station* in our dataframe, we do a for loop, and add the marker within the loop."
    },
    {
      "cell_type": "code",
      "execution_count": null,
      "id": "4dac9191-0ae4-474c-91ac-86808403f911",
      "metadata": {
        "trusted": true
      },
      "outputs": [],
      "source": "# first, note how to loop through a dataframe:\nfor index, row in metro_trimmed.iterrows():\n    print(row.STATION, row.LAT, row.LONG)"
    },
    {
      "cell_type": "markdown",
      "id": "d17e2052-6349-4b6f-bc67-a612aeeb4f5b",
      "metadata": {
        "slideshow": {
          "slide_type": "slide"
        }
      },
      "source": "Using the for loop logic above, we create a folium marker for each row in the dataframe."
    },
    {
      "cell_type": "code",
      "execution_count": null,
      "id": "8eac9869-db29-465c-820f-c7bcb741abe2",
      "metadata": {
        "slideshow": {
          "slide_type": "fragment"
        },
        "trusted": true
      },
      "outputs": [],
      "source": "# add the stations\nfor index, row in metro_trimmed.iterrows():\n   folium.Marker([row.LAT, row.LONG]).add_to(m)\nm"
    },
    {
      "cell_type": "markdown",
      "id": "46543e64-416d-4c55-97a2-5bdd715efbf6",
      "metadata": {
        "slideshow": {
          "slide_type": "slide"
        }
      },
      "source": "### Color code markers\nThat's great, but can we color code the markers so that they correspond to their metro lines?\n\nTo do so:\n\n1. create a new column `color`\n1. add a color of choice based on the LINE that each row represents"
    },
    {
      "cell_type": "code",
      "execution_count": null,
      "id": "1500f4b9-f87d-46c8-9089-40c289fab75f",
      "metadata": {
        "trusted": true
      },
      "outputs": [],
      "source": "metro_trimmed.sample()"
    },
    {
      "cell_type": "code",
      "execution_count": null,
      "id": "6e6e09f9-c583-4b1e-8a9b-926e63186f5d",
      "metadata": {
        "slideshow": {
          "slide_type": "slide"
        },
        "trusted": true
      },
      "outputs": [],
      "source": "# add a new column\nmetro_trimmed['color'] =  'blue'"
    },
    {
      "cell_type": "code",
      "execution_count": null,
      "id": "b95531fd-4460-470b-99ae-d0fb5672503e",
      "metadata": {
        "slideshow": {
          "slide_type": "fragment"
        },
        "trusted": true
      },
      "outputs": [],
      "source": "metro_trimmed.head()"
    },
    {
      "cell_type": "markdown",
      "id": "f2ae5df2-e477-4332-92bb-62260836377b",
      "metadata": {
        "slideshow": {
          "slide_type": "slide"
        }
      },
      "source": "### Find unique values in a column"
    },
    {
      "cell_type": "code",
      "execution_count": null,
      "id": "5ee59ca9-1e10-4360-bd32-8de4f31fcbfc",
      "metadata": {
        "slideshow": {
          "slide_type": "fragment"
        },
        "trusted": true
      },
      "outputs": [],
      "source": "# find unique values in the LINE column\nmetro_trimmed.LINE.unique()"
    },
    {
      "cell_type": "markdown",
      "id": "505d91fb-0446-48bd-aa5f-49d633f97693",
      "metadata": {
        "slideshow": {
          "slide_type": "slide"
        }
      },
      "source": "### Update column based on a query on another column\nWe now want to populate the newly created `color` column with values based on the LINE.\n\nRemember how you used the `loc` command to query the data. "
    },
    {
      "cell_type": "code",
      "execution_count": null,
      "id": "2e463663-a30d-4ffc-a328-e54f5c4b236e",
      "metadata": {
        "trusted": true
      },
      "outputs": [],
      "source": "# display rows that match a query\nmetro_trimmed.loc[metro_trimmed['LINE'] == 'EXPO']"
    },
    {
      "cell_type": "markdown",
      "id": "f8b916b1-fadb-4965-a9ab-90e90492bdc8",
      "metadata": {
        "slideshow": {
          "slide_type": "slide"
        }
      },
      "source": "The `loc` command has additional functionalities. You can use it to update a field based on a query on *another* field. But first, note that folium accepts only a few named colors, according to their [documentation](https://python-visualization.github.io/folium/modules.html): \n\n```\n[‘red’, ‘blue’, ‘green’, ‘purple’, ‘orange’, ‘darkred’,’lightred’, ‘beige’, ‘darkblue’, ‘darkgreen’, ‘cadetblue’, ‘darkpurple’, ‘white’, ‘pink’, ‘lightblue’, ‘lightgreen’, ‘gray’, ‘black’, ‘lightgray’]\n```"
    },
    {
      "attachments": {
        "image.png": {
          "image/png": "[encoded data removed]"
        }
      },
      "cell_type": "markdown",
      "id": "41f2806a-f404-4d21-a2e5-9bb0aa2410f0",
      "metadata": {
        "slideshow": {
          "slide_type": "slide"
        }
      },
      "source": "Using the `loc` command, we can update the color column for a single LINE:\n![image.png](attachment:image.png)"
    },
    {
      "cell_type": "code",
      "execution_count": null,
      "id": "8369f3bc-2bdc-4631-912f-f4a89f9142b6",
      "metadata": {
        "slideshow": {
          "slide_type": "fragment"
        },
        "trusted": true
      },
      "outputs": [],
      "source": "metro_trimmed.loc[metro_trimmed['LINE'] == 'EXPO', 'color'] = 'orange'"
    },
    {
      "cell_type": "code",
      "execution_count": null,
      "id": "b45a21c6-b1af-4226-b789-3e664341fa95",
      "metadata": {
        "slideshow": {
          "slide_type": "fragment"
        },
        "trusted": true
      },
      "outputs": [],
      "source": "# check your work\nmetro_trimmed.loc[metro_trimmed['LINE'] == 'EXPO']"
    },
    {
      "cell_type": "markdown",
      "id": "aa1ef182-7cab-41c8-9564-c377261e4bb8",
      "metadata": {
        "slideshow": {
          "slide_type": "slide"
        }
      },
      "source": "Now, update the color column for all other metro LINE's in the cell below:"
    },
    {
      "cell_type": "code",
      "execution_count": null,
      "id": "c46944f1-2e3f-4a72-bb71-845f5fd652cd",
      "metadata": {
        "trusted": true
      },
      "outputs": [],
      "source": "metro_trimmed.loc[metro_trimmed['LINE'] == 'Blue', 'color'] = 'blue'\nmetro_trimmed.loc[metro_trimmed['LINE'] == 'Blue/EXPO', 'color'] = 'lightblue'\nmetro_trimmed.loc[metro_trimmed['LINE'] == 'EXPO', 'color'] = 'orange'\nmetro_trimmed.loc[metro_trimmed['LINE'] == 'Red', 'color'] = 'red'\nmetro_trimmed.loc[metro_trimmed['LINE'] == 'Red/Purple', 'color'] = 'black'\nmetro_trimmed.loc[metro_trimmed['LINE'] == 'Purple', 'color'] = 'purple'\nmetro_trimmed.loc[metro_trimmed['LINE'] == 'Green', 'color'] = 'green'\nmetro_trimmed.loc[metro_trimmed['LINE'] == 'Gold', 'color'] = 'beige'"
    },
    {
      "cell_type": "code",
      "execution_count": null,
      "id": "7f40dd54-eec7-4583-83c6-d408f615ca1a",
      "metadata": {
        "slideshow": {
          "slide_type": "slide"
        },
        "trusted": true
      },
      "outputs": [],
      "source": "# reset the map (you need to do this to erase previous layers)\nm = folium.Map(location=[latitude,longitude], tiles='OpenStreetMap', zoom_start=10)"
    },
    {
      "cell_type": "code",
      "execution_count": null,
      "id": "b3c85311-dba1-479c-aaf6-8fe91737529d",
      "metadata": {
        "slideshow": {
          "slide_type": "slide"
        },
        "trusted": true
      },
      "outputs": [],
      "source": "# add the stations with color icons\nfor index, row in metro_trimmed.iterrows():\n    tooltip_text = row.LINE + ' Line: ' + row.STATION\n    folium.Marker(\n        [row.LAT,row.LONG], \n        popup=row.STATION, \n        tooltip=tooltip_text,\n        icon=folium.Icon(color=row.color)\n    ).add_to(m)\n\n# show the map\nm"
    },
    {
      "cell_type": "markdown",
      "id": "c9e056e9-4f99-4f50-ab73-25a43dfd04cd",
      "metadata": {
        "slideshow": {
          "slide_type": "slide"
        }
      },
      "source": "### Saving your folium map as an HTML file"
    },
    {
      "cell_type": "code",
      "execution_count": null,
      "id": "558ff75b-4bc2-406d-9485-7000b0ac5a24",
      "metadata": {
        "slideshow": {
          "slide_type": "-"
        },
        "trusted": true
      },
      "outputs": [],
      "source": "# save the interactive maps as an html file\n# on the JupyterHub for class, you won't be able to save files in the \"classwork\" folder\n# but you will be able to save in the home directory, i.e. in /home/jovyan\n\nm.save('/home/jovyan/metro.html')"
    }
  ],
  "metadata": {
    "kernelspec": {
      "display_name": "Python 3 (ipykernel)",
      "language": "python",
      "name": "python3"
    },
    "language_info": {
      "codemirror_mode": {
        "name": "ipython",
        "version": 3
      },
      "file_extension": ".py",
      "mimetype": "text/x-python",
      "name": "python",
      "nbconvert_exporter": "python",
      "pygments_lexer": "ipython3",
      "version": "3.11.9"
    }
  },
  "nbformat": 4,
  "nbformat_minor": 5
}