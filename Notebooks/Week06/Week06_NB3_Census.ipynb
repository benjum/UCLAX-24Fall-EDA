{
 "cells": [
  {
   "cell_type": "markdown",
   "metadata": {
    "slideshow": {
     "slide_type": "slide"
    }
   },
   "source": [
    "# Geopandas and census data\n",
    "This notebook was originally authored by Yoh Kawano, spatial data scientist extraordinaire in UCLA's Office for Advanced Research Computing. \n",
    "\n",
    "This notebook includes:\n",
    "\n",
    "- how and where to find and download census data\n",
    "- use `geopandas` library to read a geojson file\n",
    "- use `contextily` to add basemaps ([documentation](https://contextily.readthedocs.io/en/latest/intro_guide.html))\n",
    "- renaming columns\n",
    "- normalizing data columns\n",
    "- simple stats"
   ]
  },
  {
   "cell_type": "markdown",
   "metadata": {
    "slideshow": {
     "slide_type": "slide"
    }
   },
   "source": [
    "## Where to get census data?\n",
    "\n",
    "\n",
    "Well, you have many options, including getting it directly from the source, the [census bureau website](https://www.census.gov/data.html) itself. We also have, as part of the academic community, a great resource: [Social Explorer](https://www.socialexplorer.com/). With a campus-wide license for full access to their website, you can download any census variable that pretty much existed... ever. And, with its easy-to-use user interface, this is a wonderful one-stop shop for your census needs.\n",
    "\n",
    "But for data scientists, we will investigate another source: [censusreporter.org](https://censusreporter.org/)\n",
    "\n",
    "<a href=\"https://censusreporter.org\" target=\"_blank\"><img src=\"https://raw.githubusercontent.com/benjum/UCLAX-24Fall-EDA/main/Images/cr.png\"></a>"
   ]
  },
  {
   "cell_type": "markdown",
   "metadata": {},
   "source": [
    "# Data\n",
    "\n",
    "For the purposes of this notebook, the data is already made available inside the file `data/acs2020_5yr_B03002_14000US06037406602.geojson`"
   ]
  },
  {
   "cell_type": "markdown",
   "metadata": {
    "slideshow": {
     "slide_type": "slide"
    }
   },
   "source": [
    "## The libraries"
   ]
  },
  {
   "cell_type": "code",
   "execution_count": null,
   "metadata": {},
   "outputs": [],
   "source": [
    "# for general data wrangling tasks\n",
    "import pandas as pd\n",
    "\n",
    "# to read and visualize spatial data\n",
    "import geopandas as gpd\n",
    "\n",
    "# to provide basemaps \n",
    "import contextily as ctx\n",
    "\n",
    "# to give more power to your figures (plots)\n",
    "import matplotlib.pyplot as plt"
   ]
  },
  {
   "cell_type": "markdown",
   "metadata": {
    "slideshow": {
     "slide_type": "slide"
    }
   },
   "source": [
    "## Importing data\n",
    "\n",
    "In order to work with data in python, we need a library that will let us handle \"spatial data exploration.\" For this notebook, we will use geopandas to read and wrangle a [geojson](https://en.wikipedia.org/wiki/GeoJSON) file.\n",
    "\n",
    "Before continuing, try taking a little detour to find out how geojson files are constructed:\n",
    "\n",
    "- [geojson.io](http://geojson.io/#map=2/20.0/0.0)\n",
    "\n",
    "![geojson](https://raw.githubusercontent.com/benjum/UCLAX-24Fall-EDA/main/Images/geojson.png)"
   ]
  },
  {
   "cell_type": "markdown",
   "metadata": {
    "slideshow": {
     "slide_type": "slide"
    }
   },
   "source": [
    "We make the call to load and read the data that was downloaded from census reporter. Take note of the relative path reference to find the file in your file directory."
   ]
  },
  {
   "cell_type": "code",
   "execution_count": null,
   "metadata": {},
   "outputs": [],
   "source": [
    "# note that you will need to specify the proper data directory \n",
    "# this path assumes you are executing the notebook inside UCLAX-24Fall-EDA/Notebooks/Week06/ \n",
    "\n",
    "gdf = gpd.read_file('../../Data/acs2020_5yr_B03002_14000US06037406602.geojson')"
   ]
  },
  {
   "cell_type": "markdown",
   "metadata": {
    "slideshow": {
     "slide_type": "slide"
    }
   },
   "source": [
    "## Preliminary inspection\n",
    "A quick look at the size of the data."
   ]
  },
  {
   "cell_type": "code",
   "execution_count": null,
   "metadata": {},
   "outputs": [],
   "source": [
    "gdf.shape"
   ]
  },
  {
   "cell_type": "markdown",
   "metadata": {},
   "source": [
    "A quick look at the data -- and note the geometry column!"
   ]
  },
  {
   "cell_type": "code",
   "execution_count": null,
   "metadata": {},
   "outputs": [],
   "source": [
    "gdf.head()"
   ]
  },
  {
   "cell_type": "code",
   "execution_count": null,
   "metadata": {
    "slideshow": {
     "slide_type": "slide"
    }
   },
   "outputs": [],
   "source": [
    "# plot it!\n",
    "gdf.plot(figsize=(10,10))"
   ]
  },
  {
   "cell_type": "code",
   "execution_count": null,
   "metadata": {},
   "outputs": [],
   "source": [
    "gdf.sample()"
   ]
  },
  {
   "cell_type": "markdown",
   "metadata": {
    "slideshow": {
     "slide_type": "slide"
    }
   },
   "source": [
    "## Data types\n",
    "\n",
    "To get the data types, we will use `.info()`. "
   ]
  },
  {
   "cell_type": "code",
   "execution_count": null,
   "metadata": {},
   "outputs": [],
   "source": [
    "gdf.info()"
   ]
  },
  {
   "cell_type": "markdown",
   "metadata": {
    "slideshow": {
     "slide_type": "slide"
    }
   },
   "source": [
    "### The FIPS code\n",
    "What is the geoid? It is called a FIPS code but why is it important?\n",
    "\n",
    "- https://www.census.gov/programs-surveys/geography/guidance/geo-identifiers.html\n",
    "\n",
    "![fips](https://raw.githubusercontent.com/benjum/UCLAX-24Fall-EDA/main/Images/fips.png)"
   ]
  },
  {
   "cell_type": "code",
   "execution_count": null,
   "metadata": {},
   "outputs": [],
   "source": [
    "gdf.geoid.head()"
   ]
  },
  {
   "cell_type": "markdown",
   "metadata": {
    "slideshow": {
     "slide_type": "slide"
    }
   },
   "source": [
    "![fips code](https://learn.arcgis.com/en/related-concepts/GUID-D7AA4FD1-E7FE-49D7-9D11-07915C9ACC68-web.png)\n",
    "\n",
    "[Source: ESRI](https://learn.arcgis.com/en/related-concepts/united-states-census-geography.htm)"
   ]
  },
  {
   "cell_type": "markdown",
   "metadata": {
    "slideshow": {
     "slide_type": "slide"
    }
   },
   "source": [
    "## Delete county row\n",
    "\n",
    "As we have observed, the first row in the data obtained from censusreporter is for the entire county. Keeping this row is problematic, as it represents a data record that is at a different scale. Let's delete it."
   ]
  },
  {
   "cell_type": "code",
   "execution_count": null,
   "metadata": {
    "slideshow": {
     "slide_type": "slide"
    }
   },
   "outputs": [],
   "source": [
    "# check the data again\n",
    "gdf.head()"
   ]
  },
  {
   "cell_type": "code",
   "execution_count": null,
   "metadata": {
    "slideshow": {
     "slide_type": "slide"
    }
   },
   "outputs": [],
   "source": [
    "# drop the row with index 0 (i.e. the first row)\n",
    "gdf = gdf.drop([0])"
   ]
  },
  {
   "cell_type": "code",
   "execution_count": null,
   "metadata": {
    "slideshow": {
     "slide_type": "fragment"
    }
   },
   "outputs": [],
   "source": [
    "# check to see if it has been deleted\n",
    "gdf.head()"
   ]
  },
  {
   "cell_type": "markdown",
   "metadata": {
    "slideshow": {
     "slide_type": "slide"
    }
   },
   "source": [
    "## The census data dictionary\n",
    "There are a lot of columns. What are these columns? Column headers are defined in the `metadata.json` file that comes in the dowloaded zipfile from censusreporter. Click the link below to open the json file in another tab.\n",
    "\n",
    "* [metadata.json](../../Data/metadata.json)\n",
    "\n",
    "(If that doesn't work, you can find this file in the home directory under \"UCLAX-24Fall-EDA/Data/metadata.json\")"
   ]
  },
  {
   "cell_type": "markdown",
   "metadata": {
    "slideshow": {
     "slide_type": "slide"
    }
   },
   "source": [
    "For the purposes of this exercise, we will not choose to analyze subcategories within the Hispanic category, nor will we analyze breakdowns within the multiple race category.  Let's identify which columns are needed, and which are not for our exploration.  \n",
    "\n",
    "\n",
    "![census variables](https://raw.githubusercontent.com/benjum/UCLAX-24Fall-EDA/main/Images/census1.png)"
   ]
  },
  {
   "cell_type": "markdown",
   "metadata": {
    "slideshow": {
     "slide_type": "slide"
    }
   },
   "source": [
    "## Dropping columns \n",
    "There are many columns that we do not need. \n",
    "\n",
    "- output existing columns as a list\n",
    "- create a list of columns to keep\n",
    "- redefine `gdf` with only the columns to keep\n"
   ]
  },
  {
   "cell_type": "code",
   "execution_count": null,
   "metadata": {},
   "outputs": [],
   "source": [
    "list(gdf)"
   ]
  },
  {
   "cell_type": "code",
   "execution_count": null,
   "metadata": {
    "slideshow": {
     "slide_type": "slide"
    }
   },
   "outputs": [],
   "source": [
    "# columns to keep\n",
    "columns_to_keep = ['geoid',\n",
    " 'name',\n",
    " 'B03002001',\n",
    " 'B03002002',\n",
    " 'B03002003',\n",
    " 'B03002004',\n",
    " 'B03002005',\n",
    " 'B03002006',\n",
    " 'B03002007',\n",
    " 'B03002008',\n",
    " 'B03002009',\n",
    " 'B03002012',\n",
    " 'geometry']"
   ]
  },
  {
   "cell_type": "code",
   "execution_count": null,
   "metadata": {
    "slideshow": {
     "slide_type": "slide"
    }
   },
   "outputs": [],
   "source": [
    "# redefine gdf with only columns to keep\n",
    "gdf = gdf[columns_to_keep]"
   ]
  },
  {
   "cell_type": "code",
   "execution_count": null,
   "metadata": {},
   "outputs": [],
   "source": [
    "# check the slimmed down gdf\n",
    "gdf.head()"
   ]
  },
  {
   "cell_type": "markdown",
   "metadata": {
    "slideshow": {
     "slide_type": "slide"
    }
   },
   "source": [
    "## Renaming columns\n",
    "\n",
    "Let's rename the columns. First, create a list of column names as they are now."
   ]
  },
  {
   "cell_type": "code",
   "execution_count": null,
   "metadata": {},
   "outputs": [],
   "source": [
    "list(gdf)"
   ]
  },
  {
   "cell_type": "markdown",
   "metadata": {
    "slideshow": {
     "slide_type": "slide"
    }
   },
   "source": [
    "Then, simply copy and paste the output list above, and define the columns with it. Replace the values with your desired column names"
   ]
  },
  {
   "cell_type": "code",
   "execution_count": null,
   "metadata": {},
   "outputs": [],
   "source": [
    "gdf.columns = ['geoid',\n",
    " 'name',\n",
    " 'Total',\n",
    " 'Non Hispanic',\n",
    " 'Non Hispanic White',\n",
    " 'Non Hispanic Black',\n",
    " 'Non Hispanic American Indian and Alaska Native',\n",
    " 'Non Hispanic Asian',\n",
    " 'Non Hispanic Native Hawaiian and Other Pacific Islander',\n",
    " 'Non Hispanic Some other race',\n",
    " 'Non Hispanic Two or more races',\n",
    " 'Hispanic',\n",
    " 'geometry']"
   ]
  },
  {
   "cell_type": "code",
   "execution_count": null,
   "metadata": {
    "slideshow": {
     "slide_type": "slide"
    }
   },
   "outputs": [],
   "source": [
    "gdf.head()"
   ]
  },
  {
   "cell_type": "markdown",
   "metadata": {
    "slideshow": {
     "slide_type": "slide"
    }
   },
   "source": [
    "## Double check your data integrity\n",
    "Does the math add up? Let's check. The `Total` should equal the rest of the columns."
   ]
  },
  {
   "cell_type": "code",
   "execution_count": null,
   "metadata": {
    "slideshow": {
     "slide_type": "fragment"
    }
   },
   "outputs": [],
   "source": [
    "# get a random record\n",
    "random_tract = gdf.sample()\n",
    "random_tract"
   ]
  },
  {
   "cell_type": "code",
   "execution_count": null,
   "metadata": {
    "slideshow": {
     "slide_type": "slide"
    }
   },
   "outputs": [],
   "source": [
    "# example usage of iloc to get the total population of our random record\n",
    "# \"for the 0th record, get the value in the Total column\"\n",
    "random_tract.iloc[0]['Total']"
   ]
  },
  {
   "cell_type": "code",
   "execution_count": null,
   "metadata": {
    "slideshow": {
     "slide_type": "fragment"
    }
   },
   "outputs": [],
   "source": [
    "# print this out in plain english\n",
    "print('Total population: ' + str(random_tract.iloc[0]['Total']))"
   ]
  },
  {
   "cell_type": "code",
   "execution_count": null,
   "metadata": {},
   "outputs": [],
   "source": [
    "# non hispanic plus hispanic should equal to the total\n",
    "print('Non Hispanic + Hispanic: ' + str(random_tract.iloc[0]['Non Hispanic'] + random_tract.iloc[0]['Hispanic']))"
   ]
  },
  {
   "cell_type": "code",
   "execution_count": null,
   "metadata": {},
   "outputs": [],
   "source": [
    "# hispanic plus all the non hispanice categories\n",
    "print(random_tract.iloc[0]['Non Hispanic White'] + \n",
    "      random_tract.iloc[0]['Non Hispanic Black'] + \n",
    "      random_tract.iloc[0]['Non Hispanic American Indian and Alaska Native'] + \n",
    "      random_tract.iloc[0]['Non Hispanic Asian'] + \n",
    "      random_tract.iloc[0]['Non Hispanic Native Hawaiian and Other Pacific Islander'] + \n",
    "      random_tract.iloc[0]['Non Hispanic Some other race'] + \n",
    "      random_tract.iloc[0]['Non Hispanic Two or more races'] + \n",
    "      random_tract.iloc[0]['Hispanic'])"
   ]
  },
  {
   "cell_type": "markdown",
   "metadata": {
    "slideshow": {
     "slide_type": "slide"
    }
   },
   "source": [
    "## Simple stats and plots"
   ]
  },
  {
   "cell_type": "code",
   "execution_count": null,
   "metadata": {},
   "outputs": [],
   "source": [
    "# access a single column like df['col_name']\n",
    "gdf['Total'].head()"
   ]
  },
  {
   "cell_type": "code",
   "execution_count": null,
   "metadata": {
    "slideshow": {
     "slide_type": "slide"
    }
   },
   "outputs": [],
   "source": [
    "# What is the mean?\n",
    "gdf['Total'].mean()"
   ]
  },
  {
   "cell_type": "code",
   "execution_count": null,
   "metadata": {},
   "outputs": [],
   "source": [
    "# What is the median?\n",
    "gdf['Total'].median()"
   ]
  },
  {
   "cell_type": "code",
   "execution_count": null,
   "metadata": {},
   "outputs": [],
   "source": [
    "# get some stats\n",
    "gdf['Total'].describe()"
   ]
  },
  {
   "cell_type": "code",
   "execution_count": null,
   "metadata": {},
   "outputs": [],
   "source": [
    "# plot it as a historgram with 50 bins\n",
    "gdf['Total'].plot.hist(bins=50)"
   ]
  },
  {
   "cell_type": "markdown",
   "metadata": {
    "slideshow": {
     "slide_type": "slide"
    },
    "tags": []
   },
   "source": [
    "Woah!!  Something's fishy here.  The scale goes out to 4 million?\n",
    "\n",
    "Check the max in the summary above."
   ]
  },
  {
   "cell_type": "code",
   "execution_count": null,
   "metadata": {},
   "outputs": [],
   "source": [
    "gdf.loc[gdf['Total']>1e6]"
   ]
  },
  {
   "cell_type": "code",
   "execution_count": null,
   "metadata": {},
   "outputs": [],
   "source": [
    "gdf.tail()"
   ]
  },
  {
   "cell_type": "code",
   "execution_count": null,
   "metadata": {},
   "outputs": [],
   "source": [
    "gdf = gdf.drop([2499])"
   ]
  },
  {
   "cell_type": "markdown",
   "metadata": {
    "slideshow": {
     "slide_type": "slide"
    }
   },
   "source": [
    "## Sorting\n",
    "What are the top 10 most populated census tracts? What are the census tracts with the highest black popluation? To answer these questions, the simplest method is to sort the data by their respective columns."
   ]
  },
  {
   "cell_type": "code",
   "execution_count": null,
   "metadata": {},
   "outputs": [],
   "source": [
    "gdf_sorted = gdf.sort_values(by='Total',ascending = False)"
   ]
  },
  {
   "cell_type": "code",
   "execution_count": null,
   "metadata": {},
   "outputs": [],
   "source": [
    "# display the data, but just a few columns to keep it clean\n",
    "gdf_sorted[['geoid','Total']].head(10)"
   ]
  },
  {
   "cell_type": "code",
   "execution_count": null,
   "metadata": {
    "slideshow": {
     "slide_type": "slide"
    }
   },
   "outputs": [],
   "source": [
    "# plot it\n",
    "gdf_sorted.head(10).plot()"
   ]
  },
  {
   "cell_type": "code",
   "execution_count": null,
   "metadata": {
    "slideshow": {
     "slide_type": "slide"
    }
   },
   "outputs": [],
   "source": [
    "# Make it prettier\n",
    "gdf_sorted.head(100).plot(figsize=(10,10),column='Total',legend=True)"
   ]
  },
  {
   "cell_type": "markdown",
   "metadata": {
    "slideshow": {
     "slide_type": "slide"
    }
   },
   "source": [
    "<div class=\"alert alert-info\">\n",
    "    Try creating a table and accompanying bar plot for the top/bottom x values for column of your choice.\n",
    "</div>"
   ]
  },
  {
   "cell_type": "code",
   "execution_count": null,
   "metadata": {},
   "outputs": [],
   "source": []
  },
  {
   "cell_type": "markdown",
   "metadata": {
    "slideshow": {
     "slide_type": "slide"
    }
   },
   "source": [
    "## Filtering and subsetting data\n",
    "Sorting is one method, but the process of discovery compels us to interrogate the data in different ways. One method of doing so is to query, or filter the data to see specific views of the data based on a question you may have. For example, what are the census tracts that have no people in them? Or, Which census tracts are more than 75% black?"
   ]
  },
  {
   "cell_type": "code",
   "execution_count": null,
   "metadata": {},
   "outputs": [],
   "source": [
    "# subset the data so that we can see the data per row... \n",
    "gdf[gdf['Total']==0]"
   ]
  },
  {
   "cell_type": "markdown",
   "metadata": {
    "slideshow": {
     "slide_type": "slide"
    }
   },
   "source": [
    "Note that unless you specify the resulting output as a new variable, the results are only temporary (in memory). If you want to use the results for subsequent analysis, you need to create a new variable."
   ]
  },
  {
   "cell_type": "code",
   "execution_count": null,
   "metadata": {},
   "outputs": [],
   "source": [
    "# create a new variable for census tracts with zero pop\n",
    "gdf_no_pop = gdf[gdf['Total']==0]"
   ]
  },
  {
   "cell_type": "code",
   "execution_count": null,
   "metadata": {
    "slideshow": {
     "slide_type": "slide"
    }
   },
   "outputs": [],
   "source": [
    "# how many records?\n",
    "print('There are ' + str(len(gdf_no_pop)) + ' census tracts with no people in them')"
   ]
  },
  {
   "cell_type": "code",
   "execution_count": null,
   "metadata": {},
   "outputs": [],
   "source": [
    "# display it\n",
    "gdf_no_pop[['geoid','Total']]"
   ]
  },
  {
   "cell_type": "markdown",
   "metadata": {
    "slideshow": {
     "slide_type": "slide"
    }
   },
   "source": [
    "## Totals are great but let's normalize the data\n",
    "\n",
    "For almost any data inquiry, you should ask the question: should I normalize the data? With raw numbers, is it fair to compare one census tract to another? For example, if one census tract has 1000 hispanics, and another has 100, can we assume that the first tract is largely Hispanic? No, because the total population might be 10000 people, resulting in it being 10% hispanic, whereas the second tract might have 200 people living in it, resulting in it being 50% hispanic."
   ]
  },
  {
   "cell_type": "markdown",
   "metadata": {
    "slideshow": {
     "slide_type": "slide"
    }
   },
   "source": [
    "To avoid these types of misrepresentations, we can normalize the data, and provide it as a percent of total."
   ]
  },
  {
   "cell_type": "code",
   "execution_count": null,
   "metadata": {
    "slideshow": {
     "slide_type": "fragment"
    }
   },
   "outputs": [],
   "source": [
    "# output columns\n",
    "list(gdf)"
   ]
  },
  {
   "cell_type": "code",
   "execution_count": null,
   "metadata": {
    "slideshow": {
     "slide_type": "slide"
    }
   },
   "outputs": [],
   "source": [
    "# create a new column, and populate it with normalized data to get the percent of total value\n",
    "gdf['Percent Non Hispanic'] = gdf['Non Hispanic']/gdf['Total']*100\n",
    "gdf['Percent Hispanic'] = gdf['Hispanic']/gdf['Total']*100"
   ]
  },
  {
   "cell_type": "code",
   "execution_count": null,
   "metadata": {},
   "outputs": [],
   "source": [
    "gdf.sample(5)"
   ]
  },
  {
   "cell_type": "code",
   "execution_count": null,
   "metadata": {},
   "outputs": [],
   "source": [
    "# create columns and populate them with normalized data to get the percent of total value\n",
    "gdf['Percent Non Hispanic'] = gdf['Non Hispanic']/gdf['Total']*100\n",
    "gdf['Percent Hispanic'] = gdf['Hispanic']/gdf['Total']*100\n",
    "gdf['Percent Non Hispanic White'] = gdf['Non Hispanic White']/gdf['Total']*100\n",
    "gdf['Percent Non Hispanic Black'] = gdf['Non Hispanic Black']/gdf['Total']*100\n",
    "gdf['Percent Non Hispanic American Indian and Alaska Native'] = gdf['Non Hispanic American Indian and Alaska Native']/gdf['Total']*100\n",
    "gdf['Percent Non Hispanic Asian'] = gdf['Non Hispanic Asian']/gdf['Total']*100\n",
    "gdf['Percent Non Hispanic Native Hawaiian and Other Pacific Islander'] = gdf['Non Hispanic Native Hawaiian and Other Pacific Islander']/gdf['Total']*100\n",
    "gdf['Percent Non Hispanic Some other race'] = gdf['Non Hispanic Some other race']/gdf['Total']*100\n",
    "gdf['Percent Non Hispanic Two or more races'] = gdf['Non Hispanic Two or more races']/gdf['Total']*100"
   ]
  },
  {
   "cell_type": "markdown",
   "metadata": {
    "slideshow": {
     "slide_type": "slide"
    }
   },
   "source": [
    "# Maps!"
   ]
  },
  {
   "cell_type": "markdown",
   "metadata": {
    "slideshow": {
     "slide_type": "slide"
    }
   },
   "source": [
    "We can now create choropleth maps in geopandas. \n",
    "\n",
    "* [geopandas choropleth maps](https://geopandas.org/mapping.html#choropleth-maps)\n",
    "* [color schemes with mapclassify](https://pysal.org/notebooks/viz/mapclassify/intro.html)\n",
    "  * `natural_breaks`\n",
    "  * `equal_interval`\n",
    "  * `quantiles`\n",
    "  * etc..."
   ]
  },
  {
   "cell_type": "code",
   "execution_count": null,
   "metadata": {
    "slideshow": {
     "slide_type": "slide"
    }
   },
   "outputs": [],
   "source": [
    "# The value passed into the `column` parameter specifies which column's values are plotted\n",
    "gdf.plot(figsize=(12,10),\n",
    "         column='Percent Hispanic',\n",
    "         legend=True,\n",
    "         scheme='NaturalBreaks')"
   ]
  },
  {
   "cell_type": "code",
   "execution_count": null,
   "metadata": {
    "slideshow": {
     "slide_type": "slide"
    }
   },
   "outputs": [],
   "source": [
    "# Note the different scheme to make for equal breaks in the color legend.\n",
    "gdf.plot(figsize=(12,10),\n",
    "         column='Percent Hispanic',\n",
    "         legend=True,\n",
    "         scheme='equal_interval')"
   ]
  },
  {
   "cell_type": "code",
   "execution_count": null,
   "metadata": {
    "slideshow": {
     "slide_type": "slide"
    }
   },
   "outputs": [],
   "source": [
    "# And you can also plot different quantiles of the data\n",
    "gdf.plot(figsize=(12,10),\n",
    "         column='Percent Hispanic',\n",
    "         legend=True,\n",
    "         scheme='quantiles')"
   ]
  },
  {
   "cell_type": "markdown",
   "metadata": {
    "slideshow": {
     "slide_type": "slide"
    }
   },
   "source": [
    "## Using subplots to create multiple plots\n",
    "\n",
    "It is often useful to generate multiple plots next to each other. To do so, we look at matplotlib's `subplot` command:\n",
    "\n",
    "- https://matplotlib.org/stable/api/_as_gen/matplotlib.pyplot.subplots.html"
   ]
  },
  {
   "cell_type": "code",
   "execution_count": null,
   "metadata": {
    "slideshow": {
     "slide_type": "slide"
    }
   },
   "outputs": [],
   "source": [
    "# create the 1x2 subplots\n",
    "fig, ax = plt.subplots(1, 2, figsize=(15, 12))\n",
    "\n",
    "# name each subplot\n",
    "ax1, ax2 = ax\n",
    "\n",
    "# regular count map on the left\n",
    "gdf.plot(column='Percent Hispanic', \n",
    "            cmap='RdYlGn_r', \n",
    "            scheme='quantiles',\n",
    "            k=5, \n",
    "            edgecolor='white', \n",
    "            linewidth=0., \n",
    "            alpha=0.75, \n",
    "            ax=ax1, # this assigns the map to the subplot,\n",
    "            legend=True\n",
    "            )\n",
    "\n",
    "ax1.axis(\"off\")\n",
    "ax1.set_title(\"Percent Hispanic\")\n",
    "\n",
    "# spatial lag map on the right\n",
    "gdf.plot(column='Percent Non Hispanic Black', \n",
    "            cmap='RdYlGn_r', \n",
    "            scheme='quantiles',\n",
    "            k=5, \n",
    "            edgecolor='white', \n",
    "            linewidth=0., \n",
    "            alpha=0.75, \n",
    "            ax=ax2, # this assigns the map to the subplot\n",
    "            legend=True\n",
    "            )\n",
    "\n",
    "ax2.axis(\"off\")\n",
    "ax2.set_title(\"Percent Non Hispanic Black\")"
   ]
  },
  {
   "cell_type": "markdown",
   "metadata": {
    "slideshow": {
     "slide_type": "slide"
    }
   },
   "source": [
    "<div class=\"alert alert-info\">\n",
    "\n",
    "Now it's your turn! Create map plots based on other race indicators. Experiment with the different schemes to display variations of the same data, mapped differently.\n",
    "\n",
    "</div>"
   ]
  },
  {
   "cell_type": "code",
   "execution_count": null,
   "metadata": {},
   "outputs": [],
   "source": []
  },
  {
   "cell_type": "markdown",
   "metadata": {
    "slideshow": {
     "slide_type": "slide"
    }
   },
   "source": [
    "## Additional mapping ideas\n",
    "What does the majority ethnic cluster look like in Los Angeles?"
   ]
  },
  {
   "cell_type": "code",
   "execution_count": null,
   "metadata": {},
   "outputs": [],
   "source": [
    "gdf[gdf['Percent Hispanic'] > 80]"
   ]
  },
  {
   "cell_type": "code",
   "execution_count": null,
   "metadata": {
    "slideshow": {
     "slide_type": "slide"
    }
   },
   "outputs": [],
   "source": [
    "gdf[gdf['Percent Hispanic'] > 90].plot(figsize=(12,10))"
   ]
  },
  {
   "cell_type": "markdown",
   "metadata": {
    "slideshow": {
     "slide_type": "slide"
    }
   },
   "source": [
    "<div class=\"alert alert-info\">\n",
    "\n",
    "Now it's your turn! Create map plots based on other race indicators with varying segments of the population.\n",
    "\n",
    "</div>"
   ]
  },
  {
   "cell_type": "code",
   "execution_count": null,
   "metadata": {},
   "outputs": [],
   "source": []
  },
  {
   "cell_type": "markdown",
   "metadata": {
    "slideshow": {
     "slide_type": "slide"
    }
   },
   "source": [
    "## Add a basemap\n",
    "\n",
    "Adding a basemap to a geopandas plot can be done using the [contextily library](https://contextily.readthedocs.io/en/latest/intro_guide.html). To do so, you must:\n",
    "\n",
    "* reproject your geodataframe to Web Mercator (epsg: 3857)\n",
    "* add a basemap, use the following [guidelines](https://github.com/geopandas/contextily/blob/master/notebooks/providers_deepdive.ipynb)"
   ]
  },
  {
   "cell_type": "code",
   "execution_count": null,
   "metadata": {},
   "outputs": [],
   "source": [
    "# reproject to Web Mercator\n",
    "gdf_web_mercator = gdf.to_crs(epsg=3857)"
   ]
  },
  {
   "cell_type": "code",
   "execution_count": null,
   "metadata": {},
   "outputs": [],
   "source": [
    "# use subplots that make it easier to create multiple layered maps\n",
    "fig, ax = plt.subplots(figsize=(15, 15))\n",
    "\n",
    "# add the layer with ax=ax in the argument \n",
    "gdf_web_mercator[gdf_web_mercator['Percent Hispanic'] > 50].plot(ax=ax, alpha=0.8)\n",
    "\n",
    "# turn the axis off\n",
    "ax.axis('off')\n",
    "\n",
    "# set a title\n",
    "ax.set_title('Census Tracts with more than 50% Hispanic Population',fontsize=16)\n",
    "\n",
    "# add a basemap\n",
    "ctx.add_basemap(ax,\n",
    "                source=ctx.providers.OpenStreetMap.Mapnik)"
   ]
  },
  {
   "cell_type": "markdown",
   "metadata": {
    "slideshow": {
     "slide_type": "slide"
    }
   },
   "source": [
    "<div class=\"alert alert-info\">\n",
    "\n",
    "Now it's your turn! Make other maps to which you add the base map, and play around with the aesthetics, such as colors and schemes for plotting quantiles.\n",
    "\n",
    "</div>"
   ]
  },
  {
   "cell_type": "code",
   "execution_count": null,
   "metadata": {},
   "outputs": [],
   "source": []
  }
 ],
 "metadata": {
  "kernelspec": {
   "display_name": "Python 3 (ipykernel)",
   "language": "python",
   "name": "python3"
  },
  "language_info": {
   "codemirror_mode": {
    "name": "ipython",
    "version": 3
   },
   "file_extension": ".py",
   "mimetype": "text/x-python",
   "name": "python",
   "nbconvert_exporter": "python",
   "pygments_lexer": "ipython3",
   "version": "3.10.15"
  },
  "toc": {
   "base_numbering": 1,
   "nav_menu": {},
   "number_sections": true,
   "sideBar": true,
   "skip_h1_title": false,
   "title_cell": "Table of Contents",
   "title_sidebar": "Contents",
   "toc_cell": true,
   "toc_position": {
    "height": "calc(100% - 180px)",
    "left": "10px",
    "top": "150px",
    "width": "350.797px"
   },
   "toc_section_display": true,
   "toc_window_display": false
  }
 },
 "nbformat": 4,
 "nbformat_minor": 4
}
