{
 "cells": [
  {
   "cell_type": "markdown",
   "id": "73881069",
   "metadata": {},
   "source": [
    "# Making our first maps"
   ]
  },
  {
   "cell_type": "markdown",
   "id": "454214ae-bc7d-4504-b5ef-572758882e95",
   "metadata": {},
   "source": [
    "We will start simple.  \n",
    "\n",
    "And introduce ourselves to some new Python libraries: `folium`, `geopandas`, and `contextily`!\n",
    "\n",
    "* [folium documentation](https://python-visualization.github.io/folium/quickstart.html)\n",
    "* [geopandas documentation](https://geopandas.readthedocs.io/en/latest/gallery/index.html)\n",
    "* [contextily documentation](https://contextily.readthedocs.io/en/latest/intro_guide.html)"
   ]
  },
  {
   "cell_type": "code",
   "execution_count": null,
   "id": "b747fa9e-b296-4b30-9f5c-e028c3b655fc",
   "metadata": {},
   "outputs": [],
   "source": [
    "import pandas as pd\n",
    "import matplotlib.pyplot as plt\n",
    "\n",
    "# Our new mapping libraries\n",
    "import folium\n",
    "import geopandas as gpd\n",
    "import contextily as ctx"
   ]
  },
  {
   "cell_type": "markdown",
   "id": "a310aef2-3564-4731-8fc5-fa91efd2dbc5",
   "metadata": {},
   "source": [
    "I have made an ultra-simple csv data file that contains the locations of UCLA and 3 airports, along with a fictitious numerical value called \"Score\"."
   ]
  },
  {
   "cell_type": "code",
   "execution_count": null,
   "id": "0bed4df7-01cd-4418-a7e3-c2ab67b6b66e",
   "metadata": {},
   "outputs": [],
   "source": [
    "# note that you will need to specify the proper data directory \n",
    "# this path assumes your current directory is UCLAX-24Fall-EDA/Notebooks/Week06/ \n",
    "\n",
    "df = pd.read_csv('../../Data/airport.csv')"
   ]
  },
  {
   "cell_type": "code",
   "execution_count": null,
   "id": "880c978b-926c-4c7e-b6f3-233e4b7865bf",
   "metadata": {},
   "outputs": [],
   "source": [
    "df"
   ]
  },
  {
   "cell_type": "markdown",
   "id": "a61e8a78-a183-4154-a850-b7b2f6c207b6",
   "metadata": {},
   "source": [
    "Making a map with `folium` is easy."
   ]
  },
  {
   "cell_type": "code",
   "execution_count": null,
   "id": "abde06dd-122c-4e82-b2cc-d09cdd115a5c",
   "metadata": {},
   "outputs": [],
   "source": [
    "# default folium map\n",
    "m = folium.Map()\n",
    "m"
   ]
  },
  {
   "cell_type": "markdown",
   "id": "92b9bb8b-26b4-4173-9cb3-52c0da7ff618",
   "metadata": {},
   "source": [
    "To center it on our region of interest, let's first get the average latitude and longitude values."
   ]
  },
  {
   "cell_type": "code",
   "execution_count": null,
   "id": "9b8edc51-cb9b-425e-bf8b-1c42fd68ea3c",
   "metadata": {
    "slideshow": {
     "slide_type": "fragment"
    },
    "tags": []
   },
   "outputs": [],
   "source": [
    "# average latitude\n",
    "latitude = df['Latitude'].mean()\n",
    "latitude"
   ]
  },
  {
   "cell_type": "code",
   "execution_count": null,
   "id": "e0974b87-4ec8-4eb3-97d0-39ca77046960",
   "metadata": {
    "slideshow": {
     "slide_type": "fragment"
    }
   },
   "outputs": [],
   "source": [
    "# average longitude\n",
    "longitude = df['Longitude'].mean()\n",
    "longitude"
   ]
  },
  {
   "cell_type": "code",
   "execution_count": null,
   "id": "10392cc8-515e-44b0-a43a-1902da7d735b",
   "metadata": {},
   "outputs": [],
   "source": [
    "# Here is a map centered on the average lat/lon calculated above\n",
    "m = folium.Map(location=[latitude,longitude])\n",
    "m"
   ]
  },
  {
   "cell_type": "markdown",
   "id": "b99c4dba-ecdf-4401-b59f-1811a2b51f55",
   "metadata": {},
   "source": [
    "To retrieve the points of interest, we can iterate over the rows of our dataframe."
   ]
  },
  {
   "cell_type": "code",
   "execution_count": null,
   "id": "7d75221d-9d90-4f19-8683-cec8d743dd37",
   "metadata": {},
   "outputs": [],
   "source": [
    "for index, row in df.iterrows():\n",
    "   print([row.Latitude, row.Longitude])"
   ]
  },
  {
   "cell_type": "code",
   "execution_count": null,
   "id": "8d044e33-a585-4dc2-bde6-06ad1d76c9c5",
   "metadata": {},
   "outputs": [],
   "source": [
    "# now we'll add the points to the map\n",
    "for index, row in df.iterrows():\n",
    "   folium.Marker([row.Latitude, row.Longitude]).add_to(m)\n",
    "m"
   ]
  },
  {
   "cell_type": "markdown",
   "id": "6e0a4837-69d3-4ff1-96e6-8adb0baea973",
   "metadata": {},
   "source": [
    "We are also going to be working with geometrical objects with the Python library called `geopandas`.  More on this particular library soon!\n",
    "\n",
    "Whenever you bring data into a Jupyter notebook that is in a json or csv format, if the data contains separate columns for latitude and longitude, you can convert the data into a \"geo\"dataframe for mapping purposes.\n",
    "\n",
    "*Note*: If the data has latitude and longitude coordinates, it is a geographic coordinate system (GCS) with a crs code epsg:4326."
   ]
  },
  {
   "cell_type": "code",
   "execution_count": null,
   "id": "6b046c3e-e241-4b04-b5fb-d822553eb4d8",
   "metadata": {},
   "outputs": [],
   "source": [
    "from shapely.geometry import Point"
   ]
  },
  {
   "cell_type": "code",
   "execution_count": null,
   "id": "604be761-dc1a-449b-92c7-58ed60e95362",
   "metadata": {},
   "outputs": [],
   "source": [
    "geometry = [Point(loc) for loc in zip(df.Longitude, df.Latitude)]\n",
    "gdf = gpd.GeoDataFrame(df, crs=\"EPSG:4326\", geometry=geometry)"
   ]
  },
  {
   "cell_type": "code",
   "execution_count": null,
   "id": "3460fc26-31f4-483c-acf7-2b38b66a31ab",
   "metadata": {},
   "outputs": [],
   "source": [
    "gdf"
   ]
  },
  {
   "cell_type": "code",
   "execution_count": null,
   "id": "a9aacc40-5931-4931-a02b-1490aae1a004",
   "metadata": {},
   "outputs": [],
   "source": [
    "gdf.crs"
   ]
  },
  {
   "cell_type": "code",
   "execution_count": null,
   "id": "5f42f2d4-de8f-490e-bcb3-c4586d0b2f1c",
   "metadata": {},
   "outputs": [],
   "source": [
    "gdf.plot()"
   ]
  },
  {
   "cell_type": "code",
   "execution_count": null,
   "id": "ea62a57d-b44b-4357-a4fd-56494a648f89",
   "metadata": {},
   "outputs": [],
   "source": [
    "# reproject to Web Mercator to layer our points on top of a base map\n",
    "gdf_web_mercator = gdf.to_crs(epsg=3857)"
   ]
  },
  {
   "cell_type": "code",
   "execution_count": null,
   "id": "7204da24-f6cf-47c0-909d-d218797fe44d",
   "metadata": {},
   "outputs": [],
   "source": [
    "gdf_web_mercator.plot()"
   ]
  },
  {
   "cell_type": "code",
   "execution_count": null,
   "id": "dc8df170-c7d8-4077-8873-250134d5eada",
   "metadata": {},
   "outputs": [],
   "source": [
    "fig,ax = plt.subplots(figsize=(17, 17))\n",
    "gdf_web_mercator.plot(ax=ax,column='Score',\n",
    "                      cmap='rainbow',\n",
    "                      edgecolor='black',\n",
    "                      legend=True)\n",
    "ctx.add_basemap(ax, \n",
    "                source=ctx.providers.OpenStreetMap.Mapnik)"
   ]
  },
  {
   "cell_type": "markdown",
   "id": "5e2ac8bf-4ed2-4c13-89a8-058310b96611",
   "metadata": {},
   "source": [
    "We will later make a choropleth map with Tableau, so let's make one here to see it done too.\n",
    "\n",
    "*Note*: \"choro\"pleth, not \"chloro\"pleth."
   ]
  },
  {
   "cell_type": "code",
   "execution_count": null,
   "id": "d04f1a14-cc6c-49e3-b369-7578befb3bb5",
   "metadata": {},
   "outputs": [],
   "source": [
    "url = (\n",
    "    \"https://raw.githubusercontent.com/python-visualization/folium/master/examples/data\"\n",
    ")\n",
    "state_geo = f\"{url}/us-states.json\"\n",
    "state_unemployment = f\"{url}/US_Unemployment_Oct2012.csv\"\n",
    "state_data = pd.read_csv(state_unemployment)"
   ]
  },
  {
   "cell_type": "code",
   "execution_count": null,
   "id": "298d6de4-50de-4bb5-a476-5879b8c0d9da",
   "metadata": {},
   "outputs": [],
   "source": [
    "state_geo"
   ]
  },
  {
   "cell_type": "code",
   "execution_count": null,
   "id": "84d58a4c-b6ef-48d6-8fae-b08cffcb28fc",
   "metadata": {
    "tags": []
   },
   "outputs": [],
   "source": [
    "state_data"
   ]
  },
  {
   "cell_type": "code",
   "execution_count": null,
   "id": "cc0fc2b4-b571-44b9-8254-22c8c642a449",
   "metadata": {},
   "outputs": [],
   "source": [
    "m = folium.Map(location=[48, -102], zoom_start=3)\n",
    "m"
   ]
  },
  {
   "cell_type": "code",
   "execution_count": null,
   "id": "13919421-a53f-4e77-8916-d56e5975ac0f",
   "metadata": {},
   "outputs": [],
   "source": [
    "folium.Choropleth(\n",
    "    geo_data=state_geo,\n",
    "    data=state_data,\n",
    "    columns=[\"State\", \"Unemployment\"],\n",
    "    legend_name=\"Unemployment Rate (%)\",\n",
    "    key_on=\"feature.id\",\n",
    "    fill_color=\"YlGn\",\n",
    ").add_to(m)\n",
    "\n",
    "m"
   ]
  }
 ],
 "metadata": {
  "kernelspec": {
   "display_name": "Python 3 (ipykernel)",
   "language": "python",
   "name": "python3"
  },
  "language_info": {
   "codemirror_mode": {
    "name": "ipython",
    "version": 3
   },
   "file_extension": ".py",
   "mimetype": "text/x-python",
   "name": "python",
   "nbconvert_exporter": "python",
   "pygments_lexer": "ipython3",
   "version": "3.10.15"
  }
 },
 "nbformat": 4,
 "nbformat_minor": 5
}
