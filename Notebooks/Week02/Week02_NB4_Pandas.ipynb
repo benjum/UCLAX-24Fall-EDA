{
  "cells": [
    {
      "cell_type": "markdown",
      "id": "38c582f8",
      "metadata": {},
      "source": "<img src='https://pandas.pydata.org/docs/_static/pandas.svg' width=500>"
    },
    {
      "cell_type": "markdown",
      "id": "c39a8685",
      "metadata": {},
      "source": "https://pandas.pydata.org/\n\nPandas data-manipulation capabilities are built on top of NumPy, utilizing its fast array processing, and its graphing capabilities are built on top of Matplotlib.\n\n* \"pandas is a fast, powerful, flexible and easy to use open source data analysis and manipulation tool, built on top of the Python programming language.\"\n\n* It may be one of the most widely used tools for data munging\n\n  * present data in nice formats\n  * multiple convenient methods for filtering data\n  * work with a variety of data formats (CSV, Excel, …)\n  * convenient functions for quickly plotting data\n\n* The name comes from panel data (and is also a play on python data analysis)"
    },
    {
      "cell_type": "markdown",
      "id": "c34708d6-6e7b-420f-8430-734a177237bb",
      "metadata": {},
      "source": "Import the library:"
    },
    {
      "cell_type": "code",
      "execution_count": null,
      "id": "5c7cf350-a58e-4e82-8632-d7636d9d0f9b",
      "metadata": {
        "trusted": true
      },
      "outputs": [],
      "source": "import pandas as pd"
    },
    {
      "cell_type": "markdown",
      "id": "5081523c-3b87-4bf5-a664-df2faab10953",
      "metadata": {},
      "source": "Import the data:"
    },
    {
      "cell_type": "code",
      "execution_count": null,
      "id": "d8174eb1-ba32-4696-ac5f-f84ed52e0b75",
      "metadata": {
        "trusted": true
      },
      "outputs": [],
      "source": "dinodata = pd.read_csv('https://raw.githubusercontent.com/benjum/UCLAX-24Fall-EDA/main/Data/DatasaurusDozen.csv')"
    },
    {
      "cell_type": "markdown",
      "id": "07d7e42d-7587-4d83-a685-79971f16dde9",
      "metadata": {},
      "source": "Look at some data values:"
    },
    {
      "cell_type": "code",
      "execution_count": null,
      "id": "84a8f694-9395-422b-94ec-98e1acb788e7",
      "metadata": {
        "trusted": true
      },
      "outputs": [],
      "source": "dinodata"
    },
    {
      "cell_type": "markdown",
      "id": "4f440180-a53c-456a-9899-df71ca398334",
      "metadata": {},
      "source": "Making a scatter plot of the data in the `x` and `y` columns is easy:"
    },
    {
      "cell_type": "code",
      "execution_count": null,
      "id": "661651f8-b0df-4baf-878e-5474f74d5766",
      "metadata": {
        "trusted": true
      },
      "outputs": [],
      "source": "dinodata.plot.scatter(x = 'x', y = 'y')"
    },
    {
      "cell_type": "markdown",
      "id": "0f3963af-44c3-4a17-a225-8151aa49f75f",
      "metadata": {},
      "source": "# What are we looking at?\n\nThe above command looks easy, but there's more to the data than this.\n\nFirst let's cover a couple things about Pandas."
    },
    {
      "cell_type": "markdown",
      "id": "ab668232-7ddd-493e-9252-fc2410d6cbd7",
      "metadata": {},
      "source": "## Basic data structures in Pandas"
    },
    {
      "cell_type": "markdown",
      "id": "4eb0ac32-2f4d-4afe-9793-7f3e4ccedeaf",
      "metadata": {},
      "source": "Python can store values in a variety of data structures: single variables, lists, dictionaries, sets, etc.  \n\nPandas has two key data structures for storing Python variables:\n\n1. Series\n    * 1D\n    * Like an array\n    * Items are labeled by an index\n2. Dataframes\n    * 2D\n    * Like a spreadsheet\n    * Items are labeled by an index (row label) and column name"
    },
    {
      "cell_type": "markdown",
      "id": "f48e2569-d009-4881-9ae8-f53aa5c8ecb2",
      "metadata": {},
      "source": "`dinodata` is a dataframe:"
    },
    {
      "cell_type": "code",
      "execution_count": null,
      "id": "63571837-2506-415b-b36c-cc2a090407c8",
      "metadata": {
        "trusted": true
      },
      "outputs": [],
      "source": "dinodata"
    },
    {
      "cell_type": "markdown",
      "id": "5c309406-5207-459b-876e-fab47b570a39",
      "metadata": {},
      "source": "* `head(n)`: show us the first `n` rows (5 by default)\n* `tail(n)`: show us the last `n` rows (5 by default)\n* `info()` : a range of summary info"
    },
    {
      "cell_type": "code",
      "execution_count": null,
      "id": "bc03fdd2-6789-43e2-8d6a-58d7573c4beb",
      "metadata": {
        "trusted": true
      },
      "outputs": [],
      "source": "dinodata.head()"
    },
    {
      "cell_type": "code",
      "execution_count": null,
      "id": "a2187be7-7d76-46bf-9e72-ed5ce4007f44",
      "metadata": {
        "trusted": true
      },
      "outputs": [],
      "source": "dinodata.tail()"
    },
    {
      "cell_type": "code",
      "execution_count": null,
      "id": "d1c264e7-d7c5-40c8-b020-3db492211702",
      "metadata": {
        "trusted": true
      },
      "outputs": [],
      "source": "dinodata.info()"
    },
    {
      "cell_type": "markdown",
      "id": "0f1d57c3-e7c6-4697-a25d-e97a83694c3d",
      "metadata": {},
      "source": "There are several other useful dataframe attributes and methods that will allow you to get summary info:\n* `columns` : column names\n* `dtypes` : data types of the columns (dataframes can hold different datatypes in different columns)\n* `index` : information about the row indices (they don't have to be numerical)\n* `shape` : the size of the dataframe in each dimension\n* `describe()` : basic statistics about the data columns"
    },
    {
      "cell_type": "code",
      "execution_count": null,
      "id": "d46e532c-703c-4f6f-99a9-90e0fa9c2603",
      "metadata": {
        "trusted": true
      },
      "outputs": [],
      "source": "dinodata.columns"
    },
    {
      "cell_type": "code",
      "execution_count": null,
      "id": "7cfc536e-78a8-40a5-92e4-ef1e979e5c45",
      "metadata": {
        "trusted": true
      },
      "outputs": [],
      "source": "dinodata.dtypes"
    },
    {
      "cell_type": "code",
      "execution_count": null,
      "id": "9233336d-5f99-49cd-ac48-e5bc167bcaba",
      "metadata": {
        "trusted": true
      },
      "outputs": [],
      "source": "dinodata.index"
    },
    {
      "cell_type": "code",
      "execution_count": null,
      "id": "09df7f3c-3d6e-4d94-9cd2-798d76d5ace9",
      "metadata": {
        "trusted": true
      },
      "outputs": [],
      "source": "dinodata.shape"
    },
    {
      "cell_type": "code",
      "execution_count": null,
      "id": "773b68b5",
      "metadata": {
        "trusted": true
      },
      "outputs": [],
      "source": "dinodata.shape[0]"
    },
    {
      "cell_type": "code",
      "execution_count": null,
      "id": "49f84539-053f-4b0b-8d29-0c8c2b166cb1",
      "metadata": {
        "trusted": true
      },
      "outputs": [],
      "source": "dinodata.describe()"
    },
    {
      "cell_type": "code",
      "execution_count": null,
      "id": "f5ab5a63-62c3-4a14-8dd0-930b72f34381",
      "metadata": {
        "trusted": true
      },
      "outputs": [],
      "source": "dinodata.describe(include = 'all')"
    },
    {
      "cell_type": "markdown",
      "id": "01d163cf-0ec8-4276-ba19-eab2c84193e1",
      "metadata": {},
      "source": "If you select one of the columns of `dinodata` you'll get a Series in return:"
    },
    {
      "cell_type": "code",
      "execution_count": null,
      "id": "02177de4-2181-446b-ba1a-e34d3c74db7c",
      "metadata": {
        "trusted": true
      },
      "outputs": [],
      "source": "dinodata['dataset']"
    },
    {
      "cell_type": "markdown",
      "id": "f9b4c265-abf1-4c7e-a1d8-e38dbb686f9b",
      "metadata": {},
      "source": "## Selecting data from a dataframe"
    },
    {
      "cell_type": "markdown",
      "id": "11f2684d-1d32-4609-8259-9ae79b3480b6",
      "metadata": {},
      "source": "If you have a dataframe `df` and want to look at a specific column `columnname`, use `df['columnname']`"
    },
    {
      "cell_type": "code",
      "execution_count": null,
      "id": "72181289-829e-49c8-8478-b21b8c0b2fc8",
      "metadata": {
        "trusted": true
      },
      "outputs": [],
      "source": "dinodata['x']"
    },
    {
      "cell_type": "markdown",
      "id": "b08b7e5a-decb-4149-b002-5ea383d49c53",
      "metadata": {},
      "source": "Dataframe can have both numerical- and label-based indices.  There is specific data retrieval syntax that accommodates this."
    },
    {
      "cell_type": "code",
      "execution_count": null,
      "id": "eb8bd01e-d6ae-44d8-9b4b-f2d0b8f36f47",
      "metadata": {
        "trusted": true
      },
      "outputs": [],
      "source": "# This will give an error!\ndinodata[0]"
    },
    {
      "cell_type": "code",
      "execution_count": null,
      "id": "c49616ea-73aa-4527-a38d-1141dced979a",
      "metadata": {
        "trusted": true
      },
      "outputs": [],
      "source": "# This will not give an error\ndinodata[0:1]"
    },
    {
      "cell_type": "markdown",
      "id": "a3d9873a-51d2-46c0-a7b5-dc3d76739f6b",
      "metadata": {},
      "source": "It's best to stick with `loc` and `iloc` for the moment to index dataframes.\n* `loc` : label-based indexing (which can look numerical if the row index is a number)\n* `iloc` : numerical indexing"
    },
    {
      "cell_type": "code",
      "execution_count": null,
      "id": "dc263990",
      "metadata": {
        "trusted": true
      },
      "outputs": [],
      "source": "dinodata"
    },
    {
      "cell_type": "code",
      "execution_count": null,
      "id": "9f4190b2-9391-4153-bae0-3a81385854ce",
      "metadata": {
        "trusted": true
      },
      "outputs": [],
      "source": "# the first row;\n# return value is a Series\n\ndinodata.loc[0]"
    },
    {
      "cell_type": "code",
      "execution_count": null,
      "id": "dfdb0e00-aca7-4a90-bcf1-36beb8807053",
      "metadata": {
        "trusted": true
      },
      "outputs": [],
      "source": "# the first row;\n# return value is a Dataframe (note the index is [0])\n\ndinodata.loc[[0]]"
    },
    {
      "cell_type": "code",
      "execution_count": null,
      "id": "f51a7d04-7535-486b-a2fe-f71e842cbddf",
      "metadata": {
        "trusted": true
      },
      "outputs": [],
      "source": "# the first two rows;\n# return value is a Dataframe (the index is a list [0,1])\n\ndinodata.loc[[0,1]]"
    },
    {
      "cell_type": "code",
      "execution_count": null,
      "id": "bc49222f-18e5-4043-9665-d1d4813ed6e0",
      "metadata": {
        "trusted": true
      },
      "outputs": [],
      "source": "# indexing both the row and column\n\ndinodata.loc[0,'x']"
    },
    {
      "cell_type": "code",
      "execution_count": null,
      "id": "03920406-6ee5-4c21-998f-e9159c6c3521",
      "metadata": {
        "trusted": true
      },
      "outputs": [],
      "source": "# indexing both the row and column\n# and returning a dataframe\n\ndinodata.loc[[0],['x']]"
    },
    {
      "cell_type": "code",
      "execution_count": null,
      "id": "00491324-dd05-4a48-b0bf-cdf6fd944a26",
      "metadata": {
        "trusted": true
      },
      "outputs": [],
      "source": "# you can use lists for the indices\n\ndinodata.loc[[0],['x','y']]"
    },
    {
      "cell_type": "code",
      "execution_count": null,
      "id": "aceed6e3-7194-463f-a4d6-f9cd6cde65ac",
      "metadata": {
        "trusted": true
      },
      "outputs": [],
      "source": "dinodata.loc[[0,10],['x','y']]"
    },
    {
      "cell_type": "markdown",
      "id": "e98c7921-6c58-4158-8b9b-3398d1f06d6f",
      "metadata": {},
      "source": "`iloc` is useful when you instead want to index numerically."
    },
    {
      "cell_type": "code",
      "execution_count": null,
      "id": "0d70586d-940f-4e7f-a802-a92578633944",
      "metadata": {
        "trusted": true
      },
      "outputs": [],
      "source": "dinodata.iloc[0]"
    },
    {
      "cell_type": "markdown",
      "id": "21a941ed-b6cf-4715-a709-8bf4b2d5c75a",
      "metadata": {},
      "source": "Before you execute the below, try to predict whether it will return a Series or a Dataframe."
    },
    {
      "cell_type": "code",
      "execution_count": null,
      "id": "fc19f162-edd3-4e13-a889-48b0f24cfcd5",
      "metadata": {
        "trusted": true
      },
      "outputs": [],
      "source": "dinodata.iloc[1]"
    },
    {
      "cell_type": "code",
      "execution_count": null,
      "id": "ec4ca2b2-3b79-4205-83fc-60259bb121e3",
      "metadata": {
        "trusted": true
      },
      "outputs": [],
      "source": "dinodata.iloc[[1]]"
    },
    {
      "cell_type": "code",
      "execution_count": null,
      "id": "f26c14d9-8616-47f8-977b-ed3ea60ddafd",
      "metadata": {
        "trusted": true
      },
      "outputs": [],
      "source": "dinodata.iloc[0:1]"
    },
    {
      "cell_type": "code",
      "execution_count": null,
      "id": "65a577fa-5ffa-449f-974f-5cd95edb4495",
      "metadata": {
        "trusted": true
      },
      "outputs": [],
      "source": "dinodata.iloc[0:4]"
    },
    {
      "cell_type": "code",
      "execution_count": null,
      "id": "3f6ed945-c94f-436c-9f2b-17e621b8040c",
      "metadata": {
        "trusted": true
      },
      "outputs": [],
      "source": "# this will give an error! you can't use a label-based index like 'x' with iloc\n\ndinodata.iloc[0:4,'x']"
    },
    {
      "cell_type": "code",
      "execution_count": null,
      "id": "6385f0fe-f99c-4e45-b179-d4a7c92ce474",
      "metadata": {
        "trusted": true
      },
      "outputs": [],
      "source": "# instead of referncing the column with 'x'\n# iloc indexes it numerically\n\ndinodata.iloc[0:4, 1]"
    },
    {
      "cell_type": "code",
      "execution_count": null,
      "id": "348fcd11-cf78-4630-9c4c-232c35332ee5",
      "metadata": {
        "trusted": true
      },
      "outputs": [],
      "source": "dinodata.iloc[[0,1,2,3],[1]]"
    },
    {
      "cell_type": "code",
      "execution_count": null,
      "id": "fa818ade-3efc-46f0-8fbf-1f56f7d6f0f8",
      "metadata": {
        "trusted": true
      },
      "outputs": [],
      "source": "dinodata.iloc[0,0]"
    },
    {
      "cell_type": "code",
      "execution_count": null,
      "id": "48f927be-895a-479b-a689-fd2691cfc3d2",
      "metadata": {
        "trusted": true
      },
      "outputs": [],
      "source": "dinodata.loc[0,'dataset']"
    },
    {
      "cell_type": "markdown",
      "id": "0c17cd76-3961-48a6-b9fd-d57ed8e85232",
      "metadata": {},
      "source": "## What's the data for 'dataset' == 'dino'?  Boolean indexing"
    },
    {
      "cell_type": "markdown",
      "id": "bcb6b41c-db3e-4a44-8a77-059e9753d358",
      "metadata": {},
      "source": "It is useful to be able to get elements where certain conditions are true.\n\nLike here, we may want to get only those rows that are part of the 'dino' dataset."
    },
    {
      "cell_type": "markdown",
      "id": "431bcd10-02d2-41ee-bdc3-0c1225f449e2",
      "metadata": {},
      "source": "This can be accomplished with boolean indexing, where the index is a True/False condition, and there is one such value for every row."
    },
    {
      "cell_type": "markdown",
      "id": "aa427e6b-ba45-4f97-ad92-510b817b7822",
      "metadata": {},
      "source": "The following sets up the boolean series of True/False values for every row."
    },
    {
      "cell_type": "code",
      "execution_count": null,
      "id": "fe1c3ecf-6d8d-4282-b3b2-41b4ed29ef30",
      "metadata": {
        "trusted": true
      },
      "outputs": [],
      "source": "dinodata['dataset'] == 'dino'"
    },
    {
      "cell_type": "markdown",
      "id": "9c28528c-ac92-4062-9752-8d42a84bf26f",
      "metadata": {},
      "source": "We can use that as the index to dinodata, i.e., for any dataframe `df` we can use `df[condition]` to get only those rows where `condition` is True"
    },
    {
      "cell_type": "code",
      "execution_count": null,
      "id": "0e83273b-cc9b-4553-95d6-dc725334342f",
      "metadata": {
        "trusted": true
      },
      "outputs": [],
      "source": "dinodata[dinodata['dataset'] == 'dino']"
    },
    {
      "cell_type": "code",
      "execution_count": null,
      "id": "36b9c2e7-9f81-4da2-b4de-5cf0db18d16f",
      "metadata": {
        "trusted": true
      },
      "outputs": [],
      "source": "# Check:  What is the condition in the above command?\n# Write it here and execute:\n\n"
    },
    {
      "cell_type": "markdown",
      "id": "d60c2557-a92f-46da-957e-104e21d5b900",
      "metadata": {},
      "source": "Boolean indexing also works as the index when using `loc`"
    },
    {
      "cell_type": "code",
      "execution_count": null,
      "id": "e5bfc5d7-bf3e-4004-b2b9-df3f1ee3a2a6",
      "metadata": {
        "trusted": true
      },
      "outputs": [],
      "source": "dinodata.loc[dinodata['dataset'] == 'dino']"
    },
    {
      "cell_type": "code",
      "execution_count": null,
      "id": "2c2c15de-2b88-41f6-acc1-531b51bb9085",
      "metadata": {
        "trusted": true
      },
      "outputs": [],
      "source": "dinodata.loc[dinodata['dataset'] == 'circle']"
    },
    {
      "cell_type": "markdown",
      "id": "0f863218-f865-40fd-8687-0eb15348fb05",
      "metadata": {},
      "source": "Note above what happens to the indices.  You should keep in mind this behavior if you want to index the returned result."
    },
    {
      "cell_type": "code",
      "execution_count": null,
      "id": "d9ee2920-6c0d-4714-95c6-063d1e938356",
      "metadata": {
        "trusted": true
      },
      "outputs": [],
      "source": "dinodata.loc[dinodata['dataset'] == 'dino','x']"
    },
    {
      "cell_type": "code",
      "execution_count": null,
      "id": "b65307fd-41ac-44e0-920a-4c436a8ca91b",
      "metadata": {
        "trusted": true
      },
      "outputs": [],
      "source": "dinodata['dataset'].str.startswith('d')"
    },
    {
      "cell_type": "code",
      "execution_count": null,
      "id": "0e459d1f-d571-4528-8e26-84076b35c125",
      "metadata": {
        "trusted": true
      },
      "outputs": [],
      "source": "dinodata.loc[dinodata['dataset'].str.startswith('d')]"
    },
    {
      "cell_type": "code",
      "execution_count": null,
      "id": "8b06ccda-511b-47c5-be1c-161039597bc2",
      "metadata": {
        "trusted": true
      },
      "outputs": [],
      "source": "dinodata.loc[dinodata['dataset'].str.contains('in')]"
    },
    {
      "cell_type": "markdown",
      "id": "8cfbb615-c086-4d1d-b424-822d1059b732",
      "metadata": {},
      "source": "Dataframes have many very useful methods.\n\n... which we will ignore for the moment until next week when we get to exploratory data analysis.\n\nFor now:  plotting!"
    },
    {
      "cell_type": "markdown",
      "id": "ba427813-481e-46f9-acc9-b136306d7eda",
      "metadata": {},
      "source": "## Plotting"
    },
    {
      "cell_type": "markdown",
      "id": "9b597730-177e-484f-bb53-25b3f39def83",
      "metadata": {},
      "source": "Let's make a scatter plot with only the `dino` dataset"
    },
    {
      "cell_type": "code",
      "execution_count": null,
      "id": "564873dc-38b3-47a9-93a0-d3788f4ab0ef",
      "metadata": {
        "trusted": true
      },
      "outputs": [],
      "source": "# How do we get that subset of data?\n\na = dinodata[dinodata['dataset'] == 'dino']"
    },
    {
      "cell_type": "markdown",
      "id": "214f93e9-ac99-48e5-ab31-37fd595131bb",
      "metadata": {},
      "source": "Make a plot:"
    },
    {
      "cell_type": "code",
      "execution_count": null,
      "id": "20fb7155-960b-4684-b182-415c2f74485f",
      "metadata": {
        "trusted": true
      },
      "outputs": [],
      "source": "a.plot(x='x', y='y')"
    },
    {
      "cell_type": "markdown",
      "id": "c95b466b-6e31-4a5f-b0c8-8a2f4162e387",
      "metadata": {},
      "source": "What's with the zig-zags?\n\nBy default, pandas will make a line plot connecting the points, and since the points are plotted out of numerical order, the connecting lines zigs back and forth in the x and y direction."
    },
    {
      "cell_type": "markdown",
      "id": "969043de-bc94-4c47-9c2d-0b934a67dc24",
      "metadata": {},
      "source": "We actually want to plot this as a scatter plot instead of a line plot."
    },
    {
      "cell_type": "code",
      "execution_count": null,
      "id": "e1f3d6a3-8d01-4023-8ce2-6ce22701e59a",
      "metadata": {
        "trusted": true
      },
      "outputs": [],
      "source": "a.plot(x='x', y='y', kind='scatter')"
    },
    {
      "cell_type": "markdown",
      "id": "64fcdef0-2515-46ed-99ac-fd568969ead4",
      "metadata": {},
      "source": "The `kind` parameter makes it very easy to make a variety of different elementary plots:\n\n* `line` : line plot\n* `bar` : vertical bar plot\n* `barh` : horizontal bar plot\n* `hist` : histogram\n* `box` : boxplot\n* `kde` : kernel density estimation plot\n* `density` : same as kde\n* `area` : area plot\n* `pie` : pie plot\n* `scatter` : scatter plot\n* `hexbin` : hexbin plot"
    },
    {
      "cell_type": "code",
      "execution_count": null,
      "id": "9efbe202-028b-4a7d-af55-b203b3ec9085",
      "metadata": {
        "trusted": true
      },
      "outputs": [],
      "source": "a.iloc[0:20].plot(x='x', y='y', kind='bar')"
    },
    {
      "cell_type": "markdown",
      "id": "62d4be8c-649e-46dd-a4b6-ff00fb914267",
      "metadata": {},
      "source": "This, of course, doesn't mean that you don't have to think about what you want to plot before-hand."
    },
    {
      "cell_type": "markdown",
      "id": "a96a65bf-e4d4-4e8a-b247-96da41446d0c",
      "metadata": {},
      "source": "To make things easier, let's look at a subset of data:"
    },
    {
      "cell_type": "code",
      "execution_count": null,
      "id": "576c7ffa-e905-4b26-99cf-50b9110bcc06",
      "metadata": {
        "trusted": true
      },
      "outputs": [],
      "source": "b = a[0:15]"
    },
    {
      "cell_type": "code",
      "execution_count": null,
      "id": "1d6811bc-42c9-49cd-acf0-ab2cec70417b",
      "metadata": {
        "trusted": true
      },
      "outputs": [],
      "source": "b"
    },
    {
      "cell_type": "code",
      "execution_count": null,
      "id": "a90f648d-b915-4b74-b26f-be567e4552a9",
      "metadata": {
        "trusted": true
      },
      "outputs": [],
      "source": "b.plot(x='x', y='y', kind='bar')"
    },
    {
      "cell_type": "markdown",
      "id": "c52d1560-6652-4121-ad83-8511476210dd",
      "metadata": {},
      "source": "Note that pandas does not necessarily try to order the x-axis here for us."
    },
    {
      "cell_type": "code",
      "execution_count": null,
      "id": "eac1850e-409a-447d-984f-d5a66beeed0b",
      "metadata": {
        "trusted": true
      },
      "outputs": [],
      "source": "b.sort_values(by='x')"
    },
    {
      "cell_type": "code",
      "execution_count": null,
      "id": "1987bfe9-4c12-4551-938a-441de51465b4",
      "metadata": {
        "trusted": true
      },
      "outputs": [],
      "source": "b.sort_values(by='x').plot()"
    },
    {
      "cell_type": "code",
      "execution_count": null,
      "id": "64907b8f-af51-4472-ab9f-7b73a94bd8e0",
      "metadata": {
        "trusted": true
      },
      "outputs": [],
      "source": "b.sort_values(by='x').plot(x='x', y='y', kind='bar')"
    },
    {
      "cell_type": "code",
      "execution_count": null,
      "id": "5e58a5f6-2833-498d-8a2a-1382ff4ba488",
      "metadata": {
        "trusted": true
      },
      "outputs": [],
      "source": "b.sort_values(by='x').plot(x='x', y='y', kind='barh')"
    },
    {
      "cell_type": "code",
      "execution_count": null,
      "id": "ba2acaa4-3558-4764-80d2-c204d0382eab",
      "metadata": {
        "trusted": true
      },
      "outputs": [],
      "source": "a.plot(x='x',\n       y='y',\n       kind='scatter')"
    },
    {
      "cell_type": "code",
      "execution_count": null,
      "id": "c0c7c820-2493-41b2-b4cc-53b26856d57b",
      "metadata": {
        "trusted": true
      },
      "outputs": [],
      "source": "a.plot(x='x',\n       y='y',\n       kind='scatter',\n       figsize=(5,5))"
    },
    {
      "cell_type": "code",
      "execution_count": null,
      "id": "7114227f-f1b1-4867-b671-368cd9df717c",
      "metadata": {
        "trusted": true
      },
      "outputs": [],
      "source": "a.plot(x='x',\n       y='y',\n       kind='scatter',\n       figsize=(5,5),\n       xlabel='hdata',\n       ylabel='vdata')"
    },
    {
      "cell_type": "code",
      "execution_count": null,
      "id": "9eb9029c-44e4-4b7e-bafc-d07e0cd4c1aa",
      "metadata": {
        "trusted": true
      },
      "outputs": [],
      "source": "a.plot(x='x',\n       y='y',\n       kind='scatter',\n       figsize=(5,5),\n       xlabel='hdata',\n       ylabel='vdata',\n       color='black')"
    },
    {
      "cell_type": "code",
      "execution_count": null,
      "id": "e20bcba6-84f9-40a5-a4b8-7495813c3c52",
      "metadata": {
        "trusted": true
      },
      "outputs": [],
      "source": "dinodata[dinodata['dataset']=='dino'].plot(x='x',\n       y='y',\n       kind='scatter',\n       figsize=(5,5),\n       xlabel='hdata',\n       ylabel='vdata',\n       color='black')"
    },
    {
      "cell_type": "code",
      "execution_count": null,
      "id": "109e7099-9641-4d87-a2e6-3482ce064a79",
      "metadata": {
        "trusted": true
      },
      "outputs": [],
      "source": "dinodata[dinodata['dataset']=='dino'].plot(x='x',\n       y='y',\n       kind='scatter',\n       figsize=(5,5),\n       xlabel='hdata',\n       ylabel='vdata',\n       color='black')\ndinodata[dinodata['dataset']=='circle'].plot(x='x',\n       y='y',\n       kind='scatter',\n       figsize=(5,5),\n       xlabel='hdata',\n       ylabel='vdata',\n       color='black')"
    },
    {
      "cell_type": "code",
      "execution_count": null,
      "id": "e19e2dd5-7df4-44eb-842a-56ea3c625a74",
      "metadata": {
        "trusted": true
      },
      "outputs": [],
      "source": "ax = dinodata[dinodata['dataset']=='dino'].plot(x='x',\n       y='y',\n       kind='scatter',\n       figsize=(5,5),\n       xlabel='hdata',\n       ylabel='vdata',\n       color='black')\ndinodata[dinodata['dataset']=='circle'].plot(x='x',\n       y='y',\n       kind='scatter',\n       figsize=(5,5),\n       xlabel='hdata',\n       ylabel='vdata',\n       color='black',\n       ax=ax)"
    },
    {
      "cell_type": "markdown",
      "id": "1f90684e-5cd9-4075-8b0f-30ac0be70992",
      "metadata": {},
      "source": "# End"
    }
  ],
  "metadata": {
    "kernelspec": {
      "display_name": "Python 3 (ipykernel)",
      "language": "python",
      "name": "python3"
    },
    "language_info": {
      "codemirror_mode": {
        "name": "ipython",
        "version": 3
      },
      "file_extension": ".py",
      "mimetype": "text/x-python",
      "name": "python",
      "nbconvert_exporter": "python",
      "pygments_lexer": "ipython3",
      "version": "3.11.9"
    }
  },
  "nbformat": 4,
  "nbformat_minor": 5
}