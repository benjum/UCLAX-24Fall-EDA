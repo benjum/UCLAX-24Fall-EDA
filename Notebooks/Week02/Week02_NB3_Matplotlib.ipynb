{
  "cells": [
    {
      "cell_type": "markdown",
      "id": "a7a9f834-3235-4515-9dec-996b9cea827c",
      "metadata": {
        "slideshow": {
          "slide_type": "slide"
        }
      },
      "source": "# Matplotlib"
    },
    {
      "cell_type": "markdown",
      "id": "7f15649e-b419-4586-91ac-1f72ba085de2",
      "metadata": {
        "slideshow": {
          "slide_type": "slide"
        }
      },
      "source": "https://matplotlib.org/\n\n* \"Matplotlib is a comprehensive library for creating static, animated, and interactive visualizations in Python.\"\n* \"Matplotlib makes easy things easy and hard things possible.\"\n\n* Matplotlib was built on the NumPy and SciPy frameworks and initially made to enable interactive Matlab-like plotting via gnuplot from iPython\n\n* Gained early traction with support from the Space Telescope Institute and JPL\n\n* Easily one of the go-to libraries for academic publishing needs\n  * Create publication-ready graphics in a range of formats\n  * Powerful options to customize all aspects of a figure\n  \n* Matplotlib underlies the plotting capabilities of other libraries such as Pandas, Seaborn, and plotnine"
    },
    {
      "cell_type": "markdown",
      "id": "97629b03-e23a-4da6-8a1e-bc129f26f44d",
      "metadata": {
        "slideshow": {
          "slide_type": "slide"
        }
      },
      "source": "<p style=\"text-align:center;\">\n    <img src=\"https://matplotlib.org/stable/_images/sphx_glr_anatomy_001_2_00x.png\" alt=\"Matplotlib Anatomy of a Figure\" width=\"500\"/>\n</p>\n<a href=\"https://matplotlib.org/stable/gallery/showcase/anatomy.html\">Anatomy of a Figure</a>"
    },
    {
      "cell_type": "code",
      "execution_count": null,
      "id": "0c29aabf-c84d-4f98-8713-f01c74fd96df",
      "metadata": {
        "slideshow": {
          "slide_type": "slide"
        },
        "trusted": true
      },
      "outputs": [],
      "source": "import matplotlib.pyplot as plt\nimport numpy as np"
    },
    {
      "cell_type": "code",
      "execution_count": null,
      "id": "4de27f40-a215-4dbb-bd51-ae61fc559ee2",
      "metadata": {
        "slideshow": {
          "slide_type": "slide"
        },
        "trusted": true
      },
      "outputs": [],
      "source": "plt.plot([1,4,3,6])"
    },
    {
      "cell_type": "code",
      "execution_count": null,
      "id": "01058a44-cf88-4946-a188-a1498b50f35d",
      "metadata": {
        "slideshow": {
          "slide_type": "slide"
        },
        "trusted": true
      },
      "outputs": [],
      "source": "plt.plot([1,4,3,6]);"
    },
    {
      "cell_type": "code",
      "execution_count": null,
      "id": "d09cfacc-8c99-4efe-a212-546a3b28e7c9",
      "metadata": {
        "slideshow": {
          "slide_type": "slide"
        },
        "trusted": true
      },
      "outputs": [],
      "source": "plt.plot([1,4,3,6])\nplt.show()"
    },
    {
      "cell_type": "code",
      "execution_count": null,
      "id": "b111d34e-9b00-44ee-a269-d958178b92ae",
      "metadata": {
        "slideshow": {
          "slide_type": "slide"
        },
        "trusted": true
      },
      "outputs": [],
      "source": "plt.plot([1,4,3,6],[2,4,6,8]);"
    },
    {
      "cell_type": "code",
      "execution_count": null,
      "id": "2bdb1dd0-e577-41ae-81e1-3c9133d73199",
      "metadata": {
        "slideshow": {
          "slide_type": "slide"
        },
        "trusted": true
      },
      "outputs": [],
      "source": "plt.plot([1,4,3,6],[2,4,6,8],color='green',marker='o',linestyle='');"
    },
    {
      "cell_type": "code",
      "execution_count": null,
      "id": "ed77d865-a428-4f47-9b74-b35660ab643e",
      "metadata": {
        "slideshow": {
          "slide_type": "slide"
        },
        "trusted": true
      },
      "outputs": [],
      "source": "# Recall:\n# np is our abbrevation for numpy\n# linspace(start, end, ntotal) will make an evenly spaced array of numbers\n# starting with \"start\", going up to and including \"end\", and consisting of \"ntotal\" number of data points\n\nx = np.linspace(0.5, 3.5, 10)\ny = np.cos(x)"
    },
    {
      "cell_type": "code",
      "execution_count": null,
      "id": "319210f8-8304-4d4e-b434-a89822d30ef9",
      "metadata": {
        "slideshow": {
          "slide_type": "slide"
        },
        "trusted": true
      },
      "outputs": [],
      "source": "plt.plot(x,y)\nplt.show()"
    },
    {
      "cell_type": "code",
      "execution_count": null,
      "id": "f85e201a-f5c4-4ce7-844a-2e2591e28cf0",
      "metadata": {
        "slideshow": {
          "slide_type": "slide"
        },
        "trusted": true
      },
      "outputs": [],
      "source": "plt.plot(x,y,'bo')\nplt.show()"
    },
    {
      "cell_type": "code",
      "execution_count": null,
      "id": "1d4fdcd2-aa1b-4c53-bb9f-11d5f800e7bb",
      "metadata": {
        "slideshow": {
          "slide_type": "slide"
        },
        "trusted": true
      },
      "outputs": [],
      "source": "plt.plot(x,y,'bo')\nplt.ylabel('cos(x)')\nplt.show()"
    },
    {
      "cell_type": "markdown",
      "id": "7a11d267-efc5-49b0-ada0-43f866e2e67a",
      "metadata": {},
      "source": "https://matplotlib.org/stable/api/_as_gen/matplotlib.pyplot.plot.html"
    },
    {
      "cell_type": "code",
      "execution_count": null,
      "id": "c0e3d798-4680-4f97-972a-4a542c8de8e2",
      "metadata": {
        "trusted": true
      },
      "outputs": [],
      "source": "x2 = np.linspace(0.5, 3.5, 10)\ny2 = np.cos(2*np.pi/3*(x-0.5))"
    },
    {
      "cell_type": "code",
      "execution_count": null,
      "id": "e9a5c505-f8d8-4ba9-9630-ac9603354a46",
      "metadata": {
        "trusted": true
      },
      "outputs": [],
      "source": "plt.plot(x,y,'bo')\nplt.plot(x2,y2,'ks')\nplt.ylabel('cos(x)')\nplt.show()"
    },
    {
      "cell_type": "code",
      "execution_count": null,
      "id": "a36b7874-ba9c-4062-8222-9fab069694bb",
      "metadata": {
        "trusted": true
      },
      "outputs": [],
      "source": "plt.plot(x,y,'b')\nplt.plot(x2,y2,'k')\nplt.ylabel('cos(x)')\nplt.show()"
    },
    {
      "cell_type": "code",
      "execution_count": null,
      "id": "a0914283-ed9a-430a-b62a-48ba784dedde",
      "metadata": {
        "trusted": true
      },
      "outputs": [],
      "source": "plt.plot(x,y,'b')\nplt.plot(x2,y2,'k')\nplt.ylabel('y')\nplt.xlabel('x')\nplt.show()"
    },
    {
      "cell_type": "code",
      "execution_count": null,
      "id": "2343f775-e415-4740-90d8-373f4b9e8c26",
      "metadata": {
        "trusted": true
      },
      "outputs": [],
      "source": "plt.plot(x,y,'b')\nplt.plot(x2,y2,'k')\nplt.ylabel('y',fontsize=16)\nplt.xlabel('x',fontsize=16)\nplt.title('cosines',fontsize=16)\nplt.show()"
    },
    {
      "cell_type": "code",
      "execution_count": null,
      "id": "1e7aabd4-c29b-4907-9f0e-a08d6aa18940",
      "metadata": {
        "trusted": true
      },
      "outputs": [],
      "source": "plt.plot(x,y,'b')\nplt.plot(x2,y2,'k')\nplt.ylabel('y',fontsize=16)\nplt.xlabel('x',fontsize=16)\nplt.title('cosines',fontsize=16)\nplt.savefig('/home/jovyan/cosines.png')"
    },
    {
      "cell_type": "code",
      "execution_count": null,
      "id": "ca9d7a22-d464-4132-a087-3a60fd59a2b4",
      "metadata": {
        "trusted": true
      },
      "outputs": [],
      "source": "x = np.linspace(0, 2*np.pi, 100)\ny1 = 3 + np.cos(x)\ny2 = 1 + 0.5*np.cos(1+x/0.75)\n\nplt.plot(x, y1, color='green', linestyle='-', linewidth=1)\nplt.plot(x, y2, color='blue', linestyle='-', linewidth=1)\n\nplt.ylim(0,4.5)\nplt.yticks([0, 1, 2, 3, 4], fontsize=14)\n\nplt.xlabel('x', fontsize=16)\nplt.ylabel('y', fontsize=16)\n\nplt.title('sinusoids', fontsize=16)\n\nplt.text(3,0,'addedtext')\n\nplt.annotate('Spine', xy=(6.28, 1.5), xytext=(5.5, 1.0),\n            weight='bold', color='blue',\n            arrowprops=dict(arrowstyle='->',\n                            connectionstyle=\"arc3\",\n                            color='blue'))\n\nplt.show();"
    },
    {
      "cell_type": "markdown",
      "id": "afae51ef-669d-4724-b477-73af7f909dfd",
      "metadata": {},
      "source": "## Exercise:\n\nFollow the instructions in the comments below.  Consult the documentation as needed (https://matplotlib.org/stable/api/_as_gen/matplotlib.pyplot.plot.html)"
    },
    {
      "cell_type": "code",
      "execution_count": null,
      "id": "ac578a06-62c0-45ca-847f-f120c0e70e97",
      "metadata": {
        "trusted": true
      },
      "outputs": [],
      "source": "x = np.linspace(0, 2*np.pi, 100)\ny1 = 3 + np.cos(x)\ny2 = 1 + 0.5*np.cos(1+x/0.75)\n\n# Make these lines dashed\nplt.plot(x, y1, color='green', linestyle='-', linewidth=1)\nplt.plot(x, y2, color='blue', linestyle='-', linewidth=1)\n\nplt.ylim(0,4.5)\n# Make the x axis range from 0 to 2pi\n\nplt.yticks([0, 1, 2, 3, 4], fontsize=14)\n# Make the xticks at (0, pi, 2pi)\n\nplt.xlabel('x', fontsize=16)\nplt.ylabel('y', fontsize=16)\n\n# Change this title to be \"Anatomy of a figure\"\nplt.title('sinusoids', fontsize=16)\n\n# Shift the following text to be below the title, make it more descriptive, color it blue \nplt.text(3,0,'addedtext')\n\n# Use this annotation command to make another annotation pointing to the green line\nplt.annotate('Spine', xy=(6.28, 1.5), xytext=(5.5, 1.0),\n            weight='bold', color='blue',\n            arrowprops=dict(arrowstyle='->',\n                            connectionstyle=\"arc3\",\n                            color='blue'))\n\nplt.show();"
    },
    {
      "cell_type": "markdown",
      "id": "0fff42ba-b200-491a-8ed9-1930c787e414",
      "metadata": {},
      "source": "# pyplot vs figure and axes"
    },
    {
      "cell_type": "code",
      "execution_count": null,
      "id": "198854f4-9571-4c06-ba0d-73f3a3b0db35",
      "metadata": {
        "trusted": true
      },
      "outputs": [],
      "source": "x = np.linspace(0, 2*np.pi, 100)\ny1 = 3 + np.cos(x)\ny2 = 1 + 0.5*np.cos(1+x/0.75)"
    },
    {
      "cell_type": "code",
      "execution_count": null,
      "id": "b51ecabd-a97f-41a3-be39-093da87274a8",
      "metadata": {
        "trusted": true
      },
      "outputs": [],
      "source": "plt.plot(x,y1,x,y2)\nplt.show()"
    },
    {
      "cell_type": "code",
      "execution_count": null,
      "id": "e95db588-ba37-42bc-b939-b5d74a84e3b0",
      "metadata": {
        "trusted": true
      },
      "outputs": [],
      "source": "fig = plt.figure()\nax = fig.add_axes([0,0,1,1])\n\nax.plot(x,y1,x,y2)\n\nplt.show()"
    },
    {
      "cell_type": "code",
      "execution_count": null,
      "id": "fa2c8397-dbcc-4e5e-b6d8-c3278a3d5b00",
      "metadata": {
        "trusted": true
      },
      "outputs": [],
      "source": "fig = plt.figure()\nax = fig.add_subplot(111)\n\nax.plot(x,y1,x,y2)\n\nplt.show()"
    },
    {
      "cell_type": "code",
      "execution_count": null,
      "id": "07d59744-6561-4c19-a3f2-15c1e49e5e02",
      "metadata": {
        "trusted": true
      },
      "outputs": [],
      "source": "fig = plt.figure(figsize=(8,8))\nax = fig.add_subplot(1, 1, 1)\n\nax.plot(x,y1,x,y2)\n\nplt.show()"
    },
    {
      "cell_type": "code",
      "execution_count": null,
      "id": "e3694091-2b17-4c35-83e9-9c5d234a7b5d",
      "metadata": {
        "trusted": true
      },
      "outputs": [],
      "source": "fig,ax = plt.subplots(1,1,figsize=(8,8))\n\nax.plot(x,y1,x,y2)\n\nplt.show()"
    },
    {
      "cell_type": "code",
      "execution_count": null,
      "id": "680fe55a-47d6-48e2-b292-0b736c92ecde",
      "metadata": {
        "trusted": true
      },
      "outputs": [],
      "source": "fig,ax = plt.subplots(2,1,figsize=(8,8))\n\nax[0].plot(x,y1)\nax[1].plot(x,y2)\n\nplt.show()"
    },
    {
      "cell_type": "markdown",
      "id": "8fb5084d-9167-416b-8b6c-050a560a9e76",
      "metadata": {},
      "source": "## Exercise:\n\nConvert the *Anatomy* figure code (included below) to use figure and axes rather than just `plt`\n\nThe following documentation may be useful: https://matplotlib.org/stable/api/axes_api.html"
    },
    {
      "cell_type": "code",
      "execution_count": null,
      "id": "a05515e6-a7a3-4e03-a004-36b601477d35",
      "metadata": {
        "trusted": true
      },
      "outputs": [],
      "source": "x = np.linspace(0, 2*np.pi, 100)\ny1 = 3 + np.cos(x)\ny2 = 1 + 0.5*np.cos(1+x/0.75)\n\n# Make these lines dashed\nplt.plot(x, y1, color='green', linestyle='--', linewidth=1)\nplt.plot(x, y2, color='blue', linestyle='--', linewidth=1)\n\nplt.ylim(0,4.5)\n# Make the x axis range from 0 to 2pi\nplt.xlim(0,2*np.pi)\n\nplt.yticks([0, 1, 2, 3, 4], fontsize=14)\n# Make the xticks at (0, pi, 2pi)\nplt.xticks([0,np.pi,2*np.pi])\n\nplt.xlabel('x', fontsize=16)\nplt.ylabel('y', fontsize=16)\n\n# Change this title to be \"Anatomy of a figure\"\nplt.title('Anatomy of a figure', fontsize=16)\n\n# Shift the following text to be below the title, make it more descriptive, color it blue \nplt.text(3,4.3,'Title',color='blue')\n\n# Use this annotation command to make another annotation pointing to the green line\nplt.annotate('Spine', xy=(6.28, 1.5), xytext=(5.5, 1.0),\n            weight='bold', color='blue',\n            arrowprops=dict(arrowstyle='->',\n                            connectionstyle=\"arc3\",\n                            color='blue'))\nplt.annotate('Green line', xy=(0.8, 3.8), xytext=(1.5, 3.4),\n            weight='bold', color='blue',\n            arrowprops=dict(arrowstyle='->',\n                            connectionstyle=\"arc3\",\n                            color='blue'))\n\nplt.show();"
    },
    {
      "cell_type": "markdown",
      "id": "14024446-1b41-4079-bf3f-33ebd32c7889",
      "metadata": {},
      "source": "# Creating different types of plots"
    },
    {
      "cell_type": "code",
      "execution_count": null,
      "id": "5ccf72ea-481e-44ec-9d04-b17232d80054",
      "metadata": {
        "trusted": true
      },
      "outputs": [],
      "source": "x = np.linspace(0.5, 3.5, 10)\ny = np.cos(x)"
    },
    {
      "cell_type": "code",
      "execution_count": null,
      "id": "c2b8908c-df1f-4265-a6c3-2e4a095e2962",
      "metadata": {
        "trusted": true
      },
      "outputs": [],
      "source": "plt.scatter(x,y)\nplt.show()"
    },
    {
      "cell_type": "code",
      "execution_count": null,
      "id": "46a03c1b-e40b-4e61-bcea-12c61c3e015a",
      "metadata": {
        "trusted": true
      },
      "outputs": [],
      "source": "plt.bar(x,y)\nplt.show()"
    },
    {
      "cell_type": "code",
      "execution_count": null,
      "id": "12d1ac16-8e5b-42fe-8980-e898a359e1b3",
      "metadata": {
        "trusted": true
      },
      "outputs": [],
      "source": "plt.bar(x,y,width=0.2)\nplt.show()"
    },
    {
      "cell_type": "code",
      "execution_count": null,
      "id": "35912e03-7b41-477f-bd23-56d09babd37f",
      "metadata": {
        "trusted": true
      },
      "outputs": [],
      "source": "plt.barh(x,y,height=0.2)\nplt.show()"
    },
    {
      "cell_type": "code",
      "execution_count": null,
      "id": "647ef37a",
      "metadata": {
        "trusted": true
      },
      "outputs": [],
      "source": "Xgrid"
    },
    {
      "cell_type": "code",
      "execution_count": null,
      "id": "d53a0cb2-2a7a-4ba5-809e-aafffd8d660f",
      "metadata": {
        "trusted": true
      },
      "outputs": [],
      "source": "x = np.linspace(0, 4*np.pi, 100)\ny = np.linspace(-2, 2, 100)\nXgrid, Ygrid = np.meshgrid(x,y)\n\nf = np.exp(-Ygrid**2) * np.cos(Xgrid)\n\nplt.contourf(f)\n\nplt.show()"
    },
    {
      "cell_type": "code",
      "execution_count": null,
      "id": "726b4841-2427-4132-a39d-c418337ed59b",
      "metadata": {
        "trusted": true
      },
      "outputs": [],
      "source": "x = np.linspace(0, 4*np.pi, 100)\ny = np.linspace(-2, 2, 100)\nXgrid, Ygrid = np.meshgrid(x,y)\n\nf = np.exp(-Ygrid**2) * np.cos(Xgrid)\n\nplt.contourf(Xgrid, Ygrid, f)\n\nplt.show()"
    },
    {
      "cell_type": "code",
      "execution_count": null,
      "id": "10a56367-757f-4ba6-91a9-a4c88bf45637",
      "metadata": {
        "trusted": true
      },
      "outputs": [],
      "source": "x = np.linspace(0, 4*np.pi, 100)\ny = np.linspace(-2, 2, 100)\nXgrid, Ygrid = np.meshgrid(x,y)\n\nf = np.exp(-Ygrid**2) * np.cos(Xgrid)\n\nplt.contourf(Xgrid, Ygrid, f)\nax = plt.gca()\nax.set_xticks([0,2*np.pi,4*np.pi])\nax.set_xticklabels(['0','$2\\pi$','$4\\pi$'])\n\nplt.show()"
    },
    {
      "cell_type": "code",
      "execution_count": null,
      "id": "ca395cc2-e9f5-417b-8a68-ad7a59d98f82",
      "metadata": {
        "trusted": true
      },
      "outputs": [],
      "source": "np.random.seed(19680801)\ndata = np.random.randn(2, 100)\n\nfig, axs = plt.subplots(2, 2, figsize=(6, 6))\naxs[0, 0].hist(data[0])\naxs[1, 0].scatter(data[0], data[1])\naxs[0, 1].plot(data[0], data[1])\naxs[1, 1].hist2d(data[0], data[1])\n\nplt.show()"
    },
    {
      "cell_type": "markdown",
      "id": "a5026af0-dcb2-4c98-afd2-62fb4b5a93a7",
      "metadata": {},
      "source": "## Exercise:"
    },
    {
      "cell_type": "code",
      "execution_count": null,
      "id": "44516b3d-5b8f-403c-bc55-587477efa21e",
      "metadata": {
        "trusted": true
      },
      "outputs": [],
      "source": "np.random.seed(19680801)\ndata = np.random.randn(2, 100)\n\nfig, axs = plt.subplots(2, 2, figsize=(6, 6))\n\n# for hist, use the parameters \"width\" and \"bins\" to experiment with different hist plots\naxs[0, 0].hist(data[0])\n\n# give this scatter plot y range of (-3.5,3.5), x range of (-4,4), and make the points green\naxs[1, 0].scatter(data[0], data[1])\n\n# make the lines dotted\naxs[0, 1].plot(data[0], data[1])\n\naxs[1, 1].hist2d(data[0], data[1])\n\nplt.show()"
    }
  ],
  "metadata": {
    "kernelspec": {
      "display_name": "Python 3 (ipykernel)",
      "language": "python",
      "name": "python3"
    },
    "language_info": {
      "codemirror_mode": {
        "name": "ipython",
        "version": 3
      },
      "file_extension": ".py",
      "mimetype": "text/x-python",
      "name": "python",
      "nbconvert_exporter": "python",
      "pygments_lexer": "ipython3",
      "version": "3.11.9"
    }
  },
  "nbformat": 4,
  "nbformat_minor": 5
}