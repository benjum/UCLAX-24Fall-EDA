{
 "cells": [
  {
   "cell_type": "markdown",
   "id": "e28223ba-8ed9-4310-969d-80d99ba9fffb",
   "metadata": {},
   "source": [
    "# Building Python Dashboards with Dash\n",
    "\n",
    "https://dash.plotly.com/ -- \"Dash is the original low-code framework for rapidly building data apps in Python.\""
   ]
  },
  {
   "cell_type": "code",
   "execution_count": null,
   "id": "bddc4944-436d-4151-9802-e664d66b6ba0",
   "metadata": {},
   "outputs": [],
   "source": [
    "from dash import Dash\n",
    "from dash import dcc\n",
    "from dash import html\n",
    "import pandas as pd\n",
    "import plotly.express as px"
   ]
  },
  {
   "cell_type": "code",
   "execution_count": null,
   "id": "bd2f8a92-dc32-43c4-9ba0-439338260f07",
   "metadata": {},
   "outputs": [],
   "source": [
    "dinodf = pd.read_csv('https://raw.githubusercontent.com/benjum/UCLAX-24Fall-EDA/main/Data/DatasaurusDozen.tsv',sep='\\t')"
   ]
  },
  {
   "cell_type": "code",
   "execution_count": null,
   "id": "3635f798-624a-4856-96b9-2060dbbf4ac6",
   "metadata": {},
   "outputs": [],
   "source": [
    "px.scatter(dinodf[dinodf.dataset=='dino'], x=\"x\", y=\"y\")"
   ]
  },
  {
   "cell_type": "markdown",
   "id": "65909dfb-4ccd-4bde-929c-6c93675a07d4",
   "metadata": {},
   "source": [
    "Let's make a dashboard now that allows us to select between the subsets of dino data."
   ]
  },
  {
   "cell_type": "code",
   "execution_count": null,
   "id": "f5f70007-3cb1-4914-9955-9e19f4e70e79",
   "metadata": {},
   "outputs": [],
   "source": [
    "app = Dash(__name__)"
   ]
  },
  {
   "cell_type": "code",
   "execution_count": null,
   "id": "1b363f81-67af-49d0-a92a-96321702af30",
   "metadata": {},
   "outputs": [],
   "source": [
    "app.layout = html.Div(\n",
    "    html.H1('Hello!')\n",
    ")"
   ]
  },
  {
   "cell_type": "code",
   "execution_count": null,
   "id": "8b3cdef3-616a-4e38-a7b3-c7527b095878",
   "metadata": {},
   "outputs": [],
   "source": [
    "app.run()"
   ]
  },
  {
   "cell_type": "code",
   "execution_count": null,
   "id": "5fe640bf-1add-461b-bc17-92b7aa67fb93",
   "metadata": {},
   "outputs": [],
   "source": [
    "# WILL GIVE AN ERROR!\n",
    "app.layout = html.Div(\n",
    "    html.H1('Hello!'),\n",
    "    html.P('This is my paragraph.')\n",
    ")"
   ]
  },
  {
   "cell_type": "code",
   "execution_count": null,
   "id": "a678c086-eec0-461b-b3ae-051ea3b20de9",
   "metadata": {},
   "outputs": [],
   "source": [
    "app.layout = html.Div(\n",
    "    [\n",
    "        html.H1('Hello!'),\n",
    "        html.P('This is my paragraph.')\n",
    "    ],\n",
    "    \n",
    ")"
   ]
  },
  {
   "cell_type": "code",
   "execution_count": null,
   "id": "deedb4bb-a60c-4271-a768-e31cc7865a61",
   "metadata": {},
   "outputs": [],
   "source": [
    "app.run()"
   ]
  },
  {
   "cell_type": "markdown",
   "id": "535342c8-731e-4027-b9d7-71250d2f0a3c",
   "metadata": {},
   "source": [
    "In addition to HTML elements, Dash's core components (aliased here as `dcc`) provides many useful UI elements like dropdown menus, sliders, and graphic capabilities.\n",
    "\n",
    "* https://dash.plotly.com/dash-core-components"
   ]
  },
  {
   "cell_type": "code",
   "execution_count": null,
   "id": "bc2227eb-c295-4d62-9b5b-a20c29ace378",
   "metadata": {},
   "outputs": [],
   "source": [
    "px.scatter(dinodf[dinodf.dataset=='dino'], x=\"x\", y=\"y\")"
   ]
  },
  {
   "cell_type": "code",
   "execution_count": null,
   "id": "b2f5f7da-2680-4c2b-bc1e-c274301b97a7",
   "metadata": {},
   "outputs": [],
   "source": [
    "app.layout = html.Div(\n",
    "    [\n",
    "        html.H1('Hello!'),\n",
    "        html.P('This is my paragraph.'),\n",
    "        dcc.Graph(figure = px.scatter(dinodf[dinodf.dataset=='dino'], x=\"x\", y=\"y\"))\n",
    "    ],\n",
    ")\n",
    "\n",
    "app.run()"
   ]
  },
  {
   "cell_type": "markdown",
   "id": "0f34ec25-37ae-4e8e-be61-fa8fa5ba0b6c",
   "metadata": {},
   "source": [
    "For a dropdown, we'll need a list of the possible values in the `dataset` column of our dataframe.  `label` will be the name of the element in the menu and `value` will be the stored value that's usable by our code for a given menu selection."
   ]
  },
  {
   "cell_type": "code",
   "execution_count": null,
   "id": "4bf9406a-87d0-4333-961c-7f97e71f04e0",
   "metadata": {},
   "outputs": [],
   "source": [
    "dinodf.dataset.unique()"
   ]
  },
  {
   "cell_type": "code",
   "execution_count": null,
   "id": "d1564314-4946-4e6e-b0fe-70d1e4b75cdf",
   "metadata": {},
   "outputs": [],
   "source": [
    "[{'label': c, 'value': c} for c in dinodf.dataset.unique()]"
   ]
  },
  {
   "cell_type": "code",
   "execution_count": null,
   "id": "3d266763-c30a-4fed-b599-944b9af2ea7c",
   "metadata": {},
   "outputs": [],
   "source": [
    "app.layout = html.Div(\n",
    "    [\n",
    "        html.H1('Hello!'),\n",
    "        html.P('This is my paragraph.'),\n",
    "        dcc.Dropdown(\n",
    "            id='shape-dropdown', \n",
    "            options=[\n",
    "                {'label': c, 'value': c}\n",
    "                for c in dinodf.dataset.unique()\n",
    "            ]\n",
    "        ),\n",
    "        dcc.Graph(figure = px.scatter(dinodf[dinodf.dataset=='dino'], x=\"x\", y=\"y\", \n",
    "                                      width=500, height=500))\n",
    "    ],\n",
    ")\n",
    "\n",
    "app.run()"
   ]
  },
  {
   "cell_type": "code",
   "execution_count": null,
   "id": "30fc8802-1ee6-4559-8b3f-86fbfd51caa1",
   "metadata": {},
   "outputs": [],
   "source": [
    "from dash.dependencies import Input, Output"
   ]
  },
  {
   "cell_type": "code",
   "execution_count": null,
   "id": "ed1da00c-a597-4091-8ed1-5e306dca1074",
   "metadata": {},
   "outputs": [],
   "source": [
    "app.layout = html.Div(\n",
    "    [\n",
    "        html.H1('Hello!'),\n",
    "        html.P('This is my paragraph.'),\n",
    "        dcc.Dropdown(\n",
    "            id='shape-dropdown', \n",
    "            options=[\n",
    "                {'label': c, 'value': c}\n",
    "                for c in dinodf.dataset.unique()\n",
    "            ]\n",
    "        ),\n",
    "        dcc.Graph(\n",
    "            id='shape-scatterplot',\n",
    "            figure = px.scatter(dinodf[dinodf.dataset=='dino'], x=\"x\", y=\"y\", \n",
    "                                      width=500, height=500)\n",
    "        )\n",
    "    ],\n",
    ")\n",
    "\n",
    "@app.callback(\n",
    "    Output('shape-scatterplot', 'figure'),\n",
    "    [Input(\"shape-dropdown\", \"value\")]\n",
    ")\n",
    "def update_figure(dinoshape):\n",
    "    return px.scatter(\n",
    "        dinodf[dinodf.dataset==dinoshape], x=\"x\", y=\"y\",\n",
    "        width=500, height=500\n",
    "    )\n",
    "\n",
    "app.run()"
   ]
  },
  {
   "cell_type": "markdown",
   "id": "02e90968-4de8-4319-8710-80c9e108195f",
   "metadata": {},
   "source": [
    "In order to get a default value for the dropdown menu, we add `value` to our parameter list of the Dropdown."
   ]
  },
  {
   "cell_type": "code",
   "execution_count": null,
   "id": "df521fbb-8930-451c-9569-b1ac9f22a71f",
   "metadata": {},
   "outputs": [],
   "source": [
    "app.layout = html.Div(\n",
    "    [\n",
    "        html.H1('Hello!'),\n",
    "        html.P('This is my paragraph.'),\n",
    "        dcc.Dropdown(\n",
    "            id='shape-dropdown',\n",
    "            value='dino',\n",
    "            options=[\n",
    "                {'label': c, 'value': c}\n",
    "                for c in dinodf.dataset.unique()\n",
    "            ]\n",
    "        ),\n",
    "        dcc.Graph(\n",
    "            id='shape-scatterplot',\n",
    "            figure = px.scatter(dinodf[dinodf.dataset=='dino'], x=\"x\", y=\"y\", \n",
    "                                      width=500, height=500)\n",
    "        )\n",
    "    ],\n",
    ")\n",
    "\n",
    "@app.callback(\n",
    "    Output('shape-scatterplot', 'figure'),\n",
    "    [Input(\"shape-dropdown\", \"value\")]\n",
    ")\n",
    "def update_figure(dinoshape):\n",
    "    return px.scatter(\n",
    "        dinodf[dinodf.dataset==dinoshape], x=\"x\", y=\"y\",\n",
    "        width=500, height=500\n",
    "    )\n",
    "\n",
    "app.run()"
   ]
  },
  {
   "cell_type": "markdown",
   "id": "56c61b7b-49ef-44fa-abb0-19005efded11",
   "metadata": {},
   "source": [
    "Note:  may get error below about having multiple outputs and shape-scatterplot.figure.  This is because of hot-reloading.  Let's restart the kernel and resume again."
   ]
  },
  {
   "cell_type": "code",
   "execution_count": null,
   "id": "d9199ba1-1a44-4aad-9f50-4263cedaa8c5",
   "metadata": {},
   "outputs": [],
   "source": [
    "from dash import Dash\n",
    "from dash import dcc\n",
    "from dash import html\n",
    "import pandas as pd\n",
    "import plotly.express as px\n",
    "from dash.dependencies import Input, Output"
   ]
  },
  {
   "cell_type": "code",
   "execution_count": null,
   "id": "d4914d9c-38bf-4b01-bb06-60d1b79de827",
   "metadata": {},
   "outputs": [],
   "source": [
    "dinodf = pd.read_csv('https://raw.githubusercontent.com/benjum/UCLAX-24Fall-EDA/main/Data/DatasaurusDozen.tsv',sep='\\t')"
   ]
  },
  {
   "cell_type": "code",
   "execution_count": null,
   "id": "a83a3a7c-d033-4859-9ee7-3097ddf38c9b",
   "metadata": {},
   "outputs": [],
   "source": [
    "px.scatter(\n",
    "        dinodf[dinodf.dataset=='dino'], x=\"x\", y=\"y\",\n",
    "        width=500, height=500\n",
    "    )"
   ]
  },
  {
   "cell_type": "code",
   "execution_count": null,
   "id": "84234866-8571-41f3-ab85-1d4086bc4cd2",
   "metadata": {},
   "outputs": [],
   "source": [
    "app = Dash(__name__)\n",
    "\n",
    "app.layout = html.Div(\n",
    "    [\n",
    "        html.H1('Hello!'),\n",
    "        html.P('This is my paragraph.'),\n",
    "        dcc.Dropdown(\n",
    "            id='shape-dropdown',\n",
    "            value='dino',\n",
    "            options=[\n",
    "                {'label': c, 'value': c}\n",
    "                for c in dinodf.dataset.unique()\n",
    "            ]\n",
    "        ),\n",
    "        dcc.Graph(\n",
    "            id='shape-scatterplot',\n",
    "            figure = px.scatter(dinodf[dinodf.dataset=='dino'], x=\"x\", y=\"y\", \n",
    "                                      width=500, height=500)\n",
    "        )\n",
    "    ],\n",
    ")\n",
    "\n",
    "@app.callback(\n",
    "    Output('shape-scatterplot', 'figure'),\n",
    "    [Input(\"shape-dropdown\", \"value\")]\n",
    ")\n",
    "def update_figure(dinoshape):\n",
    "    return px.scatter(\n",
    "        dinodf[dinodf.dataset==dinoshape], x=\"x\", y=\"y\",\n",
    "        width=500, height=500\n",
    "    )\n",
    "\n",
    "app.run()"
   ]
  },
  {
   "cell_type": "code",
   "execution_count": null,
   "id": "722d752b-e43a-46f3-8d95-74171125cb1c",
   "metadata": {},
   "outputs": [],
   "source": [
    "from dash import Dash\n",
    "from dash import dcc\n",
    "from dash import html\n",
    "import pandas as pd\n",
    "import plotly.express as px\n",
    "from dash.dependencies import Input, Output"
   ]
  },
  {
   "cell_type": "code",
   "execution_count": null,
   "id": "d3a41bd8-9462-4f13-8486-bd4f05fe743f",
   "metadata": {},
   "outputs": [],
   "source": [
    "dinodf = pd.read_csv('https://raw.githubusercontent.com/benjum/UCLAX-24Fall-EDA/main/Data/DatasaurusDozen.tsv',sep='\\t')"
   ]
  },
  {
   "cell_type": "code",
   "execution_count": null,
   "id": "fb32efdb-8e5f-4420-8068-7d5e9762351f",
   "metadata": {},
   "outputs": [],
   "source": [
    "px.histogram(dinodf[dinodf.dataset=='dino'], x=\"x\",\n",
    "             width=500, height=200)"
   ]
  },
  {
   "cell_type": "code",
   "execution_count": null,
   "id": "8565b189-675f-4cc1-988d-366b6e5ee8a4",
   "metadata": {},
   "outputs": [],
   "source": [
    "app = Dash(__name__)\n",
    "\n",
    "app.layout = html.Div(\n",
    "    [\n",
    "        html.H1('Hello!'),\n",
    "        html.P('This is my paragraph.'),\n",
    "        dcc.Dropdown(\n",
    "            id='shape-dropdown',\n",
    "            value='dino',clearable=False,\n",
    "            options=[\n",
    "                {'label': c, 'value': c}\n",
    "                for c in dinodf.dataset.unique()\n",
    "            ]\n",
    "        ),\n",
    "        dcc.Graph(\n",
    "            id='shape-xhistogram'\n",
    "        ),\n",
    "        dcc.Graph(\n",
    "            id='shape-scatterplot'\n",
    "        )\n",
    "    ],\n",
    ")\n",
    "\n",
    "@app.callback(\n",
    "    Output('shape-xhistogram', 'figure'),\n",
    "    [Input(\"shape-dropdown\", \"value\")]\n",
    ")\n",
    "def update_xhistogram(dinoshape):\n",
    "    return px.histogram(\n",
    "        dinodf[dinodf.dataset==dinoshape], x=\"x\",\n",
    "        width=500, height=200\n",
    "    )\n",
    "\n",
    "@app.callback(\n",
    "    Output('shape-scatterplot', 'figure'),\n",
    "    [Input(\"shape-dropdown\", \"value\")]\n",
    ")\n",
    "def update_scatterplot(dinoshape):\n",
    "    return px.scatter(\n",
    "        dinodf[dinodf.dataset==dinoshape], x=\"x\", y=\"y\",\n",
    "        width=500, height=500\n",
    "    )\n",
    "\n",
    "app.run()"
   ]
  },
  {
   "cell_type": "markdown",
   "id": "2db29dda-aa21-4b32-8810-ae7f676e6bf6",
   "metadata": {},
   "source": [
    "# An example taken from the JupyterDash repo\n",
    "\n",
    "https://github.com/plotly/jupyter-dash"
   ]
  },
  {
   "cell_type": "code",
   "execution_count": null,
   "id": "385ec70a-4bba-4971-a595-38b784bd72dd",
   "metadata": {},
   "outputs": [],
   "source": [
    "from dash import Dash\n",
    "from dash import dcc\n",
    "from dash import html\n",
    "import pandas as pd\n",
    "from dash.dependencies import Input, Output"
   ]
  },
  {
   "cell_type": "code",
   "execution_count": null,
   "id": "f007ab9c-076b-47a1-9ca2-44d6b8164f1b",
   "metadata": {},
   "outputs": [],
   "source": [
    "df = pd.read_csv('https://plotly.github.io/datasets/country_indicators.csv')\n",
    "available_indicators = df['Indicator Name'].unique()"
   ]
  },
  {
   "cell_type": "code",
   "execution_count": null,
   "id": "6d73342a-1719-47e2-b10a-f6db01b0e9de",
   "metadata": {},
   "outputs": [],
   "source": [
    "# Output this dataset so we can use with \n",
    "df"
   ]
  },
  {
   "cell_type": "code",
   "execution_count": null,
   "id": "820b7b1b-1c2a-447f-b929-0106e27e6874",
   "metadata": {},
   "outputs": [],
   "source": [
    "# Output this dataset so we can use with \n",
    "dfout = df.pivot(index=['Year',\n",
    "                        'Country Name'],\n",
    "                 columns=['Indicator Name'],\n",
    "                 values='Value')\n",
    "dfout.reset_index().to_csv('plotlyCountryIndicators.csv')"
   ]
  },
  {
   "cell_type": "markdown",
   "id": "27dd49d2-e796-4c78-ac84-105e39473503",
   "metadata": {},
   "source": [
    "Construct the app and callbacks"
   ]
  },
  {
   "cell_type": "code",
   "execution_count": null,
   "id": "29d28742-1a2c-469f-b5d7-bedc9fcd0af3",
   "metadata": {},
   "outputs": [],
   "source": [
    "external_stylesheets = ['https://codepen.io/chriddyp/pen/bWLwgP.css']\n",
    "\n",
    "app = Dash(__name__, external_stylesheets=external_stylesheets)\n",
    "\n",
    "# Create server variable with Flask server object for use with gunicorn\n",
    "server = app.server\n",
    "\n",
    "app.layout = html.Div([\n",
    "    html.Div([\n",
    "        html.Div([\n",
    "            dcc.Dropdown(\n",
    "                id='crossfilter-xaxis-column',\n",
    "                options=[{'label': i, 'value': i} for i in available_indicators],\n",
    "                value='Agriculture, value added (% of GDP)'\n",
    "            ),\n",
    "            dcc.RadioItems(\n",
    "                id='crossfilter-xaxis-type',\n",
    "                options=[{'label': i, 'value': i} for i in ['Linear', 'Log']],\n",
    "                value='Linear',\n",
    "                labelStyle={'display': 'inline-block'}\n",
    "            )\n",
    "        ],\n",
    "        style={'width': '49%', 'display': 'inline-block'}),\n",
    "\n",
    "        html.Div([\n",
    "            dcc.Dropdown(\n",
    "                id='crossfilter-yaxis-column',\n",
    "                options=[{'label': i, 'value': i} for i in available_indicators],\n",
    "                value='Life expectancy at birth, total (years)'\n",
    "            ),\n",
    "            dcc.RadioItems(\n",
    "                id='crossfilter-yaxis-type',\n",
    "                options=[{'label': i, 'value': i} for i in ['Linear', 'Log']],\n",
    "                value='Linear',\n",
    "                labelStyle={'display': 'inline-block'}\n",
    "            )\n",
    "        ], style={'width': '49%', 'float': 'right', 'display': 'inline-block'})\n",
    "    ], style={\n",
    "        'borderBottom': 'thin lightgrey solid',\n",
    "        'backgroundColor': 'rgb(250, 250, 250)',\n",
    "        'padding': '10px 5px'\n",
    "    }),\n",
    "\n",
    "    html.Div([\n",
    "        dcc.Graph(\n",
    "            id='crossfilter-indicator-scatter',\n",
    "            hoverData={'points': [{'customdata': 'Japan'}]}\n",
    "        )\n",
    "    ], style={'width': '49%', 'display': 'inline-block', 'padding': '0 20'}),\n",
    "    html.Div([\n",
    "        dcc.Graph(id='x-time-series'),\n",
    "        dcc.Graph(id='y-time-series'),\n",
    "    ], style={'display': 'inline-block', 'width': '49%'}),\n",
    "\n",
    "    html.Div(dcc.Slider(\n",
    "        id='crossfilter-year--slider',\n",
    "        min=df['Year'].min(),\n",
    "        max=df['Year'].max(),\n",
    "        value=df['Year'].max(),\n",
    "        marks={str(year): str(year) for year in df['Year'].unique()},\n",
    "        step=None\n",
    "    ), style={'width': '49%', 'padding': '0px 20px 20px 20px'})\n",
    "])\n",
    "\n",
    "\n",
    "@app.callback(\n",
    "    Output('crossfilter-indicator-scatter', 'figure'),\n",
    "    [Input('crossfilter-xaxis-column', 'value'),\n",
    "     Input('crossfilter-yaxis-column', 'value'),\n",
    "     Input('crossfilter-xaxis-type', 'value'),\n",
    "     Input('crossfilter-yaxis-type', 'value'),\n",
    "     Input('crossfilter-year--slider', 'value')])\n",
    "def update_graph(xaxis_column_name, yaxis_column_name,\n",
    "                 xaxis_type, yaxis_type,\n",
    "                 year_value):\n",
    "    dff = df[df['Year'] == year_value]\n",
    "\n",
    "    return {\n",
    "        'data': [dict(\n",
    "            x=dff[dff['Indicator Name'] == xaxis_column_name]['Value'],\n",
    "            y=dff[dff['Indicator Name'] == yaxis_column_name]['Value'],\n",
    "            text=dff[dff['Indicator Name'] == yaxis_column_name]['Country Name'],\n",
    "            customdata=dff[dff['Indicator Name'] == yaxis_column_name]['Country Name'],\n",
    "            mode='markers',\n",
    "            marker={\n",
    "                'size': 25,\n",
    "                'opacity': 0.7,\n",
    "                'color': 'orange',\n",
    "                'line': {'width': 2, 'color': 'purple'}\n",
    "            }\n",
    "        )],\n",
    "        'layout': dict(\n",
    "            xaxis={\n",
    "                'title': xaxis_column_name,\n",
    "                'type': 'linear' if xaxis_type == 'Linear' else 'log'\n",
    "            },\n",
    "            yaxis={\n",
    "                'title': yaxis_column_name,\n",
    "                'type': 'linear' if yaxis_type == 'Linear' else 'log'\n",
    "            },\n",
    "            margin={'l': 40, 'b': 30, 't': 10, 'r': 0},\n",
    "            height=450,\n",
    "            hovermode='closest'\n",
    "        )\n",
    "    }\n",
    "\n",
    "\n",
    "def create_time_series(dff, axis_type, title):\n",
    "    return {\n",
    "        'data': [dict(\n",
    "            x=dff['Year'],\n",
    "            y=dff['Value'],\n",
    "            mode='lines+markers'\n",
    "        )],\n",
    "        'layout': {\n",
    "            'height': 225,\n",
    "            'margin': {'l': 20, 'b': 30, 'r': 10, 't': 10},\n",
    "            'annotations': [{\n",
    "                'x': 0, 'y': 0.85, 'xanchor': 'left', 'yanchor': 'bottom',\n",
    "                'xref': 'paper', 'yref': 'paper', 'showarrow': False,\n",
    "                'align': 'left', 'bgcolor': 'rgba(255, 255, 255, 0.5)',\n",
    "                'text': title\n",
    "            }],\n",
    "            'yaxis': {'type': 'linear' if axis_type == 'Linear' else 'log'},\n",
    "            'xaxis': {'showgrid': False}\n",
    "        }\n",
    "    }\n",
    "\n",
    "\n",
    "@app.callback(\n",
    "    Output('x-time-series', 'figure'),\n",
    "    [Input('crossfilter-indicator-scatter', 'hoverData'),\n",
    "     Input('crossfilter-xaxis-column', 'value'),\n",
    "     Input('crossfilter-xaxis-type', 'value')])\n",
    "def update_y_timeseries(hoverData, xaxis_column_name, axis_type):\n",
    "    country_name = hoverData['points'][0]['customdata']\n",
    "    dff = df[df['Country Name'] == country_name]\n",
    "    dff = dff[dff['Indicator Name'] == xaxis_column_name]\n",
    "    title = '<b>{}</b><br>{}'.format(country_name, xaxis_column_name)\n",
    "    return create_time_series(dff, axis_type, title)\n",
    "\n",
    "\n",
    "@app.callback(\n",
    "    Output('y-time-series', 'figure'),\n",
    "    [Input('crossfilter-indicator-scatter', 'hoverData'),\n",
    "     Input('crossfilter-yaxis-column', 'value'),\n",
    "     Input('crossfilter-yaxis-type', 'value')])\n",
    "def update_x_timeseries(hoverData, yaxis_column_name, axis_type):\n",
    "    dff = df[df['Country Name'] == hoverData['points'][0]['customdata']]\n",
    "    dff = dff[dff['Indicator Name'] == yaxis_column_name]\n",
    "    return create_time_series(dff, axis_type, yaxis_column_name)\n",
    "\n",
    "app.run_server(jupyter_mode='external')"
   ]
  }
 ],
 "metadata": {
  "kernelspec": {
   "display_name": "Python 3 (ipykernel)",
   "language": "python",
   "name": "python3"
  },
  "language_info": {
   "codemirror_mode": {
    "name": "ipython",
    "version": 3
   },
   "file_extension": ".py",
   "mimetype": "text/x-python",
   "name": "python",
   "nbconvert_exporter": "python",
   "pygments_lexer": "ipython3",
   "version": "3.10.14"
  },
  "toc": {
   "base_numbering": 1,
   "nav_menu": {},
   "number_sections": true,
   "sideBar": true,
   "skip_h1_title": false,
   "title_cell": "Table of Contents",
   "title_sidebar": "Contents",
   "toc_cell": false,
   "toc_position": {},
   "toc_section_display": true,
   "toc_window_display": false
  }
 },
 "nbformat": 4,
 "nbformat_minor": 5
}
