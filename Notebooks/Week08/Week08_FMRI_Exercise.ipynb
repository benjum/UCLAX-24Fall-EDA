{
 "cells": [
  {
   "cell_type": "markdown",
   "id": "3805a63a-f687-4230-a55a-94a05988734c",
   "metadata": {},
   "source": [
    "# Let's do a couple plotting exercises with these libraries"
   ]
  },
  {
   "cell_type": "markdown",
   "id": "e70795f6-da65-418d-8287-a128549281f7",
   "metadata": {},
   "source": [
    "Execute the following cell to import the libraries and standardize some settings."
   ]
  },
  {
   "cell_type": "code",
   "execution_count": null,
   "id": "e42d31be-5b29-446b-8081-425dae1db5ba",
   "metadata": {},
   "outputs": [],
   "source": [
    "# numerical\n",
    "import pandas as pd\n",
    "import numpy as np\n",
    "\n",
    "# matplotlib\n",
    "import matplotlib.pyplot as plt\n",
    "\n",
    "# seaborn\n",
    "import seaborn as sns\n",
    "sns.set()\n",
    "sns.set_context('notebook', font_scale=1.5)\n",
    "cp = sns.color_palette()\n",
    "\n",
    "# altair\n",
    "import altair\n",
    "\n",
    "# plotly express\n",
    "import plotly.express as px"
   ]
  },
  {
   "cell_type": "markdown",
   "id": "96a05ba4-ea0c-4ede-9769-44f8660d41bf",
   "metadata": {},
   "source": [
    "Execute the following to import Seaborn's example FMRI dataset."
   ]
  },
  {
   "cell_type": "code",
   "execution_count": null,
   "id": "daa33e60-d848-48fb-92b6-eee3bd794049",
   "metadata": {},
   "outputs": [],
   "source": [
    "fmri = sns.load_dataset(\"fmri\")\n",
    "fmri.head()"
   ]
  },
  {
   "cell_type": "markdown",
   "id": "32484428-1898-4f8c-a912-234659ff1c9f",
   "metadata": {},
   "source": [
    "Make a new dataframe that only includes the `stim` event and `parietal` region data."
   ]
  },
  {
   "cell_type": "code",
   "execution_count": null,
   "id": "90fd657a-2e2e-413b-b1c7-d45d89c5e8c7",
   "metadata": {},
   "outputs": [],
   "source": [
    "fmri_sp = ???"
   ]
  },
  {
   "cell_type": "markdown",
   "id": "67f7a4d9-83cc-4b10-b2b4-5cd620f80401",
   "metadata": {},
   "source": [
    "Print out the first couple rows to check that it looks ok."
   ]
  },
  {
   "cell_type": "code",
   "execution_count": null,
   "id": "6c6b659a-4372-4d7b-892c-b8fdbd133d3e",
   "metadata": {},
   "outputs": [],
   "source": []
  },
  {
   "cell_type": "markdown",
   "id": "3d98db15-01ca-432d-ba61-0d8c792179ad",
   "metadata": {},
   "source": [
    "Make a single line plot with Matplotlib that plots signal vs time for each subject."
   ]
  },
  {
   "cell_type": "code",
   "execution_count": null,
   "id": "27e12b8d-7ae2-49eb-9485-17d7dea87ab5",
   "metadata": {},
   "outputs": [],
   "source": []
  },
  {
   "cell_type": "markdown",
   "id": "f27ea092-3ab0-45be-b03e-f63b387985e1",
   "metadata": {},
   "source": [
    "If the above plot looks jagged, note that you may find it useful to sort the values by time before plotting.  Use the below cells to do so if the above plot does not contain smooth curves in time."
   ]
  },
  {
   "cell_type": "code",
   "execution_count": null,
   "id": "82e08787-7328-4240-b0b5-d2a37b468652",
   "metadata": {},
   "outputs": [],
   "source": []
  },
  {
   "cell_type": "code",
   "execution_count": null,
   "id": "871662fb-42a3-4814-8f9c-b81aa09ef5c6",
   "metadata": {},
   "outputs": [],
   "source": []
  },
  {
   "cell_type": "markdown",
   "id": "2eab3dce-e2ed-4f65-886d-dcfb0a0c930e",
   "metadata": {},
   "source": [
    "Make a line plot that only contains lines for subjects `s0` and `s1`."
   ]
  },
  {
   "cell_type": "code",
   "execution_count": null,
   "id": "f1443f0c-963a-479a-ba95-a36ce8aa8214",
   "metadata": {},
   "outputs": [],
   "source": []
  },
  {
   "cell_type": "markdown",
   "id": "eddf7ba5-7a05-454e-adf9-293154b36216",
   "metadata": {},
   "source": [
    "Execute the following to get the new dataframe `dfp` that contains one column per subject."
   ]
  },
  {
   "cell_type": "code",
   "execution_count": null,
   "id": "7420149f-6b58-476c-966c-f6e70a34a1aa",
   "metadata": {},
   "outputs": [],
   "source": [
    "dfp = fmri[(fmri['event']=='stim') & \n",
    "           (fmri['region']=='parietal')].pivot(index='timepoint', \n",
    "                                               columns=['subject'], \n",
    "                                               values='signal')\n",
    "dfp.head()"
   ]
  },
  {
   "cell_type": "markdown",
   "id": "064ac753-6dad-460b-805d-7546d5742ba8",
   "metadata": {},
   "source": [
    "Execute the following to get a quick and dirty plot of all the subjects at once."
   ]
  },
  {
   "cell_type": "code",
   "execution_count": null,
   "id": "b0d1d7e6-778b-4ec2-a422-2f7013746bb9",
   "metadata": {},
   "outputs": [],
   "source": [
    "plt.plot(dfp)"
   ]
  },
  {
   "cell_type": "markdown",
   "id": "ae2d5260-0290-4cb3-9d9e-f9d0ce696dad",
   "metadata": {},
   "source": [
    "Make a tidier line plot that includes lines for those subjects in the first four columns of `dfp`"
   ]
  },
  {
   "cell_type": "code",
   "execution_count": null,
   "id": "fec4f2fb-c81b-4ed0-9410-67bc463e4b8e",
   "metadata": {},
   "outputs": [],
   "source": []
  },
  {
   "cell_type": "markdown",
   "id": "b9a732b7-7d8a-45e8-9631-5bec87e97cc6",
   "metadata": {},
   "source": [
    "## Seaborn"
   ]
  },
  {
   "cell_type": "markdown",
   "id": "6f29f539-1c7d-4358-9ecb-210e7848839e",
   "metadata": {},
   "source": [
    "Make a line plot with Seaborn (using `lineplot`).  This plot should plot the average signal of all subjects vs time, along with an error interval."
   ]
  },
  {
   "cell_type": "code",
   "execution_count": null,
   "id": "85704dca-e0bb-45be-8e1a-de78560bdd9a",
   "metadata": {},
   "outputs": [],
   "source": []
  },
  {
   "cell_type": "markdown",
   "id": "3cc590b5-49de-4354-aa65-c25185b26746",
   "metadata": {},
   "source": [
    "Use `lineplot` to make a figure that only includes lines for subjects `s0` and `s1`"
   ]
  },
  {
   "cell_type": "code",
   "execution_count": null,
   "id": "651b3a87-8c54-4692-8e7a-8bd0e1740b47",
   "metadata": {},
   "outputs": [],
   "source": []
  },
  {
   "cell_type": "markdown",
   "id": "53c8a30f-b0a4-44db-8dd3-9d721685af58",
   "metadata": {},
   "source": [
    "Make a facet grid with Seaborn that has one line plot per subject.  When doing this, set `col_wrap` so that a reasonably sized grid of plots appears."
   ]
  },
  {
   "cell_type": "code",
   "execution_count": null,
   "id": "f63ae73b-2703-4b95-846f-9e29b94b1b04",
   "metadata": {},
   "outputs": [],
   "source": []
  },
  {
   "cell_type": "markdown",
   "id": "188e680c-fa07-4169-b4fe-1a3ad3f10839",
   "metadata": {},
   "source": [
    "## Plotly"
   ]
  },
  {
   "cell_type": "markdown",
   "id": "a4ea661c-f737-4d0a-98a3-c66926650fc7",
   "metadata": {},
   "source": [
    "Use Plotly to make a single line plot that contains signal vs time for all the subjects."
   ]
  },
  {
   "cell_type": "code",
   "execution_count": null,
   "id": "e395ee18-3712-4b13-a220-698c6e586032",
   "metadata": {},
   "outputs": [],
   "source": []
  },
  {
   "cell_type": "markdown",
   "id": "308a013d-c39e-437f-b0ac-e7f3b2a4f663",
   "metadata": {},
   "source": [
    "Make a single line plot that contains signal vs time for subjects `s0` and `s1`."
   ]
  },
  {
   "cell_type": "code",
   "execution_count": null,
   "id": "88cd4433-91bf-4d77-aafb-85d42293181a",
   "metadata": {},
   "outputs": [],
   "source": []
  },
  {
   "cell_type": "markdown",
   "id": "f332934b-6fae-4d26-8082-065229ff7726",
   "metadata": {},
   "source": [
    "## Altair"
   ]
  },
  {
   "cell_type": "markdown",
   "id": "1870f57a-32f2-43a6-a5bc-c77080584206",
   "metadata": {},
   "source": [
    "Make a new dataframe that contains only subjects `s0`, `s1`, `s2`, and `s3`"
   ]
  },
  {
   "cell_type": "code",
   "execution_count": null,
   "id": "6257fd4e-2ee9-4037-8b12-bb7b868b47c9",
   "metadata": {},
   "outputs": [],
   "source": []
  },
  {
   "cell_type": "markdown",
   "id": "b4433fd0-6e44-4588-9284-38eae15ed123",
   "metadata": {},
   "source": [
    "Use Altair to make a line plot with one line for each of these four subjects."
   ]
  },
  {
   "cell_type": "code",
   "execution_count": null,
   "id": "675e1626-f977-4d5b-972a-9557016fd189",
   "metadata": {},
   "outputs": [],
   "source": []
  },
  {
   "cell_type": "markdown",
   "id": "3c307429-fd8c-4dbb-9638-22e8eeff71f9",
   "metadata": {},
   "source": [
    "Make the same figure, but include a selection object so that you can highlight one line (i.e., change the opacity) for one particular subject based on clicking on that subject in the legend."
   ]
  },
  {
   "cell_type": "code",
   "execution_count": null,
   "id": "6019f4e8-202a-44dd-95a6-3744e1e9b5dc",
   "metadata": {},
   "outputs": [],
   "source": []
  },
  {
   "cell_type": "markdown",
   "id": "113ae251-2112-46dd-951d-857b0a6dabe7",
   "metadata": {},
   "source": [
    "Create the same figure and save it to an HTML file.  Make sure that the saved HTML file works as expected."
   ]
  },
  {
   "cell_type": "code",
   "execution_count": null,
   "id": "deb0f499-0c6f-4c71-bcd1-50243a1fc7bf",
   "metadata": {},
   "outputs": [],
   "source": []
  }
 ],
 "metadata": {
  "kernelspec": {
   "display_name": "Python 3 (ipykernel)",
   "language": "python",
   "name": "python3"
  },
  "language_info": {
   "codemirror_mode": {
    "name": "ipython",
    "version": 3
   },
   "file_extension": ".py",
   "mimetype": "text/x-python",
   "name": "python",
   "nbconvert_exporter": "python",
   "pygments_lexer": "ipython3",
   "version": "3.10.14"
  }
 },
 "nbformat": 4,
 "nbformat_minor": 5
}
