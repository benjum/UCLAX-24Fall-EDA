{
  "cells": [
    {
      "cell_type": "markdown",
      "id": "d7e20050-7c5c-4c75-80c6-2198e3f1f18b",
      "metadata": {},
      "source": "# Time series\n\nWe are revisiting our example from multivariate analysis:"
    },
    {
      "cell_type": "code",
      "execution_count": null,
      "id": "f9b7a583",
      "metadata": {
        "trusted": true
      },
      "outputs": [],
      "source": "!pip install -U seaborn"
    },
    {
      "cell_type": "markdown",
      "id": "45c1a19a-c95e-48d5-9459-8402a7d14eaa",
      "metadata": {},
      "source": "# FMRI\n\nSeaborn's example FMRI dataset is taken from https://github.com/mwaskom/Waskom_CerebCortex_2017\n\nIf you are curious about further analysis, see the following article related to the data:\n* Michael L. Waskom, Michael C. Frank, Anthony D. Wagner. \"Adaptive Engagement of Cognitive Control in Context-Dependent Decision Making.\" Cerebral Cortex, Volume 27, Issue 2, February 2017, Pages 1270–1284, https://doi.org/10.1093/cercor/bhv333"
    },
    {
      "cell_type": "code",
      "execution_count": null,
      "id": "a84eca3e-aa9f-49e0-abdd-51c6c639d1cc",
      "metadata": {
        "trusted": true
      },
      "outputs": [],
      "source": "import matplotlib.pyplot as plt\nimport pandas as pd\nimport seaborn as sns"
    },
    {
      "cell_type": "code",
      "execution_count": null,
      "id": "822ef202-496e-43e4-b834-4d3dc7c0840a",
      "metadata": {
        "trusted": true
      },
      "outputs": [],
      "source": "fmri = sns.load_dataset(\"fmri\")"
    },
    {
      "cell_type": "code",
      "execution_count": null,
      "id": "7729fa09-1915-41e5-8b1c-a99b2ca9c2c6",
      "metadata": {
        "trusted": true
      },
      "outputs": [],
      "source": "fmri"
    },
    {
      "cell_type": "markdown",
      "id": "6a44a7b7-391d-4b89-90df-3f5fa0556b0f",
      "metadata": {},
      "source": "Here we focus on the plotting from the vantage point of time series."
    },
    {
      "cell_type": "code",
      "execution_count": null,
      "id": "0913840d-84d6-4c0a-b8cf-1cdab33ef803",
      "metadata": {
        "trusted": true
      },
      "outputs": [],
      "source": "fmri_s0 = fmri.loc[(fmri['subject']=='s0') & \n                   (fmri['event']=='stim') & \n                   (fmri['region']=='parietal')].sort_values(by='timepoint').copy()\n\nfmri_s0"
    },
    {
      "cell_type": "code",
      "execution_count": null,
      "id": "27c04434-474b-4978-a4cf-e0879fd2a0d4",
      "metadata": {
        "trusted": true
      },
      "outputs": [],
      "source": "plt.plot(fmri_s0['timepoint'], fmri_s0['signal'], 'ko')"
    },
    {
      "cell_type": "code",
      "execution_count": null,
      "id": "fb1952c8-f743-454d-aefb-f7107bb56687",
      "metadata": {
        "trusted": true
      },
      "outputs": [],
      "source": "plt.plot(fmri_s0['timepoint'], fmri_s0['signal'], 'ko')\nplt.plot(fmri_s0['timepoint'], fmri_s0['signal'])"
    },
    {
      "cell_type": "code",
      "execution_count": null,
      "id": "fa566eda-3896-4de3-90f7-e076d49335b7",
      "metadata": {
        "trusted": true
      },
      "outputs": [],
      "source": "plt.plot(fmri_s0['timepoint'], fmri_s0['signal'])"
    },
    {
      "cell_type": "code",
      "execution_count": null,
      "id": "77f9f0f4-c9c5-4445-a11a-3649800f0863",
      "metadata": {
        "trusted": true
      },
      "outputs": [],
      "source": "plt.fill_between(fmri_s0['timepoint'], fmri_s0['signal'])"
    },
    {
      "cell_type": "code",
      "execution_count": null,
      "id": "ed217d42-8252-4d29-a13a-9e588cb05c44",
      "metadata": {
        "trusted": true
      },
      "outputs": [],
      "source": "sns.scatterplot(data=fmri.loc[(fmri['subject'].isin(['s0','s1','s2'])) &\n                              (fmri['event']=='stim') &\n                              (fmri['region']=='parietal')], x='timepoint', y='signal', hue='subject')"
    },
    {
      "cell_type": "code",
      "execution_count": null,
      "id": "51bba982-9a27-4d48-a987-70d3fdaea8b2",
      "metadata": {
        "trusted": true
      },
      "outputs": [],
      "source": "sns.lineplot(data=fmri.loc[(fmri['subject'].isin(['s0','s1','s2'])) &\n                              (fmri['event']=='stim') &\n                              (fmri['region']=='parietal')], x='timepoint', y='signal', hue='subject')"
    },
    {
      "cell_type": "code",
      "execution_count": null,
      "id": "f736bd08-813c-4703-a45b-f9861d479ba5",
      "metadata": {
        "trusted": true
      },
      "outputs": [],
      "source": "sns.lineplot(data=fmri.loc[(fmri['subject'].isin(['s0','s1','s2'])) &\n                              (fmri['event']=='stim') &\n                              (fmri['region']=='parietal')], x='timepoint', y='signal', hue='subject', legend=None)\nsns.scatterplot(data=fmri.loc[(fmri['subject'].isin(['s0','s1','s2'])) &\n                              (fmri['event']=='stim') &\n                              (fmri['region']=='parietal')], x='timepoint', y='signal', hue='subject')"
    },
    {
      "cell_type": "code",
      "execution_count": null,
      "id": "a58dd801-2145-4afd-89a0-565db60db710",
      "metadata": {
        "trusted": true
      },
      "outputs": [],
      "source": "d = fmri.loc[(fmri['subject'].isin(['s0','s1','s2'])) &\n                              (fmri['event']=='stim') &\n                              (fmri['region']=='parietal')]\n\nax = sns.lineplot(data=d, x='timepoint', y='signal', hue='subject',\n                  palette = ['blue','red','green'], \n                  legend=None)\n\n# First, adjust axes limits so annotations fit in the plot\nax.set_xlim(-1.0, 22.0)\n\n# Positions\nLABEL_Y = [\n    -0.10,  # s2\n    -0.05,  # s1\n    0.0,    # s0\n]\n\nx_start = 18\nx_end = 20\nPAD = 0.1\n\nCOLOR_SCALE = ['blue', 'red', 'green']\n\n# Add labels\nfor idx, subs in enumerate(d[\"subject\"].unique()):\n    data = d[(d[\"subject\"] == subs) & (d[\"timepoint\"] == 18)]\n    color = COLOR_SCALE[idx]\n    \n    # Subject name\n    text = data[\"subject\"].values[0]\n    \n    # Vertical start of line\n    y_start = data[\"signal\"].values[0]\n    # Vertical end of line\n    y_end = LABEL_Y[idx]\n    \n    # Add line based on three points\n    ax.plot(\n        [x_start, (x_start + x_end - PAD) / 2 , x_end - PAD], \n        [y_start, y_end, y_end], \n        color=color, \n        alpha=0.5, \n        ls=\"dashed\"\n    )\n    \n    # Add text for subject name\n    ax.text(\n        x_end, \n        y_end, \n        text, \n        color=color, \n        fontsize=14, \n        weight=\"bold\", \n        va=\"center\"\n    )"
    },
    {
      "cell_type": "code",
      "execution_count": null,
      "id": "c1d9bcbf-e7cf-45ca-9124-eb434dfd4392",
      "metadata": {
        "trusted": true
      },
      "outputs": [],
      "source": "ds0 = fmri.loc[(fmri['subject'] == 's0') &\n                 (fmri['region']=='parietal')].sort_values(by='timepoint',ignore_index=True)\ndstim = fmri.loc[(fmri['subject'] == 's0') &\n                 (fmri['event'] == 'stim') &\n                 (fmri['region']=='parietal')].sort_values(by='timepoint',ignore_index=True)\ndcue = fmri.loc[(fmri['subject'] == 's0') &\n                 (fmri['event'] == 'cue') &\n                 (fmri['region']=='parietal')].sort_values(by='timepoint',ignore_index=True)\ndstim['event_diff'] = (dstim['signal'] - dcue['signal'])"
    },
    {
      "cell_type": "code",
      "execution_count": null,
      "id": "7b196992-4c47-4917-aee7-72ff0589727d",
      "metadata": {
        "trusted": true
      },
      "outputs": [],
      "source": "fig,ax = plt.subplots(2,1)\nsns.lineplot(data=dstim, x='timepoint', y='signal', ax=ax[0])\nsns.lineplot(data=dstim, x='timepoint', y='event_diff', ax=ax[1])\nax[1].set_ylabel('difference in stim vs cue')\nplt.show()"
    },
    {
      "cell_type": "code",
      "execution_count": null,
      "id": "71784df9-76f5-4c16-a474-11f9770d24ed",
      "metadata": {
        "trusted": true
      },
      "outputs": [],
      "source": "fig,ax = plt.subplots(2,1)\nsns.lineplot(data=ds0, x='timepoint', y='signal', hue='event', ax=ax[0])\nax[1].fill_between(dstim['timepoint'],dstim['event_diff'])\nax[1].set_ylabel('difference in stim vs cue')"
    },
    {
      "cell_type": "code",
      "execution_count": null,
      "id": "592f380c-855a-46b1-b75d-c70a0dc498c8",
      "metadata": {
        "trusted": true
      },
      "outputs": [],
      "source": "dstim"
    },
    {
      "cell_type": "code",
      "execution_count": null,
      "id": "792cac07-e734-426b-a815-da31c6929b3f",
      "metadata": {
        "trusted": true
      },
      "outputs": [],
      "source": "plt.plot(dstim['signal'], dstim['event_diff'])"
    },
    {
      "cell_type": "markdown",
      "id": "92ee9143-7ad9-459a-a79a-102c4d8c3087",
      "metadata": {},
      "source": "To color this by time, we can build it up in pieces and assign the pieces different colors."
    },
    {
      "cell_type": "code",
      "execution_count": null,
      "id": "45dd5a67-b7ac-4ff7-a81b-e591f5d9a6d9",
      "metadata": {
        "trusted": true
      },
      "outputs": [],
      "source": "import matplotlib.cm as cm"
    },
    {
      "cell_type": "code",
      "execution_count": null,
      "id": "d419d454-2cdd-4c6a-bdd7-db96be0fce6b",
      "metadata": {
        "trusted": true
      },
      "outputs": [],
      "source": "cm.jet(2)"
    },
    {
      "cell_type": "code",
      "execution_count": null,
      "id": "85fb17f6-b8ba-4acf-bcef-4ca44e638691",
      "metadata": {
        "trusted": true
      },
      "outputs": [],
      "source": "dstim['timepoint'].values"
    },
    {
      "cell_type": "code",
      "execution_count": null,
      "id": "907fada2-5083-4fc4-ab14-8ff87a1bb162",
      "metadata": {
        "trusted": true
      },
      "outputs": [],
      "source": "[cm.jet(i) for i in dstim['timepoint'].values]"
    },
    {
      "cell_type": "code",
      "execution_count": null,
      "id": "2e5e09b2-0987-43ce-be54-ee55117fbb41",
      "metadata": {
        "trusted": true
      },
      "outputs": [],
      "source": "for i in dstim['timepoint'].values[:-1]:\n    i0 = dstim.loc[dstim['timepoint'] == i]\n    i1 = dstim.loc[dstim['timepoint'] == i+1]\n    plt.scatter(i0['signal'], i0['event_diff'],color=cm.jet(i*10))\n    plt.plot([i0['signal'],i1['signal']], [i0['event_diff'],i1['event_diff']], color=cm.jet(i*10))"
    }
  ],
  "metadata": {
    "kernelspec": {
      "display_name": "Python 3 (ipykernel)",
      "language": "python",
      "name": "python3"
    },
    "language_info": {
      "codemirror_mode": {
        "name": "ipython",
        "version": 3
      },
      "file_extension": ".py",
      "mimetype": "text/x-python",
      "name": "python",
      "nbconvert_exporter": "python",
      "pygments_lexer": "ipython3",
      "version": "3.11.9"
    }
  },
  "nbformat": 4,
  "nbformat_minor": 5
}