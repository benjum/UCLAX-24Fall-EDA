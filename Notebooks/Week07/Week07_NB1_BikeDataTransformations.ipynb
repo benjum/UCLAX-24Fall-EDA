{
  "cells": [
    {
      "cell_type": "markdown",
      "metadata": {},
      "source": "# PreProcessing Data"
    },
    {
      "cell_type": "markdown",
      "metadata": {},
      "source": "This example is motivated by the Bike Sharing Dataset that can be found among the UCI ML and Kaggle datasets.\n* https://www.kaggle.com/lakshmi25npathi/bike-sharing-dataset\n* https://archive.ics.uci.edu/dataset/275/bike+sharing+dataset\n\nBoth of these have already been pre-processed.  \n\nI've created a new starting state with mock \"original\" values to illustrate some pre-processing steps one might go through.\n* https://github.com/benjum/UCLAX-24Fall-EDA/blob/main/Data/bike_sharing_processed.csv"
    },
    {
      "cell_type": "code",
      "execution_count": null,
      "metadata": {
        "trusted": true
      },
      "outputs": [],
      "source": "import pandas as pd\nimport numpy as np\nimport matplotlib.pyplot as plt"
    },
    {
      "cell_type": "code",
      "execution_count": null,
      "metadata": {
        "trusted": true
      },
      "outputs": [],
      "source": "bike_sharing_df = pd.read_csv('https://raw.githubusercontent.com/benjum/UCLAX-24Fall-EDA/main/Data/bike_sharing_processed.csv')"
    },
    {
      "cell_type": "code",
      "execution_count": null,
      "metadata": {
        "trusted": true
      },
      "outputs": [],
      "source": "bike_sharing_df.head()"
    },
    {
      "cell_type": "code",
      "execution_count": null,
      "metadata": {
        "trusted": true
      },
      "outputs": [],
      "source": "bike_sharing_df.info()"
    },
    {
      "cell_type": "code",
      "execution_count": null,
      "metadata": {
        "trusted": true
      },
      "outputs": [],
      "source": "# descriptive stats:\nbike_sharing_df.describe()"
    },
    {
      "cell_type": "code",
      "execution_count": null,
      "metadata": {
        "trusted": true
      },
      "outputs": [],
      "source": "# MORE descriptive stats:\nbike_sharing_df.describe(include='all')"
    },
    {
      "cell_type": "markdown",
      "metadata": {},
      "source": "We're going to apply some data transformations, motivated by the data specifications on https://archive.ics.uci.edu/dataset/275/bike+sharing+dataset:\n* drop the 'instant' column\n* change 'season' to (1:winter, 2:spring, 3:summer, 4:fall)\n* change 'year' to (0:2011, 1:2012)\n* change 'mnth' to be 0 - 12\n* change 'holiday' to be (0:no, 1:yes)\n* change 'weekday' to be 0 - 6\n* change 'workingday' to be (0:no, 1:yes)\n* change 'weathersit':\n    - 1: Clear, Few clouds, Partly cloudy, Partly cloudy\n    - 2: Mist + Cloudy, Mist + Broken clouds, Mist + Few clouds, Mist\n    - 3: Light Snow, Light Rain + Thunderstorm + Scattered clouds, Light Rain + Scattered clouds\n    - 4: Heavy Rain + Ice Pallets + Thunderstorm + Mist, Snow + Fog\n* normalize 'temp' (current min/max are -8/+39)\n* normalize 'atemp' (current min/max are -16/+50)\n* normalize 'hum' (max is 100)\n* normalize 'windspeed' (max is 67)"
    },
    {
      "cell_type": "code",
      "execution_count": null,
      "metadata": {
        "trusted": true
      },
      "outputs": [],
      "source": "# the current state:\nbike_sharing_df.head()"
    },
    {
      "cell_type": "markdown",
      "metadata": {},
      "source": "## Drop columns"
    },
    {
      "cell_type": "code",
      "execution_count": null,
      "metadata": {
        "trusted": true
      },
      "outputs": [],
      "source": "bike_sharing_df = bike_sharing_df.drop('instant', axis=1)\n\n# Review the difference\nbike_sharing_df.head()"
    },
    {
      "cell_type": "markdown",
      "metadata": {},
      "source": "## Mapping values"
    },
    {
      "cell_type": "code",
      "execution_count": null,
      "metadata": {
        "trusted": true
      },
      "outputs": [],
      "source": "season_mapping = {'winter': 1, 'spring': 2, 'summer': 3, 'fall': 4}\nbike_sharing_df['season'] = bike_sharing_df['season'].map(season_mapping)\n\n# Review the difference\nbike_sharing_df.head()"
    },
    {
      "cell_type": "code",
      "execution_count": null,
      "metadata": {
        "trusted": true
      },
      "outputs": [],
      "source": "# Notice the change from object to int\n# Some care must be exercised when dealing with numerical vs categorical data\n\nbike_sharing_df.info()"
    },
    {
      "cell_type": "code",
      "execution_count": null,
      "metadata": {
        "trusted": true
      },
      "outputs": [],
      "source": "# Since season is numerical, the summary stats for numerical data are applicable\nbike_sharing_df.describe()"
    },
    {
      "cell_type": "code",
      "execution_count": null,
      "metadata": {
        "trusted": true
      },
      "outputs": [],
      "source": "# An object/categorical version of season transformation\n\n# If we try this again, we'll either need to reverse our operation\n# or just go through everything from the start again\nbike_sharing_df = pd.read_csv('https://raw.githubusercontent.com/benjum/UCLAX-24Fall-EDA/main/Data/bike_sharing_processed.csv')\nbike_sharing_df = bike_sharing_df.drop('instant', axis=1)\n\n# Mapping for 'season'\nseason_mapping = {'winter': '1', 'spring': '2', 'summer': '3', 'fall': '4'}\nbike_sharing_df['season'] = bike_sharing_df['season'].map(season_mapping)\n\n# Review the difference\nbike_sharing_df.head()"
    },
    {
      "cell_type": "code",
      "execution_count": null,
      "metadata": {
        "trusted": true
      },
      "outputs": [],
      "source": "# Season stays an object data-type (for string)\n\nbike_sharing_df.info()"
    },
    {
      "cell_type": "code",
      "execution_count": null,
      "metadata": {
        "trusted": true
      },
      "outputs": [],
      "source": "# Since season is categorical again, numerical summary stats are _not_ applicable\nbike_sharing_df.describe()"
    },
    {
      "cell_type": "code",
      "execution_count": null,
      "metadata": {
        "trusted": true
      },
      "outputs": [],
      "source": "bike_sharing_df['season'].value_counts()\n\n# The following will order by season value rather than the count\n# bike_sharing_df['season'].value_counts(sort=False)"
    },
    {
      "cell_type": "code",
      "execution_count": null,
      "metadata": {
        "trusted": true
      },
      "outputs": [],
      "source": "# Mapping for 'year'\nyear_mapping = {2011: 0, 2012: 1}\nbike_sharing_df['yr'] = bike_sharing_df['yr'].map(year_mapping)\n\n# Review the difference\nbike_sharing_df.head()"
    },
    {
      "cell_type": "code",
      "execution_count": null,
      "metadata": {
        "trusted": true
      },
      "outputs": [],
      "source": "# Mapping for 'mnth'\nmonth_mapping = {'January': 1, 'February': 2, 'March': 3, \n                 'April': 4, 'May': 5, 'June': 6, \n                 'July': 7, 'August': 8, 'September': 9, \n                 'October': 10, 'November': 11, 'December': 12}\nbike_sharing_df['mnth'] = bike_sharing_df['mnth'].map(month_mapping)\n\n# Review the difference\nbike_sharing_df.head()"
    },
    {
      "cell_type": "code",
      "execution_count": null,
      "metadata": {
        "trusted": true
      },
      "outputs": [],
      "source": "# Mapping for 'holiday'\nholiday_mapping = {'no': 0, 'yes': 1}\nbike_sharing_df['holiday'] = bike_sharing_df['holiday'].map(holiday_mapping)\n\n# Review the difference\nbike_sharing_df.head()"
    },
    {
      "cell_type": "code",
      "execution_count": null,
      "metadata": {
        "trusted": true
      },
      "outputs": [],
      "source": "# mapping for 'weekday'\nweekday_mapping = {'Sunday': 0, 'Monday': 1, 'Tuesday': 2, \n                   'Wednesday': 3, 'Thursday': 4, 'Friday': 5, \n                   'Saturday': 6}\nbike_sharing_df['weekday'] = bike_sharing_df['weekday'].map(weekday_mapping)\n\n# Review the difference\nbike_sharing_df.head()"
    },
    {
      "cell_type": "code",
      "execution_count": null,
      "metadata": {
        "trusted": true
      },
      "outputs": [],
      "source": "# Mapping for 'workingday'\nworkingday_mapping = {'no': 0, 'yes': 1}\nbike_sharing_df['workingday'] = bike_sharing_df['workingday'].map(workingday_mapping)\n\n# Review the difference\nbike_sharing_df.head()"
    },
    {
      "cell_type": "code",
      "execution_count": null,
      "metadata": {
        "trusted": true
      },
      "outputs": [],
      "source": "# mappings for 'weathersit'\n\nbike_sharing_df.loc[bike_sharing_df['weathersit'].isin(['Clear', \n                                                        'Few clouds', \n                                                        'Partly cloudy']), 'weathersit'] = 1\nbike_sharing_df.loc[bike_sharing_df['weathersit'].isin(['Mist + Cloudy', \n                                                        'Mist + Broken clouds', \n                                                        'Mist + Few clouds', \n                                                        'Mist']), 'weathersit'] = 2\nbike_sharing_df.loc[bike_sharing_df['weathersit'].isin(['Light Snow', \n                                                        'Light Rain + Thunderstorm + Scattered clouds',\n                                                         'Light Rain + Scattered clouds']), 'weathersit'] = 3\nbike_sharing_df.loc[bike_sharing_df['weathersit'].isin(['Heavy Rain + Ice Pallets + Thunderstorm + Mist', \n                                                        'Snow + Fog']), 'weathersit'] = 4\n\n# Review the difference\nbike_sharing_df.head()"
    },
    {
      "cell_type": "code",
      "execution_count": null,
      "metadata": {
        "trusted": true
      },
      "outputs": [],
      "source": "# BEWARE the datatypes!\n# the weathersit column still has an object datatype, rather than int\n\nbike_sharing_df.info()"
    },
    {
      "cell_type": "code",
      "execution_count": null,
      "metadata": {
        "trusted": true
      },
      "outputs": [],
      "source": "type(bike_sharing_df.loc[3,'weathersit'])"
    },
    {
      "cell_type": "code",
      "execution_count": null,
      "metadata": {
        "trusted": true
      },
      "outputs": [],
      "source": "bike_sharing_df.loc[3,'weathersit'] + bike_sharing_df.loc[4,'weathersit']"
    },
    {
      "cell_type": "code",
      "execution_count": null,
      "metadata": {
        "trusted": true
      },
      "outputs": [],
      "source": "bike_sharing_df['weathersit'].unique()"
    },
    {
      "cell_type": "code",
      "execution_count": null,
      "metadata": {
        "trusted": true
      },
      "outputs": [],
      "source": "bike_sharing_df.describe()"
    },
    {
      "cell_type": "code",
      "execution_count": null,
      "metadata": {
        "trusted": true
      },
      "outputs": [],
      "source": "bike_sharing_df.describe(include='all')"
    },
    {
      "cell_type": "markdown",
      "metadata": {},
      "source": "## Normalization"
    },
    {
      "cell_type": "code",
      "execution_count": null,
      "metadata": {
        "trusted": true
      },
      "outputs": [],
      "source": "# Min-Max Scaling\nbike_sharing_df['temp'] = (bike_sharing_df['temp'] - \n                           bike_sharing_df['temp'].min()) / (bike_sharing_df['temp'].max() - \n                                                             bike_sharing_df['temp'].min())\nbike_sharing_df['atemp'] = (bike_sharing_df['atemp'] - \n                            bike_sharing_df['atemp'].min()) / (bike_sharing_df['atemp'].max() - \n                                                               bike_sharing_df['atemp'].min())\n\n# Scaling against a value\nbike_sharing_df['hum'] = bike_sharing_df['hum'] / 100\nbike_sharing_df['windspeed'] = bike_sharing_df['windspeed'] / 67\n\n# Review the difference\nbike_sharing_df.head()"
    },
    {
      "cell_type": "code",
      "execution_count": null,
      "metadata": {
        "trusted": true
      },
      "outputs": [],
      "source": "bike_sharing_df.describe()"
    },
    {
      "cell_type": "markdown",
      "metadata": {},
      "source": "## There are many other data transformations that you may want to apply"
    },
    {
      "cell_type": "markdown",
      "metadata": {},
      "source": "## Standard Scaling"
    },
    {
      "cell_type": "code",
      "execution_count": null,
      "metadata": {
        "trusted": true
      },
      "outputs": [],
      "source": "bike_sharing_df['StandardizedTemp'] = (bike_sharing_df['temp'] - \n                                       bike_sharing_df['temp'].mean()) / bike_sharing_df['temp'].std()"
    },
    {
      "cell_type": "code",
      "execution_count": null,
      "metadata": {
        "trusted": true
      },
      "outputs": [],
      "source": "bike_sharing_df[['temp','StandardizedTemp']].describe()"
    },
    {
      "cell_type": "code",
      "execution_count": null,
      "metadata": {
        "trusted": true
      },
      "outputs": [],
      "source": "fig,ax = plt.subplots(1,2,figsize=(10,4))\nbike_sharing_df['temp'].plot.hist(ax=ax[0])\nbike_sharing_df['StandardizedTemp'].plot.hist(ax=ax[1])"
    },
    {
      "cell_type": "code",
      "execution_count": null,
      "metadata": {
        "trusted": true
      },
      "outputs": [],
      "source": "# standardizing humidity and windspeed:\nbike_sharing_df['StandardizedHumidity'] = (bike_sharing_df['hum'] - \n                                           bike_sharing_df['hum'].mean()) / bike_sharing_df['hum'].std()\nbike_sharing_df['StandardizedWindspeed'] = (bike_sharing_df['windspeed'] - \n                                            bike_sharing_df['windspeed'].mean()) / bike_sharing_df['windspeed'].std()"
    },
    {
      "cell_type": "markdown",
      "metadata": {},
      "source": "## Log Transformation"
    },
    {
      "cell_type": "code",
      "execution_count": null,
      "metadata": {
        "trusted": true
      },
      "outputs": [],
      "source": "import math\n\nmath.log(10)"
    },
    {
      "cell_type": "code",
      "execution_count": null,
      "metadata": {
        "trusted": true
      },
      "outputs": [],
      "source": "# \"apply()\" will apply a function to all values within the column\n\nbike_sharing_df['LogCasual'] = bike_sharing_df['casual'].apply(math.log)"
    },
    {
      "cell_type": "code",
      "execution_count": null,
      "metadata": {
        "trusted": true
      },
      "outputs": [],
      "source": "fig,ax = plt.subplots(1,2,figsize=(10,4))\nbike_sharing_df['casual'].plot.hist(ax=ax[0])\nbike_sharing_df['LogCasual'].plot.hist(ax=ax[1])"
    },
    {
      "cell_type": "code",
      "execution_count": null,
      "metadata": {
        "trusted": true
      },
      "outputs": [],
      "source": "# if you haven't seen it, lambda functions are a way to accomplish simple \n# function-like calculations via a one-line specification\n\n# define a list\na = [1,2,3,4]\n\n# define a lambda function\ndouble = lambda x: x*2\n\n# apply lambda to a\ndouble(a)"
    },
    {
      "cell_type": "code",
      "execution_count": null,
      "metadata": {
        "trusted": true
      },
      "outputs": [],
      "source": "# another example that operates on a list\naddtwo = lambda x: [i+2 for i in x]\n\n# apply lambda to a\naddtwo(a)"
    },
    {
      "cell_type": "code",
      "execution_count": null,
      "metadata": {
        "trusted": true
      },
      "outputs": [],
      "source": "bike_sharing_df['LogCasual'] = bike_sharing_df['casual'].apply(lambda x: 0 if x == 0 else np.log(x))"
    },
    {
      "cell_type": "code",
      "execution_count": null,
      "metadata": {
        "trusted": true
      },
      "outputs": [],
      "source": "fig,ax = plt.subplots(1,2,figsize=(10,4))\nbike_sharing_df['casual'].plot.hist(ax=ax[0])\nbike_sharing_df['LogCasual'].plot.hist(ax=ax[1])"
    },
    {
      "cell_type": "markdown",
      "metadata": {},
      "source": "## Binning"
    },
    {
      "cell_type": "code",
      "execution_count": null,
      "metadata": {
        "trusted": true
      },
      "outputs": [],
      "source": "# (remember that 'temp' is now in a 0-1 range from min to max)\n\nbins = [0, 0.10, 0.20, 0.30, 0.40, 0.50, 0.75, 1.00]\nlabels = ['0-10', '11-20', '21-30', '31-40', '41-50', '51-75', '76-100']\n\nbike_sharing_df['TempCategory'] = pd.cut(bike_sharing_df['temp'], bins=bins, labels=labels)"
    },
    {
      "cell_type": "code",
      "execution_count": null,
      "metadata": {
        "trusted": true
      },
      "outputs": [],
      "source": "bike_sharing_df[['temp', 'StandardizedTemp','TempCategory']].head()"
    },
    {
      "cell_type": "code",
      "execution_count": null,
      "metadata": {
        "trusted": true
      },
      "outputs": [],
      "source": "bike_sharing_df['TempCategory'].value_counts(sort=False)"
    },
    {
      "cell_type": "markdown",
      "metadata": {},
      "source": "## Categorical Encoding (One-Hot Encoding)"
    },
    {
      "cell_type": "code",
      "execution_count": null,
      "metadata": {
        "trusted": true
      },
      "outputs": [],
      "source": "bike_sharing_df['season_orig'] = bike_sharing_df['season'] # this keeps the original column, otherwise the values would be dropped\nbike_sharing_df = pd.get_dummies(bike_sharing_df, columns=['season'], prefix='Season')"
    },
    {
      "cell_type": "code",
      "execution_count": null,
      "metadata": {
        "trusted": true
      },
      "outputs": [],
      "source": "bike_sharing_df.columns"
    },
    {
      "cell_type": "code",
      "execution_count": null,
      "metadata": {
        "trusted": true
      },
      "outputs": [],
      "source": "bike_sharing_df.sample(10)[['season_orig','Season_1', 'Season_2', 'Season_3', 'Season_4']]"
    },
    {
      "cell_type": "code",
      "execution_count": null,
      "metadata": {
        "trusted": true
      },
      "outputs": [],
      "source": "bike_sharing_df[['season_orig','Season_1', 'Season_2', 'Season_3', 'Season_4']].sum()"
    },
    {
      "cell_type": "code",
      "execution_count": null,
      "metadata": {
        "trusted": true
      },
      "outputs": [],
      "source": "bike_sharing_df.info()"
    },
    {
      "cell_type": "code",
      "execution_count": null,
      "metadata": {
        "trusted": true
      },
      "outputs": [],
      "source": "print(bike_sharing_df[['season_orig']].count())\nbike_sharing_df[['Season_1', 'Season_2', 'Season_3', 'Season_4']].sum()"
    },
    {
      "cell_type": "markdown",
      "metadata": {},
      "source": "## Missing values / NaNs"
    },
    {
      "cell_type": "code",
      "execution_count": null,
      "metadata": {
        "trusted": true
      },
      "outputs": [],
      "source": "import numpy as np"
    },
    {
      "cell_type": "code",
      "execution_count": null,
      "metadata": {
        "trusted": true
      },
      "outputs": [],
      "source": "# create some artifical missing values, since there are none here\n\nbike_sharing_df['fakeNaNvals'] = bike_sharing_df['season_orig'].replace('4', np.nan)"
    },
    {
      "cell_type": "code",
      "execution_count": null,
      "metadata": {
        "trusted": true
      },
      "outputs": [],
      "source": "bike_sharing_df[['season_orig','fakeNaNvals']].info()"
    },
    {
      "cell_type": "markdown",
      "metadata": {},
      "source": "Options:\n\n* Drop records that have missing values\n  * `pd.DataFrame.dropna()`\n  * default is to drop rows. This can be explicitly specified with `pd.DataFrame.dropna(axis=0)`\n* Drop an entire feature that has lots of missing values\n  * `pd.DataFrame.drop(<feature_name>, axis=1)`\n  * \\<feature_name\\> is the name of the column to drop\n* Fill in missing values with something else\n  * Example: Impute the mean/median (if quantitative) or most common class (if categorical) for all missing values.\n  * `pd.DataFrame.fillna(value=x.mean())`\n\nTo demonstrate taking care of NaNs, let's create a copy of 5 rows of the dataframe that include NaNs -- this will make it easier to see exactly what each option does."
    },
    {
      "cell_type": "code",
      "execution_count": null,
      "metadata": {
        "trusted": true
      },
      "outputs": [],
      "source": "bike_sharing_df_nan = bike_sharing_df.loc[250:450:50,['season_orig','fakeNaNvals']].copy()\nbike_sharing_df_nan"
    },
    {
      "cell_type": "code",
      "execution_count": null,
      "metadata": {
        "trusted": true
      },
      "outputs": [],
      "source": "# Drop records that have missing values\nbike_sharing_df_nan.dropna()"
    },
    {
      "cell_type": "code",
      "execution_count": null,
      "metadata": {
        "trusted": true
      },
      "outputs": [],
      "source": "# be careful that dropna() by itself will only return a view and not modify the dataset!\nbike_sharing_df_nan"
    },
    {
      "cell_type": "code",
      "execution_count": null,
      "metadata": {
        "trusted": true
      },
      "outputs": [],
      "source": "bike_sharing_df_nan = bike_sharing_df.loc[250:450:50,['season_orig','fakeNaNvals']].copy()\n\n# Drop records that have missing values\nbike_sharing_df_nan.dropna(inplace=True)\n\nbike_sharing_df_nan"
    },
    {
      "cell_type": "code",
      "execution_count": null,
      "metadata": {
        "trusted": true
      },
      "outputs": [],
      "source": "bike_sharing_df_nan = bike_sharing_df.loc[250:450:50,['season_orig','fakeNaNvals']].copy()\n\n# Drop an entire feature that has lots of missing values\nbike_sharing_df_nan.drop('fakeNaNvals', axis=1, inplace=True)\n\nbike_sharing_df_nan"
    },
    {
      "cell_type": "code",
      "execution_count": null,
      "metadata": {
        "scrolled": true,
        "trusted": true
      },
      "outputs": [],
      "source": "bike_sharing_df_nan = bike_sharing_df.loc[250:450:50,['season_orig','fakeNaNvals']].copy()\n\n# Fill in missing values with something else\n# ERROR #1: beware the datatype!\nx = bike_sharing_df_nan['fakeNaNvals']\nx.fillna(value=x.mean())\n\nbike_sharing_df_nan"
    },
    {
      "cell_type": "code",
      "execution_count": null,
      "metadata": {
        "scrolled": true,
        "trusted": true
      },
      "outputs": [],
      "source": "bike_sharing_df_nan = bike_sharing_df.loc[250:450:50,['season_orig','fakeNaNvals']].copy()\n\n# Fill in missing values with something else\n# ERROR #2: NaNs restrict your operations!\nx = bike_sharing_df_nan['fakeNaNvals'].astype(int)\nx.fillna(value=x.mean())\n\nbike_sharing_df_nan"
    },
    {
      "cell_type": "code",
      "execution_count": null,
      "metadata": {
        "scrolled": true,
        "trusted": true
      },
      "outputs": [],
      "source": "bike_sharing_df_nan = bike_sharing_df.loc[250:450:50,['season_orig','fakeNaNvals']].copy()\n\n# Fill in missing values with something else\nx = pd.to_numeric(bike_sharing_df_nan['fakeNaNvals'], errors='coerce')\nbike_sharing_df_nan['fakeNaNvals'] = x.fillna(value=x.mean())\n\nbike_sharing_df_nan"
    },
    {
      "cell_type": "markdown",
      "metadata": {},
      "source": "## Imputation of Missing Values"
    },
    {
      "cell_type": "code",
      "execution_count": null,
      "metadata": {
        "trusted": true
      },
      "outputs": [],
      "source": "# here just for show -> windspeed has no missing values\n\nbike_sharing_df['WindspeedImputed'] = bike_sharing_df['windspeed'].fillna(bike_sharing_df['windspeed'].mean())"
    },
    {
      "cell_type": "markdown",
      "metadata": {},
      "source": "## Combining Features in Feature Engineering"
    },
    {
      "cell_type": "code",
      "execution_count": null,
      "metadata": {
        "trusted": true
      },
      "outputs": [],
      "source": "bike_sharing_df['HolidayUsage'] = bike_sharing_df['holiday'] * bike_sharing_df['casual']"
    },
    {
      "cell_type": "code",
      "execution_count": null,
      "metadata": {
        "trusted": true
      },
      "outputs": [],
      "source": "bike_sharing_df[['casual','HolidayUsage']].describe()"
    },
    {
      "cell_type": "code",
      "execution_count": null,
      "metadata": {
        "trusted": true
      },
      "outputs": [],
      "source": "bike_sharing_df['casual'].sum()"
    },
    {
      "cell_type": "code",
      "execution_count": null,
      "metadata": {
        "trusted": true
      },
      "outputs": [],
      "source": "bike_sharing_df['HolidayUsage'].sum() / bike_sharing_df['casual'].sum()"
    },
    {
      "cell_type": "code",
      "execution_count": null,
      "metadata": {
        "trusted": true
      },
      "outputs": [],
      "source": "# Interaction Terms\n\nbike_sharing_df['InteractionTerm'] = bike_sharing_df['temp'] * bike_sharing_df['hum']"
    },
    {
      "cell_type": "code",
      "execution_count": null,
      "metadata": {
        "trusted": true
      },
      "outputs": [],
      "source": "bike_sharing_df[['temp','hum','InteractionTerm','atemp']].head()"
    },
    {
      "cell_type": "markdown",
      "metadata": {},
      "source": "## Discretization"
    },
    {
      "cell_type": "code",
      "execution_count": null,
      "metadata": {
        "trusted": true
      },
      "outputs": [],
      "source": "bike_sharing_df['WindSpeedCategory'] = pd.qcut(bike_sharing_df['windspeed'], q=3, labels=['Low', 'Medium', 'High'])"
    },
    {
      "cell_type": "code",
      "execution_count": null,
      "metadata": {
        "trusted": true
      },
      "outputs": [],
      "source": "bike_sharing_df[['windspeed','WindSpeedCategory']].sample(15)"
    },
    {
      "cell_type": "markdown",
      "metadata": {},
      "source": "## Target Encoding"
    },
    {
      "cell_type": "code",
      "execution_count": null,
      "metadata": {
        "trusted": true
      },
      "outputs": [],
      "source": "mean_casual_users = bike_sharing_df.groupby('weekday')['casual'].mean()\nbike_sharing_df['WeekdayEncoded'] = bike_sharing_df['weekday'].map(mean_casual_users)"
    },
    {
      "cell_type": "code",
      "execution_count": null,
      "metadata": {
        "trusted": true
      },
      "outputs": [],
      "source": "bike_sharing_df[['weekday','casual','WeekdayEncoded']].head(15)"
    },
    {
      "cell_type": "markdown",
      "metadata": {},
      "source": "# Important: save your transformed data"
    },
    {
      "cell_type": "code",
      "execution_count": null,
      "metadata": {
        "trusted": true
      },
      "outputs": [],
      "source": "bike_sharing_df.to_csv('/home/jovyan/bike_transformed.csv')"
    },
    {
      "cell_type": "markdown",
      "metadata": {},
      "source": "There are many data transformations you can do, and many operations you may want to do on your Pandas dataframes.\n\nHere are 15 examples of some common dataframe operations.  I invite you to add to the list!\n\n1. Remove duplicate rows: `df.drop_duplicates()`\n2. Drop columns with missing values: `df.dropna(axis=1)`\n3. Fill missing values with a specific value: `df.fillna(value)`\n4. Replace values in a column: `df['column'].replace(old_value, new_value)`\n5. Rename columns: `df.rename(columns={'old_name': 'new_name'})`\n6. Sort rows by a column: `df.sort_values(by='column')`\n7. Filter rows based on a condition: `df[df['column'] > value]`\n8. Group rows by a column and calculate mean: `df.groupby('column').mean()`\n9. Apply a function to a column: `df['column'].apply(function)`\n10. Create a new column based on existing columns: `df['new_column'] = df['column1'] + df['column2']`\n11. Convert a column to datetime format: `df['date_column'] = pd.to_datetime(df['date_column'])`\n12. Extract year from a datetime column: `df['year'] = df['date_column'].dt.year`\n13. Convert categorical variables to numerical using one-hot encoding: `pd.get_dummies(df['categorical_column'])`\n14. Normalize numerical columns: `df['normalized_column'] = (df['column'] - df['column'].mean()) / df['column'].std()`\n15. Merge two dataframes based on a common column: `pd.merge(df1, df2, on='common_column')`\n\nThese are just a few examples of the many data transformations you can perform on a dataset, and remember that even these examples have functionality that can be expanded with additional input parameters that are not shown."
    }
  ],
  "metadata": {
    "kernelspec": {
      "display_name": "Python 3 (ipykernel)",
      "language": "python",
      "name": "python3"
    },
    "language_info": {
      "codemirror_mode": {
        "name": "ipython",
        "version": 3
      },
      "file_extension": ".py",
      "mimetype": "text/x-python",
      "name": "python",
      "nbconvert_exporter": "python",
      "pygments_lexer": "ipython3",
      "version": "3.11.9"
    }
  },
  "nbformat": 4,
  "nbformat_minor": 4
}