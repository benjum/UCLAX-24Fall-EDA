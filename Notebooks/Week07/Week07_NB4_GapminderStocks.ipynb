{
  "cells": [
    {
      "cell_type": "markdown",
      "id": "eadcd2e0",
      "metadata": {},
      "source": "# Visualization of a Gapminder Data Set"
    },
    {
      "cell_type": "markdown",
      "id": "9526e8f9",
      "metadata": {},
      "source": "We are going to look at Plotly's subset of data from Gapminder. \n\n[You may find it very interesting to explore https://www.gapminder.org/; Gapminder is an independent educational non-proﬁt ﬁghting global misconceptions.]"
    },
    {
      "cell_type": "markdown",
      "id": "83d556ae",
      "metadata": {},
      "source": "## First step:  import the libraries and data"
    },
    {
      "cell_type": "markdown",
      "id": "f8e75fd6-9628-4518-86da-f38c65e15e18",
      "metadata": {},
      "source": "https://plotly.com/python/time-series/"
    },
    {
      "cell_type": "code",
      "execution_count": null,
      "id": "2190509d-d2c1-46c0-bf84-d46ecc77664e",
      "metadata": {
        "trusted": true
      },
      "outputs": [],
      "source": "# We'll need to install plotly express (and upgrade seaborn)\n!pip install -U plotly_express seaborn"
    },
    {
      "cell_type": "code",
      "execution_count": null,
      "id": "f7a792f5-4b28-4786-b381-6685d36912d3",
      "metadata": {
        "trusted": true
      },
      "outputs": [],
      "source": "import matplotlib.pyplot as plt\nimport numpy as np\nimport seaborn as sns\n\nimport plotly_express as px\nimport plotly.graph_objects as go"
    },
    {
      "cell_type": "code",
      "execution_count": null,
      "id": "e88c0e30-d641-4e34-87f4-3653ad0d809a",
      "metadata": {
        "trusted": true
      },
      "outputs": [],
      "source": "px.data.gapminder()"
    },
    {
      "cell_type": "code",
      "execution_count": null,
      "id": "eb93c570-134f-462f-9958-f742c9a2e527",
      "metadata": {
        "trusted": true
      },
      "outputs": [],
      "source": "gp = px.data.gapminder()"
    },
    {
      "cell_type": "code",
      "execution_count": null,
      "id": "d3e81c7d-ec58-495d-a85d-6f47ff02f488",
      "metadata": {
        "trusted": true
      },
      "outputs": [],
      "source": "gp_usa = gp.loc[gp['country']=='United States']"
    },
    {
      "cell_type": "code",
      "execution_count": null,
      "id": "c8e40f15-42c8-496f-b719-32144e0bb3ab",
      "metadata": {
        "trusted": true
      },
      "outputs": [],
      "source": "gp_usa.plot(x='year', y='lifeExp')"
    },
    {
      "cell_type": "code",
      "execution_count": null,
      "id": "4a7b508b-5df7-475a-ad4e-ecf455eb39df",
      "metadata": {
        "trusted": true
      },
      "outputs": [],
      "source": "gp_usa.plot(x='year', y='lifeExp', kind='scatter')"
    },
    {
      "cell_type": "code",
      "execution_count": null,
      "id": "381deeb4-3419-41f5-8f9d-286240c66873",
      "metadata": {
        "trusted": true
      },
      "outputs": [],
      "source": "ax = gp_usa.plot(x='year', y='lifeExp')\ngp_usa.plot(x='year', y='lifeExp', kind='scatter', ax=ax)"
    },
    {
      "cell_type": "code",
      "execution_count": null,
      "id": "d2995ea7-66e6-46dd-9fa5-8578886a077d",
      "metadata": {
        "trusted": true
      },
      "outputs": [],
      "source": "ax = gp_usa.plot(x='year', y='lifeExp')\ngp_usa.plot(x='year', y='gdpPercap', ax=ax)"
    },
    {
      "cell_type": "code",
      "execution_count": null,
      "id": "6469e99a-d2bb-4449-97b3-7fd2814908c9",
      "metadata": {
        "trusted": true
      },
      "outputs": [],
      "source": "fig,ax=plt.subplots(2,1,sharex=True)\ngp_usa.plot(x='year', y='lifeExp', ax=ax[0])\ngp_usa.plot(x='year', y='gdpPercap', ax=ax[1])"
    },
    {
      "cell_type": "code",
      "execution_count": null,
      "id": "8bba8ea5-99f1-4f04-949f-71951bd50468",
      "metadata": {
        "trusted": true
      },
      "outputs": [],
      "source": "gp_usa[['lifeExp','gdpPercap']].corr()"
    },
    {
      "cell_type": "code",
      "execution_count": null,
      "id": "c7e1d9e5-d869-4017-a6ed-87779bd39e27",
      "metadata": {
        "trusted": true
      },
      "outputs": [],
      "source": "gp_usa.plot(x='gdpPercap', y='lifeExp', kind='scatter')"
    },
    {
      "cell_type": "markdown",
      "id": "7a6cede1-32b9-4211-ac68-bf37b2eac76f",
      "metadata": {},
      "source": "## Diversion:  Fitting lines and interpolating values"
    },
    {
      "cell_type": "code",
      "execution_count": null,
      "id": "11d6a022-11f2-4986-9a9a-546fb5932179",
      "metadata": {
        "trusted": true
      },
      "outputs": [],
      "source": "import statsmodels.api as sm\nlowess = sm.nonparametric.lowess\n\nfrom scipy.interpolate import UnivariateSpline"
    },
    {
      "cell_type": "code",
      "execution_count": null,
      "id": "389daf31-7f91-42cf-8111-584008cec10a",
      "metadata": {
        "trusted": true
      },
      "outputs": [],
      "source": "x = gp_usa['gdpPercap']\ny = gp_usa['lifeExp']"
    },
    {
      "cell_type": "code",
      "execution_count": null,
      "id": "6fe37a20-7e12-4118-9ee6-3b5aca2b366a",
      "metadata": {
        "trusted": true
      },
      "outputs": [],
      "source": "ax = gp_usa.plot(x='gdpPercap', y='lifeExp', kind='scatter', color='black')\n\nz = np.polyfit(x, y, 1)\nax.plot(x, z[1]+z[0]*x, 'blue')"
    },
    {
      "cell_type": "code",
      "execution_count": null,
      "id": "e27da574-1166-4f22-b2c9-6a1676f88889",
      "metadata": {
        "trusted": true
      },
      "outputs": [],
      "source": "ax = gp_usa.plot(x='gdpPercap', y='lifeExp', kind='scatter', color='black')\n\nz = lowess(y,x)\nax.plot(z[:,0], z[:,1], 'blue')"
    },
    {
      "cell_type": "code",
      "execution_count": null,
      "id": "07b233ff-257a-458f-82f3-8d3e9b69e1e0",
      "metadata": {
        "trusted": true
      },
      "outputs": [],
      "source": "ax = gp_usa.plot(x='gdpPercap', y='lifeExp', kind='scatter', color='black')\n\nspl = UnivariateSpline(x, y)\nax.plot(x, spl(x), 'blue')"
    },
    {
      "cell_type": "markdown",
      "id": "bbab0aaf-39ba-4497-ae10-570a77011ffe",
      "metadata": {},
      "source": "## Telling stories with animation\n\n* Use plotly for this\n* Build up our scatter plot into an animated visualization"
    },
    {
      "cell_type": "code",
      "execution_count": null,
      "id": "b1eaf694-8ba0-4e40-bca5-667be5694675",
      "metadata": {
        "trusted": true
      },
      "outputs": [],
      "source": "px.scatter(gp_usa, \n           x=\"gdpPercap\", \n           y=\"lifeExp\")"
    },
    {
      "cell_type": "markdown",
      "id": "c2f5c735-2b0d-434f-8f46-0e2f9cb2d3e0",
      "metadata": {},
      "source": "The above is just for the USA.  We're going to expand to all countries now:"
    },
    {
      "cell_type": "code",
      "execution_count": null,
      "id": "4d99b09b-d7c5-461f-8176-34b9791d6fc9",
      "metadata": {
        "trusted": true
      },
      "outputs": [],
      "source": "px.scatter(gp, \n           x=\"gdpPercap\", \n           y=\"lifeExp\")"
    },
    {
      "cell_type": "markdown",
      "id": "2c453cb8-d8a0-42f3-b742-779bac27960d",
      "metadata": {},
      "source": "Wait... not only do we not know which point is which country, we also don't know how the points evolve in time."
    },
    {
      "cell_type": "code",
      "execution_count": null,
      "id": "c94a828d-1a49-4d93-b17c-43d894e3fd97",
      "metadata": {
        "trusted": true
      },
      "outputs": [],
      "source": "px.scatter(gp, \n           x=\"year\", \n           y=\"lifeExp\")"
    },
    {
      "cell_type": "markdown",
      "id": "9edc0772-1204-40b1-986b-3b946082e957",
      "metadata": {},
      "source": "We could look at a plot of all values for a given year."
    },
    {
      "cell_type": "code",
      "execution_count": null,
      "id": "ecad14d9-2b2b-4f9d-9eac-3467bada06ba",
      "metadata": {
        "trusted": true
      },
      "outputs": [],
      "source": "years = gp.year.unique()\n\ni = years[0]\n\npx.scatter(gp.loc[gp['year']==i], \n           x=\"gdpPercap\", \n           y=\"lifeExp\")"
    },
    {
      "cell_type": "markdown",
      "id": "fb6b756f-606d-4b50-8503-8a3737f564fb",
      "metadata": {},
      "source": "What's that outlier?\n\nLet's add 'hover_name' so that we can more easily get information about points by simply moving our mouse to them."
    },
    {
      "cell_type": "code",
      "execution_count": null,
      "id": "bebd1fe6-b3d0-4214-bdc5-e1045e593125",
      "metadata": {
        "trusted": true
      },
      "outputs": [],
      "source": "i = years[0]\n\npx.scatter(gp.loc[gp['year']==i], \n           x=\"gdpPercap\", \n           y=\"lifeExp\",\n           hover_name='country')"
    },
    {
      "cell_type": "markdown",
      "id": "ec351d97-28dd-40d9-baed-f841ad73dacd",
      "metadata": {},
      "source": "One way to look at time -> manually change what time you are plotting"
    },
    {
      "cell_type": "code",
      "execution_count": null,
      "id": "017fd326-09f0-4e1b-a51e-46354ed481b5",
      "metadata": {
        "trusted": true
      },
      "outputs": [],
      "source": "i = years[10]\n\npx.scatter(gp.loc[gp['year']==i], \n           x=\"gdpPercap\", \n           y=\"lifeExp\",\n           hover_name='country',\n           log_x=True)"
    },
    {
      "cell_type": "markdown",
      "id": "3014cb72-5529-450e-aa2f-81c619f47cb9",
      "metadata": {},
      "source": "Another way to visualize change over time -> dynamically change the plot in real time"
    },
    {
      "cell_type": "code",
      "execution_count": null,
      "id": "a8817f5c-a3b9-4548-9454-5e395244dc20",
      "metadata": {
        "trusted": true
      },
      "outputs": [],
      "source": "i = years[10]\n\n# px.scatter(gp.loc[gp['year']==i], \npx.scatter(gp, \n           x=\"gdpPercap\", \n           y=\"lifeExp\",\n           hover_name='country',\n           log_x=True,\n           animation_frame=\"year\")"
    },
    {
      "cell_type": "markdown",
      "id": "88e527bb-615d-433e-9e60-66953be5a3f9",
      "metadata": {},
      "source": "How do we know what's evolving where?"
    },
    {
      "cell_type": "markdown",
      "id": "6cc0b670",
      "metadata": {},
      "source": "This will benefit from further customization:\n\n* At the moment, the scale has lots of low gdpPercap.  We can stretch out this scale to make the separation more visible by making it log scale.\n* How do we know what's evolving where?\n  * Add color so we can keep track of individual points\n  * Lots of colors.... so also add population to distinguish the dots\n* Change the axes' ranges to keep all points within the visualized space\n* Change the axis ratio to spread out the points\n* Change the size of the points to make it easier on our eyes to see smaller points\n\n* **Change how we look at time:**\n  * One way to look at time -> manually change what time you are plotting\n  * Another way to visualize change over time -> dynamically change the plot in real time"
    },
    {
      "cell_type": "code",
      "execution_count": null,
      "id": "c7c7edab",
      "metadata": {
        "trusted": true
      },
      "outputs": [],
      "source": "px.scatter(gp, \n           x=\"gdpPercap\", \n           y=\"lifeExp\",\n           hover_name='country', color='country', size='pop',\n           log_x=True,\n           range_x=[100,100000], \n           range_y=[25,90],\n           width=800, \n           height=600,\n           size_max=60,\n           template='simple_white',\n           animation_frame=\"year\",\n          )"
    },
    {
      "cell_type": "markdown",
      "id": "10bb2cab-b56c-4902-8ca8-1c86652cc4ac",
      "metadata": {},
      "source": "## Bringing it back around to something quantitative"
    },
    {
      "cell_type": "code",
      "execution_count": null,
      "id": "f75259d6-9c04-4cef-9f21-32e01a49e528",
      "metadata": {
        "trusted": true
      },
      "outputs": [],
      "source": "gp_china = gp.loc[gp['country']=='China']\n\nx = gp_china['gdpPercap']\ny = gp_china['lifeExp']\n\nax = gp_china.plot(x='gdpPercap', y='lifeExp', kind='scatter', color='black')\n\nz = np.polyfit(x, y, 1)\nax.plot(x, z[1]+z[0]*x, 'blue')"
    },
    {
      "cell_type": "markdown",
      "id": "be804230-2e88-486e-8e19-7ba40edf6829",
      "metadata": {},
      "source": "While the linear fit for the USA was not too bad, here the linear fit clearly looks bad.\n* China's GDP per capita and life expectancy did not increase at constant rates over this time period.\n* The GDP per capita evolved more slowly before ~1980 than after 1980."
    },
    {
      "cell_type": "code",
      "execution_count": null,
      "id": "f69e50f3-eacd-4c0d-8dd6-670ab77c9ae3",
      "metadata": {
        "trusted": true
      },
      "outputs": [],
      "source": "fig,ax=plt.subplots(2,1,sharex=True,figsize=(8,6))\n\ngp_usa.plot(x='year', y='lifeExp', ax=ax[0], color='black', label='USA')\ngp_china.plot(x='year', y='lifeExp', ax=ax[0], color='blue', label='China')\nax[0].set_title('Life Expectancy')\n\ngp_usa.plot(x='year', y='gdpPercap', ax=ax[1], color='black', label='USA')\ngp_china.plot(x='year', y='gdpPercap', ax=ax[1], color='blue', label='China')\nax[1].set_title('GDP Per Capita')\n\nplt.show()"
    },
    {
      "cell_type": "markdown",
      "id": "27773f01-9a34-48e8-a996-6c4cc95ee4f0",
      "metadata": {},
      "source": "# Stocks\n\nExamples of a few cool time series plots to make with plotly."
    },
    {
      "cell_type": "code",
      "execution_count": null,
      "id": "5f18c028-bcc9-4067-8dec-f892f266567c",
      "metadata": {
        "trusted": true
      },
      "outputs": [],
      "source": "help(px.data)"
    },
    {
      "cell_type": "code",
      "execution_count": null,
      "id": "c53c0bd0-f6db-457a-a83b-e208ae404bad",
      "metadata": {
        "trusted": true
      },
      "outputs": [],
      "source": "df = px.data.stocks()"
    },
    {
      "cell_type": "code",
      "execution_count": null,
      "id": "f34b960e-f5df-4e91-90c3-cabec462e557",
      "metadata": {
        "trusted": true
      },
      "outputs": [],
      "source": "df"
    },
    {
      "cell_type": "code",
      "execution_count": null,
      "id": "a448ab62-be5f-489b-a8fd-141a5842d5b0",
      "metadata": {
        "trusted": true
      },
      "outputs": [],
      "source": "sns.lineplot(data=df.set_index('date'))"
    },
    {
      "cell_type": "code",
      "execution_count": null,
      "id": "4741a4d6-a298-4e4c-9708-ac2fac0f7fde",
      "metadata": {
        "trusted": true
      },
      "outputs": [],
      "source": "fig = px.line(df,x='date', y='GOOG', title=\"GOOG stocks\")\nfig.show()"
    },
    {
      "cell_type": "code",
      "execution_count": null,
      "id": "fa099a8b-2216-458c-9849-447697f8195f",
      "metadata": {
        "trusted": true
      },
      "outputs": [],
      "source": "df_diff = df.copy()\ndf_diff.loc[:,df_diff.columns != 'date'] = df_diff.loc[:,df_diff.columns != 'date'] - 1"
    },
    {
      "cell_type": "code",
      "execution_count": null,
      "id": "805c7c17-1906-4973-bbd3-efeeb3cad548",
      "metadata": {
        "trusted": true
      },
      "outputs": [],
      "source": "fig = px.bar(df_diff, x='date', y=\"GOOG\")\nfig.show()"
    },
    {
      "cell_type": "code",
      "execution_count": null,
      "id": "ca791ff0-b697-4710-8b3f-9d20aa67a840",
      "metadata": {
        "trusted": true
      },
      "outputs": [],
      "source": "px.data.stocks(indexed=True)"
    },
    {
      "cell_type": "code",
      "execution_count": null,
      "id": "b502acb3",
      "metadata": {
        "trusted": true
      },
      "outputs": [],
      "source": "df_diff"
    },
    {
      "cell_type": "code",
      "execution_count": null,
      "id": "3f93e2e4-dcea-4a7d-848d-6a9746b11c7a",
      "metadata": {
        "trusted": true
      },
      "outputs": [],
      "source": "df_diff.set_index('date')"
    },
    {
      "cell_type": "code",
      "execution_count": null,
      "id": "997ce999-a5ad-47dd-998c-570956c7e9a9",
      "metadata": {
        "trusted": true
      },
      "outputs": [],
      "source": "df_diff.columns = df_diff.columns.rename('company')"
    },
    {
      "cell_type": "code",
      "execution_count": null,
      "id": "658fb62f-e240-4dd4-9d10-73c50951e5a9",
      "metadata": {
        "trusted": true
      },
      "outputs": [],
      "source": "df_diff"
    },
    {
      "cell_type": "code",
      "execution_count": null,
      "id": "36ba8fac-28c0-4d0b-abc3-24b74c01e7e0",
      "metadata": {
        "trusted": true
      },
      "outputs": [],
      "source": "df_diff = df_diff.set_index('date')\ndf_diff"
    },
    {
      "cell_type": "code",
      "execution_count": null,
      "id": "aa617731-357a-4b5d-9ad6-380c838198ea",
      "metadata": {
        "trusted": true
      },
      "outputs": [],
      "source": "fig = px.area(df_diff, facet_col='company', facet_col_wrap=3)\nfig.show()"
    },
    {
      "cell_type": "code",
      "execution_count": null,
      "id": "4d9942d6-9233-4dda-81c9-b4e28c4c9a95",
      "metadata": {
        "trusted": true
      },
      "outputs": [],
      "source": "fig = px.line(df,x='date', y='AAPL', title=\"AAPL stocks\", \n              range_x=['2018-07-01','2019-12-31'])\nfig.show()"
    },
    {
      "cell_type": "code",
      "execution_count": null,
      "id": "92f0a94e-97ab-4f7b-a433-a62f3e7816bc",
      "metadata": {
        "trusted": true
      },
      "outputs": [],
      "source": "fig = px.line(df,x='date', y=df.columns[1:6], title=\"6 company stocks plot\")\nfig.show()"
    },
    {
      "cell_type": "code",
      "execution_count": null,
      "id": "cc17ae06-de53-418d-b69c-fa8e6420dca0",
      "metadata": {
        "trusted": true
      },
      "outputs": [],
      "source": "fig = px.line(df,x='date', y=df.columns[1:6], title=\"6 company stocks plot\")\nfig.update_xaxes(\n    dtick=\"M1\",\n    tickformat=\"%b\\n%Y\")\nfig.show()"
    },
    {
      "cell_type": "code",
      "execution_count": null,
      "id": "1ef18fd5-e1ae-4e3c-9d8d-fcbc5a285ac9",
      "metadata": {
        "trusted": true
      },
      "outputs": [],
      "source": "fig = px.line(df,x='date', y=df.columns[1:7], title=\"6 company stocks plot\")\nfig.update_xaxes(\n    dtick=\"M1\",\n    tickformat=\"%b\\n%Y\")\nfig.update_layout(template=go.layout.Template())\nfig.show()"
    },
    {
      "cell_type": "code",
      "execution_count": null,
      "id": "2369a550-8fb5-45f7-9f6c-67dcc0475fd7",
      "metadata": {
        "trusted": true
      },
      "outputs": [],
      "source": "fig = px.scatter(df,x=df['date'], y=df.columns[1:7])\nfig.show()"
    },
    {
      "cell_type": "code",
      "execution_count": null,
      "id": "9551dbf3-6989-47af-b02c-7527da5f0209",
      "metadata": {
        "trusted": true
      },
      "outputs": [],
      "source": "fig = px.scatter(df,x=df['date'], y=df.columns[1:7])\nfig.update_xaxes(rangeslider_visible=True)\nfig.show()"
    },
    {
      "cell_type": "code",
      "execution_count": null,
      "id": "fc61dd06-0864-4f89-95c8-bf039602a88a",
      "metadata": {
        "trusted": true
      },
      "outputs": [],
      "source": "fig = px.area(df,x='date', y=df.columns[1:7], height=600)\nfig.update_xaxes(rangeslider_visible=True)\nfig.show()"
    }
  ],
  "metadata": {
    "kernelspec": {
      "display_name": "Python 3 (ipykernel)",
      "language": "python",
      "name": "python3"
    },
    "language_info": {
      "codemirror_mode": {
        "name": "ipython",
        "version": 3
      },
      "file_extension": ".py",
      "mimetype": "text/x-python",
      "name": "python",
      "nbconvert_exporter": "python",
      "pygments_lexer": "ipython3",
      "version": "3.11.9"
    }
  },
  "nbformat": 4,
  "nbformat_minor": 5
}