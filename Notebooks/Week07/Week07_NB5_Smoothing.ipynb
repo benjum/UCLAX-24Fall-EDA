{
  "cells": [
    {
      "cell_type": "markdown",
      "id": "789ce2c8-8c9a-4a33-8db3-e1915c37e2c2",
      "metadata": {},
      "source": "# Smoothing"
    },
    {
      "cell_type": "code",
      "execution_count": null,
      "id": "47e3716e-dbf6-4e38-8bb2-780059e7e7f7",
      "metadata": {
        "trusted": true
      },
      "outputs": [],
      "source": "import pandas as pd\nimport numpy as np\nimport matplotlib.pyplot as plt"
    },
    {
      "cell_type": "markdown",
      "id": "5d590242-d290-4c77-b216-17a3d8a8d62a",
      "metadata": {},
      "source": "Generate an artifical (and noisy) signal"
    },
    {
      "cell_type": "code",
      "execution_count": null,
      "id": "17b2466d-eb2a-46f4-8405-d4625aca543b",
      "metadata": {
        "trusted": true
      },
      "outputs": [],
      "source": "np.random.seed(42)\nnoise = np.random.normal(0,1.5,365*5)"
    },
    {
      "cell_type": "code",
      "execution_count": null,
      "id": "ead7e66f-1d16-4bdd-9cd0-b12b9efe294a",
      "metadata": {
        "trusted": true
      },
      "outputs": [],
      "source": "x = np.linspace(0,5,5*365)"
    },
    {
      "cell_type": "code",
      "execution_count": null,
      "id": "f0a36d29-1872-421a-b541-f2651390fb03",
      "metadata": {
        "trusted": true
      },
      "outputs": [],
      "source": "y = 2*x + np.sin(2*np.pi*x/(1/2)) + noise"
    },
    {
      "cell_type": "code",
      "execution_count": null,
      "id": "07f75832-ff11-4126-b9f2-ad2dd1b3ca2a",
      "metadata": {
        "trusted": true
      },
      "outputs": [],
      "source": "plt.plot(x,y)"
    },
    {
      "cell_type": "markdown",
      "id": "af664b34-89ef-4bef-b438-753fbdbd79e6",
      "metadata": {},
      "source": "We'll turn it into a simple Pandas dataframe to use some convenient methods."
    },
    {
      "cell_type": "code",
      "execution_count": null,
      "id": "0bfb5d39-8cb6-4490-9181-ac809ffeb770",
      "metadata": {
        "trusted": true
      },
      "outputs": [],
      "source": "d = pd.DataFrame({'time':x, 'y':y})"
    },
    {
      "cell_type": "code",
      "execution_count": null,
      "id": "9b251e65-fff1-4c44-8c5c-ccb354d4c268",
      "metadata": {
        "trusted": true
      },
      "outputs": [],
      "source": "d"
    },
    {
      "cell_type": "code",
      "execution_count": null,
      "id": "f93ed67a-aa3e-40f5-94f0-f045513dfe9d",
      "metadata": {
        "trusted": true
      },
      "outputs": [],
      "source": "d.set_index('time', inplace=True)"
    },
    {
      "cell_type": "code",
      "execution_count": null,
      "id": "f969601c-1ae1-47d9-a5fc-c22fbee7b6d7",
      "metadata": {
        "trusted": true
      },
      "outputs": [],
      "source": "d"
    },
    {
      "cell_type": "markdown",
      "id": "7644983e-35b9-4b09-967c-d3311cbf3ac0",
      "metadata": {},
      "source": "`rolling` allows us to do aggregation over a moving window."
    },
    {
      "cell_type": "code",
      "execution_count": null,
      "id": "7d115ea9-f8b5-427f-933a-99bbe81c5a06",
      "metadata": {
        "trusted": true
      },
      "outputs": [],
      "source": "d.rolling(7)"
    },
    {
      "cell_type": "code",
      "execution_count": null,
      "id": "bc0eb08a-0f5a-41b7-80a4-4e9c40a0c057",
      "metadata": {
        "trusted": true
      },
      "outputs": [],
      "source": "d.rolling(7).mean().plot()"
    },
    {
      "cell_type": "code",
      "execution_count": null,
      "id": "34dd764f-5e6b-42f0-9d59-be65da16875c",
      "metadata": {
        "trusted": true
      },
      "outputs": [],
      "source": "fig,ax=plt.subplots(2,1,figsize=(8,5))\nd.plot(ax=ax[0])\nd.rolling(7).mean().plot(ax=ax[1])"
    },
    {
      "cell_type": "code",
      "execution_count": null,
      "id": "e32a2bab-f4de-484b-97e2-96f0024e02bf",
      "metadata": {
        "trusted": true
      },
      "outputs": [],
      "source": "fig,ax=plt.subplots(2,1,figsize=(8,5))\nd.plot(ax=ax[0])\nd.rolling(7).mean().plot(ax=ax[1])\nd.rolling(21).mean().plot(ax=ax[1])"
    },
    {
      "cell_type": "code",
      "execution_count": null,
      "id": "ca5751c3-5581-4d92-8128-cbf3ed02982a",
      "metadata": {
        "trusted": true
      },
      "outputs": [],
      "source": "fig,ax=plt.subplots(2,1,figsize=(8,5),sharex=True)\nd.iloc[0:42].plot(ax=ax[0])\nd.iloc[0:42].rolling(7).mean().plot(ax=ax[1])\nd.iloc[0:42].rolling(21).mean().plot(ax=ax[1])\nax[0].legend(['rolling 7'])\nax[1].legend(['rolling 7','rolling 21'])"
    },
    {
      "cell_type": "markdown",
      "id": "711ff21d-6192-4fbb-8a45-a2fb1fd5686b",
      "metadata": {},
      "source": "Other smoothing techniques:\n* LOWESS : https://www.statsmodels.org/dev/generated/statsmodels.nonparametric.smoothers_lowess.lowess.html\n* SciPy's UnivariateSpline : "
    },
    {
      "cell_type": "code",
      "execution_count": null,
      "id": "1c32a857-f3cc-4a87-a391-6382b4333419",
      "metadata": {
        "trusted": true
      },
      "outputs": [],
      "source": "d"
    },
    {
      "cell_type": "code",
      "execution_count": null,
      "id": "5684098d-13bb-48c5-ab6d-30a7eec165d9",
      "metadata": {
        "trusted": true
      },
      "outputs": [],
      "source": "d.index"
    },
    {
      "cell_type": "markdown",
      "id": "69072681-fd07-4ecc-80c2-e4516b2745a3",
      "metadata": {},
      "source": "## LOWESS"
    },
    {
      "cell_type": "code",
      "execution_count": null,
      "id": "98189abb-8f25-4032-84d4-7f8884bc53a9",
      "metadata": {
        "trusted": true
      },
      "outputs": [],
      "source": "import statsmodels.api as sm\nlowess = sm.nonparametric.lowess"
    },
    {
      "cell_type": "code",
      "execution_count": null,
      "id": "59d54ab1-2b03-4d03-aca3-2693c754d0a9",
      "metadata": {
        "trusted": true
      },
      "outputs": [],
      "source": "z = lowess(y,x)"
    },
    {
      "cell_type": "markdown",
      "id": "37188024-895b-4179-9c43-73f45544a0d3",
      "metadata": {},
      "source": "z here will be two-dimensional, containing the sorted x and the lowess y."
    },
    {
      "cell_type": "code",
      "execution_count": null,
      "id": "9a6385f5-61db-4349-8742-785931d156c9",
      "metadata": {
        "trusted": true
      },
      "outputs": [],
      "source": "plt.plot(x,y)\nplt.plot(z[:,0],z[:,1])"
    },
    {
      "cell_type": "markdown",
      "id": "ebc64225-e43d-47e2-a09f-028fd9854f4f",
      "metadata": {},
      "source": "You can specify the fraction of points over which to do the LOWESS in the method call."
    },
    {
      "cell_type": "code",
      "execution_count": null,
      "id": "5fba703c-3824-4d7f-8aa2-3d79ab95debd",
      "metadata": {
        "trusted": true
      },
      "outputs": [],
      "source": "z = lowess(y,x,frac=0.01)"
    },
    {
      "cell_type": "code",
      "execution_count": null,
      "id": "4e1ca961-f4e3-4509-9f78-0a8b59e2e090",
      "metadata": {
        "trusted": true
      },
      "outputs": [],
      "source": "plt.plot(x,y)\nplt.plot(z[:,0],z[:,1])"
    },
    {
      "cell_type": "markdown",
      "id": "136e51b2-3e36-4ed9-8652-022caff696d3",
      "metadata": {},
      "source": "## Splines"
    },
    {
      "cell_type": "code",
      "execution_count": null,
      "id": "27f92fa7-903b-4fa8-a887-b66409da3c55",
      "metadata": {
        "trusted": true
      },
      "outputs": [],
      "source": "from scipy.interpolate import UnivariateSpline\nfrom scipy.interpolate import BSpline"
    },
    {
      "cell_type": "code",
      "execution_count": null,
      "id": "c2b323b9-b315-49f5-ac0c-7df1c6b24058",
      "metadata": {
        "trusted": true
      },
      "outputs": [],
      "source": "spl = UnivariateSpline(x, y)"
    },
    {
      "cell_type": "markdown",
      "id": "e581e9e1-7891-4fed-8e86-799b47126274",
      "metadata": {},
      "source": "This is a spline object which will give other values of y for any x that you pass into it."
    },
    {
      "cell_type": "code",
      "execution_count": null,
      "id": "476337f1-fda4-4dff-8aaa-5b7e0b0a6d07",
      "metadata": {
        "trusted": true
      },
      "outputs": [],
      "source": "spl"
    },
    {
      "cell_type": "code",
      "execution_count": null,
      "id": "1efd813c-9b69-414a-8095-84b8ec974593",
      "metadata": {
        "trusted": true
      },
      "outputs": [],
      "source": "plt.plot(x,y)\nplt.plot(x,spl(x))"
    },
    {
      "cell_type": "markdown",
      "id": "d82af8ea-fee5-47fa-b437-1c12ae7d1056",
      "metadata": {},
      "source": "Splines are commonly used for interpolation (as indeed you can see from the import statement).  Let's make a more sparse set of data."
    },
    {
      "cell_type": "code",
      "execution_count": null,
      "id": "ae60c4c8-7afd-462f-b2c9-cadeb1380a3e",
      "metadata": {
        "trusted": true
      },
      "outputs": [],
      "source": "np.random.seed(42)\nnoise = np.random.normal(0,1.5,50)\n\nx = np.linspace(0, 10, 50)\ny = 4 + 2*x - x**2 + 0.075*x**3 + noise\nytrue = 4 + 2*x - x**2 + 0.075*x**3"
    },
    {
      "cell_type": "code",
      "execution_count": null,
      "id": "5fb07d25-acd4-44c7-af34-d8da185d062f",
      "metadata": {
        "trusted": true
      },
      "outputs": [],
      "source": "plt.plot(x,y,'ko')\nplt.plot(x,ytrue,'b')"
    },
    {
      "cell_type": "code",
      "execution_count": null,
      "id": "65681ecb-4378-4898-80e1-41482177d9ce",
      "metadata": {
        "trusted": true
      },
      "outputs": [],
      "source": "spl = UnivariateSpline(x, y)"
    },
    {
      "cell_type": "code",
      "execution_count": null,
      "id": "60bdfa82-c715-48e2-a5c3-e94cf269f183",
      "metadata": {
        "trusted": true
      },
      "outputs": [],
      "source": "plt.plot(x,y,'ko')\nplt.plot(x,ytrue,'b')\nxnew = np.linspace(0, 10, 1000)\nplt.plot(xnew,spl(xnew))"
    },
    {
      "cell_type": "code",
      "execution_count": null,
      "id": "6c37e8aa-98ab-430e-8cf4-a58ba60ea874",
      "metadata": {
        "trusted": true
      },
      "outputs": [],
      "source": "spl.set_smoothing_factor(100)"
    },
    {
      "cell_type": "code",
      "execution_count": null,
      "id": "bebff1d2-51f7-401b-9962-7ac547382af1",
      "metadata": {
        "trusted": true
      },
      "outputs": [],
      "source": "plt.plot(x,y,'ko')\nplt.plot(x,ytrue,'b')\nxnew = np.linspace(0, 10, 1000)\nplt.plot(xnew,spl(xnew))"
    },
    {
      "cell_type": "code",
      "execution_count": null,
      "id": "0c218842-bd11-4a57-8ace-54f64dcc70fd",
      "metadata": {
        "trusted": true
      },
      "outputs": [],
      "source": "spl = BSpline(x,y,3,False)\n# the 4 here is the order of the spline\n# the False specifies whether the spline should be extrapolated up to the edge\n\nplt.plot(x,y,'ko')\nplt.plot(x,ytrue,'b')\nxnew = np.linspace(0, 10, 1000)\nplt.plot(xnew,spl(xnew))"
    },
    {
      "cell_type": "markdown",
      "id": "da399975-0ba8-463b-add9-ead37961d050",
      "metadata": {},
      "source": "For good measure, let's also compare the LOWESS on this data."
    },
    {
      "cell_type": "code",
      "execution_count": null,
      "id": "11b62398-178e-4efc-8ed4-456464f97c41",
      "metadata": {
        "trusted": true
      },
      "outputs": [],
      "source": "z = lowess(y,x)\n#z = lowess(y,x,0.2)"
    },
    {
      "cell_type": "code",
      "execution_count": null,
      "id": "487dec6a-7aa1-4e6e-83bc-50852a9fd71a",
      "metadata": {
        "trusted": true
      },
      "outputs": [],
      "source": "plt.plot(x,y,'ko')\nplt.plot(x,ytrue,'b')\nplt.plot(z[:,0], z[:,1])"
    },
    {
      "cell_type": "markdown",
      "id": "216d8038-dd7e-4d5a-a6ec-f0679d2776b1",
      "metadata": {},
      "source": "## Polynomial fit"
    },
    {
      "cell_type": "code",
      "execution_count": null,
      "id": "acd701e0-c3a5-4a31-b9d0-3023eda09e2c",
      "metadata": {
        "trusted": true
      },
      "outputs": [],
      "source": "z = np.polyfit(x, y, 3)"
    },
    {
      "cell_type": "code",
      "execution_count": null,
      "id": "cb2c8679-44b9-4868-b249-b36d7bb7ae67",
      "metadata": {
        "trusted": true
      },
      "outputs": [],
      "source": "z"
    },
    {
      "cell_type": "markdown",
      "id": "145b2cc6-b86c-4733-b3d2-27f75014eed5",
      "metadata": {},
      "source": "From before:\n$y_{true} = 4 + 2x - x^2 + 0.075x^3$\n\nThe coefficients are written from high order to low order."
    },
    {
      "cell_type": "code",
      "execution_count": null,
      "id": "60ee9a28-28de-4d08-9fbb-c343ab170e3d",
      "metadata": {
        "trusted": true
      },
      "outputs": [],
      "source": "z[0]"
    },
    {
      "cell_type": "code",
      "execution_count": null,
      "id": "cac327d0-498a-4708-aed5-6df45bfd15d4",
      "metadata": {
        "trusted": true
      },
      "outputs": [],
      "source": "plt.plot(x,y,'ko')\nplt.plot(x,ytrue,'b')\nxnew = np.linspace(0, 10, 1000)\nplt.plot(xnew, z[3] + z[2]*xnew + z[1]*xnew**2 + z[0]*xnew**3)"
    },
    {
      "cell_type": "markdown",
      "id": "4258b75b-d7fa-48c4-90d8-8d1b48740a8b",
      "metadata": {},
      "source": "The advantage here?\n-> we get an equation with known coefficients -> much more interpretable than simply having a smooth curve"
    }
  ],
  "metadata": {
    "kernelspec": {
      "display_name": "Python 3 (ipykernel)",
      "language": "python",
      "name": "python3"
    },
    "language_info": {
      "codemirror_mode": {
        "name": "ipython",
        "version": 3
      },
      "file_extension": ".py",
      "mimetype": "text/x-python",
      "name": "python",
      "nbconvert_exporter": "python",
      "pygments_lexer": "ipython3",
      "version": "3.11.9"
    }
  },
  "nbformat": 4,
  "nbformat_minor": 5
}