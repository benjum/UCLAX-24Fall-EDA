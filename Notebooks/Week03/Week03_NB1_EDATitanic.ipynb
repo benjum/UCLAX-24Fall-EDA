{
  "cells": [
    {
      "cell_type": "markdown",
      "id": "0df8dd28-4f1d-4f25-b707-bf91adfa539c",
      "metadata": {},
      "source": "# Exploratory Data Analysis with the Titanic Dataset\n\nThis dataset is the training dataset from Kaggle's [\"Titanic - Machine Learning from Disaster\"](https://www.kaggle.com/c/titanic)"
    },
    {
      "cell_type": "markdown",
      "id": "8ee3984c-b7ae-466f-9b76-e6e0c08f1912",
      "metadata": {},
      "source": "## Import module"
    },
    {
      "cell_type": "code",
      "execution_count": null,
      "id": "f5f032ad-7e1d-479d-a27d-bec9570b3467",
      "metadata": {
        "trusted": true
      },
      "outputs": [],
      "source": "# import the module to use pandas and give it the alias \"pd\"\n\nimport pandas as pd"
    },
    {
      "cell_type": "markdown",
      "id": "9884cdec-0352-4c04-bf32-96f397abdd71",
      "metadata": {},
      "source": "## Import the data"
    },
    {
      "cell_type": "code",
      "execution_count": null,
      "id": "873d972f-7cb3-4672-828a-b894727d4c37",
      "metadata": {
        "trusted": true
      },
      "outputs": [],
      "source": "# The dataset is contained in a CSV file, \"data/titanic.csv\".\n# Use pandas read_csv function to import the data into a dataframe.\n\ndf = pd.read_csv('https://raw.githubusercontent.com/benjum/UCLAX-24Fall-EDA/main/Data/titanic.csv')"
    },
    {
      "cell_type": "markdown",
      "id": "b6858774-051b-4bc0-8db0-64dd9750fddf",
      "metadata": {},
      "source": "## Look at the data\n\n* look at snapshots of the dataframe\n  * `df`, `df.head()`, `df.tail()`, `df.sample()`\n* look at the sizes\n  * `df.shape`: look at the size of the data\n* look at column names\n  * `df.columns`: look at column names\n* look at summary information\n  * `df.describe()`: statistical summary info\n  * `df.info()`: data types, sizes, column labels, null values"
    },
    {
      "cell_type": "code",
      "execution_count": null,
      "id": "37bb6448-ea16-4def-bb05-a595b22822a5",
      "metadata": {
        "tags": [],
        "trusted": true
      },
      "outputs": [],
      "source": "# Put the dataframe variable by itself on a line and execute the cell\n# You should see an abbreviated output of the dataframe contents\n\ndf"
    },
    {
      "cell_type": "code",
      "execution_count": null,
      "id": "44563cb1-2612-4c5b-ac53-2331edb8ff5d",
      "metadata": {
        "trusted": true
      },
      "outputs": [],
      "source": "# What happens when you print the dataframe with the print function?\n\nprint(df)"
    },
    {
      "cell_type": "code",
      "execution_count": null,
      "id": "fca7461e-1140-4f1d-b85c-fc49dc7f812d",
      "metadata": {
        "tags": [],
        "trusted": true
      },
      "outputs": [],
      "source": "# Look at the first 5 rows\n\ndf.head()"
    },
    {
      "cell_type": "code",
      "execution_count": null,
      "id": "cd4c2c14-9b3f-46d4-af9a-22e069973bca",
      "metadata": {
        "tags": [],
        "trusted": true
      },
      "outputs": [],
      "source": "# Look at the last 5 rows\n\ndf.tail(5)"
    },
    {
      "cell_type": "code",
      "execution_count": null,
      "id": "ced9f858-6725-4bde-ac3b-acddba16959a",
      "metadata": {
        "tags": [],
        "trusted": true
      },
      "outputs": [],
      "source": "# Look at 5 sample rows\n\ndf.sample(5)"
    },
    {
      "cell_type": "code",
      "execution_count": null,
      "id": "bc0a94b9-f7a2-4c37-a43e-e3b0249d9f48",
      "metadata": {
        "trusted": true
      },
      "outputs": [],
      "source": "# Look at the number of rows and columns\n\ndf.shape"
    },
    {
      "cell_type": "markdown",
      "id": "36bc7c18-eb65-4fce-8fbe-bb09354b5ff3",
      "metadata": {},
      "source": "Look at the description and details of the training data on the data page:\nhttps://www.kaggle.com/competitions/titanic/data?select=train.csv\n\nDo your number of rows and columns match with the description/details?\n\n-> There are 891 passengers, 12 columns of features"
    },
    {
      "cell_type": "code",
      "execution_count": null,
      "id": "082d86be-b910-40ed-8b86-321a07e74e7e",
      "metadata": {
        "trusted": true
      },
      "outputs": [],
      "source": "# Look at the column names\n# Do these match your expectations based on the documentation? (included below)\n\ndf.columns"
    },
    {
      "cell_type": "markdown",
      "id": "ecdf92d5-9b8e-4faf-8171-05f072843443",
      "metadata": {},
      "source": "-> These are the column names\n\nLet's consult information from the Kaggle site to get more information."
    },
    {
      "cell_type": "markdown",
      "id": "3ef174eb-3a41-4705-b9d6-1ebfc8d58219",
      "metadata": {
        "tags": []
      },
      "source": "| Variable | Definition | Key| \n| :-- | :-- | :-- |\n| survival | Survival | 0 = No, 1 = Yes| \n| pclass | Ticket class | 1 = 1st, 2 = 2nd, 3 = 3rd| \n| sex | Sex | | \n| Age | Age in years | | \n| sibsp | # of siblings / spouses aboard the Titanic | | \n| parch | # of parents / children aboard the Titanic | | \n| ticket | Ticket number | | \n| fare | Passenger fare | | \n| cabin | Cabin number | | \n| embarked | Port of Embarkation | C = Cherbourg, Q = Queenstown, S = Southampton| "
    },
    {
      "cell_type": "markdown",
      "id": "b2da4e26-d542-4500-82b2-365d921553d2",
      "metadata": {
        "tags": []
      },
      "source": "**Variable Notes**\n\npclass: A proxy for socio-economic status (SES)\n* 1st = Upper\n* 2nd = Middle\n* 3rd = Lower\n\nage: Age is fractional if less than 1. If the age is estimated, is it in the form of xx.5\n\nsibsp: The dataset defines family relations in this way...\n* Sibling = brother, sister, stepbrother, stepsister\n* Spouse = husband, wife (mistresses and fiancés were ignored)\n\nparch: The dataset defines family relations in this way...\n* Parent = mother, father\n* Child = daughter, son, stepdaughter, stepson\n* Some children travelled only with a nanny, therefore parch=0 for them."
    },
    {
      "cell_type": "code",
      "execution_count": null,
      "id": "6170cb7e-f77b-4229-a39f-2c6d45632e3a",
      "metadata": {
        "trusted": true
      },
      "outputs": [],
      "source": "# Use the describe method to get summary statistical information about the quantitative data\n\ndf.describe()"
    },
    {
      "cell_type": "markdown",
      "id": "d5367773-8eb4-4b7e-a58d-9d642791bc11",
      "metadata": {},
      "source": "* What information does this show?\n  * What is the average survival rate?\n  * What is the age range?\n  * What is the mean age?\n  * How many have siblings or spounses?\n  * How does the standard deviaton of the fare compare with its mean value?\n\nAre the answers to the above reasonable?"
    },
    {
      "cell_type": "markdown",
      "id": "ae5b85d6-3803-4cb8-bd20-8d48c1e81395",
      "metadata": {},
      "source": "## Aside: Checking categorical variables"
    },
    {
      "cell_type": "code",
      "execution_count": null,
      "id": "6def6a49-e25b-457a-9dce-d64bf9a97075",
      "metadata": {
        "trusted": true
      },
      "outputs": [],
      "source": "# You can use the describe method to also get summary information about the categorical data\n\ndf.describe(include='all')"
    },
    {
      "cell_type": "code",
      "execution_count": null,
      "id": "54d89f85-6334-44af-86e7-f93f6399fbe5",
      "metadata": {
        "trusted": true
      },
      "outputs": [],
      "source": "df['Survived'].nunique()"
    },
    {
      "cell_type": "code",
      "execution_count": null,
      "id": "580da3f5-769e-4f04-a09b-86c770621db3",
      "metadata": {
        "trusted": true
      },
      "outputs": [],
      "source": "df['Pclass'].nunique()"
    },
    {
      "cell_type": "code",
      "execution_count": null,
      "id": "33f8821e-5530-4a32-afd5-b73fdf98cd49",
      "metadata": {
        "trusted": true
      },
      "outputs": [],
      "source": "df['Embarked'].nunique()"
    },
    {
      "cell_type": "code",
      "execution_count": null,
      "id": "430d5da1-fb25-48d9-be89-c5b1237df0d1",
      "metadata": {
        "trusted": true
      },
      "outputs": [],
      "source": "df['Survived'].unique()"
    },
    {
      "cell_type": "code",
      "execution_count": null,
      "id": "e9965f25-555b-4d9f-87a9-d5f28544d263",
      "metadata": {
        "trusted": true
      },
      "outputs": [],
      "source": "df['Pclass'].unique()"
    },
    {
      "cell_type": "code",
      "execution_count": null,
      "id": "6c8b006e-5e1c-4238-83dd-850e8d0a4ae0",
      "metadata": {
        "trusted": true
      },
      "outputs": [],
      "source": "df['Embarked'].unique()"
    },
    {
      "cell_type": "markdown",
      "id": "36f083d2-fe6d-44fe-96f8-92c91a38448a",
      "metadata": {},
      "source": "Note that NaN's will show up as values."
    },
    {
      "cell_type": "markdown",
      "id": "58c9d56d-bab0-49dd-9fbc-447cf18aa0e5",
      "metadata": {},
      "source": "`nunique` and `unique` also works for numerical columns, though has less use than the summaries produced by `describe`."
    },
    {
      "cell_type": "code",
      "execution_count": null,
      "id": "138a03cd-9585-4b60-bb18-69c587e50d3d",
      "metadata": {
        "trusted": true
      },
      "outputs": [],
      "source": "df['Age'].unique()"
    },
    {
      "cell_type": "code",
      "execution_count": null,
      "id": "45f1ff6f-4746-4275-abba-9a9fa991c4cc",
      "metadata": {
        "trusted": true
      },
      "outputs": [],
      "source": "df['Age'].sort_values().unique()"
    },
    {
      "cell_type": "markdown",
      "id": "cf5fdd3a-f2c3-4d63-8442-e048b943a39d",
      "metadata": {},
      "source": "## Back to the original EDA notebook"
    },
    {
      "cell_type": "code",
      "execution_count": null,
      "id": "32b7a769-e88e-4bb0-95b1-886624cb8a09",
      "metadata": {
        "trusted": true
      },
      "outputs": [],
      "source": "# Use the \"info\" method to get a summary description of the dataframe's contents.\n\ndf.info()"
    },
    {
      "cell_type": "markdown",
      "id": "447a0a09-cd76-49c6-ae5e-4927ae705b3b",
      "metadata": {},
      "source": "-> Which columns have null values?  And what is the percentage of nulls for those that do?\n\n-> Do the data types make sense? (The below table describes data types for reference)"
    },
    {
      "cell_type": "markdown",
      "id": "f8cc6648-2713-4108-a776-64872eea4038",
      "metadata": {},
      "source": "<table class=\"table table-striped\">\n  <thead>\n    <tr>\n      <th>Pandas Type</th>\n      <th>Native Python Type</th>\n      <th>Description</th>\n    </tr>\n  </thead>\n  <tbody>\n    <tr>\n      <td>object</td>\n      <td>string</td>\n      <td>The most general dtype. Will be assigned to your column if column has mixed types (numbers and strings).</td>\n    </tr>\n    <tr>\n      <td>int64</td>\n      <td>int</td>\n      <td>Numeric characters. 64 refers to the memory allocated to hold this character.</td>\n    </tr>\n    <tr>\n      <td>float64</td>\n      <td>float</td>\n      <td>Numeric characters with decimals. If a column contains numbers and NaNs (see below), pandas will default to float64, in case your missing value has a decimal.</td>\n    </tr>\n    <tr>\n      <td>datetime64, timedelta[ns]</td>\n      <td>N/A (but see the <a href=\"http://doc.python.org/2/library/datetime.html\">datetime</a> module in Python’s standard library)</td>\n      <td>Values meant to hold time data. Look into these for time series experiments.</td>\n    </tr>\n  </tbody>\n</table>"
    },
    {
      "cell_type": "markdown",
      "id": "bff6420e-3323-4fa2-bc69-5bbd221707e2",
      "metadata": {},
      "source": "Let's change a column's datatype from int to string (which becomes an object to pandas):"
    },
    {
      "cell_type": "code",
      "execution_count": null,
      "id": "1f706d44-244c-427f-b640-8d24db5be561",
      "metadata": {
        "trusted": true
      },
      "outputs": [],
      "source": "df['Survived'].astype(str)"
    },
    {
      "cell_type": "code",
      "execution_count": null,
      "id": "6df076ba-ee4c-4c08-856d-55791c71409a",
      "metadata": {
        "trusted": true
      },
      "outputs": [],
      "source": "# Use \"info\" again to see whether that changed anything\n\ndf.info()"
    },
    {
      "cell_type": "markdown",
      "id": "95c172f5-eb31-4704-8e1e-48859611e093",
      "metadata": {},
      "source": "Whoops!  The astype function returned a view, but it didn't change the underlying dataframe.  To do that, we need to explicitly assign the returned dataframe column back into the `df['Survived']` column."
    },
    {
      "cell_type": "code",
      "execution_count": null,
      "id": "217aec76-545c-4a91-964d-7f05bc619db5",
      "metadata": {
        "trusted": true
      },
      "outputs": [],
      "source": "df['Survived'] = df['Survived'].astype(str)"
    },
    {
      "cell_type": "code",
      "execution_count": null,
      "id": "b01eefa7-ad89-4e95-82e9-b1524eb3afb0",
      "metadata": {
        "trusted": true
      },
      "outputs": [],
      "source": "# Let's look again\ndf.info()"
    },
    {
      "cell_type": "code",
      "execution_count": null,
      "id": "2cfdbcf2-863c-445a-bf8c-b7203eaac1b3",
      "metadata": {
        "trusted": true
      },
      "outputs": [],
      "source": "# We'll change two other columns too\ndf['PassengerId'] = df['PassengerId'].astype(str)\ndf['Pclass'] = df['Pclass'].astype(str)"
    },
    {
      "cell_type": "markdown",
      "id": "a8f090d6-9e8f-4512-8654-3e42f22871d7",
      "metadata": {},
      "source": "## Visualization\n\nNow for some fun stuff.  Let's try to make some simple plots to see what observations we can make."
    },
    {
      "cell_type": "code",
      "execution_count": null,
      "id": "8afe475c-0fe2-44ef-8ea3-b6fe75b4ef8e",
      "metadata": {
        "trusted": true
      },
      "outputs": [],
      "source": "# List the values of the \"Fare\" column\n# It's ok if the output is abbreviated\n\ndf['Fare']"
    },
    {
      "cell_type": "code",
      "execution_count": null,
      "id": "d2301a82-ddb7-40cc-94d7-41d852d7a1bf",
      "metadata": {
        "trusted": true
      },
      "outputs": [],
      "source": "# Use the \"plot\" method to generate the default plot of \"Fare\" values\n\ndf['Fare'].plot()"
    },
    {
      "cell_type": "markdown",
      "id": "d216e0ef-2ed9-48c6-abd0-6903033df0d7",
      "metadata": {},
      "source": "This shows Index vs Fare, i.e., what the value of every Fare was.  We can get a sense of what all the fares were from this, but really we probably want to see a distribution of values."
    },
    {
      "cell_type": "code",
      "execution_count": null,
      "id": "c4f8e25c-cacf-42d2-a7f3-9f549c02fa43",
      "metadata": {
        "trusted": true
      },
      "outputs": [],
      "source": "# Use the \"plot\" method again, but now set the \"kind\" input parameter of plot to be equal to \"hist\"\n# This should generate a histogram of Fare values.\n\ndf['Fare'].plot(kind='hist')"
    },
    {
      "cell_type": "markdown",
      "id": "a15086e4-aae9-4cf8-a1d2-d23b56476acd",
      "metadata": {},
      "source": "It looks like there are a bunch of low cost tickets, or maybe just a few very *very* expensive tickets.\n\n**Our first look at potentially suspicious values:**  Are there any 0 values?"
    },
    {
      "cell_type": "code",
      "execution_count": null,
      "id": "c78fbba7-dda6-4128-96ba-eccf10e4ff6d",
      "metadata": {
        "trusted": true
      },
      "outputs": [],
      "source": "# Use \"loc\" and a boolean conditon to output those rows that have a 0 value for Fare\n\ndf.loc[df['Fare']==0]"
    },
    {
      "cell_type": "markdown",
      "id": "87bd71be-9f23-42d1-87ce-e4a2c2b50c43",
      "metadata": {},
      "source": "A brief search of some names will show that Mr Lionel Leonard, William Cahoone Johnson Jr., Alfred Johnson, and William Henry Tornquist were American Line employees.  It may make sense that they would have traveled on complementary fare."
    },
    {
      "cell_type": "markdown",
      "id": "141fff11-f00e-4a99-aabc-0d21ea41b0ff",
      "metadata": {},
      "source": "## Aside: drop some unwanted rows"
    },
    {
      "cell_type": "markdown",
      "id": "eaf3d9d0-3eef-48b9-a157-2a6c8709cb72",
      "metadata": {},
      "source": "### Method 1: simply make a copy of what you want to use"
    },
    {
      "cell_type": "code",
      "execution_count": null,
      "id": "8dd79958-b8c3-4ab8-a620-3b8c6e7d8949",
      "metadata": {
        "trusted": true
      },
      "outputs": [],
      "source": "df_nonzerofare = df.loc[df['Fare']!=0]"
    },
    {
      "cell_type": "markdown",
      "id": "1a7c6a2b-4cc5-45bb-b5db-35a5abfdae59",
      "metadata": {},
      "source": "Double-checking that 13 rows are absent."
    },
    {
      "cell_type": "code",
      "execution_count": null,
      "id": "3ae138ac-40c3-4ce2-848f-439168fa0453",
      "metadata": {
        "trusted": true
      },
      "outputs": [],
      "source": "df_nonzerofare.shape"
    },
    {
      "cell_type": "code",
      "execution_count": null,
      "id": "8ae2ecae-1bbf-4004-9d2b-4ebe4ec8d399",
      "metadata": {
        "trusted": true
      },
      "outputs": [],
      "source": "df.shape"
    },
    {
      "cell_type": "markdown",
      "id": "f88df099-f9b6-4738-8b3b-36892ecca4b5",
      "metadata": {},
      "source": "With this method, you may want to reset the index, because it will keep the same indices.  Looking at the above, we can see that our previous row 822 had a zero-fare passenger."
    },
    {
      "cell_type": "code",
      "execution_count": null,
      "id": "2f26f011-606f-438e-bb6f-de4d2182de03",
      "metadata": {
        "trusted": true
      },
      "outputs": [],
      "source": "df_nonzerofare.loc[820:825]"
    },
    {
      "cell_type": "markdown",
      "id": "9dec8803-8d02-4e34-93ae-0d2799cc3250",
      "metadata": {},
      "source": "To reset the index:"
    },
    {
      "cell_type": "code",
      "execution_count": null,
      "id": "f69deaec-8aa6-4d27-9665-d7efb6d7e737",
      "metadata": {
        "trusted": true
      },
      "outputs": [],
      "source": "# drop = True means to discard the existing index\n# otherwise a new column of the previous indices will be added to the dataframe\n# inplace = True means to change the underlying dataframe\n# otherwise reset_index will just return a view of the dataframe\n\ndf_nonzerofare.reset_index(drop=True,inplace=True)"
    },
    {
      "cell_type": "code",
      "execution_count": null,
      "id": "59bfb085-ccdb-4b18-92f5-354acded58af",
      "metadata": {
        "trusted": true
      },
      "outputs": [],
      "source": "df_nonzerofare.loc[820:825]"
    },
    {
      "cell_type": "code",
      "execution_count": null,
      "id": "c63f0276-2510-4a29-abb0-3bac545cf50a",
      "metadata": {
        "trusted": true
      },
      "outputs": [],
      "source": "df_nonzerofare.head(2)"
    },
    {
      "cell_type": "code",
      "execution_count": null,
      "id": "2bf2ec25-fd0e-47aa-8bed-442198546a4a",
      "metadata": {
        "trusted": true
      },
      "outputs": [],
      "source": "df_nonzerofare.tail(2)"
    },
    {
      "cell_type": "markdown",
      "id": "6ab10108-c241-4324-873b-3800d1d129e0",
      "metadata": {},
      "source": "### Method 2: drop the rows from your dataframe\n\nSimply assign the filtered result back into df!\n\nDo remember that this is destructive.  If you want to analyze the zero-fare rows later, you'll need to make the original dataframe again."
    },
    {
      "cell_type": "code",
      "execution_count": null,
      "id": "a3b246f1-5e10-46de-b2e7-4a0daa4d9934",
      "metadata": {
        "trusted": true
      },
      "outputs": [],
      "source": "df = df.loc[df['Fare']!=0]"
    },
    {
      "cell_type": "markdown",
      "id": "3b89e7d7-0cc2-4707-a465-9e422269ed83",
      "metadata": {},
      "source": "Checking shape:"
    },
    {
      "cell_type": "code",
      "execution_count": null,
      "id": "2cf84830-b9ec-4966-bd58-d781dde379da",
      "metadata": {
        "trusted": true
      },
      "outputs": [],
      "source": "df.shape"
    },
    {
      "cell_type": "markdown",
      "id": "866dff38-c62f-4d01-a437-7ad3a4c52feb",
      "metadata": {},
      "source": "Checking index:"
    },
    {
      "cell_type": "code",
      "execution_count": null,
      "id": "c7f219bc-ab9b-4db5-9aeb-eb98bd204c34",
      "metadata": {
        "trusted": true
      },
      "outputs": [],
      "source": "df.loc[820:825]"
    },
    {
      "cell_type": "markdown",
      "id": "be164928-0697-43fe-bd6f-841d2e8819d5",
      "metadata": {},
      "source": "Reset index and showing example without the drop=True"
    },
    {
      "cell_type": "code",
      "execution_count": null,
      "id": "591b9208-7018-4949-b4cc-89b2d361c375",
      "metadata": {
        "trusted": true
      },
      "outputs": [],
      "source": "df.reset_index(inplace=True)"
    },
    {
      "cell_type": "code",
      "execution_count": null,
      "id": "f9401ab7-9d77-43db-a28f-475c4d7675ae",
      "metadata": {
        "trusted": true
      },
      "outputs": [],
      "source": "df.loc[820:825]"
    },
    {
      "cell_type": "markdown",
      "id": "87ab1088-acb9-4a7d-88b0-4799ebd74aff",
      "metadata": {},
      "source": "### Another way to drop the rows"
    },
    {
      "cell_type": "markdown",
      "id": "682cd708-9d82-498d-850f-6e18621232e2",
      "metadata": {},
      "source": "We don't have the original df anymore, so reinitialize it:"
    },
    {
      "cell_type": "code",
      "execution_count": null,
      "id": "357aaeef-d057-4022-82ab-27a6f33bd54f",
      "metadata": {
        "trusted": true
      },
      "outputs": [],
      "source": "df = pd.read_csv('https://raw.githubusercontent.com/benjum/UCLAX-24Fall-EDA/main/Data/titanic.csv')"
    },
    {
      "cell_type": "markdown",
      "id": "d544d106-71e6-444d-9722-0116ce7f48c7",
      "metadata": {},
      "source": "Get indices of rows that have zero fare:"
    },
    {
      "cell_type": "code",
      "execution_count": null,
      "id": "01ba04e1-b822-42fd-afa2-0d3adfd51431",
      "metadata": {
        "trusted": true
      },
      "outputs": [],
      "source": "df.loc[df['Fare'] == 0].index"
    },
    {
      "cell_type": "code",
      "execution_count": null,
      "id": "e8450451-8103-4f4b-a7e6-081ff7864b1b",
      "metadata": {
        "trusted": true
      },
      "outputs": [],
      "source": "# Get indices of rows that have zero fare\nindexNames = df.loc[df['Fare'] == 0].index\n\n# Delete these row indices from df\ndf.drop(indexNames, inplace=True)"
    },
    {
      "cell_type": "code",
      "execution_count": null,
      "id": "6e78bf19-aab9-4cc6-aa75-f167e44ae3d4",
      "metadata": {
        "trusted": true
      },
      "outputs": [],
      "source": "df.loc[820:825]"
    },
    {
      "cell_type": "markdown",
      "id": "2a6ebece-568d-4338-a672-66155651fadc",
      "metadata": {},
      "source": "We don't have the original df anymore, so reinitialize it:"
    },
    {
      "cell_type": "code",
      "execution_count": null,
      "id": "3640c7ee-345f-41e8-9238-d266ddaab388",
      "metadata": {
        "trusted": true
      },
      "outputs": [],
      "source": "df = pd.read_csv('https://raw.githubusercontent.com/benjum/UCLAX-24Fall-EDA/main/Data/titanic.csv')"
    },
    {
      "cell_type": "markdown",
      "id": "1b52cbdf-1d3c-4176-83eb-4a123be952b9",
      "metadata": {},
      "source": "## Back to the original EDA notebook"
    },
    {
      "cell_type": "markdown",
      "id": "ddd92969-453d-49e8-82eb-800bd2f5b9c6",
      "metadata": {},
      "source": "... more investigation may be warranted...  But let's looks at the columns that have 'NaN'."
    },
    {
      "cell_type": "code",
      "execution_count": null,
      "id": "618be5dc-cbb6-40f5-b1d9-96bcd644f7ea",
      "metadata": {
        "trusted": true
      },
      "outputs": [],
      "source": "# if you use the \"isna\" method of the dataframe, what does that output?\n\ndf.isna()"
    },
    {
      "cell_type": "code",
      "execution_count": null,
      "id": "fcfb8ec8-12de-4015-9892-ff197262ef0a",
      "metadata": {
        "trusted": true
      },
      "outputs": [],
      "source": "# you can get the count of null values for any column by taking the sum of the True/False values of isna\n# That is, look at the output of the following:\n\ndf.isna().sum()"
    },
    {
      "cell_type": "code",
      "execution_count": null,
      "id": "f4a1930f-7d4a-447f-8a9a-9b9396601df6",
      "metadata": {
        "trusted": true
      },
      "outputs": [],
      "source": "# Use the shape attribute and a list index to get the number of rows\n\ndf.shape[0]"
    },
    {
      "cell_type": "code",
      "execution_count": null,
      "id": "439d436d-d116-4f7c-8a15-c5a01b11155b",
      "metadata": {
        "trusted": true
      },
      "outputs": [],
      "source": "# Divide df.isna().sum() by the number of rows to find the percent null values for all columns\n\ndf.isna().sum() / df.shape[0]"
    },
    {
      "cell_type": "markdown",
      "id": "15ec57a8-a223-4c7c-a748-8820b11314fa",
      "metadata": {},
      "source": "* What percentage of age data is missing?\n* What percentage of cabin data is missing?\n* What percentage of embarked data is missing?"
    },
    {
      "cell_type": "markdown",
      "id": "530b4be3-85b5-418d-81dc-8a5944cccf10",
      "metadata": {},
      "source": "If we want to use those data columns, we would potentially stop here and try to figure out how we need/want to deal with the values that are missing.  For example, we could:\n* drop the column completely\n* drop the rows with NaNs\n* fill the NaNs with other values (a useful value like mean or median, the previous or next row's value, a constant, or the result of an operation)"
    },
    {
      "cell_type": "markdown",
      "id": "340bb3f8-ab09-4e98-90b9-25a3485225ee",
      "metadata": {},
      "source": "## Aside: Cleaning NaNs\n\nOptions:\n* Drop records that have missing values\n  * `pd.DataFrame.dropna()`\n  * default is to drop rows.  This can be explicitly specified with `pd.DataFrame.dropna(axis=0)`\n* Drop an entire feature that has lots of missing values\n  * `pd.DataFrame.drop(<feature_name>, axis=1)`\n  * <feature_name> is the name of the column to drop\n* Fill in missing values with something else\n  * Example: Impute the mean/median (if quantitative) or most common class (if categorical) for all missing values.\n    * `pd.DataFrame.fillna(value=x.mean())`\n\nTo demonstrate taking care of NaNs, let's create a copy of the first 5 rows of the dataframe that have zero fares -- this will make it easier to see exactly what each option does."
    },
    {
      "cell_type": "markdown",
      "id": "7056402b-c0b6-4574-a868-29a2044247fc",
      "metadata": {},
      "source": "We don't have the original df anymore, so reinitialize it:"
    },
    {
      "cell_type": "code",
      "execution_count": null,
      "id": "a9678d57-5551-487a-9f9f-04ca258d8f3b",
      "metadata": {
        "trusted": true
      },
      "outputs": [],
      "source": "df = pd.read_csv('https://raw.githubusercontent.com/benjum/UCLAX-24Fall-EDA/main/Data/titanic.csv')"
    },
    {
      "cell_type": "code",
      "execution_count": null,
      "id": "defeab55-60be-4c52-a355-91d5cbc49e91",
      "metadata": {
        "trusted": true
      },
      "outputs": [],
      "source": "df_sample = df.loc[df['Fare']==0][0:5]"
    },
    {
      "cell_type": "code",
      "execution_count": null,
      "id": "0b81d59f-169e-463f-a031-398018aa762d",
      "metadata": {
        "trusted": true
      },
      "outputs": [],
      "source": "df_sample"
    },
    {
      "cell_type": "code",
      "execution_count": null,
      "id": "5b30f218-7848-4faa-9234-1f73c0d7ac01",
      "metadata": {
        "trusted": true
      },
      "outputs": [],
      "source": "df_sample.dropna()"
    },
    {
      "cell_type": "code",
      "execution_count": null,
      "id": "2b1e817b-0ed1-4e4d-acb0-b8bc23d9fb27",
      "metadata": {
        "trusted": true
      },
      "outputs": [],
      "source": "df_sample"
    },
    {
      "cell_type": "code",
      "execution_count": null,
      "id": "27468b3d-9c3d-4429-8c42-7992c7b25161",
      "metadata": {
        "trusted": true
      },
      "outputs": [],
      "source": "df_sample.drop('Cabin',axis=1)"
    },
    {
      "cell_type": "code",
      "execution_count": null,
      "id": "756b1814-0a8b-4354-bb6c-62bf57b1fe34",
      "metadata": {
        "trusted": true
      },
      "outputs": [],
      "source": "df_sample"
    },
    {
      "cell_type": "markdown",
      "id": "2a9789ff-f999-4076-9383-ecb6ab985ef6",
      "metadata": {},
      "source": "Here we explicitly calculate the median and change the underlying dataframe with inplace=True"
    },
    {
      "cell_type": "code",
      "execution_count": null,
      "id": "a890988f-541b-41cb-95d8-0267eee0e79e",
      "metadata": {
        "trusted": true
      },
      "outputs": [],
      "source": "median = df_sample['Age'].median()"
    },
    {
      "cell_type": "code",
      "execution_count": null,
      "id": "0713adbc-0463-4a33-9ab5-cf1accf2af44",
      "metadata": {
        "trusted": true
      },
      "outputs": [],
      "source": "df_sample.fillna({'Age': median})"
    },
    {
      "cell_type": "code",
      "execution_count": null,
      "id": "acb00a19-2877-48b4-9528-7428203a74fb",
      "metadata": {
        "trusted": true
      },
      "outputs": [],
      "source": "df_sample"
    },
    {
      "cell_type": "code",
      "execution_count": null,
      "id": "e3cc0608",
      "metadata": {
        "trusted": true
      },
      "outputs": [],
      "source": "df_sample.fillna({'Age': median}, inplace=True)"
    },
    {
      "cell_type": "code",
      "execution_count": null,
      "id": "2a4894b4",
      "metadata": {
        "trusted": true
      },
      "outputs": [],
      "source": "df_sample"
    },
    {
      "cell_type": "markdown",
      "id": "a3293940-7908-49ca-8f17-823e3a58c079",
      "metadata": {},
      "source": "Or we could do the calculation and pass it into the \"value\" parameter of fillna."
    },
    {
      "cell_type": "code",
      "execution_count": null,
      "id": "efe9da03-4ed0-46e2-8090-c80e2b13dbd0",
      "metadata": {
        "trusted": true
      },
      "outputs": [],
      "source": "# reinitialize\ndf_sample = df.loc[df['Fare']==0][0:5]"
    },
    {
      "cell_type": "code",
      "execution_count": null,
      "id": "21b1d3d6-20ab-4158-9240-87c23eb764e0",
      "metadata": {
        "trusted": true
      },
      "outputs": [],
      "source": "df_sample"
    },
    {
      "cell_type": "code",
      "execution_count": null,
      "id": "b9b50137-9c25-415e-bd76-4fcbe1bc2ac4",
      "metadata": {
        "trusted": true
      },
      "outputs": [],
      "source": "df_sample['Age'].fillna(value=df_sample['Age'].median())"
    },
    {
      "cell_type": "code",
      "execution_count": null,
      "id": "0fb4c6fc",
      "metadata": {
        "trusted": true
      },
      "outputs": [],
      "source": "df_sample['Age'] = df_sample['Age'].fillna(value=df_sample['Age'].median())"
    },
    {
      "cell_type": "code",
      "execution_count": null,
      "id": "5fcf5aab-4ca0-4c0f-beb5-f2e33d70051a",
      "metadata": {
        "trusted": true
      },
      "outputs": [],
      "source": "df_sample"
    },
    {
      "cell_type": "markdown",
      "id": "59508885-b07a-4cb6-b0e6-2508c99d16a8",
      "metadata": {},
      "source": "...or... we could just assign any specific value we choose:"
    },
    {
      "cell_type": "code",
      "execution_count": null,
      "id": "3e8172f3-4d37-4c33-b071-658e46b83f09",
      "metadata": {
        "trusted": true
      },
      "outputs": [],
      "source": "# reinitialize one more time\ndf_sample = df.loc[df['Fare']==0][0:5]"
    },
    {
      "cell_type": "code",
      "execution_count": null,
      "id": "47343cfb-e64c-48a0-b64a-9db96eaf4816",
      "metadata": {
        "trusted": true
      },
      "outputs": [],
      "source": "df_sample"
    },
    {
      "cell_type": "code",
      "execution_count": null,
      "id": "df676391-1b50-4bdb-9746-284731cc1171",
      "metadata": {
        "trusted": true
      },
      "outputs": [],
      "source": "df_sample['Age'] = df_sample['Age'].fillna(value=8008)"
    },
    {
      "cell_type": "code",
      "execution_count": null,
      "id": "6303079d-a801-43d8-9a8d-da829689389a",
      "metadata": {
        "trusted": true
      },
      "outputs": [],
      "source": "df_sample"
    },
    {
      "cell_type": "markdown",
      "id": "697078d8-f475-452f-91f4-e19d92c3757a",
      "metadata": {},
      "source": "## Back to the original EDA notebook"
    },
    {
      "cell_type": "code",
      "execution_count": null,
      "id": "eaa4fb2f-9502-46d2-9bee-e24d32bdbade",
      "metadata": {
        "trusted": true
      },
      "outputs": [],
      "source": "df = pd.read_csv('https://raw.githubusercontent.com/benjum/UCLAX-24Fall-EDA/main/Data/titanic.csv')"
    },
    {
      "cell_type": "markdown",
      "id": "c4178e71-0fda-49ae-998c-4ea0d5c4fc12",
      "metadata": {},
      "source": "Further analysis: let's see how Age is related to Survived."
    },
    {
      "cell_type": "markdown",
      "id": "da762627-9356-4914-a98d-b941fcaf4aed",
      "metadata": {},
      "source": "Here are the variables we might like to look at:\n* `df.loc[df['Survived'] == '0', 'Age']`: the Age values of those who did not survive\n* `df.loc[df['Survived'] == '1', 'Age']`: the Age values of those who did survive\n\nLet's use matplotlib to do a histogram of these."
    },
    {
      "cell_type": "code",
      "execution_count": null,
      "id": "96702391-2aea-401d-a5c8-ca81d7e82055",
      "metadata": {
        "trusted": true
      },
      "outputs": [],
      "source": "# Use the \"hist()\" method of dataframes to make a histogram plot of Age values for those who survived\n\ndf.loc[df['Survived'] == '1', 'Age'].hist()"
    },
    {
      "cell_type": "markdown",
      "id": "fcf52beb-5395-4b2f-a5aa-8aeee970dc56",
      "metadata": {},
      "source": "## Another aside about re-initializing df\n\n* Importing the data again into df was not sufficient to re-initializing everything\n  * We didn't change the datatype of the Survived column like before!!\n* If you have definite sequences of operations that you _definitely_ always want to perform when importing, encapsulate them in a function or into some saved workflow steps\n"
    },
    {
      "cell_type": "code",
      "execution_count": null,
      "id": "bb9607c6-1dab-44c5-aa0d-09758443ae90",
      "metadata": {
        "trusted": true
      },
      "outputs": [],
      "source": "def importtitanic():\n    df_titanic = pd.read_csv('https://raw.githubusercontent.com/benjum/UCLAX-24Fall-EDA/main/Data/titanic.csv')\n    df_titanic['Survived'] = df_titanic['Survived'].astype(str)\n    df_titanic['PassengerId'] = df_titanic['PassengerId'].astype(str)\n    df_titanic['Pclass'] = df_titanic['Pclass'].astype(str)\n    return df_titanic"
    },
    {
      "cell_type": "markdown",
      "id": "af5736ef-63e0-4968-9cab-8b4228ff4c3d",
      "metadata": {},
      "source": "## Let's get back into the EDA notebook with our new functionality"
    },
    {
      "cell_type": "code",
      "execution_count": null,
      "id": "51a00b13-57df-48e9-ac2a-a13eb1800b16",
      "metadata": {
        "trusted": true
      },
      "outputs": [],
      "source": "df = importtitanic()"
    },
    {
      "cell_type": "code",
      "execution_count": null,
      "id": "22c9b8fb-a1da-4578-af38-265c11df01b6",
      "metadata": {
        "trusted": true
      },
      "outputs": [],
      "source": "df.info()"
    },
    {
      "cell_type": "markdown",
      "id": "6822454e-396d-4258-930c-68578fd1513d",
      "metadata": {},
      "source": "All looks good?\n\nHow do we know? -> double-check that datatypes are as we want them."
    },
    {
      "cell_type": "code",
      "execution_count": null,
      "id": "449e859b-32b0-414d-9f75-eacbcc2e993e",
      "metadata": {
        "trusted": true
      },
      "outputs": [],
      "source": "# Make another histogram plot of Age values for those who did not survive\n\ndf.loc[df['Survived'] == '0', 'Age'].hist()"
    },
    {
      "cell_type": "code",
      "execution_count": null,
      "id": "0265f5e1-2d50-4d20-8fa7-2438a7543885",
      "metadata": {
        "trusted": true
      },
      "outputs": [],
      "source": "# What happens if you put the commands to make both histograms here and execute the cell?\n\ndf.loc[df['Survived'] == '0', 'Age'].hist()\ndf.loc[df['Survived'] == '1', 'Age'].hist()"
    },
    {
      "cell_type": "markdown",
      "id": "08cf4a1a-cef8-4571-a556-8deda29920ae",
      "metadata": {},
      "source": "It would be nice to plot the bars next to each other too to directly compare them.\n\nWe can tie in a little bit of another Python plotting package, Matplotlib, to help."
    },
    {
      "cell_type": "code",
      "execution_count": null,
      "id": "f3afbe16-43cb-42b0-9a05-c379239f7c62",
      "metadata": {
        "trusted": true
      },
      "outputs": [],
      "source": "# Execute this cell\nimport matplotlib.pyplot as plt"
    },
    {
      "cell_type": "code",
      "execution_count": null,
      "id": "2943deb6-400f-4ccc-a0be-6e89d344c8de",
      "metadata": {
        "trusted": true
      },
      "outputs": [],
      "source": "# Execute this cell\na = df.loc[df['Survived'] == '0', 'Age']\nb = df.loc[df['Survived'] == '1', 'Age']\nplt.hist([a,b]);"
    },
    {
      "cell_type": "code",
      "execution_count": null,
      "id": "fdcb1bb3-e31a-48b7-b547-ce1665b82885",
      "metadata": {
        "trusted": true
      },
      "outputs": [],
      "source": "# Copy the above commands here\n# And insert another condition so that you plot data only for Age values > 18\n# You'll need to use the \"&\" symbol to combine two conditions with \"and\"\n\na = df.loc[(df['Survived'] == '0') & (df['Age'] > 18), 'Age']\nb = df.loc[(df['Survived'] == '1') & (df['Age'] > 18), 'Age']\nplt.hist([a,b]);"
    },
    {
      "cell_type": "code",
      "execution_count": null,
      "id": "be36c5aa-af0c-407c-9e99-f234958724b4",
      "metadata": {
        "trusted": true
      },
      "outputs": [],
      "source": "# Now try again for Age < 18\n\na = df.loc[(df['Survived'] == '0') & (df['Age'] < 18), 'Age']\nb = df.loc[(df['Survived'] == '1') & (df['Age'] < 18), 'Age']\nplt.hist([a,b]);"
    },
    {
      "cell_type": "markdown",
      "id": "fd15b82e-bc6a-4590-abb5-51c75cb51c99",
      "metadata": {},
      "source": "## Adding in the groupby functionality"
    },
    {
      "cell_type": "markdown",
      "id": "fa864104-c8d4-4714-8088-e7a533012230",
      "metadata": {},
      "source": "Let's say we want to look at Embarked now too... this is a categorical variable."
    },
    {
      "cell_type": "code",
      "execution_count": null,
      "id": "444aaccb-91b0-42b2-9eab-9fd46d807975",
      "metadata": {
        "trusted": true
      },
      "outputs": [],
      "source": "df.groupby(['Embarked'])['Survived'].count()"
    },
    {
      "cell_type": "code",
      "execution_count": null,
      "id": "bdfe60be-a8d3-46ee-a2c2-d9ac0d7b0351",
      "metadata": {
        "trusted": true
      },
      "outputs": [],
      "source": "df.groupby(['Embarked'])['Survived'].count().plot.bar()"
    },
    {
      "cell_type": "markdown",
      "id": "dddbe41d-e7c1-4758-90ea-0fa71966d184",
      "metadata": {},
      "source": "It's actually just returning the total row count, not the count of Survived and Not Survived.\n\nTo get the grouping by Survived too, we need to include that in the groupby"
    },
    {
      "cell_type": "code",
      "execution_count": null,
      "id": "735ecd28-bafd-455f-95b2-60f503647dec",
      "metadata": {
        "trusted": true
      },
      "outputs": [],
      "source": "df.groupby(['Embarked','Survived'])['Survived'].count()"
    },
    {
      "cell_type": "code",
      "execution_count": null,
      "id": "8d3604b5-f3be-4bcc-b91f-e3dc3ba01a9e",
      "metadata": {
        "trusted": true
      },
      "outputs": [],
      "source": "df.groupby(['Embarked','Survived'])['Survived'].count().plot.bar()"
    },
    {
      "cell_type": "markdown",
      "id": "97626bb4-43bf-419d-8c81-365aaac8d177",
      "metadata": {},
      "source": "The side-by-side bar plots are easier to make if we first filter on the 0/1 values of Survived, followed then by the grouping."
    },
    {
      "cell_type": "code",
      "execution_count": null,
      "id": "50bb6d1e-dc96-4f52-981e-953b66e850ed",
      "metadata": {
        "trusted": true
      },
      "outputs": [],
      "source": "a = df.loc[df['Survived'] == '0'].groupby(['Embarked'])['Survived'].count()\nb = df.loc[df['Survived'] == '1'].groupby(['Embarked'])['Survived'].count()"
    },
    {
      "cell_type": "code",
      "execution_count": null,
      "id": "db20140f-24f1-4133-aa4c-bc22ed467b38",
      "metadata": {
        "trusted": true
      },
      "outputs": [],
      "source": "a"
    },
    {
      "cell_type": "code",
      "execution_count": null,
      "id": "82b9e097-18b1-4504-9fe3-f3b98c6792f0",
      "metadata": {
        "trusted": true
      },
      "outputs": [],
      "source": "b"
    },
    {
      "cell_type": "markdown",
      "id": "3a2dfb8a-f01c-45e1-bafc-6d8caf0f0758",
      "metadata": {},
      "source": "To generalize this to arbitrary numbers of categories, and make the side-by-side plots, we'll use `numpy` and `matplotlib`"
    },
    {
      "cell_type": "code",
      "execution_count": null,
      "id": "25d26e57-2fcc-4c50-a743-1420ad710537",
      "metadata": {
        "trusted": true
      },
      "outputs": [],
      "source": "import numpy as np"
    },
    {
      "cell_type": "code",
      "execution_count": null,
      "id": "47775934-71b8-4557-b6e8-151f86e07643",
      "metadata": {
        "trusted": true
      },
      "outputs": [],
      "source": "len(a)"
    },
    {
      "cell_type": "code",
      "execution_count": null,
      "id": "7bf5b178-898f-4917-8b31-5d2d0e818b13",
      "metadata": {
        "trusted": true
      },
      "outputs": [],
      "source": "np.arange(len(a))"
    },
    {
      "cell_type": "code",
      "execution_count": null,
      "id": "5b114993-f783-443e-bd4b-dac8db7bd97b",
      "metadata": {
        "trusted": true
      },
      "outputs": [],
      "source": "X_axis = np.arange(len(a))"
    },
    {
      "cell_type": "code",
      "execution_count": null,
      "id": "0842af2e-8d4d-464b-9af9-80c04964be38",
      "metadata": {
        "trusted": true
      },
      "outputs": [],
      "source": "plt.bar(X_axis - 0.2, a, width=0.3, label = 'Did Not Survive')\nplt.bar(X_axis + 0.2, b, width=0.3, label = 'Survived')\nplt.xticks(X_axis, a.index)\nplt.legend()\nplt.show()"
    },
    {
      "cell_type": "markdown",
      "id": "84567b1a",
      "metadata": {},
      "source": "## Exercise\n\nTry to make some plots on your own now.\n\n1. Make a boxplot of Fare\n  * Remember that the `kind` parameter can make it easy to make a variety of elementary plots with, for example, `kind='box'`\n  * After doing this for all Fare values, make another boxplot that only plots Fares < 100\n1. Make a histogram of Fare\n  * Do this again for all Fares as well as for only Fares < 100\n1. Make a bar chart for the Parch variable that shows the count of each unique Parch value\n1. If you get to this step, try making plots of a couple other variables like Pclass, etc."
    },
    {
      "cell_type": "code",
      "execution_count": null,
      "id": "084501e2",
      "metadata": {
        "trusted": true
      },
      "outputs": [],
      "source": ""
    },
    {
      "cell_type": "code",
      "execution_count": null,
      "id": "5ab036e1",
      "metadata": {
        "trusted": true
      },
      "outputs": [],
      "source": ""
    }
  ],
  "metadata": {
    "kernelspec": {
      "display_name": "Python 3 (ipykernel)",
      "language": "python",
      "name": "python3"
    },
    "language_info": {
      "codemirror_mode": {
        "name": "ipython",
        "version": 3
      },
      "file_extension": ".py",
      "mimetype": "text/x-python",
      "name": "python",
      "nbconvert_exporter": "python",
      "pygments_lexer": "ipython3",
      "version": "3.11.9"
    }
  },
  "nbformat": 4,
  "nbformat_minor": 5
}