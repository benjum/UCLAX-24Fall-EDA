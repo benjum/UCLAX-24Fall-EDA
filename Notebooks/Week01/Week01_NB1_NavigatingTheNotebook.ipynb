{
  "cells": [
    {
      "cell_type": "markdown",
      "metadata": {},
      "source": "# Navigating the notebook"
    },
    {
      "cell_type": "markdown",
      "metadata": {},
      "source": "### Menu bar\n\n![menu bar](https://raw.githubusercontent.com/benjum/UCLAX-24Fall-EDA/main/Images/jupytermenu.png)\n\n* contains actions for the notebook, its cells, and the kernel"
    },
    {
      "cell_type": "markdown",
      "metadata": {},
      "source": "### Tool bar\n\n![tool bar](https://raw.githubusercontent.com/benjum/UCLAX-24Fall-EDA/main/Images/toolbar.png)\n\n* buttons for common actions\n* hover over a button for info"
    },
    {
      "cell_type": "markdown",
      "metadata": {},
      "source": "### Execution Modes\n* **Edit mode**:  changing the content within a cell\n  \n  \n* **Command mode**:  performing actions on the notebook as a whole\n\n\n|  _ | Edit | Command |\n| --- | --- | --- |\n| typing | inserts text | executes actions |\n| cursor |   inside cell | none |\n| \"Mode\" indicator at bottom | \"Edit\" | \"Command\" |\n| how to get into it: | `Enter` | `Esc` |\n| _ | (or mouse click/double-click) |"
    },
    {
      "cell_type": "code",
      "execution_count": null,
      "metadata": {
        "trusted": true
      },
      "outputs": [],
      "source": "# Make this cell go back and forth between edit and command mode"
    },
    {
      "cell_type": "markdown",
      "metadata": {},
      "source": "### Types of cells\n\n* **Code** and **Markdown**"
    },
    {
      "cell_type": "code",
      "execution_count": null,
      "metadata": {
        "trusted": true
      },
      "outputs": [],
      "source": "# This is a code cell"
    },
    {
      "cell_type": "markdown",
      "metadata": {},
      "source": "This is a markdown cell"
    },
    {
      "cell_type": "markdown",
      "metadata": {},
      "source": "### We will come back to markdown, but first:  Running Code\n\nFirst and foremost, the Jupyter Notebook is an interactive environment for writing and running code. The notebook is capable of running code in a wide range of languages. \n\nEach notebook is associated with a single kernel.  This notebook is associated with the IPython kernel and therefore runs Python code."
    },
    {
      "cell_type": "markdown",
      "metadata": {},
      "source": "### Code cells allow you to enter and run code\n\nRun a code cell using `Shift-Enter` or pressing the run button in the toolbar above."
    },
    {
      "cell_type": "code",
      "execution_count": null,
      "metadata": {
        "trusted": true
      },
      "outputs": [],
      "source": "a = 5000"
    },
    {
      "cell_type": "code",
      "execution_count": null,
      "metadata": {
        "trusted": true
      },
      "outputs": [],
      "source": "print(a)"
    },
    {
      "cell_type": "markdown",
      "metadata": {},
      "source": "There are two other keyboard shortcuts for running code:\n\n* `Alt-Enter` runs the current cell and inserts a new one below.\n* `Ctrl-Enter` run the current cell and enters command mode."
    },
    {
      "cell_type": "markdown",
      "metadata": {},
      "source": "### Markdown cells allow you to enter marked-up text for descriptions, equations, etc."
    },
    {
      "cell_type": "markdown",
      "metadata": {},
      "source": "(double-click on this cell to see the markdown text)\n\n*Italic* and **bold** text\n\n* Bullet lists\n* or numbered lists\n  1. like 1\n  1. or 2\n  1. or 3\n\nInline equations like $e^{i\\pi} = -1$ or displayed equations like $$e^x = \\sum_{i=0}^{\\infty} \\frac{x^i}{i!}$$\n\nOr links, like to a [markdown cheatsheet](https://github.com/adam-p/markdown-here/wiki/Markdown-Cheatsheet)"
    },
    {
      "cell_type": "markdown",
      "metadata": {},
      "source": "### Restarting the kernels\n\nThe kernel maintains the state of a notebook's computations. You can reset this state by restarting the kernel. This is done by clicking on the <button class='btn btn-default btn-xs'><i class='fa fa-repeat icon-repeat'></i></button> in the toolbar above."
    },
    {
      "cell_type": "markdown",
      "metadata": {},
      "source": "### Cell menu\n\nThe \"Cell\" menu has a number of menu items for running code or rendering markdown in different ways. These include:\n\n* Run Cells\n* Run Cells and Select Below\n* Run Cells and Insert Below\n* Run All\n* Run All Above\n* Run All Below\n\n... as well as options to toggle outputs and clear outputs. <- can be very handy."
    },
    {
      "cell_type": "markdown",
      "metadata": {},
      "source": "### Large outputs\n\nTo better handle large outputs, the output area can be collapsed. Run the following cell and then single-click on the active bar to the left of the output:"
    },
    {
      "cell_type": "code",
      "execution_count": null,
      "metadata": {
        "tags": [],
        "trusted": true
      },
      "outputs": [],
      "source": "for i in range(100):\n    print(i)"
    },
    {
      "cell_type": "markdown",
      "metadata": {},
      "source": "Beware that output may or may not scroll automatically:"
    },
    {
      "cell_type": "code",
      "execution_count": null,
      "metadata": {
        "scrolled": true,
        "tags": [],
        "trusted": true
      },
      "outputs": [],
      "source": "for i in range(500):\n    print(2**i - 1)"
    },
    {
      "cell_type": "markdown",
      "metadata": {},
      "source": "## Useful commands\n\n* You can save yourself some time by remembering some common commands:\n    * **Basic**\n        * `Enter` -- go into Edit mode\n        * `Shift-Enter` -- execute the active cell\n        * `up-arrow / k` and `down-arrow / j` move the active cell selection\n    * **Saving**\n        * Check the file menu for the short-cut key to save the notebook\n    * **Cell Types**\n        * `y` for code, `m` for markdown\n    * **Cell Creation**\n        * `a` for creating cell above the active one, `b` for below\n    * **Cell Editing**\n        * `x` - cut, `c` - copy, `v` - paste, `d,d` -- \"d\" pressed twice will delete a cell\n        * `z` - undo deletion\n    * **HELP!!**\n        * `h`\n        * or go to Help Menu -> Keyboard Shortcuts"
    },
    {
      "cell_type": "markdown",
      "metadata": {},
      "source": "# When finished:\n\n## Saving\n\n* Be sure to save any changes that you want to keep: File -> Save Notebook\n* Select File -> Close and Halt\n\n## Memory\n\n* Running notebooks may eat up your available memory! (Shown as \"Memory\" on the top-right)\n* Beware that having multiple notebooks open may cause you to consume more memory than you expect.\n\n## Submitting\n\n* If this notebook were an assignment, you'll see a Submit button in the icon menu.\n* Click it now to see how it works."
    },
    {
      "cell_type": "markdown",
      "metadata": {},
      "source": "# Reference:  \n* Help Menu -> User Interface Tour\n* I gratefully acknowledge the re-use of material from https://github.com/jupyter/notebook\n(notebook/docs/source/examples/Notebook/Running Code.ipynb)\n* See also https://jupyter-notebook.readthedocs.io/en/stable/examples/Notebook/examples_index.html"
    }
  ],
  "metadata": {
    "anaconda-cloud": {},
    "kernelspec": {
      "display_name": "Python 3 (ipykernel)",
      "language": "python",
      "name": "python3"
    },
    "language_info": {
      "codemirror_mode": {
        "name": "ipython",
        "version": 3
      },
      "file_extension": ".py",
      "mimetype": "text/x-python",
      "name": "python",
      "nbconvert_exporter": "python",
      "pygments_lexer": "ipython3",
      "version": "3.11.9"
    },
    "toc": {
      "base_numbering": 1,
      "nav_menu": {},
      "number_sections": true,
      "sideBar": true,
      "skip_h1_title": false,
      "title_cell": "Table of Contents",
      "title_sidebar": "Contents",
      "toc_cell": false,
      "toc_position": {},
      "toc_section_display": true,
      "toc_window_display": true
    }
  },
  "nbformat": 4,
  "nbformat_minor": 4
}