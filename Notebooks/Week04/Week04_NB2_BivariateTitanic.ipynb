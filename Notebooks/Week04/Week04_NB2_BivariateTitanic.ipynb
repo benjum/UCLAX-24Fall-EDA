{
  "cells": [
    {
      "cell_type": "markdown",
      "id": "1bd30961",
      "metadata": {},
      "source": "# Bivariate visualization with the Titanic data"
    },
    {
      "cell_type": "code",
      "execution_count": null,
      "id": "f563a8f5-e7d6-49b5-854a-1c1ba64eac96",
      "metadata": {
        "trusted": true
      },
      "outputs": [],
      "source": "import pandas as pd\nimport matplotlib.pyplot as plt\nimport seaborn as sns"
    },
    {
      "cell_type": "code",
      "execution_count": null,
      "id": "54ba42fb-4f3e-46f1-b1ee-ddf9873c2622",
      "metadata": {
        "trusted": true
      },
      "outputs": [],
      "source": "def importtitanic():\n    titanic_url = 'https://raw.githubusercontent.com/benjum/UCLAX-24Fall-EDA/main/Data/titanic.csv'\n    df_titanic = pd.read_csv(titanic_url)\n\n    df_titanic['Survived'] = df_titanic['Survived'].astype(str)\n    df_titanic['PassengerId'] = df_titanic['PassengerId'].astype(str)\n    df_titanic['Pclass'] = df_titanic['Pclass'].astype(str)\n    \n    df_titanic.dropna(subset=['Age','Embarked'], inplace=True)\n    df_titanic.drop('Cabin', axis=1, inplace=True)\n    \n    return df_titanic"
    },
    {
      "cell_type": "code",
      "execution_count": null,
      "id": "2f84b455-d842-49ba-a05b-c79f5c8485ae",
      "metadata": {
        "trusted": true
      },
      "outputs": [],
      "source": "titanic = importtitanic()"
    },
    {
      "cell_type": "code",
      "execution_count": null,
      "id": "a54d7bdc-0210-47d3-8c66-a540eb4c2386",
      "metadata": {
        "trusted": true
      },
      "outputs": [],
      "source": "titanic.info()"
    },
    {
      "cell_type": "code",
      "execution_count": null,
      "id": "b3ea45a6-17a5-4b09-8d28-d2516b1234cf",
      "metadata": {
        "trusted": true
      },
      "outputs": [],
      "source": "titanic.describe(include='all')"
    },
    {
      "cell_type": "code",
      "execution_count": null,
      "id": "e01ec986",
      "metadata": {
        "trusted": true
      },
      "outputs": [],
      "source": "titanic"
    },
    {
      "cell_type": "code",
      "execution_count": null,
      "id": "d8eb624a-579b-4344-9844-d39dc5358811",
      "metadata": {
        "trusted": true
      },
      "outputs": [],
      "source": "titanic[['Pclass','Sex']].value_counts().plot(kind='bar')"
    },
    {
      "cell_type": "markdown",
      "id": "7a44cff8-e1ed-4318-9fcf-4e49d1254303",
      "metadata": {},
      "source": "### Seaborn will start to shine for these bivariate plots"
    },
    {
      "cell_type": "code",
      "execution_count": null,
      "id": "1cf3a6c0-41e9-400f-9ca4-939a0528be25",
      "metadata": {
        "trusted": true
      },
      "outputs": [],
      "source": "sns.countplot(data=titanic, x='Pclass')"
    },
    {
      "cell_type": "code",
      "execution_count": null,
      "id": "55e816a4-161b-4cb2-982b-550ebc8ba042",
      "metadata": {
        "trusted": true
      },
      "outputs": [],
      "source": "sns.countplot(data=titanic, x='Pclass', hue='Sex')"
    },
    {
      "cell_type": "code",
      "execution_count": null,
      "id": "831fc949-415c-4682-9aa8-61bbf6a84814",
      "metadata": {
        "trusted": true
      },
      "outputs": [],
      "source": "sns.countplot(data=titanic, x='Pclass', hue='Sex', dodge=False)"
    },
    {
      "cell_type": "code",
      "execution_count": null,
      "id": "7492dd0f-5389-4570-a2e6-d0ee91a71ad9",
      "metadata": {
        "trusted": true
      },
      "outputs": [],
      "source": "g = sns.FacetGrid(titanic, row=\"Sex\")\ng.map_dataframe(sns.countplot, x=\"Pclass\")"
    },
    {
      "cell_type": "code",
      "execution_count": null,
      "id": "c5de61bf-eb41-4774-bd50-26d85af26eb0",
      "metadata": {
        "trusted": true
      },
      "outputs": [],
      "source": "g = sns.FacetGrid(titanic, col=\"Sex\")\ng.map_dataframe(sns.countplot, x=\"Pclass\")"
    },
    {
      "cell_type": "code",
      "execution_count": null,
      "id": "7e2f6d7d-7014-4f44-9769-06cec180bd62",
      "metadata": {
        "trusted": true
      },
      "outputs": [],
      "source": "g = sns.FacetGrid(titanic, col=\"Sex\", hue='Sex')\ng.map_dataframe(sns.countplot, x=\"Pclass\", order=['1','2','3'])"
    },
    {
      "cell_type": "code",
      "execution_count": null,
      "id": "36e7563c-7df2-4522-9e1d-d8754edde7c3",
      "metadata": {
        "trusted": true
      },
      "outputs": [],
      "source": "sns.catplot(data=titanic,\n            x='Pclass',\n            col='Sex',\n           kind='count')"
    },
    {
      "cell_type": "code",
      "execution_count": null,
      "id": "f5a45262-1c4a-4ede-87ff-c510d17e1924",
      "metadata": {
        "trusted": true
      },
      "outputs": [],
      "source": "sns.catplot(data=titanic,\n            x='Pclass',\n            col='Sex',\n            kind='count',\n            hue='Sex')"
    },
    {
      "cell_type": "markdown",
      "id": "a26ab47d-0474-48c0-88b7-023856d6806c",
      "metadata": {},
      "source": "How about a stacked bar plot?"
    },
    {
      "cell_type": "code",
      "execution_count": null,
      "id": "075aa06e",
      "metadata": {
        "trusted": true
      },
      "outputs": [],
      "source": "titanic[['Pclass','Sex']].value_counts()"
    },
    {
      "cell_type": "code",
      "execution_count": null,
      "id": "c24d8201-9a51-4e2c-9adb-2fc33e241c39",
      "metadata": {
        "trusted": true
      },
      "outputs": [],
      "source": "t2 = titanic[['Pclass','Sex']].value_counts().reset_index(name='counts')"
    },
    {
      "cell_type": "code",
      "execution_count": null,
      "id": "38f149cd-5fb1-4e94-b996-81758d3158bc",
      "metadata": {
        "trusted": true
      },
      "outputs": [],
      "source": "t2"
    },
    {
      "cell_type": "code",
      "execution_count": null,
      "id": "bfe05116-3639-4bc9-a7de-65b49df14d1b",
      "metadata": {
        "trusted": true
      },
      "outputs": [],
      "source": "t2.pivot(index='Pclass',columns='Sex',values='counts')"
    },
    {
      "cell_type": "code",
      "execution_count": null,
      "id": "e525b2e8-6fec-4147-9e46-fe129d935eb1",
      "metadata": {
        "trusted": true
      },
      "outputs": [],
      "source": "t2p = t2.pivot(index='Pclass',columns=['Sex'],values='counts')\nt2p.plot(kind = 'bar', stacked=True)"
    },
    {
      "cell_type": "markdown",
      "id": "4233ffa9-fedd-476c-8e61-3cfaa6ccb111",
      "metadata": {},
      "source": "Alternatively..."
    },
    {
      "cell_type": "code",
      "execution_count": null,
      "id": "7c0e6ffe-b2ff-422c-88da-051dc635efd1",
      "metadata": {
        "trusted": true
      },
      "outputs": [],
      "source": "pd.crosstab(titanic['Pclass'], titanic['Sex'])"
    },
    {
      "cell_type": "code",
      "execution_count": null,
      "id": "7c447c3b-1275-4248-84bb-52212b479190",
      "metadata": {
        "trusted": true
      },
      "outputs": [],
      "source": "pd.crosstab(titanic['Pclass'], titanic['Sex']).plot(kind='bar',\n                                                    stacked=True)"
    },
    {
      "cell_type": "markdown",
      "id": "11d82ca0-3a3c-4c45-9537-9596a7a34085",
      "metadata": {},
      "source": "## Dealing with an overwhelming set of labels"
    },
    {
      "cell_type": "code",
      "execution_count": null,
      "id": "4c6f730a",
      "metadata": {
        "trusted": true
      },
      "outputs": [],
      "source": "titanic"
    },
    {
      "cell_type": "code",
      "execution_count": null,
      "id": "23e89da4-c5be-4ebb-a890-f43741b4ec75",
      "metadata": {
        "trusted": true
      },
      "outputs": [],
      "source": "titanic['Ticket'][:2]"
    },
    {
      "cell_type": "code",
      "execution_count": null,
      "id": "16b722d6-5b2f-4a9f-a130-bce11113a490",
      "metadata": {
        "trusted": true
      },
      "outputs": [],
      "source": "titanic['Ticket'].value_counts().plot(kind='bar')"
    },
    {
      "cell_type": "code",
      "execution_count": null,
      "id": "b5e80439-7d93-4542-89c6-b75f12eeb2f7",
      "metadata": {
        "trusted": true
      },
      "outputs": [],
      "source": "titanic['Ticket'].value_counts(ascending=True).plot(kind='barh')"
    },
    {
      "cell_type": "code",
      "execution_count": null,
      "id": "35c62b52-e876-493c-8696-615eff24363f",
      "metadata": {
        "trusted": true
      },
      "outputs": [],
      "source": "titanic['Ticket'][:20].value_counts(ascending=True).plot(kind='barh')"
    },
    {
      "cell_type": "code",
      "execution_count": null,
      "id": "33ecf5a7-c1b2-4737-81bd-d7e02e338a37",
      "metadata": {
        "trusted": true
      },
      "outputs": [],
      "source": "titanic['Ticket'][-20:].value_counts(ascending=True).plot(kind='barh')"
    },
    {
      "cell_type": "code",
      "execution_count": null,
      "id": "1f6434dd-ed70-4aa8-a491-7ee2ec989be2",
      "metadata": {
        "trusted": true
      },
      "outputs": [],
      "source": "titanic['Ticket'].value_counts(ascending=True)[:20].plot(kind='barh')"
    },
    {
      "cell_type": "code",
      "execution_count": null,
      "id": "28f3438f-8294-423e-a65f-1b4d8f9b35e6",
      "metadata": {
        "trusted": true
      },
      "outputs": [],
      "source": "titanic['Ticket'].value_counts(ascending=True)[-20:].plot(kind='barh')"
    },
    {
      "cell_type": "markdown",
      "id": "29925bb6-ecea-4bcf-b8b8-c8d8ee0f9f34",
      "metadata": {},
      "source": "## Color for highlighting"
    },
    {
      "cell_type": "code",
      "execution_count": null,
      "id": "6d28f057-8f04-4f30-9a7b-6f9379aae767",
      "metadata": {
        "trusted": true
      },
      "outputs": [],
      "source": "c = ['grey' for i in range(20)]\nc[-4:-1] = ['red' for i in range(3)]"
    },
    {
      "cell_type": "code",
      "execution_count": null,
      "id": "c60fb534-bdc6-4766-a28d-a349f645caae",
      "metadata": {
        "trusted": true
      },
      "outputs": [],
      "source": "c"
    },
    {
      "cell_type": "code",
      "execution_count": null,
      "id": "a8b44a2f-4c7d-4b58-a57e-367e8631f716",
      "metadata": {
        "trusted": true
      },
      "outputs": [],
      "source": "titanic['Ticket'].value_counts(ascending=True)[-20:].plot(kind='barh',\n                                                          color=c)"
    },
    {
      "cell_type": "markdown",
      "id": "29373f86-b32f-478c-b8f8-04b83928bb16",
      "metadata": {},
      "source": "## Lollipop"
    },
    {
      "cell_type": "code",
      "execution_count": null,
      "id": "40f5c385-8900-4980-b946-ca73cb19ed3a",
      "metadata": {
        "trusted": true
      },
      "outputs": [],
      "source": "v = titanic['Ticket'].value_counts(ascending=True)[-20:]\nmy_range=range(1,len(v.index)+1)"
    },
    {
      "cell_type": "code",
      "execution_count": null,
      "id": "90621764-1318-4d0d-a280-2c4489490b27",
      "metadata": {
        "trusted": true
      },
      "outputs": [],
      "source": "v"
    },
    {
      "cell_type": "code",
      "execution_count": null,
      "id": "b2737c82-36e8-43b7-8653-60679c75fffd",
      "metadata": {
        "trusted": true
      },
      "outputs": [],
      "source": "v.values"
    },
    {
      "cell_type": "code",
      "execution_count": null,
      "id": "6c319176",
      "metadata": {
        "trusted": true
      },
      "outputs": [],
      "source": "my_range"
    },
    {
      "cell_type": "code",
      "execution_count": null,
      "id": "652a4352-5c84-48c5-af0e-1ff38535971f",
      "metadata": {
        "trusted": true
      },
      "outputs": [],
      "source": "# The horizontal plot is made using the hline function\nplt.hlines(y=my_range, xmin=0, xmax=v.values, color='skyblue')\nplt.plot(v.values, my_range, \"o\")"
    },
    {
      "cell_type": "code",
      "execution_count": null,
      "id": "f98bfca2-48fb-4332-9424-0e1b97676e5f",
      "metadata": {
        "trusted": true
      },
      "outputs": [],
      "source": "# The horizontal plot is made using the hline function\nplt.hlines(y=my_range, xmin=0, xmax=v.values, color='skyblue')\nplt.plot(v.values, my_range, \"o\")\n \n# Add titles and axis names\nplt.yticks(my_range, v.index)\nplt.title(\"A vertical lolipop plot\", loc='left')\nplt.xlabel('Value of the variable')\nplt.ylabel('Ticket')\n\n# Show the plot\nplt.show()"
    },
    {
      "cell_type": "markdown",
      "id": "338540b6-05fb-4009-a940-f8547e6a3ae4",
      "metadata": {},
      "source": "## Dot plot"
    },
    {
      "cell_type": "code",
      "execution_count": null,
      "id": "12d3704d-efb7-4539-9436-59dcb664d972",
      "metadata": {
        "trusted": true
      },
      "outputs": [],
      "source": "# The horizontal plot is made using the hline function\n#plt.hlines(y=my_range, xmin=0, xmax=v.values, color='skyblue')\nplt.plot(v.values, my_range, \"o\")\n \n# Add titles and axis names\nplt.yticks(my_range, v.index)\nplt.title(\"A vertical dot plot\", loc='left')\nplt.xlabel('Value of the variable')\nplt.ylabel('Ticket')\n\n# Show the plot\nplt.show()"
    },
    {
      "cell_type": "code",
      "execution_count": null,
      "id": "37a220ff-0c46-4bd8-a319-3017c6e1710d",
      "metadata": {
        "trusted": true
      },
      "outputs": [],
      "source": "# The horizontal plot is made using the hline function\n#plt.hlines(y=my_range, xmin=0, xmax=v.values, color='skyblue')\nplt.plot(v.values, my_range, \"o\")\n\nplt.vlines(x=4.5, ymin=0, ymax=max(my_range), \n           color='red', linestyle='--')\nplt.text(x=4.6, y=5, s='guess at mean')\n\n# Add titles and axis names\nplt.yticks(my_range, v.index)\nplt.title(\"A vertical dot plot\", loc='left')\nplt.xlabel('Value of the variable')\nplt.ylabel('Ticket')\n\n# Show the plot\nplt.show()"
    },
    {
      "cell_type": "code",
      "execution_count": null,
      "id": "ad331cbe-7ce0-4e62-ae11-aaa7ae7b73b8",
      "metadata": {
        "trusted": true
      },
      "outputs": [],
      "source": "# The horizontal plot is made using the hline function\nplt.hlines(y=my_range, \n           xmin=[min(0,i-4.5) for i in v.values],\n           xmax=[max(0,i-4.5) for i in v.values],\n           color='skyblue')\nplt.plot(v.values-4.5, my_range, \"o\")\n \n# Add titles and axis names\nplt.yticks(my_range, v.index)\nplt.title(\"A vertical lolipop plot\", loc='left')\nplt.xlabel('Value of the variable')\nplt.ylabel('Ticket')\n\n# Show the plot\nplt.show()"
    },
    {
      "cell_type": "code",
      "execution_count": null,
      "id": "73f9c8e6-2ffc-40e9-bf1d-fe36afb2d223",
      "metadata": {
        "trusted": true
      },
      "outputs": [],
      "source": "tf = titanic['Ticket'].value_counts(ascending=True)[-20:]\ntf = tf - 4.5\ntf.plot(kind='barh', color=c)"
    },
    {
      "cell_type": "markdown",
      "id": "b98efb5c-bf55-4cfe-b3c7-72324609e2b3",
      "metadata": {},
      "source": "## Dueling histograms"
    },
    {
      "cell_type": "code",
      "execution_count": null,
      "id": "00beb67f-720b-4598-bda7-9a212a2d4230",
      "metadata": {
        "trusted": true
      },
      "outputs": [],
      "source": "sns.histplot(data=titanic, x='Age')"
    },
    {
      "cell_type": "code",
      "execution_count": null,
      "id": "fc447627-35c7-4ad6-aea6-536a0ac72969",
      "metadata": {
        "trusted": true
      },
      "outputs": [],
      "source": "sns.histplot(data=titanic, x='Age', hue='Pclass')"
    },
    {
      "cell_type": "code",
      "execution_count": null,
      "id": "737504a4-f67e-4b01-b8af-a259f5217051",
      "metadata": {
        "trusted": true
      },
      "outputs": [],
      "source": "sns.histplot(data=titanic, x='Age', hue='Pclass', multiple='stack')"
    },
    {
      "cell_type": "code",
      "execution_count": null,
      "id": "911db15e-eef0-4ddd-8b64-644ce07c9530",
      "metadata": {
        "trusted": true
      },
      "outputs": [],
      "source": "sns.histplot(data=titanic, x='Age', hue='Pclass', kde=True)"
    },
    {
      "cell_type": "code",
      "execution_count": null,
      "id": "f32f238d-e1cc-4592-8bf5-6a477b1a0de3",
      "metadata": {
        "trusted": true
      },
      "outputs": [],
      "source": "sns.histplot(data=titanic, x='Age', hue='Pclass', kde=True, multiple='stack')"
    },
    {
      "cell_type": "code",
      "execution_count": null,
      "id": "f90fb19f-18db-4b88-affa-382b415c060f",
      "metadata": {
        "trusted": true
      },
      "outputs": [],
      "source": "sns.histplot(data=titanic, x='Age', hue='Pclass', multiple='dodge')"
    },
    {
      "cell_type": "code",
      "execution_count": null,
      "id": "864e0340-26de-47ca-8c2f-00cccf0ac320",
      "metadata": {
        "trusted": true
      },
      "outputs": [],
      "source": "sns.histplot(data=titanic, x='Age', hue='Pclass', multiple='fill')"
    },
    {
      "cell_type": "code",
      "execution_count": null,
      "id": "a486d4c6-2c7d-48ef-88df-e8652d3364aa",
      "metadata": {
        "trusted": true
      },
      "outputs": [],
      "source": "sns.histplot(data=titanic, x='Age', hue='Pclass', multiple='layer')"
    },
    {
      "cell_type": "code",
      "execution_count": null,
      "id": "d5d2ac69",
      "metadata": {
        "trusted": true
      },
      "outputs": [],
      "source": "sns.kdeplot(data=titanic, \n             x=\"Age\", \n             hue=\"Pclass\", \n             multiple=\"stack\")"
    },
    {
      "cell_type": "code",
      "execution_count": null,
      "id": "adcd9165",
      "metadata": {
        "trusted": true
      },
      "outputs": [],
      "source": "g = sns.FacetGrid(titanic, col=\"Pclass\")\ng.map_dataframe(sns.kdeplot, x=\"Age\")"
    },
    {
      "cell_type": "code",
      "execution_count": null,
      "id": "f31dfdc6",
      "metadata": {
        "trusted": true
      },
      "outputs": [],
      "source": "g = sns.FacetGrid(titanic, col=\"Pclass\")\ng.map_dataframe(sns.histplot, x=\"Age\")"
    },
    {
      "cell_type": "code",
      "execution_count": null,
      "id": "948556ed",
      "metadata": {
        "trusted": true
      },
      "outputs": [],
      "source": "sns.catplot(data=titanic, \n             x=\"Age\", \n             hue=\"Pclass\",\n            col=\"Pclass\")"
    },
    {
      "cell_type": "code",
      "execution_count": null,
      "id": "945f5dee",
      "metadata": {
        "trusted": true
      },
      "outputs": [],
      "source": "sns.displot(data=titanic, \n             x=\"Age\", \n             hue=\"Pclass\",\n            row=\"Pclass\")"
    },
    {
      "cell_type": "code",
      "execution_count": null,
      "id": "f5320228-4f29-440d-a3be-7dd4a1a3b2b0",
      "metadata": {
        "trusted": true
      },
      "outputs": [],
      "source": "sns.kdeplot(data=titanic, x='Age', hue='Pclass')"
    },
    {
      "cell_type": "code",
      "execution_count": null,
      "id": "8dafcb3c-9925-49e6-9649-21833106f1fd",
      "metadata": {
        "trusted": true
      },
      "outputs": [],
      "source": "sns.kdeplot(data=titanic, x='Age', hue='Pclass', bw_adjust=.5)"
    },
    {
      "cell_type": "code",
      "execution_count": null,
      "id": "21ed02b2-e1eb-4456-9bf0-c77002ea7402",
      "metadata": {
        "trusted": true
      },
      "outputs": [],
      "source": "sns.boxplot(data=titanic, x='Pclass', y='Age')"
    },
    {
      "cell_type": "code",
      "execution_count": null,
      "id": "c562519d-8880-4772-8b47-dfa0ac42623c",
      "metadata": {
        "trusted": true
      },
      "outputs": [],
      "source": "sns.boxplot(data=titanic, x='Age', y='Pclass')"
    },
    {
      "cell_type": "code",
      "execution_count": null,
      "id": "ac8459b5-8e81-4ee0-9d5b-47fa302464f3",
      "metadata": {
        "scrolled": false,
        "trusted": true
      },
      "outputs": [],
      "source": "#sns.set_theme(rc={\"axes.facecolor\": (0, 0, 0, 0)})\ng = sns.FacetGrid(titanic, row=\"Pclass\", aspect=5, height=3)\ng.map_dataframe(sns.kdeplot, x=\"Age\", fill=True, alpha=.2)\ng.fig.subplots_adjust(hspace=-0.5)"
    },
    {
      "cell_type": "code",
      "execution_count": null,
      "id": "47731869-32be-4d72-9bd2-c0291b88d60c",
      "metadata": {
        "trusted": true
      },
      "outputs": [],
      "source": "sns.scatterplot(data=titanic.loc[titanic['Fare']<100], x='Age', y='Fare')"
    },
    {
      "cell_type": "code",
      "execution_count": null,
      "id": "d91d5d23",
      "metadata": {
        "trusted": true
      },
      "outputs": [],
      "source": "sns.pairplot(data=titanic)"
    }
  ],
  "metadata": {
    "kernelspec": {
      "display_name": "Python 3 (ipykernel)",
      "language": "python",
      "name": "python3"
    },
    "language_info": {
      "codemirror_mode": {
        "name": "ipython",
        "version": 3
      },
      "file_extension": ".py",
      "mimetype": "text/x-python",
      "name": "python",
      "nbconvert_exporter": "python",
      "pygments_lexer": "ipython3",
      "version": "3.11.9"
    }
  },
  "nbformat": 4,
  "nbformat_minor": 5
}