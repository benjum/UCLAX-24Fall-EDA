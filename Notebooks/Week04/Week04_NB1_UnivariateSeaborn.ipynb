{
  "cells": [
    {
      "cell_type": "markdown",
      "id": "5d73416f",
      "metadata": {},
      "source": "# Univariate plots with Seaborn"
    },
    {
      "cell_type": "markdown",
      "id": "00cf2a6d-b1f1-414e-909d-5f939abb3555",
      "metadata": {},
      "source": "We can make a lot of univariate plots very easily with Python by using the Seaborn data visualization library.\n\n* \"Seaborn is a Python data visualization library based on matplotlib. It provides a high-level interface for drawing attractive and informative statistical graphics.\"\n* https://seaborn.pydata.org/\n* API reference: https://seaborn.pydata.org/api.html\n\nFirst we import the libraries and the data."
    },
    {
      "cell_type": "code",
      "execution_count": null,
      "id": "63165f27-c774-44c3-82f3-9bd1ede73351",
      "metadata": {
        "trusted": true
      },
      "outputs": [],
      "source": "import seaborn as sns\nimport pandas as pd\nimport matplotlib.pyplot as plt"
    },
    {
      "cell_type": "code",
      "execution_count": null,
      "id": "8dbde98e-b1a5-4fba-be8d-2eb7af31081d",
      "metadata": {
        "trusted": true
      },
      "outputs": [],
      "source": "titanic_url = 'https://raw.githubusercontent.com/benjum/UCLAX-24Fall-EDA/main/Data/titanic.csv'\ntitanic = pd.read_csv(titanic_url)"
    },
    {
      "cell_type": "code",
      "execution_count": null,
      "id": "8b444bcd-19e3-4492-bff3-c3e4ed0028a7",
      "metadata": {
        "trusted": true
      },
      "outputs": [],
      "source": "titanic"
    },
    {
      "cell_type": "code",
      "execution_count": null,
      "id": "dc5c5ba5-e61c-4c77-94bc-b939941cf7dd",
      "metadata": {
        "trusted": true
      },
      "outputs": [],
      "source": "# Plotting with matplotlib\n\nplt.plot(titanic['Age'])"
    },
    {
      "cell_type": "code",
      "execution_count": null,
      "id": "76e80e69-a6e2-4d09-8d99-bffc393839bb",
      "metadata": {
        "trusted": true
      },
      "outputs": [],
      "source": "# Plotting with the plot method of a pandas dataframe\n\ntitanic['Age'].plot()"
    },
    {
      "cell_type": "code",
      "execution_count": null,
      "id": "d5402f25-2915-4d45-9c53-00e7a4f938e8",
      "metadata": {
        "trusted": true
      },
      "outputs": [],
      "source": "# Plotting with seaborn\n\nsns.lineplot(data=titanic['Age'])"
    },
    {
      "cell_type": "code",
      "execution_count": null,
      "id": "3c929b0d-aa77-4c6d-bb0f-d0c2d32db347",
      "metadata": {
        "trusted": true
      },
      "outputs": [],
      "source": "# pandas is built on top of matplotlib\n# and you can use matplotlib commands to finesse the plot details\n\ntitanic['Age'].plot()\nplt.ylabel('Age')"
    },
    {
      "cell_type": "code",
      "execution_count": null,
      "id": "bb8e500b-10be-49ae-a1e1-885e20d33526",
      "metadata": {
        "trusted": true
      },
      "outputs": [],
      "source": "# seaborn is also built on top of matplotlib\n# and you can use matplotlib commands to finesse the plot details\n\nsns.lineplot(data=titanic['Age'])\nplt.xlabel('index')"
    },
    {
      "cell_type": "markdown",
      "id": "62ffe5cc-8037-40b8-a682-119ea54f65df",
      "metadata": {},
      "source": "## Line plot"
    },
    {
      "cell_type": "code",
      "execution_count": null,
      "id": "0ce7889b-6607-452a-9e4d-772a76f89bd0",
      "metadata": {
        "trusted": true
      },
      "outputs": [],
      "source": "sns.lineplot(data=titanic.loc[0:20,'Age'])"
    },
    {
      "cell_type": "code",
      "execution_count": null,
      "id": "9adff108-27ac-4de5-bb43-360473247c45",
      "metadata": {
        "trusted": true
      },
      "outputs": [],
      "source": "sns.lineplot(data=titanic['Age'])"
    },
    {
      "cell_type": "markdown",
      "id": "080b1f38-7611-40da-9630-9a7c61d2254b",
      "metadata": {},
      "source": "## Scatter plot"
    },
    {
      "cell_type": "code",
      "execution_count": null,
      "id": "81c3b827-5aab-49d6-ba67-e758008f6fb2",
      "metadata": {
        "trusted": true
      },
      "outputs": [],
      "source": "sns.scatterplot(data=titanic['Age'])"
    },
    {
      "cell_type": "markdown",
      "id": "fd7cb688-a0d6-4947-a66c-0486e5ec2475",
      "metadata": {},
      "source": "## Strip plot"
    },
    {
      "cell_type": "code",
      "execution_count": null,
      "id": "c5b1e9aa-96bb-4cad-b37f-510424cdda1c",
      "metadata": {
        "trusted": true
      },
      "outputs": [],
      "source": "sns.stripplot(data=titanic['Age'])"
    },
    {
      "cell_type": "markdown",
      "id": "e3eefc04-b715-42d3-85e3-955b18c94dbf",
      "metadata": {},
      "source": "## Swarm plot"
    },
    {
      "cell_type": "code",
      "execution_count": null,
      "id": "5cc9df7f-84f3-40af-9ac1-c2dc1f3cdc96",
      "metadata": {
        "trusted": true
      },
      "outputs": [],
      "source": "sns.swarmplot(data=titanic['Age'])"
    },
    {
      "cell_type": "markdown",
      "id": "e29ee2fb-5c03-4543-86fd-1809f2a31b64",
      "metadata": {},
      "source": "## Box plot"
    },
    {
      "cell_type": "code",
      "execution_count": null,
      "id": "7a86de90-17ce-4de9-a66f-7e4d98fb1d6e",
      "metadata": {
        "trusted": true
      },
      "outputs": [],
      "source": "sns.boxplot(data=titanic['Age'])"
    },
    {
      "cell_type": "code",
      "execution_count": null,
      "id": "43cee8b9-0981-45d3-9079-abbb2eb87e03",
      "metadata": {
        "trusted": true
      },
      "outputs": [],
      "source": "# This will give an error!\n# Why?\n\nsns.boxplot(data=titanic.loc[titanic['Age']<=20, 'Age'])"
    },
    {
      "cell_type": "code",
      "execution_count": null,
      "id": "3fbc7fcd-dee8-4c0c-a2ad-011203c4165e",
      "metadata": {
        "trusted": true
      },
      "outputs": [],
      "source": "sns.boxplot(data=titanic.loc[titanic['Age']<=20, ['Age']])"
    },
    {
      "cell_type": "code",
      "execution_count": null,
      "id": "4b15c048",
      "metadata": {
        "trusted": true
      },
      "outputs": [],
      "source": "titanic.loc[titanic['Age']<=20, 'Age']"
    },
    {
      "cell_type": "markdown",
      "id": "fab220c0-65a2-4b77-a3e5-10a6e2ea5939",
      "metadata": {},
      "source": "## Histogram"
    },
    {
      "cell_type": "code",
      "execution_count": null,
      "id": "42ad775d-e859-42e1-975d-7ada75a08d99",
      "metadata": {
        "trusted": true
      },
      "outputs": [],
      "source": "sns.histplot(data=titanic['Age'])"
    },
    {
      "cell_type": "code",
      "execution_count": null,
      "id": "4f40e54f-c064-448f-ba6f-332c0f26df78",
      "metadata": {
        "trusted": true
      },
      "outputs": [],
      "source": "sns.histplot(data=titanic['Age'], binwidth=30)"
    },
    {
      "cell_type": "markdown",
      "id": "8cd1d34f-7bfc-4eed-8081-2e0a87799a9c",
      "metadata": {},
      "source": "## Density plot with a Gaussian kernel density estimator (kde)"
    },
    {
      "cell_type": "code",
      "execution_count": null,
      "id": "9099a9bc-f27a-4611-b0af-f6bba28b91f7",
      "metadata": {
        "trusted": true
      },
      "outputs": [],
      "source": "sns.kdeplot(data=titanic['Age'])"
    },
    {
      "cell_type": "code",
      "execution_count": null,
      "id": "f09ded76-236a-432b-9605-9fc1ac99550e",
      "metadata": {
        "trusted": true
      },
      "outputs": [],
      "source": "sns.kdeplot(data=titanic['Age'], log_scale=True)"
    },
    {
      "cell_type": "code",
      "execution_count": null,
      "id": "98da5818-0cd8-42d4-8a00-844ab047bb63",
      "metadata": {
        "trusted": true
      },
      "outputs": [],
      "source": "sns.kdeplot(data=titanic['Age'], bw_adjust=.1)"
    },
    {
      "cell_type": "code",
      "execution_count": null,
      "id": "b7261009-568e-4f49-989e-62a1a7bc8883",
      "metadata": {
        "trusted": true
      },
      "outputs": [],
      "source": "sns.kdeplot(data=titanic['Age'], bw_adjust=.5)"
    },
    {
      "cell_type": "markdown",
      "id": "95a8f8d8-1d34-417a-b76e-d239889f13fd",
      "metadata": {},
      "source": "## Rug plot"
    },
    {
      "cell_type": "code",
      "execution_count": null,
      "id": "18cc5300-5bb7-4f5c-8c25-dff02733669b",
      "metadata": {
        "trusted": true
      },
      "outputs": [],
      "source": "sns.rugplot(data=titanic['Age'])"
    },
    {
      "cell_type": "markdown",
      "id": "02c34947-d2d8-440d-9810-fbaefd44a17b",
      "metadata": {},
      "source": "## Combo plot: KDE + Rug plot"
    },
    {
      "cell_type": "code",
      "execution_count": null,
      "id": "080c16ce-59ec-4642-aa4d-432e800befaf",
      "metadata": {
        "trusted": true
      },
      "outputs": [],
      "source": "sns.kdeplot(data=titanic['Age'], bw_adjust=.5)\nsns.rugplot(data=titanic['Age'])"
    },
    {
      "cell_type": "markdown",
      "id": "4d365cf2-5fd5-4289-bb92-f19cb2b2db54",
      "metadata": {},
      "source": "## Combo plot: Histogram + Rug plot"
    },
    {
      "cell_type": "code",
      "execution_count": null,
      "id": "68dedcb7-25ff-44c9-b688-97712ba25a63",
      "metadata": {
        "trusted": true
      },
      "outputs": [],
      "source": "sns.histplot(data=titanic['Age'])\nsns.rugplot(data=titanic['Age'])"
    },
    {
      "cell_type": "markdown",
      "id": "f2e88a2a-f45f-4bdc-913b-8570faadebd5",
      "metadata": {},
      "source": "## Combo plot: Scatter + Rug plot"
    },
    {
      "cell_type": "code",
      "execution_count": null,
      "id": "46dd8152-7929-44b6-9777-40415f6830e4",
      "metadata": {
        "trusted": true
      },
      "outputs": [],
      "source": "sns.scatterplot(data=titanic['Age'])\nsns.rugplot(data=titanic, y='Age')"
    },
    {
      "cell_type": "markdown",
      "id": "4de0aa8d-4a99-4da4-998f-df579ecf78a5",
      "metadata": {},
      "source": "## Combo plot: Histogram + KDE plot"
    },
    {
      "cell_type": "code",
      "execution_count": null,
      "id": "edfba1b9-0e2f-46fa-8f96-73c2fd07adec",
      "metadata": {
        "trusted": true
      },
      "outputs": [],
      "source": "sns.histplot(data=titanic['Age'], kde=True)"
    },
    {
      "cell_type": "markdown",
      "id": "b5e93dc6-3875-4264-8f1b-532d2bdf47f8",
      "metadata": {},
      "source": "## Combo plot: Density + KDE plot"
    },
    {
      "cell_type": "code",
      "execution_count": null,
      "id": "c0194897-4f4c-4183-9659-a38451e76dcd",
      "metadata": {
        "trusted": true
      },
      "outputs": [],
      "source": "sns.histplot(data=titanic['Age'], kde=True, stat='density')"
    },
    {
      "cell_type": "markdown",
      "id": "19b03132-a5f7-40bb-82b5-1381300ec865",
      "metadata": {},
      "source": "## Combo plot: Density + KDE + Rug plot"
    },
    {
      "cell_type": "code",
      "execution_count": null,
      "id": "11a0e2c0-f2e0-4190-82fc-29de0c7019e7",
      "metadata": {
        "trusted": true
      },
      "outputs": [],
      "source": "sns.histplot(data=titanic['Age'], kde=True, stat='density')\nsns.rugplot(data=titanic['Age'])"
    },
    {
      "cell_type": "markdown",
      "id": "7edb98f0-3b44-43b0-a396-fa2f66574149",
      "metadata": {},
      "source": "## Violin plot"
    },
    {
      "cell_type": "code",
      "execution_count": null,
      "id": "03624f5f-bc70-454a-98ae-a35db4483357",
      "metadata": {
        "trusted": true
      },
      "outputs": [],
      "source": "sns.violinplot(data=titanic['Age'])"
    },
    {
      "cell_type": "markdown",
      "id": "c9a0ad29-589d-4261-b1f2-07aacb129ac0",
      "metadata": {},
      "source": "## QQ Plot"
    },
    {
      "cell_type": "code",
      "execution_count": null,
      "id": "7f83947f-1d6f-4c22-9705-f802bbdb8d09",
      "metadata": {
        "trusted": true
      },
      "outputs": [],
      "source": "from scipy import stats"
    },
    {
      "cell_type": "code",
      "execution_count": null,
      "id": "8251abdc-249d-4742-84e9-9530520e04c6",
      "metadata": {
        "trusted": true
      },
      "outputs": [],
      "source": "titanic['Age'].mean()"
    },
    {
      "cell_type": "code",
      "execution_count": null,
      "id": "e97b4366-a588-4cc5-a59c-dc90a122a3d5",
      "metadata": {
        "trusted": true
      },
      "outputs": [],
      "source": "stats.probplot((titanic['Age'] - titanic['Age'].mean())/titanic['Age'].std(), dist='norm', plot=plt);\nplt.plot([-3,3],[-3,3])"
    },
    {
      "cell_type": "code",
      "execution_count": null,
      "id": "7e7333bb-f368-40df-a80d-a8ff4f3c4e45",
      "metadata": {
        "trusted": true
      },
      "outputs": [],
      "source": "t = titanic.loc[titanic['Age']>10]\nstats.probplot((t['Age'] - t['Age'].mean())/t['Age'].std(), dist='norm', plot=plt);\nplt.plot([-3,3],[-3,3])"
    },
    {
      "cell_type": "markdown",
      "id": "bbc01cb6-96f8-475e-a583-1f9ff843161d",
      "metadata": {},
      "source": "# Categorical plots\n\n## Bar plot"
    },
    {
      "cell_type": "code",
      "execution_count": null,
      "id": "03082eb6",
      "metadata": {
        "trusted": true
      },
      "outputs": [],
      "source": "titanic['Pclass']"
    },
    {
      "cell_type": "code",
      "execution_count": null,
      "id": "e87b6d2d-6da4-48bf-8668-d86eb63ff5b1",
      "metadata": {
        "trusted": true
      },
      "outputs": [],
      "source": "# Seaborn bar plot... but note that this is not really what we want\n\nsns.barplot(data=titanic['Pclass'])"
    },
    {
      "cell_type": "code",
      "execution_count": null,
      "id": "9bef0e90-8d0f-4a86-9b2e-8bed2e8e2419",
      "metadata": {
        "trusted": true
      },
      "outputs": [],
      "source": "# ... this is also not really what we want, but it does give us a count (of all records)\n\nsns.countplot(data=titanic['Pclass'])"
    },
    {
      "cell_type": "code",
      "execution_count": null,
      "id": "5ec24411-86f1-4a59-a5fb-85cd56ee195b",
      "metadata": {
        "trusted": true
      },
      "outputs": [],
      "source": "# we change from a specification of the \"data\" input parameter to \"x\"\n\nsns.countplot(x=titanic['Pclass'])"
    },
    {
      "cell_type": "code",
      "execution_count": null,
      "id": "396ecc6d-4ccc-42b2-9193-8f80aaf84e64",
      "metadata": {
        "trusted": true
      },
      "outputs": [],
      "source": "# We can also split the specification between the dataframe (for \"data\") and feature column (for \"x\", the horizontal axis)\n\nsns.countplot(data=titanic, x='Pclass')"
    },
    {
      "cell_type": "markdown",
      "id": "193bf3c2-baae-46eb-b407-d1e609809b7c",
      "metadata": {},
      "source": "## Pie chart\n\n### Must turn to matplotlib"
    },
    {
      "cell_type": "code",
      "execution_count": null,
      "id": "635a9ce0-0772-485c-9dac-6d3adf1d2a67",
      "metadata": {
        "trusted": true
      },
      "outputs": [],
      "source": "# Will give an error because seaborn has no pieplot\n\nsns.pieplot(data=titanic, x='species')"
    },
    {
      "cell_type": "code",
      "execution_count": null,
      "id": "ddb605ab-d26c-4265-a745-f8eb4def73d3",
      "metadata": {
        "trusted": true
      },
      "outputs": [],
      "source": "titanic.groupby(['Pclass']).count()"
    },
    {
      "cell_type": "code",
      "execution_count": null,
      "id": "08fc5611-9b00-4153-98db-9d5150c43100",
      "metadata": {
        "trusted": true
      },
      "outputs": [],
      "source": "titanic['Pclass'].value_counts()"
    },
    {
      "cell_type": "code",
      "execution_count": null,
      "id": "945f0566-4504-4f58-a19b-7a108eac3d80",
      "metadata": {
        "trusted": true
      },
      "outputs": [],
      "source": "plt.pie(titanic['Pclass'].value_counts());"
    }
  ],
  "metadata": {
    "kernelspec": {
      "display_name": "Python 3 (ipykernel)",
      "language": "python",
      "name": "python3"
    },
    "language_info": {
      "codemirror_mode": {
        "name": "ipython",
        "version": 3
      },
      "file_extension": ".py",
      "mimetype": "text/x-python",
      "name": "python",
      "nbconvert_exporter": "python",
      "pygments_lexer": "ipython3",
      "version": "3.11.9"
    }
  },
  "nbformat": 4,
  "nbformat_minor": 5
}