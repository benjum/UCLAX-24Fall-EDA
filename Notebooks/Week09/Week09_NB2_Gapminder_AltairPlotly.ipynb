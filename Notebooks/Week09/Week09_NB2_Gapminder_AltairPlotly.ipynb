{
  "cells": [
    {
      "cell_type": "markdown",
      "id": "c8ae5254-5f32-496e-93c3-c179662cbf73",
      "metadata": {},
      "source": "# Interactive Visualization of a Gapminder Data Set"
    },
    {
      "cell_type": "markdown",
      "id": "3195ce43",
      "metadata": {},
      "source": "This is a tiny bit of review, tacking Altair onto our arsenal of plotting tools."
    },
    {
      "cell_type": "markdown",
      "id": "6adb492c",
      "metadata": {},
      "source": "We will find it useful to use an upgraded version of Altair and Seaborn, as well as to install Plotly Express.  If needed, execute the following cell to do that, then restart the notebook by shutting it down and re-opening."
    },
    {
      "cell_type": "code",
      "execution_count": null,
      "id": "419b1097",
      "metadata": {
        "scrolled": true,
        "trusted": true
      },
      "outputs": [],
      "source": "!pip install -U altair seaborn plotly_express"
    },
    {
      "cell_type": "markdown",
      "id": "99ff7eec",
      "metadata": {},
      "source": "## First step:  import the libraries and data"
    },
    {
      "cell_type": "code",
      "execution_count": null,
      "id": "beautiful-premium",
      "metadata": {
        "trusted": true
      },
      "outputs": [],
      "source": "import matplotlib.pyplot as plt\nimport pandas as pd\nimport altair as alt\nimport plotly.express as px"
    },
    {
      "cell_type": "markdown",
      "id": "b373dca7",
      "metadata": {},
      "source": "We are going to look at Plotly's subset of data from Gapminder. \n\n[You may find it very interesting to explore https://www.gapminder.org/; Gapminder is an independent educational non-proﬁt ﬁghting global misconceptions.]"
    },
    {
      "cell_type": "code",
      "execution_count": null,
      "id": "d77c8031",
      "metadata": {
        "trusted": true
      },
      "outputs": [],
      "source": "gp = px.data.gapminder()"
    },
    {
      "cell_type": "code",
      "execution_count": null,
      "id": "65cfafc8",
      "metadata": {
        "trusted": true
      },
      "outputs": [],
      "source": "gp.head()"
    },
    {
      "cell_type": "code",
      "execution_count": null,
      "id": "070dd062",
      "metadata": {
        "trusted": true
      },
      "outputs": [],
      "source": "gp_usa = gp.loc[gp['country']=='United States']"
    },
    {
      "cell_type": "code",
      "execution_count": null,
      "id": "45571fee",
      "metadata": {
        "trusted": true
      },
      "outputs": [],
      "source": "gp_usa"
    },
    {
      "cell_type": "markdown",
      "id": "17208529",
      "metadata": {},
      "source": "## Matplotlib\n\nTutorials: https://matplotlib.org/stable/tutorials/index.html"
    },
    {
      "cell_type": "code",
      "execution_count": null,
      "id": "2cabdd18",
      "metadata": {
        "trusted": true
      },
      "outputs": [],
      "source": "plt.plot(gp_usa['year'], gp_usa['lifeExp'])"
    },
    {
      "cell_type": "code",
      "execution_count": null,
      "id": "8c2763dd",
      "metadata": {
        "trusted": true
      },
      "outputs": [],
      "source": "plt.plot(gp_usa['year'], gp_usa['lifeExp'], 'o')"
    },
    {
      "cell_type": "code",
      "execution_count": null,
      "id": "d3ed67cd",
      "metadata": {
        "trusted": true
      },
      "outputs": [],
      "source": "plt.scatter(gp_usa['year'], gp_usa['lifeExp'])\n# plt.bar(gp_usa['year'], gp_usa['lifeExp'])\n# plt.barh(gp_usa['year'], gp_usa['lifeExp'])"
    },
    {
      "cell_type": "code",
      "execution_count": null,
      "id": "28da0ced",
      "metadata": {
        "trusted": true
      },
      "outputs": [],
      "source": "plt.scatter(gp_usa['year'], gp_usa['lifeExp'], color='black')\nplt.plot(gp_usa['year'], gp_usa['lifeExp'], color='black')\n\nplt.title('Life Expectancy vs Year for the Gapminder Data about USA', fontsize=16)\nplt.xlabel('Year', fontsize = 12)\nplt.ylabel('Life Expectancy', fontsize = 12)"
    },
    {
      "cell_type": "markdown",
      "id": "7e077194",
      "metadata": {},
      "source": "## Pandas plotting"
    },
    {
      "cell_type": "code",
      "execution_count": null,
      "id": "03c311f4",
      "metadata": {
        "trusted": true
      },
      "outputs": [],
      "source": "# instead of :\n# plt.plot(gp_usa['year'], gp_usa['lifeExp'])\n# we use the \"plot\" method of the dataframe itself\n\ngp_usa.plot(x = 'year', y = 'lifeExp')"
    },
    {
      "cell_type": "code",
      "execution_count": null,
      "id": "3de2c806",
      "metadata": {
        "trusted": true
      },
      "outputs": [],
      "source": "gp_usa.plot(x = 'year', y = 'lifeExp')\n# gp_usa.plot(x = 'year', y = 'lifeExp', kind = 'scatter')\n# gp_usa.plot.scatter(x = 'year', y = 'lifeExp')"
    },
    {
      "cell_type": "code",
      "execution_count": null,
      "id": "e5bc28c9",
      "metadata": {
        "trusted": true
      },
      "outputs": [],
      "source": "# we can take the pandas plotting:\ngp_usa.plot(x = 'year', y = 'lifeExp', kind = 'scatter')\n\n# and combine it with lower level customization via matplotlib\nplt.title('Life Expectancy vs Year for the Gapminder Data about USA', fontsize=16)\nplt.xlabel('Year', fontsize = 12)\nplt.ylabel('Life Expectancy', fontsize = 12)"
    },
    {
      "cell_type": "code",
      "execution_count": null,
      "id": "a982cdc4",
      "metadata": {
        "trusted": true
      },
      "outputs": [],
      "source": "# To combine plots, we can use the ax objects\nax = gp_usa.plot(x = 'year', \n                 y = 'lifeExp', \n                 kind = 'scatter', \n                 color='black')\ngp_usa.plot(x = 'year', \n            y = 'lifeExp', \n            kind = 'line', \n            color='black',\n            ax=ax)\n\n# and combine it with lower level customization via matplotlib\nplt.title('Life Expectancy vs Year for the Gapminder Data about USA', fontsize=16)\nplt.xlabel('Year', fontsize = 12)\nplt.ylabel('Life Expectancy', fontsize = 12)\n\nplt.show()"
    },
    {
      "cell_type": "markdown",
      "id": "d1021d84",
      "metadata": {},
      "source": "## New libraries for interactive visualization:  Altair and Plotly"
    },
    {
      "cell_type": "code",
      "execution_count": null,
      "id": "36ba0bb9",
      "metadata": {
        "trusted": true
      },
      "outputs": [],
      "source": "points = alt.Chart(gp_usa).mark_point().encode(\n    x='year',\n    y='lifeExp'\n)\npoints"
    },
    {
      "cell_type": "code",
      "execution_count": null,
      "id": "869315de",
      "metadata": {
        "trusted": true
      },
      "outputs": [],
      "source": "gp_usa['year'] = pd.to_datetime(gp_usa['year'], format = '%Y')"
    },
    {
      "cell_type": "code",
      "execution_count": null,
      "id": "c2274a72",
      "metadata": {
        "trusted": true
      },
      "outputs": [],
      "source": "gp_usa.info()"
    },
    {
      "cell_type": "code",
      "execution_count": null,
      "id": "a6b6eb30",
      "metadata": {
        "trusted": true
      },
      "outputs": [],
      "source": "gp_usa"
    },
    {
      "cell_type": "code",
      "execution_count": null,
      "id": "01cd594b",
      "metadata": {
        "trusted": true
      },
      "outputs": [],
      "source": "points = alt.Chart(gp_usa).mark_point().encode(\n    x='year',\n    y='lifeExp'\n)\npoints"
    },
    {
      "cell_type": "code",
      "execution_count": null,
      "id": "6bcf44f9",
      "metadata": {
        "trusted": true
      },
      "outputs": [],
      "source": "points = alt.Chart(gp_usa).mark_point().encode(\n    x='gdpPercap',\n    y='lifeExp'\n)\npoints"
    },
    {
      "cell_type": "markdown",
      "id": "7bdca2ff",
      "metadata": {},
      "source": "Branching out:  Let's look at all countries"
    },
    {
      "cell_type": "code",
      "execution_count": null,
      "id": "94e0d9b0",
      "metadata": {
        "trusted": true
      },
      "outputs": [],
      "source": "points = alt.Chart(gp).mark_point().encode(\n    x='gdpPercap',\n    y='lifeExp'\n)\npoints"
    },
    {
      "cell_type": "markdown",
      "id": "abc8eb0d",
      "metadata": {},
      "source": "The scale is skewed, so it can be useful to rescale the axes.  This will allow us to more easily distinguish the values of different countries."
    },
    {
      "cell_type": "code",
      "execution_count": null,
      "id": "74534eca",
      "metadata": {
        "trusted": true
      },
      "outputs": [],
      "source": "import math"
    },
    {
      "cell_type": "code",
      "execution_count": null,
      "id": "49161af2",
      "metadata": {
        "trusted": true
      },
      "outputs": [],
      "source": "# make a new column of the log of another\n\nloggdp = []\n\nfor i in gp['gdpPercap']:\n    loggdp.append(math.log(i))\n\ngp['gdpPercapLog'] = loggdp\n\n\n# .... or ....\n\n\ngp['gdpPercapLog'] = gp['gdpPercap'].apply(lambda x: math.log(x))"
    },
    {
      "cell_type": "code",
      "execution_count": null,
      "id": "35e90a6a",
      "metadata": {
        "trusted": true
      },
      "outputs": [],
      "source": "points = alt.Chart(gp).mark_point().encode(\n    x='gdpPercapLog',\n    y='lifeExp'\n)\npoints"
    },
    {
      "cell_type": "markdown",
      "id": "11d88abc",
      "metadata": {},
      "source": "Altair will allow us to use javascript in tandem with the Python -> bring in interactivity!"
    },
    {
      "cell_type": "code",
      "execution_count": null,
      "id": "3a5652bd",
      "metadata": {
        "trusted": true
      },
      "outputs": [],
      "source": "selopac = alt.selection_point(nearest=True, on='mouseover', fields=['year'])\n\npoints = alt.Chart(gp).mark_point().encode(\n    x='gdpPercapLog',\n    y='lifeExp',\n    opacity=alt.condition(selopac, alt.value(1), alt.value(0.2))\n).add_params(\n    selopac\n)\n\npoints"
    },
    {
      "cell_type": "code",
      "execution_count": null,
      "id": "827c9400",
      "metadata": {
        "trusted": true
      },
      "outputs": [],
      "source": "selopac = alt.selection_point(fields=['country'], bind='legend')\n\npoints = alt.Chart(gp.loc[gp['pop']>100000000]).mark_point().encode(\n    x='gdpPercapLog',\n    y='lifeExp',\n    color=alt.Color('country'),\n    opacity=alt.condition(selopac, alt.value(1), alt.value(0.2))\n).add_params(\n    selopac\n)\n\npoints"
    },
    {
      "cell_type": "markdown",
      "id": "f6e647c1",
      "metadata": {},
      "source": "We can furthermore do a very fancy thing and combine interactive elements across several plots."
    },
    {
      "cell_type": "markdown",
      "id": "3422160f",
      "metadata": {},
      "source": "Let's make a scatter plot that also allows us to visualize the distribution of points within a region of space."
    },
    {
      "cell_type": "code",
      "execution_count": null,
      "id": "fce999fd",
      "metadata": {
        "trusted": true
      },
      "outputs": [],
      "source": "bars = alt.Chart(gp).mark_bar().encode(\n    x='count(lifeExp)',\n    y='lifeExp'\n)\nbars"
    },
    {
      "cell_type": "code",
      "execution_count": null,
      "id": "22be66b4",
      "metadata": {
        "trusted": true
      },
      "outputs": [],
      "source": "bars = alt.Chart(gp).mark_bar().encode(\n    alt.X('lifeExp', bin=True),\n    y='count()'\n)\nbars"
    },
    {
      "cell_type": "code",
      "execution_count": null,
      "id": "971581dc",
      "metadata": {
        "trusted": true
      },
      "outputs": [],
      "source": "bars = alt.Chart(gp).mark_bar().encode(\n    alt.X('gdpPercap', bin=True),\n    y='count()'\n)\nbars"
    },
    {
      "cell_type": "code",
      "execution_count": null,
      "id": "32c84163",
      "metadata": {
        "trusted": true
      },
      "outputs": [],
      "source": "bars = alt.Chart(gp).mark_bar().encode(\n    alt.X('gdpPercapLog', bin=True),\n    y='count()'\n)\nbars"
    },
    {
      "cell_type": "code",
      "execution_count": null,
      "id": "6ef104e3",
      "metadata": {
        "trusted": true
      },
      "outputs": [],
      "source": "points = alt.Chart(gp).mark_point().encode(\n    x='gdpPercapLog',\n    y='lifeExp'\n)\n\nbarsX = alt.Chart(gp).mark_bar().encode(\n    alt.X('gdpPercapLog',bin=True),\n    y='count()'\n)\n\nbarsY = alt.Chart(gp).mark_bar().encode(\n    alt.Y('lifeExp',bin=True),\n    x='count()'\n)\n\nchart = alt.vconcat(barsX,\n            alt.hconcat(points,barsY))\n\nchart"
    },
    {
      "cell_type": "code",
      "execution_count": null,
      "id": "419199d7",
      "metadata": {
        "trusted": true
      },
      "outputs": [],
      "source": "my_si = alt.selection_interval()\n\npoints = alt.Chart(gp).mark_point().encode(\n    x='gdpPercapLog',\n    y='lifeExp'\n).add_params(\n    my_si\n)\n\nbarsX = alt.Chart(gp).mark_bar().encode(\n    alt.X('gdpPercapLog',bin=True),\n    y='count()'\n).transform_filter(\n    my_si\n)\n\nbarsY = alt.Chart(gp).mark_bar().encode(\n    alt.Y('lifeExp',bin=True),\n    x='count()'\n).transform_filter(\n    my_si\n)\n\nchart = alt.vconcat(barsX,\n            alt.hconcat(points,barsY))\n\nchart"
    },
    {
      "cell_type": "code",
      "execution_count": null,
      "id": "c67e9412",
      "metadata": {
        "trusted": true
      },
      "outputs": [],
      "source": "points = alt.Chart(gp).mark_point().encode(\n    alt.X('gdpPercapLog',scale=alt.Scale(domain=[4, 12])),\n    alt.Y('lifeExp',scale=alt.Scale(domain=[20, 90]))\n).add_params(\n    my_si\n)\n\nbarsX = alt.Chart(gp).mark_bar().encode(\n    alt.X('gdpPercapLog',bin=True,scale=alt.Scale(domain=[4, 12])),\n    y='count()'\n).transform_filter(\n    my_si\n)\n\nbarsY = alt.Chart(gp).mark_bar().encode(\n    alt.Y('lifeExp',bin=True,scale=alt.Scale(domain=[20, 90])),\n    x='count()'\n).transform_filter(\n    my_si\n)\n\nchart = alt.vconcat(barsX,\n            alt.hconcat(points,barsY))\n\nchart"
    },
    {
      "cell_type": "code",
      "execution_count": null,
      "id": "2591915d",
      "metadata": {
        "trusted": true
      },
      "outputs": [],
      "source": "chart.save('/home/jovyan/lifeExpVsGDP_chart.html')"
    },
    {
      "cell_type": "markdown",
      "id": "09d6ec44",
      "metadata": {},
      "source": "## Telling stories with Plotly & animation\n\n* Reviewing our previously shown steps to build an animated visualization"
    },
    {
      "cell_type": "code",
      "execution_count": null,
      "id": "c0849d5a",
      "metadata": {
        "trusted": true
      },
      "outputs": [],
      "source": "px.scatter(gp_usa, \n           x=\"gdpPercap\", \n           y=\"lifeExp\")"
    },
    {
      "cell_type": "markdown",
      "id": "a0f6f824",
      "metadata": {},
      "source": "The above is just for the USA.  We're going to expand to all countries now:"
    },
    {
      "cell_type": "code",
      "execution_count": null,
      "id": "87463f9b",
      "metadata": {
        "trusted": true
      },
      "outputs": [],
      "source": "px.scatter(gp, \n           x=\"gdpPercap\", \n           y=\"lifeExp\")"
    },
    {
      "cell_type": "markdown",
      "id": "60a5f243",
      "metadata": {},
      "source": "Wait... not only do we not know which point is which country, we also don't know how the points evolve in time."
    },
    {
      "cell_type": "code",
      "execution_count": null,
      "id": "08426cac",
      "metadata": {
        "trusted": true
      },
      "outputs": [],
      "source": "px.scatter(gp, \n           x=\"year\", \n           y=\"lifeExp\")"
    },
    {
      "cell_type": "markdown",
      "id": "1e3a80e1",
      "metadata": {},
      "source": "We could look at a plot of all values for a given year."
    },
    {
      "cell_type": "code",
      "execution_count": null,
      "id": "8b613db6",
      "metadata": {
        "trusted": true
      },
      "outputs": [],
      "source": "years = gp.year.unique()\n\ni = years[0]\n\npx.scatter(gp.loc[gp['year']==i], \n           x=\"gdpPercap\", \n           y=\"lifeExp\")"
    },
    {
      "cell_type": "markdown",
      "id": "771c0e46",
      "metadata": {},
      "source": "What's that outlier?\n\nLet's add 'hover_name' so that we can more easily get information about points by simply moving our mouse to them."
    },
    {
      "cell_type": "code",
      "execution_count": null,
      "id": "05b6ca6a",
      "metadata": {
        "trusted": true
      },
      "outputs": [],
      "source": "i = years[0]\n\npx.scatter(gp.loc[gp['year']==i], \n           x=\"gdpPercap\", \n           y=\"lifeExp\",\n           hover_name='country')"
    },
    {
      "cell_type": "markdown",
      "id": "a6bbc6f2",
      "metadata": {},
      "source": "This will benefit from further customization:\n\n* At the moment, the scale has lots of low gdpPercap.  We can stretch out this scale to make the separation more visible by making it log scale.\n* How do we know what's evolving where?\n  * Add color so we can keep track of individual points\n  * Lots of colors.... so also add population to distinguish the dots\n* Change the axes' ranges to keep all points within the visualized space\n* Change the axis ratio to spread out the points\n* Change the size of the points to make it easier on our eyes to see smaller points\n\n* **Change how we look at time:**\n  * One way to look at time -> manually change what time you are plotting\n  * Another way to visualize change over time -> dynamically change the plot in real time\n"
    },
    {
      "cell_type": "code",
      "execution_count": null,
      "id": "a21d5f85",
      "metadata": {
        "trusted": true
      },
      "outputs": [],
      "source": "px.scatter(gp, \n           x=\"gdpPercap\", \n           y=\"lifeExp\",\n           hover_name='country', color='country', size='pop',\n           log_x=True,\n           range_x=[100,100000], \n           range_y=[25,90],\n           width=800, \n           height=600,\n           size_max=60,\n           template='simple_white',\n           animation_frame=\"year\",\n          )"
    }
  ],
  "metadata": {
    "kernelspec": {
      "display_name": "Python 3 (ipykernel)",
      "language": "python",
      "name": "python3"
    },
    "language_info": {
      "codemirror_mode": {
        "name": "ipython",
        "version": 3
      },
      "file_extension": ".py",
      "mimetype": "text/x-python",
      "name": "python",
      "nbconvert_exporter": "python",
      "pygments_lexer": "ipython3",
      "version": "3.11.9"
    },
    "toc": {
      "base_numbering": 1,
      "nav_menu": {},
      "number_sections": true,
      "sideBar": true,
      "skip_h1_title": false,
      "title_cell": "Table of Contents",
      "title_sidebar": "Contents",
      "toc_cell": false,
      "toc_position": {},
      "toc_section_display": true,
      "toc_window_display": false
    }
  },
  "nbformat": 4,
  "nbformat_minor": 5
}